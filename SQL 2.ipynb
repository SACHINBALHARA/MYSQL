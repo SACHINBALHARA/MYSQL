{
 "cells": [
  {
   "cell_type": "code",
   "execution_count": 1,
   "id": "346a5849",
   "metadata": {},
   "outputs": [],
   "source": [
    "import sqlite3"
   ]
  },
  {
   "cell_type": "code",
   "execution_count": 2,
   "id": "337c5cd8",
   "metadata": {},
   "outputs": [],
   "source": [
    "#connect with database\n",
    "db =sqlite3.connect(\"my_database.db\")"
   ]
  },
  {
   "cell_type": "code",
   "execution_count": 3,
   "id": "f3b8b1d7",
   "metadata": {},
   "outputs": [],
   "source": [
    "# declare cursor\n",
    "cursor=db.cursor()"
   ]
  },
  {
   "cell_type": "code",
   "execution_count": 14,
   "id": "50e5e28d",
   "metadata": {},
   "outputs": [
    {
     "data": {
      "text/plain": [
       "<sqlite3.Cursor at 0x2bc3af00420>"
      ]
     },
     "execution_count": 14,
     "metadata": {},
     "output_type": "execute_result"
    }
   ],
   "source": [
    "#create table\n",
    "cursor.execute(\"CREATE TABLE E_list3(e_id INT PRIMARY KEY,name TEXT,f_name TEXT,department TEXT,salary INT,age INT,experience INT)\")"
   ]
  },
  {
   "cell_type": "code",
   "execution_count": 15,
   "id": "a8cd8e3d",
   "metadata": {},
   "outputs": [
    {
     "data": {
      "text/plain": [
       "<sqlite3.Cursor at 0x2bc3af00420>"
      ]
     },
     "execution_count": 15,
     "metadata": {},
     "output_type": "execute_result"
    }
   ],
   "source": [
    "#insert table\n",
    "cursor.execute(\"INSERT INTO E_list3(e_id,name,f_name,department,salary,age,experience) values(100,'sachin','satish','data_scientist',80000,25,5),(101,'ajay','balwan','salesman',50000,30,4),(102,'jatin','sonu','cse',60000,24,8),(103,'sahil','sachin','cse',40000,29,2),(104,'rohit','balwan','data_scientist',60000,30,11),(105,'sahil','vishal','plumber',30000,21,1),(106,'aashish','sunil','mea',55000,30,3),(107,'reena','sumit','it',68000,35,8),(108,'meena','subhash','it',45000,29,5),(109,'suumit','rohit','mechanic',34000,37,11),(110,'sagar','rk khanna','cse',75000,39,14),(111,'vaibhav','ajay','mea',86000,31,6),(112,'rahul','kuldeep','it',34000,27,3),(113,'aakash','ajay saini','it',66000,36,7),(114,'mohit','amit','cse',69000,41,9),(115,'aakash','nerendra','mea',79000,36,6),(116,'aasu','rajnath','data_scientist',59000,35,7),(117,'amit_rohilla','manohar','mechanic',33000,38,8),(118,'aaryan','sonu','cse',39000,33,9),(119,'anshu','ravinder','it',89000,40,15),(120,'shubham','satish','it',77000,36,9),(121,'sahil','ravinder','mechanic',68000,41,20),(122,'aloop','sachin','it',20000,23,1),(123,'vaibhav','sachin','mechanic',43000,34,7),(124,'tannu','bhupendra','mea',63000,34,8),(125,'monit','krishan','data_scientist',111000,45,16),(126,'chetna','krishan','mea',88000,44,12)\")"
   ]
  },
  {
   "cell_type": "code",
   "execution_count": 16,
   "id": "aed8c857",
   "metadata": {},
   "outputs": [],
   "source": [
    "#save data permanently\n",
    "db.commit()"
   ]
  },
  {
   "cell_type": "code",
   "execution_count": 17,
   "id": "d8813a23",
   "metadata": {},
   "outputs": [
    {
     "name": "stdout",
     "output_type": "stream",
     "text": [
      "27 record(s) inserted\n"
     ]
    }
   ],
   "source": [
    "print(cursor.rowcount,\"record(s) inserted\")"
   ]
  },
  {
   "cell_type": "code",
   "execution_count": 18,
   "id": "07d430ea",
   "metadata": {},
   "outputs": [
    {
     "data": {
      "text/plain": [
       "<sqlite3.Cursor at 0x2bc3af00420>"
      ]
     },
     "execution_count": 18,
     "metadata": {},
     "output_type": "execute_result"
    }
   ],
   "source": [
    "#select data\n",
    "cursor.execute(\"SELECT* FROM E_list3\")"
   ]
  },
  {
   "cell_type": "code",
   "execution_count": 19,
   "id": "18ad09fa",
   "metadata": {},
   "outputs": [
    {
     "name": "stdout",
     "output_type": "stream",
     "text": [
      "(100, 'sachin', 'satish', 'data_scientist', 80000, 25, 5)\n",
      "(101, 'ajay', 'balwan', 'salesman', 50000, 30, 4)\n",
      "(102, 'jatin', 'sonu', 'cse', 60000, 24, 8)\n",
      "(103, 'sahil', 'sachin', 'cse', 40000, 29, 2)\n",
      "(104, 'rohit', 'balwan', 'data_scientist', 60000, 30, 11)\n",
      "(105, 'sahil', 'vishal', 'plumber', 30000, 21, 1)\n",
      "(106, 'aashish', 'sunil', 'mea', 55000, 30, 3)\n",
      "(107, 'reena', 'sumit', 'it', 68000, 35, 8)\n",
      "(108, 'meena', 'subhash', 'it', 45000, 29, 5)\n",
      "(109, 'suumit', 'rohit', 'mechanic', 34000, 37, 11)\n",
      "(110, 'sagar', 'rk khanna', 'cse', 75000, 39, 14)\n",
      "(111, 'vaibhav', 'ajay', 'mea', 86000, 31, 6)\n",
      "(112, 'rahul', 'kuldeep', 'it', 34000, 27, 3)\n",
      "(113, 'aakash', 'ajay saini', 'it', 66000, 36, 7)\n",
      "(114, 'mohit', 'amit', 'cse', 69000, 41, 9)\n",
      "(115, 'aakash', 'nerendra', 'mea', 79000, 36, 6)\n",
      "(116, 'aasu', 'rajnath', 'data_scientist', 59000, 35, 7)\n",
      "(117, 'amit_rohilla', 'manohar', 'mechanic', 33000, 38, 8)\n",
      "(118, 'aaryan', 'sonu', 'cse', 39000, 33, 9)\n",
      "(119, 'anshu', 'ravinder', 'it', 89000, 40, 15)\n",
      "(120, 'shubham', 'satish', 'it', 77000, 36, 9)\n",
      "(121, 'sahil', 'ravinder', 'mechanic', 68000, 41, 20)\n",
      "(122, 'aloop', 'sachin', 'it', 20000, 23, 1)\n",
      "(123, 'vaibhav', 'sachin', 'mechanic', 43000, 34, 7)\n",
      "(124, 'tannu', 'bhupendra', 'mea', 63000, 34, 8)\n",
      "(125, 'monit', 'krishan', 'data_scientist', 111000, 45, 16)\n",
      "(126, 'chetna', 'krishan', 'mea', 88000, 44, 12)\n"
     ]
    }
   ],
   "source": [
    "my_data=cursor.fetchall()\n",
    "for data in my_data:\n",
    "    print(data)"
   ]
  },
  {
   "cell_type": "code",
   "execution_count": 21,
   "id": "cf5bd41d",
   "metadata": {},
   "outputs": [
    {
     "name": "stdout",
     "output_type": "stream",
     "text": [
      "(100,)\n",
      "(101,)\n",
      "(102,)\n",
      "(103,)\n",
      "(104,)\n",
      "(105,)\n",
      "(106,)\n",
      "(107,)\n",
      "(108,)\n",
      "(109,)\n",
      "(110,)\n",
      "(111,)\n",
      "(112,)\n",
      "(113,)\n",
      "(114,)\n",
      "(115,)\n",
      "(116,)\n",
      "(117,)\n",
      "(118,)\n",
      "(119,)\n",
      "(120,)\n",
      "(121,)\n",
      "(122,)\n",
      "(123,)\n",
      "(124,)\n",
      "(125,)\n",
      "(126,)\n"
     ]
    }
   ],
   "source": [
    "my_data =cursor.execute(\"SELECT e_id FROM E_list3\")\n",
    "for x in my_data:\n",
    "    print(x)"
   ]
  },
  {
   "cell_type": "code",
   "execution_count": 22,
   "id": "4ed0fa8e",
   "metadata": {},
   "outputs": [
    {
     "name": "stdout",
     "output_type": "stream",
     "text": [
      "(25,)\n",
      "(30,)\n",
      "(24,)\n",
      "(29,)\n",
      "(30,)\n",
      "(21,)\n",
      "(30,)\n",
      "(35,)\n",
      "(29,)\n",
      "(37,)\n",
      "(39,)\n",
      "(31,)\n",
      "(27,)\n",
      "(36,)\n",
      "(41,)\n",
      "(36,)\n",
      "(35,)\n",
      "(38,)\n",
      "(33,)\n",
      "(40,)\n",
      "(36,)\n",
      "(41,)\n",
      "(23,)\n",
      "(34,)\n",
      "(34,)\n",
      "(45,)\n",
      "(44,)\n"
     ]
    }
   ],
   "source": [
    "my_data = cursor.execute(\"SELECT age FROM E_list3\")\n",
    "for x in my_data:\n",
    "    print(x)"
   ]
  },
  {
   "cell_type": "code",
   "execution_count": 24,
   "id": "a9ba87ad",
   "metadata": {},
   "outputs": [
    {
     "name": "stdout",
     "output_type": "stream",
     "text": [
      "('satish', 5)\n",
      "('balwan', 4)\n",
      "('sonu', 8)\n",
      "('sachin', 2)\n",
      "('balwan', 11)\n",
      "('vishal', 1)\n",
      "('sunil', 3)\n",
      "('sumit', 8)\n",
      "('subhash', 5)\n",
      "('rohit', 11)\n",
      "('rk khanna', 14)\n",
      "('ajay', 6)\n",
      "('kuldeep', 3)\n",
      "('ajay saini', 7)\n",
      "('amit', 9)\n",
      "('nerendra', 6)\n",
      "('rajnath', 7)\n",
      "('manohar', 8)\n",
      "('sonu', 9)\n",
      "('ravinder', 15)\n",
      "('satish', 9)\n",
      "('ravinder', 20)\n",
      "('sachin', 1)\n",
      "('sachin', 7)\n",
      "('bhupendra', 8)\n",
      "('krishan', 16)\n",
      "('krishan', 12)\n"
     ]
    }
   ],
   "source": [
    "my_data = cursor.execute(\"SELECT f_name,experience FROM E_list3\")\n",
    "for x in my_data:\n",
    "    print(x)"
   ]
  },
  {
   "cell_type": "code",
   "execution_count": 44,
   "id": "03a9aa3d",
   "metadata": {},
   "outputs": [
    {
     "data": {
      "text/plain": [
       "[('data_scientist',),\n",
       " ('salesman',),\n",
       " ('cse',),\n",
       " ('cse',),\n",
       " ('data_scientist',),\n",
       " ('plumber',),\n",
       " ('mea',),\n",
       " ('it',),\n",
       " ('it',),\n",
       " ('mechanic',),\n",
       " ('cse',),\n",
       " ('mea',),\n",
       " ('it',),\n",
       " ('it',),\n",
       " ('cse',),\n",
       " ('mea',),\n",
       " ('data_scientist',),\n",
       " ('mechanic',),\n",
       " ('cse',),\n",
       " ('it',),\n",
       " ('it',),\n",
       " ('mechanic',),\n",
       " ('it',),\n",
       " ('mechanic',),\n",
       " ('mea',),\n",
       " ('data_scientist',),\n",
       " ('mea',)]"
      ]
     },
     "execution_count": 44,
     "metadata": {},
     "output_type": "execute_result"
    }
   ],
   "source": [
    "my_data =cursor.execute(\"SELECT department FROM E_list3 \")\n",
    "my_data.fetchall()"
   ]
  },
  {
   "cell_type": "markdown",
   "id": "c9ccf854",
   "metadata": {},
   "source": [
    "# where\n"
   ]
  },
  {
   "cell_type": "code",
   "execution_count": 25,
   "id": "cbcd7ad5",
   "metadata": {},
   "outputs": [
    {
     "name": "stdout",
     "output_type": "stream",
     "text": [
      "('shubham',)\n"
     ]
    }
   ],
   "source": [
    "my_data = cursor.execute(\"SELECT name FROM E_list3 where e_id =120\")\n",
    "for x in my_data:\n",
    "    print(x)"
   ]
  },
  {
   "cell_type": "code",
   "execution_count": 27,
   "id": "ac302a19",
   "metadata": {},
   "outputs": [
    {
     "name": "stdout",
     "output_type": "stream",
     "text": [
      "('sagar', 'cse')\n"
     ]
    }
   ],
   "source": [
    "my_data = cursor.execute(\"SELECT name,department FROM E_list3 where e_id =110\")\n",
    "for x in my_data:\n",
    "    print(x)"
   ]
  },
  {
   "cell_type": "code",
   "execution_count": 28,
   "id": "3e2c9c59",
   "metadata": {},
   "outputs": [
    {
     "name": "stdout",
     "output_type": "stream",
     "text": [
      "(125, 'monit', 'krishan', 'data_scientist', 111000, 45, 16)\n"
     ]
    }
   ],
   "source": [
    "my_data = cursor.execute(\"SELECT*FROM E_list3 where e_id =125\")\n",
    "for x in my_data:\n",
    "    print(x)"
   ]
  },
  {
   "cell_type": "code",
   "execution_count": 29,
   "id": "72b7f13b",
   "metadata": {},
   "outputs": [
    {
     "data": {
      "text/plain": [
       "(125, 'monit', 'krishan', 'data_scientist', 111000, 45, 16)"
      ]
     },
     "execution_count": 29,
     "metadata": {},
     "output_type": "execute_result"
    }
   ],
   "source": [
    "my_data = cursor.execute(\"SELECT*FROM E_list3 where e_id =125\")\n",
    "my_data.fetchone()"
   ]
  },
  {
   "cell_type": "code",
   "execution_count": 33,
   "id": "dde405a8",
   "metadata": {},
   "outputs": [
    {
     "name": "stdout",
     "output_type": "stream",
     "text": [
      "(100, 'sachin', 'satish', 'data_scientist', 80000, 25, 5)\n",
      "(109, 'suumit', 'rohit', 'mechanic', 34000, 37, 11)\n",
      "(112, 'rahul', 'kuldeep', 'it', 34000, 27, 3)\n",
      "(118, 'aaryan', 'sonu', 'cse', 39000, 33, 9)\n",
      "(122, 'aloop', 'sachin', 'it', 20000, 23, 1)\n"
     ]
    }
   ],
   "source": [
    "my_data = cursor.execute(\"SELECT*FROM E_list3 where e_id in (100,109,112,118,122)\")\n",
    "for x in my_data:\n",
    "     print(x)                         "
   ]
  },
  {
   "cell_type": "code",
   "execution_count": 34,
   "id": "5e1b19a5",
   "metadata": {},
   "outputs": [
    {
     "data": {
      "text/plain": [
       "[(101, 'ajay', 'balwan', 'salesman', 50000, 30, 4),\n",
       " (103, 'sahil', 'sachin', 'cse', 40000, 29, 2),\n",
       " (104, 'rohit', 'balwan', 'data_scientist', 60000, 30, 11),\n",
       " (106, 'aashish', 'sunil', 'mea', 55000, 30, 3),\n",
       " (107, 'reena', 'sumit', 'it', 68000, 35, 8),\n",
       " (108, 'meena', 'subhash', 'it', 45000, 29, 5),\n",
       " (111, 'vaibhav', 'ajay', 'mea', 86000, 31, 6),\n",
       " (116, 'aasu', 'rajnath', 'data_scientist', 59000, 35, 7),\n",
       " (118, 'aaryan', 'sonu', 'cse', 39000, 33, 9),\n",
       " (123, 'vaibhav', 'sachin', 'mechanic', 43000, 34, 7),\n",
       " (124, 'tannu', 'bhupendra', 'mea', 63000, 34, 8)]"
      ]
     },
     "execution_count": 34,
     "metadata": {},
     "output_type": "execute_result"
    }
   ],
   "source": [
    "my_data = cursor.execute(\"SELECT * FROM E_list3 where age between 28 and 35\")\n",
    "my_data.fetchall()"
   ]
  },
  {
   "cell_type": "code",
   "execution_count": 35,
   "id": "ab3babc9",
   "metadata": {},
   "outputs": [
    {
     "data": {
      "text/plain": [
       "[(101, 'ajay', 'balwan', 'salesman', 50000, 30, 4),\n",
       " (103, 'sahil', 'sachin', 'cse', 40000, 29, 2),\n",
       " (105, 'sahil', 'vishal', 'plumber', 30000, 21, 1),\n",
       " (108, 'meena', 'subhash', 'it', 45000, 29, 5),\n",
       " (109, 'suumit', 'rohit', 'mechanic', 34000, 37, 11),\n",
       " (112, 'rahul', 'kuldeep', 'it', 34000, 27, 3),\n",
       " (117, 'amit_rohilla', 'manohar', 'mechanic', 33000, 38, 8),\n",
       " (118, 'aaryan', 'sonu', 'cse', 39000, 33, 9),\n",
       " (123, 'vaibhav', 'sachin', 'mechanic', 43000, 34, 7)]"
      ]
     },
     "execution_count": 35,
     "metadata": {},
     "output_type": "execute_result"
    }
   ],
   "source": [
    "my_data = cursor.execute(\"SELECT * FROM E_list3 where salary between 30000 and 50000\")\n",
    "my_data.fetchall()"
   ]
  },
  {
   "cell_type": "code",
   "execution_count": 36,
   "id": "cbeb6c45",
   "metadata": {},
   "outputs": [
    {
     "name": "stdout",
     "output_type": "stream",
     "text": [
      "(101, 'ajay', 'balwan', 'salesman', 50000, 30, 4)\n",
      "(103, 'sahil', 'sachin', 'cse', 40000, 29, 2)\n",
      "(105, 'sahil', 'vishal', 'plumber', 30000, 21, 1)\n",
      "(108, 'meena', 'subhash', 'it', 45000, 29, 5)\n",
      "(109, 'suumit', 'rohit', 'mechanic', 34000, 37, 11)\n",
      "(112, 'rahul', 'kuldeep', 'it', 34000, 27, 3)\n",
      "(117, 'amit_rohilla', 'manohar', 'mechanic', 33000, 38, 8)\n",
      "(118, 'aaryan', 'sonu', 'cse', 39000, 33, 9)\n",
      "(123, 'vaibhav', 'sachin', 'mechanic', 43000, 34, 7)\n"
     ]
    }
   ],
   "source": [
    "my_data = cursor.execute(\"SELECT * FROM E_list3 where salary between 30000 and 50000\")\n",
    "for x in my_data:\n",
    "    print(x)"
   ]
  },
  {
   "cell_type": "code",
   "execution_count": 37,
   "id": "db7a47cb",
   "metadata": {},
   "outputs": [
    {
     "data": {
      "text/plain": [
       "[(103, 'sahil', 'sachin', 'cse', 40000, 29, 2),\n",
       " (108, 'meena', 'subhash', 'it', 45000, 29, 5),\n",
       " (112, 'rahul', 'kuldeep', 'it', 34000, 27, 3)]"
      ]
     },
     "execution_count": 37,
     "metadata": {},
     "output_type": "execute_result"
    }
   ],
   "source": [
    "my_data = cursor.execute(\"SELECT * FROM E_list3 where age>25 and age<30\")\n",
    "my_data.fetchall()\n",
    "                         \n",
    "                         \n",
    "                         \n",
    "                         "
   ]
  },
  {
   "cell_type": "code",
   "execution_count": 38,
   "id": "c67b9d1f",
   "metadata": {},
   "outputs": [
    {
     "data": {
      "text/plain": [
       "[(100, 'sachin', 'satish', 'data_scientist', 80000, 25, 5),\n",
       " (101, 'ajay', 'balwan', 'salesman', 50000, 30, 4),\n",
       " (103, 'sahil', 'sachin', 'cse', 40000, 29, 2),\n",
       " (104, 'rohit', 'balwan', 'data_scientist', 60000, 30, 11),\n",
       " (106, 'aashish', 'sunil', 'mea', 55000, 30, 3),\n",
       " (108, 'meena', 'subhash', 'it', 45000, 29, 5),\n",
       " (112, 'rahul', 'kuldeep', 'it', 34000, 27, 3)]"
      ]
     },
     "execution_count": 38,
     "metadata": {},
     "output_type": "execute_result"
    }
   ],
   "source": [
    "my_data = cursor.execute(\"SELECT * FROM E_list3 where age>=25 and age<=30\")\n",
    "my_data.fetchall()"
   ]
  },
  {
   "cell_type": "markdown",
   "id": "aeec9791",
   "metadata": {},
   "source": [
    "# ascending order"
   ]
  },
  {
   "cell_type": "code",
   "execution_count": 40,
   "id": "81368eb8",
   "metadata": {},
   "outputs": [
    {
     "data": {
      "text/plain": [
       "[(113, 'aakash', 'ajay saini', 'it', 66000, 36, 7),\n",
       " (115, 'aakash', 'nerendra', 'mea', 79000, 36, 6),\n",
       " (118, 'aaryan', 'sonu', 'cse', 39000, 33, 9),\n",
       " (106, 'aashish', 'sunil', 'mea', 55000, 30, 3),\n",
       " (116, 'aasu', 'rajnath', 'data_scientist', 59000, 35, 7),\n",
       " (101, 'ajay', 'balwan', 'salesman', 50000, 30, 4),\n",
       " (122, 'aloop', 'sachin', 'it', 20000, 23, 1),\n",
       " (117, 'amit_rohilla', 'manohar', 'mechanic', 33000, 38, 8),\n",
       " (119, 'anshu', 'ravinder', 'it', 89000, 40, 15),\n",
       " (126, 'chetna', 'krishan', 'mea', 88000, 44, 12),\n",
       " (102, 'jatin', 'sonu', 'cse', 60000, 24, 8),\n",
       " (108, 'meena', 'subhash', 'it', 45000, 29, 5),\n",
       " (114, 'mohit', 'amit', 'cse', 69000, 41, 9),\n",
       " (125, 'monit', 'krishan', 'data_scientist', 111000, 45, 16),\n",
       " (112, 'rahul', 'kuldeep', 'it', 34000, 27, 3),\n",
       " (107, 'reena', 'sumit', 'it', 68000, 35, 8),\n",
       " (104, 'rohit', 'balwan', 'data_scientist', 60000, 30, 11),\n",
       " (100, 'sachin', 'satish', 'data_scientist', 80000, 25, 5),\n",
       " (110, 'sagar', 'rk khanna', 'cse', 75000, 39, 14),\n",
       " (103, 'sahil', 'sachin', 'cse', 40000, 29, 2),\n",
       " (105, 'sahil', 'vishal', 'plumber', 30000, 21, 1),\n",
       " (121, 'sahil', 'ravinder', 'mechanic', 68000, 41, 20),\n",
       " (120, 'shubham', 'satish', 'it', 77000, 36, 9),\n",
       " (109, 'suumit', 'rohit', 'mechanic', 34000, 37, 11),\n",
       " (124, 'tannu', 'bhupendra', 'mea', 63000, 34, 8),\n",
       " (111, 'vaibhav', 'ajay', 'mea', 86000, 31, 6),\n",
       " (123, 'vaibhav', 'sachin', 'mechanic', 43000, 34, 7)]"
      ]
     },
     "execution_count": 40,
     "metadata": {},
     "output_type": "execute_result"
    }
   ],
   "source": [
    "my_data = cursor.execute(\"SELECT * FROM E_list3 order by name asc\")\n",
    "my_data.fetchall()"
   ]
  },
  {
   "cell_type": "code",
   "execution_count": 41,
   "id": "8b1619c7",
   "metadata": {},
   "outputs": [
    {
     "data": {
      "text/plain": [
       "[(122, 'aloop', 'sachin', 'it', 20000, 23, 1),\n",
       " (105, 'sahil', 'vishal', 'plumber', 30000, 21, 1),\n",
       " (117, 'amit_rohilla', 'manohar', 'mechanic', 33000, 38, 8),\n",
       " (109, 'suumit', 'rohit', 'mechanic', 34000, 37, 11),\n",
       " (112, 'rahul', 'kuldeep', 'it', 34000, 27, 3),\n",
       " (118, 'aaryan', 'sonu', 'cse', 39000, 33, 9),\n",
       " (103, 'sahil', 'sachin', 'cse', 40000, 29, 2),\n",
       " (123, 'vaibhav', 'sachin', 'mechanic', 43000, 34, 7),\n",
       " (108, 'meena', 'subhash', 'it', 45000, 29, 5),\n",
       " (101, 'ajay', 'balwan', 'salesman', 50000, 30, 4),\n",
       " (106, 'aashish', 'sunil', 'mea', 55000, 30, 3),\n",
       " (116, 'aasu', 'rajnath', 'data_scientist', 59000, 35, 7),\n",
       " (102, 'jatin', 'sonu', 'cse', 60000, 24, 8),\n",
       " (104, 'rohit', 'balwan', 'data_scientist', 60000, 30, 11),\n",
       " (124, 'tannu', 'bhupendra', 'mea', 63000, 34, 8),\n",
       " (113, 'aakash', 'ajay saini', 'it', 66000, 36, 7),\n",
       " (107, 'reena', 'sumit', 'it', 68000, 35, 8),\n",
       " (121, 'sahil', 'ravinder', 'mechanic', 68000, 41, 20),\n",
       " (114, 'mohit', 'amit', 'cse', 69000, 41, 9),\n",
       " (110, 'sagar', 'rk khanna', 'cse', 75000, 39, 14),\n",
       " (120, 'shubham', 'satish', 'it', 77000, 36, 9),\n",
       " (115, 'aakash', 'nerendra', 'mea', 79000, 36, 6),\n",
       " (100, 'sachin', 'satish', 'data_scientist', 80000, 25, 5),\n",
       " (111, 'vaibhav', 'ajay', 'mea', 86000, 31, 6),\n",
       " (126, 'chetna', 'krishan', 'mea', 88000, 44, 12),\n",
       " (119, 'anshu', 'ravinder', 'it', 89000, 40, 15),\n",
       " (125, 'monit', 'krishan', 'data_scientist', 111000, 45, 16)]"
      ]
     },
     "execution_count": 41,
     "metadata": {},
     "output_type": "execute_result"
    }
   ],
   "source": [
    "my_data = cursor.execute(\"SELECT * FROM E_list3 order by salary asc\")\n",
    "my_data.fetchall()"
   ]
  },
  {
   "cell_type": "markdown",
   "id": "71706756",
   "metadata": {},
   "source": [
    "# decending order"
   ]
  },
  {
   "cell_type": "code",
   "execution_count": 43,
   "id": "97a4256a",
   "metadata": {},
   "outputs": [
    {
     "data": {
      "text/plain": [
       "[(111, 'vaibhav', 'ajay', 'mea', 86000, 31, 6),\n",
       " (123, 'vaibhav', 'sachin', 'mechanic', 43000, 34, 7),\n",
       " (124, 'tannu', 'bhupendra', 'mea', 63000, 34, 8),\n",
       " (109, 'suumit', 'rohit', 'mechanic', 34000, 37, 11),\n",
       " (120, 'shubham', 'satish', 'it', 77000, 36, 9),\n",
       " (103, 'sahil', 'sachin', 'cse', 40000, 29, 2),\n",
       " (105, 'sahil', 'vishal', 'plumber', 30000, 21, 1),\n",
       " (121, 'sahil', 'ravinder', 'mechanic', 68000, 41, 20),\n",
       " (110, 'sagar', 'rk khanna', 'cse', 75000, 39, 14),\n",
       " (100, 'sachin', 'satish', 'data_scientist', 80000, 25, 5),\n",
       " (104, 'rohit', 'balwan', 'data_scientist', 60000, 30, 11),\n",
       " (107, 'reena', 'sumit', 'it', 68000, 35, 8),\n",
       " (112, 'rahul', 'kuldeep', 'it', 34000, 27, 3),\n",
       " (125, 'monit', 'krishan', 'data_scientist', 111000, 45, 16),\n",
       " (114, 'mohit', 'amit', 'cse', 69000, 41, 9),\n",
       " (108, 'meena', 'subhash', 'it', 45000, 29, 5),\n",
       " (102, 'jatin', 'sonu', 'cse', 60000, 24, 8),\n",
       " (126, 'chetna', 'krishan', 'mea', 88000, 44, 12),\n",
       " (119, 'anshu', 'ravinder', 'it', 89000, 40, 15),\n",
       " (117, 'amit_rohilla', 'manohar', 'mechanic', 33000, 38, 8),\n",
       " (122, 'aloop', 'sachin', 'it', 20000, 23, 1),\n",
       " (101, 'ajay', 'balwan', 'salesman', 50000, 30, 4),\n",
       " (116, 'aasu', 'rajnath', 'data_scientist', 59000, 35, 7),\n",
       " (106, 'aashish', 'sunil', 'mea', 55000, 30, 3),\n",
       " (118, 'aaryan', 'sonu', 'cse', 39000, 33, 9),\n",
       " (113, 'aakash', 'ajay saini', 'it', 66000, 36, 7),\n",
       " (115, 'aakash', 'nerendra', 'mea', 79000, 36, 6)]"
      ]
     },
     "execution_count": 43,
     "metadata": {},
     "output_type": "execute_result"
    }
   ],
   "source": [
    "my_data = cursor.execute(\"SELECT * FROM E_list3 order by name desc\")\n",
    "my_data.fetchall()"
   ]
  },
  {
   "cell_type": "markdown",
   "id": "9494b989",
   "metadata": {},
   "source": [
    "# NULL\n"
   ]
  },
  {
   "cell_type": "code",
   "execution_count": 45,
   "id": "e3613891",
   "metadata": {},
   "outputs": [
    {
     "data": {
      "text/plain": [
       "[]"
      ]
     },
     "execution_count": 45,
     "metadata": {},
     "output_type": "execute_result"
    }
   ],
   "source": [
    "my_data = cursor.execute(\"SELECT * FROM E_list3 where experience is null\")\n",
    "my_data.fetchall()"
   ]
  },
  {
   "cell_type": "code",
   "execution_count": 46,
   "id": "dbe49b55",
   "metadata": {},
   "outputs": [
    {
     "data": {
      "text/plain": [
       "[(100, 'sachin', 'satish', 'data_scientist', 80000, 25, 5),\n",
       " (101, 'ajay', 'balwan', 'salesman', 50000, 30, 4),\n",
       " (102, 'jatin', 'sonu', 'cse', 60000, 24, 8),\n",
       " (103, 'sahil', 'sachin', 'cse', 40000, 29, 2),\n",
       " (104, 'rohit', 'balwan', 'data_scientist', 60000, 30, 11),\n",
       " (105, 'sahil', 'vishal', 'plumber', 30000, 21, 1),\n",
       " (106, 'aashish', 'sunil', 'mea', 55000, 30, 3),\n",
       " (107, 'reena', 'sumit', 'it', 68000, 35, 8),\n",
       " (108, 'meena', 'subhash', 'it', 45000, 29, 5),\n",
       " (109, 'suumit', 'rohit', 'mechanic', 34000, 37, 11),\n",
       " (110, 'sagar', 'rk khanna', 'cse', 75000, 39, 14),\n",
       " (111, 'vaibhav', 'ajay', 'mea', 86000, 31, 6),\n",
       " (112, 'rahul', 'kuldeep', 'it', 34000, 27, 3),\n",
       " (113, 'aakash', 'ajay saini', 'it', 66000, 36, 7),\n",
       " (114, 'mohit', 'amit', 'cse', 69000, 41, 9),\n",
       " (115, 'aakash', 'nerendra', 'mea', 79000, 36, 6),\n",
       " (116, 'aasu', 'rajnath', 'data_scientist', 59000, 35, 7),\n",
       " (117, 'amit_rohilla', 'manohar', 'mechanic', 33000, 38, 8),\n",
       " (118, 'aaryan', 'sonu', 'cse', 39000, 33, 9),\n",
       " (119, 'anshu', 'ravinder', 'it', 89000, 40, 15),\n",
       " (120, 'shubham', 'satish', 'it', 77000, 36, 9),\n",
       " (121, 'sahil', 'ravinder', 'mechanic', 68000, 41, 20),\n",
       " (122, 'aloop', 'sachin', 'it', 20000, 23, 1),\n",
       " (123, 'vaibhav', 'sachin', 'mechanic', 43000, 34, 7),\n",
       " (124, 'tannu', 'bhupendra', 'mea', 63000, 34, 8),\n",
       " (125, 'monit', 'krishan', 'data_scientist', 111000, 45, 16),\n",
       " (126, 'chetna', 'krishan', 'mea', 88000, 44, 12)]"
      ]
     },
     "execution_count": 46,
     "metadata": {},
     "output_type": "execute_result"
    }
   ],
   "source": [
    "my_data = cursor.execute(\"SELECT * FROM E_list3 where experience is  not null\")\n",
    "my_data.fetchall()"
   ]
  },
  {
   "cell_type": "markdown",
   "id": "fbf8df74",
   "metadata": {},
   "source": [
    "# like operator (%)\n",
    "\n",
    " d%d means choose only those name start with d and end with d   eg :david\n",
    " \n",
    " %d means end with d\n",
    " \n",
    " _d% means second letter of name is d\n",
    " \n",
    " __d% means 2 letter before d \n",
    " \n",
    " %ee%  eg :reena ,teena\n"
   ]
  },
  {
   "cell_type": "code",
   "execution_count": 50,
   "id": "be73801b",
   "metadata": {},
   "outputs": [
    {
     "data": {
      "text/plain": [
       "[(106, 'aashish', 'sunil', 'mea', 55000, 30, 3),\n",
       " (113, 'aakash', 'ajay saini', 'it', 66000, 36, 7),\n",
       " (115, 'aakash', 'nerendra', 'mea', 79000, 36, 6),\n",
       " (116, 'aasu', 'rajnath', 'data_scientist', 59000, 35, 7),\n",
       " (118, 'aaryan', 'sonu', 'cse', 39000, 33, 9)]"
      ]
     },
     "execution_count": 50,
     "metadata": {},
     "output_type": "execute_result"
    }
   ],
   "source": [
    "my_data =cursor.execute(\"SELECT* FROM E_list3 where name like 'aa%' \")\n",
    "my_data.fetchall()"
   ]
  },
  {
   "cell_type": "code",
   "execution_count": 51,
   "id": "df2bdef0",
   "metadata": {},
   "outputs": [
    {
     "data": {
      "text/plain": [
       "[(100, 'sachin', 'satish', 'data_scientist', 80000, 25, 5),\n",
       " (102, 'jatin', 'sonu', 'cse', 60000, 24, 8),\n",
       " (103, 'sahil', 'sachin', 'cse', 40000, 29, 2),\n",
       " (105, 'sahil', 'vishal', 'plumber', 30000, 21, 1),\n",
       " (106, 'aashish', 'sunil', 'mea', 55000, 30, 3),\n",
       " (110, 'sagar', 'rk khanna', 'cse', 75000, 39, 14),\n",
       " (111, 'vaibhav', 'ajay', 'mea', 86000, 31, 6),\n",
       " (112, 'rahul', 'kuldeep', 'it', 34000, 27, 3),\n",
       " (113, 'aakash', 'ajay saini', 'it', 66000, 36, 7),\n",
       " (115, 'aakash', 'nerendra', 'mea', 79000, 36, 6),\n",
       " (116, 'aasu', 'rajnath', 'data_scientist', 59000, 35, 7),\n",
       " (118, 'aaryan', 'sonu', 'cse', 39000, 33, 9),\n",
       " (121, 'sahil', 'ravinder', 'mechanic', 68000, 41, 20),\n",
       " (123, 'vaibhav', 'sachin', 'mechanic', 43000, 34, 7),\n",
       " (124, 'tannu', 'bhupendra', 'mea', 63000, 34, 8)]"
      ]
     },
     "execution_count": 51,
     "metadata": {},
     "output_type": "execute_result"
    }
   ],
   "source": [
    "my_data =cursor.execute(\"SELECT* FROM E_list3 where name like '_a%' \")\n",
    "my_data.fetchall()"
   ]
  },
  {
   "cell_type": "code",
   "execution_count": 52,
   "id": "fec7767b",
   "metadata": {},
   "outputs": [
    {
     "data": {
      "text/plain": [
       "[(100, 'sachin', 'satish', 'data_scientist', 80000, 25, 5),\n",
       " (126, 'chetna', 'krishan', 'mea', 88000, 44, 12)]"
      ]
     },
     "execution_count": 52,
     "metadata": {},
     "output_type": "execute_result"
    }
   ],
   "source": [
    "my_data =cursor.execute(\"SELECT* FROM E_list3 where name like '%c%' \")\n",
    "my_data.fetchall()"
   ]
  },
  {
   "cell_type": "code",
   "execution_count": 53,
   "id": "4014a0fd",
   "metadata": {},
   "outputs": [
    {
     "data": {
      "text/plain": [
       "[(100, 'sachin', 'satish', 'data_scientist', 80000, 25, 5),\n",
       " (107, 'reena', 'sumit', 'it', 68000, 35, 8),\n",
       " (116, 'aasu', 'rajnath', 'data_scientist', 59000, 35, 7),\n",
       " (125, 'monit', 'krishan', 'data_scientist', 111000, 45, 16)]"
      ]
     },
     "execution_count": 53,
     "metadata": {},
     "output_type": "execute_result"
    }
   ],
   "source": [
    "my_data =cursor.execute(\"SELECT* FROM E_list3 where age like '%5' \")\n",
    "my_data.fetchall()"
   ]
  },
  {
   "cell_type": "code",
   "execution_count": 54,
   "id": "20958d94",
   "metadata": {},
   "outputs": [
    {
     "data": {
      "text/plain": [
       "[(106, 'aashish', 'sunil', 'mea', 55000, 30, 3)]"
      ]
     },
     "execution_count": 54,
     "metadata": {},
     "output_type": "execute_result"
    }
   ],
   "source": [
    "my_data =cursor.execute(\"SELECT* FROM E_list3 where salary like '55%' \")\n",
    "my_data.fetchall()"
   ]
  },
  {
   "cell_type": "code",
   "execution_count": null,
   "id": "65c4cb82",
   "metadata": {},
   "outputs": [],
   "source": []
  },
  {
   "cell_type": "code",
   "execution_count": 58,
   "id": "52fe7a38",
   "metadata": {},
   "outputs": [
    {
     "data": {
      "text/plain": [
       "[(101, 'ajay', 'balwan', 'salesman', 50000, 30, 4),\n",
       " (102, 'jatin', 'sonu', 'cse', 60000, 24, 8),\n",
       " (103, 'sahil', 'sachin', 'cse', 40000, 29, 2),\n",
       " (105, 'sahil', 'vishal', 'plumber', 30000, 21, 1),\n",
       " (106, 'aashish', 'sunil', 'mea', 55000, 30, 3),\n",
       " (107, 'reena', 'sumit', 'it', 68000, 35, 8),\n",
       " (108, 'meena', 'subhash', 'it', 45000, 29, 5),\n",
       " (109, 'suumit', 'rohit', 'mechanic', 34000, 37, 11),\n",
       " (110, 'sagar', 'rk khanna', 'cse', 75000, 39, 14),\n",
       " (111, 'vaibhav', 'ajay', 'mea', 86000, 31, 6),\n",
       " (112, 'rahul', 'kuldeep', 'it', 34000, 27, 3),\n",
       " (113, 'aakash', 'ajay saini', 'it', 66000, 36, 7),\n",
       " (114, 'mohit', 'amit', 'cse', 69000, 41, 9),\n",
       " (115, 'aakash', 'nerendra', 'mea', 79000, 36, 6),\n",
       " (117, 'amit_rohilla', 'manohar', 'mechanic', 33000, 38, 8),\n",
       " (118, 'aaryan', 'sonu', 'cse', 39000, 33, 9),\n",
       " (119, 'anshu', 'ravinder', 'it', 89000, 40, 15),\n",
       " (120, 'shubham', 'satish', 'it', 77000, 36, 9),\n",
       " (121, 'sahil', 'ravinder', 'mechanic', 68000, 41, 20),\n",
       " (122, 'aloop', 'sachin', 'it', 20000, 23, 1),\n",
       " (123, 'vaibhav', 'sachin', 'mechanic', 43000, 34, 7),\n",
       " (124, 'tannu', 'bhupendra', 'mea', 63000, 34, 8),\n",
       " (126, 'chetna', 'krishan', 'mea', 88000, 44, 12)]"
      ]
     },
     "execution_count": 58,
     "metadata": {},
     "output_type": "execute_result"
    }
   ],
   "source": [
    "my_data= cursor.execute(\"SELECT * FROM E_list3 where department not in ('data_scientist')\")\n",
    "my_data.fetchall()"
   ]
  },
  {
   "cell_type": "code",
   "execution_count": 59,
   "id": "32156d98",
   "metadata": {},
   "outputs": [
    {
     "data": {
      "text/plain": [
       "[(100, 'sachin', 'satish', 'data_scientist', 80000, 25, 5),\n",
       " (101, 'ajay', 'balwan', 'salesman', 50000, 30, 4),\n",
       " (102, 'jatin', 'sonu', 'cse', 60000, 24, 8),\n",
       " (103, 'sahil', 'sachin', 'cse', 40000, 29, 2),\n",
       " (104, 'rohit', 'balwan', 'data_scientist', 60000, 30, 11),\n",
       " (105, 'sahil', 'vishal', 'plumber', 30000, 21, 1),\n",
       " (106, 'aashish', 'sunil', 'mea', 55000, 30, 3),\n",
       " (109, 'suumit', 'rohit', 'mechanic', 34000, 37, 11),\n",
       " (110, 'sagar', 'rk khanna', 'cse', 75000, 39, 14),\n",
       " (111, 'vaibhav', 'ajay', 'mea', 86000, 31, 6),\n",
       " (114, 'mohit', 'amit', 'cse', 69000, 41, 9),\n",
       " (115, 'aakash', 'nerendra', 'mea', 79000, 36, 6),\n",
       " (116, 'aasu', 'rajnath', 'data_scientist', 59000, 35, 7),\n",
       " (117, 'amit_rohilla', 'manohar', 'mechanic', 33000, 38, 8),\n",
       " (118, 'aaryan', 'sonu', 'cse', 39000, 33, 9),\n",
       " (121, 'sahil', 'ravinder', 'mechanic', 68000, 41, 20),\n",
       " (123, 'vaibhav', 'sachin', 'mechanic', 43000, 34, 7),\n",
       " (124, 'tannu', 'bhupendra', 'mea', 63000, 34, 8),\n",
       " (125, 'monit', 'krishan', 'data_scientist', 111000, 45, 16),\n",
       " (126, 'chetna', 'krishan', 'mea', 88000, 44, 12)]"
      ]
     },
     "execution_count": 59,
     "metadata": {},
     "output_type": "execute_result"
    }
   ],
   "source": [
    "my_data= cursor.execute(\"SELECT * FROM E_list3 where department not in ('it')\")\n",
    "my_data.fetchall()"
   ]
  },
  {
   "cell_type": "markdown",
   "id": "eab18f8e",
   "metadata": {},
   "source": [
    "# delete record"
   ]
  },
  {
   "cell_type": "raw",
   "id": "a948e1da",
   "metadata": {},
   "source": []
  },
  {
   "cell_type": "code",
   "execution_count": 5,
   "id": "03ceb1df",
   "metadata": {},
   "outputs": [
    {
     "ename": "NameError",
     "evalue": "name 'cursor' is not defined",
     "output_type": "error",
     "traceback": [
      "\u001b[1;31m---------------------------------------------------------------------------\u001b[0m",
      "\u001b[1;31mNameError\u001b[0m                                 Traceback (most recent call last)",
      "\u001b[1;32m~\\AppData\\Local\\Temp\\ipykernel_20984\\776622871.py\u001b[0m in \u001b[0;36m<module>\u001b[1;34m\u001b[0m\n\u001b[1;32m----> 1\u001b[1;33m \u001b[0mcursor\u001b[0m\u001b[1;33m=\u001b[0m\u001b[0mcursor\u001b[0m\u001b[1;33m.\u001b[0m\u001b[0mdb\u001b[0m\u001b[1;33m(\u001b[0m\u001b[1;33m)\u001b[0m\u001b[1;33m\u001b[0m\u001b[1;33m\u001b[0m\u001b[0m\n\u001b[0m",
      "\u001b[1;31mNameError\u001b[0m: name 'cursor' is not defined"
     ]
    }
   ],
   "source": []
  },
  {
   "cell_type": "code",
   "execution_count": 4,
   "id": "6da1a2fb",
   "metadata": {},
   "outputs": [
    {
     "ename": "NameError",
     "evalue": "name 'cursor' is not defined",
     "output_type": "error",
     "traceback": [
      "\u001b[1;31m---------------------------------------------------------------------------\u001b[0m",
      "\u001b[1;31mNameError\u001b[0m                                 Traceback (most recent call last)",
      "\u001b[1;32m~\\AppData\\Local\\Temp\\ipykernel_20984\\1200169155.py\u001b[0m in \u001b[0;36m<module>\u001b[1;34m\u001b[0m\n\u001b[1;32m----> 1\u001b[1;33m \u001b[0msql\u001b[0m \u001b[1;33m=\u001b[0m\u001b[0mcursor\u001b[0m\u001b[1;33m.\u001b[0m\u001b[0mexecute\u001b[0m\u001b[1;33m(\u001b[0m\u001b[1;34m\"DELETE FROM E_list3 WHERE e_id =105\"\u001b[0m\u001b[1;33m)\u001b[0m\u001b[1;33m\u001b[0m\u001b[1;33m\u001b[0m\u001b[0m\n\u001b[0m\u001b[0;32m      2\u001b[0m \u001b[1;32mfor\u001b[0m \u001b[0mx\u001b[0m \u001b[1;32min\u001b[0m \u001b[0msql\u001b[0m\u001b[1;33m:\u001b[0m\u001b[1;33m\u001b[0m\u001b[1;33m\u001b[0m\u001b[0m\n\u001b[0;32m      3\u001b[0m     \u001b[0mprint\u001b[0m\u001b[1;33m(\u001b[0m\u001b[0mx\u001b[0m\u001b[1;33m)\u001b[0m\u001b[1;33m\u001b[0m\u001b[1;33m\u001b[0m\u001b[0m\n",
      "\u001b[1;31mNameError\u001b[0m: name 'cursor' is not defined"
     ]
    }
   ],
   "source": [
    "sql =cursor.execute(\"DELETE FROM E_list3 WHERE e_id =105\")\n",
    "for x in sql:\n",
    "    print(x)"
   ]
  },
  {
   "cell_type": "code",
   "execution_count": 1,
   "id": "15d6c184",
   "metadata": {},
   "outputs": [
    {
     "ename": "NameError",
     "evalue": "name 'cursor' is not defined",
     "output_type": "error",
     "traceback": [
      "\u001b[1;31m---------------------------------------------------------------------------\u001b[0m",
      "\u001b[1;31mNameError\u001b[0m                                 Traceback (most recent call last)",
      "\u001b[1;32m~\\AppData\\Local\\Temp\\ipykernel_15484\\409575743.py\u001b[0m in \u001b[0;36m<module>\u001b[1;34m\u001b[0m\n\u001b[1;32m----> 1\u001b[1;33m \u001b[0msql\u001b[0m \u001b[1;33m=\u001b[0m\u001b[0mcursor\u001b[0m\u001b[1;33m.\u001b[0m\u001b[0mexecute\u001b[0m\u001b[1;33m(\u001b[0m\u001b[1;34m\"DELETE * FROM E_list3 WHERE e_id =105\"\u001b[0m\u001b[1;33m)\u001b[0m\u001b[1;33m\u001b[0m\u001b[1;33m\u001b[0m\u001b[0m\n\u001b[0m\u001b[0;32m      2\u001b[0m \u001b[0mdb\u001b[0m\u001b[1;33m.\u001b[0m\u001b[0mcommit\u001b[0m\u001b[1;33m(\u001b[0m\u001b[1;33m)\u001b[0m\u001b[1;33m\u001b[0m\u001b[1;33m\u001b[0m\u001b[0m\n\u001b[0;32m      3\u001b[0m \u001b[0mdata\u001b[0m \u001b[1;33m=\u001b[0m \u001b[0mcursor\u001b[0m\u001b[1;33m.\u001b[0m\u001b[0mexecute\u001b[0m\u001b[1;33m(\u001b[0m\u001b[1;34m\"SELECT*FROM E_list3\"\u001b[0m\u001b[1;33m)\u001b[0m\u001b[1;33m\u001b[0m\u001b[1;33m\u001b[0m\u001b[0m\n\u001b[0;32m      4\u001b[0m \u001b[0mdata\u001b[0m\u001b[1;33m.\u001b[0m\u001b[0mfetchall\u001b[0m\u001b[1;33m(\u001b[0m\u001b[1;33m)\u001b[0m\u001b[1;33m\u001b[0m\u001b[1;33m\u001b[0m\u001b[0m\n",
      "\u001b[1;31mNameError\u001b[0m: name 'cursor' is not defined"
     ]
    }
   ],
   "source": [
    "sql =cursor.execute(\"DELETE * FROM E_list3 WHERE e_id =105\")\n",
    "db.commit()\n",
    "data = cursor.execute(\"SELECT*FROM E_list3\")\n",
    "data.fetchall()"
   ]
  },
  {
   "cell_type": "code",
   "execution_count": null,
   "id": "fcbd6961",
   "metadata": {},
   "outputs": [],
   "source": []
  }
 ],
 "metadata": {
  "kernelspec": {
   "display_name": "Python 3 (ipykernel)",
   "language": "python",
   "name": "python3"
  },
  "language_info": {
   "codemirror_mode": {
    "name": "ipython",
    "version": 3
   },
   "file_extension": ".py",
   "mimetype": "text/x-python",
   "name": "python",
   "nbconvert_exporter": "python",
   "pygments_lexer": "ipython3",
   "version": "3.9.13"
  }
 },
 "nbformat": 4,
 "nbformat_minor": 5
}
