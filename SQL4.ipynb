{
 "cells": [
  {
   "cell_type": "code",
   "execution_count": 2,
   "id": "8c568865",
   "metadata": {},
   "outputs": [],
   "source": [
    " import sqlite3 "
   ]
  },
  {
   "cell_type": "code",
   "execution_count": 4,
   "id": "febc2387",
   "metadata": {},
   "outputs": [],
   "source": [
    "db = sqlite3.connect(\"my_database.db\")"
   ]
  },
  {
   "cell_type": "code",
   "execution_count": 6,
   "id": "b31af26d",
   "metadata": {},
   "outputs": [],
   "source": [
    "cursor=db.cursor()"
   ]
  },
  {
   "cell_type": "code",
   "execution_count": 7,
   "id": "1a2fe50d",
   "metadata": {},
   "outputs": [
    {
     "data": {
      "text/plain": [
       "<sqlite3.Cursor at 0x26a40e3ba40>"
      ]
     },
     "execution_count": 7,
     "metadata": {},
     "output_type": "execute_result"
    }
   ],
   "source": [
    "cursor.execute(\"CREATE TABLE S_list1(roll_no INT PRIMARY KEY,s_name TEXT ,f_name)\")"
   ]
  },
  {
   "cell_type": "code",
   "execution_count": 8,
   "id": "0f582649",
   "metadata": {},
   "outputs": [
    {
     "data": {
      "text/plain": [
       "<sqlite3.Cursor at 0x26a40e3ba40>"
      ]
     },
     "execution_count": 8,
     "metadata": {},
     "output_type": "execute_result"
    }
   ],
   "source": [
    "cursor.execute(\"INSERT INTO S_list1(roll_no,s_name,f_name) values (1,'sachin','satish'),(2,'ajay','vishal'),(3,'rohit','balwan'),(4,'jatin','sonu'),(5,'mohit','sahil')\")"
   ]
  },
  {
   "cell_type": "code",
   "execution_count": 9,
   "id": "b4d72714",
   "metadata": {},
   "outputs": [],
   "source": [
    "db.commit()"
   ]
  },
  {
   "cell_type": "code",
   "execution_count": 10,
   "id": "82b452e0",
   "metadata": {},
   "outputs": [
    {
     "name": "stdout",
     "output_type": "stream",
     "text": [
      "5 record(s) inserted\n"
     ]
    }
   ],
   "source": [
    "print(cursor.rowcount,\"record(s) inserted\")"
   ]
  },
  {
   "cell_type": "code",
   "execution_count": 13,
   "id": "ca2d7473",
   "metadata": {},
   "outputs": [
    {
     "data": {
      "text/plain": [
       "<sqlite3.Cursor at 0x26a40e3ba40>"
      ]
     },
     "execution_count": 13,
     "metadata": {},
     "output_type": "execute_result"
    }
   ],
   "source": [
    "cursor.execute(\"SELECT*FROM S_list1\")"
   ]
  },
  {
   "cell_type": "code",
   "execution_count": 15,
   "id": "13a5b149",
   "metadata": {},
   "outputs": [
    {
     "name": "stdout",
     "output_type": "stream",
     "text": [
      "(1, 'sachin', 'satish')\n",
      "(2, 'ajay', 'vishal')\n",
      "(3, 'rohit', 'balwan')\n",
      "(4, 'jatin', 'sonu')\n",
      "(5, 'mohit', 'sahil')\n"
     ]
    }
   ],
   "source": [
    "result=cursor.execute(\"SELECT*FROM S_list1\")\n",
    "for x in result:\n",
    "    print(x)"
   ]
  },
  {
   "cell_type": "code",
   "execution_count": 17,
   "id": "6f5968b5",
   "metadata": {},
   "outputs": [
    {
     "name": "stdout",
     "output_type": "stream",
     "text": [
      "(1, 'sachin', 'satish')\n",
      "(2, 'ajay', 'vishal')\n",
      "(4, 'jatin', 'sonu')\n",
      "(5, 'mohit', 'sahil')\n"
     ]
    }
   ],
   "source": [
    "#delete record\n",
    "\n",
    "sql =cursor.execute(\"DELETE FROM S_list1 where roll_no =3\")\n",
    "db.commit()\n",
    "record= cursor.execute(\"SELECT*FROM S_list1\")\n",
    "for x in result:\n",
    "    print(x)"
   ]
  },
  {
   "cell_type": "code",
   "execution_count": 18,
   "id": "487b4b41",
   "metadata": {},
   "outputs": [
    {
     "data": {
      "text/plain": [
       "<function Connection.commit>"
      ]
     },
     "execution_count": 18,
     "metadata": {},
     "output_type": "execute_result"
    }
   ],
   "source": [
    "sql =cursor.execute(\"DELETE FROM S_list1 where roll_no in (2,5)\")\n",
    "db.commit"
   ]
  },
  {
   "cell_type": "code",
   "execution_count": 19,
   "id": "db58c53f",
   "metadata": {},
   "outputs": [
    {
     "data": {
      "text/plain": [
       "[(1, 'sachin', 'satish'), (4, 'jatin', 'sonu')]"
      ]
     },
     "execution_count": 19,
     "metadata": {},
     "output_type": "execute_result"
    }
   ],
   "source": [
    "result=cursor.execute(\"SELECT * FROM S_list1\")\n",
    "result.fetchall()"
   ]
  },
  {
   "cell_type": "markdown",
   "id": "b9475ce0",
   "metadata": {},
   "source": [
    "# UPDATE A RECORD"
   ]
  },
  {
   "cell_type": "code",
   "execution_count": 24,
   "id": "cb393f30",
   "metadata": {},
   "outputs": [
    {
     "name": "stdout",
     "output_type": "stream",
     "text": [
      "1 record(s) affected\n"
     ]
    }
   ],
   "source": [
    "sql = cursor.execute(\"UPDATE S_list1 SET f_name= 'sunny' where f_name='sonu' \")\n",
    "db.commit()\n",
    "print(cursor.rowcount,\"record(s) affected\")"
   ]
  },
  {
   "cell_type": "code",
   "execution_count": 25,
   "id": "c04d9416",
   "metadata": {},
   "outputs": [
    {
     "data": {
      "text/plain": [
       "[(1, 'sachin', 'satish'), (4, 'jatin', 'sunny')]"
      ]
     },
     "execution_count": 25,
     "metadata": {},
     "output_type": "execute_result"
    }
   ],
   "source": [
    "cursor.execute(\"SELECT*FROM S_list1\")\n",
    "cursor.fetchall()"
   ]
  },
  {
   "cell_type": "markdown",
   "id": "34c88aa2",
   "metadata": {},
   "source": [
    "# LIMIT"
   ]
  },
  {
   "cell_type": "code",
   "execution_count": 29,
   "id": "42582031",
   "metadata": {},
   "outputs": [
    {
     "data": {
      "text/plain": [
       "(1, 'sachin', 'satish')"
      ]
     },
     "execution_count": 29,
     "metadata": {},
     "output_type": "execute_result"
    }
   ],
   "source": [
    "cursor.execute(\"SELECT * FROM S_list1 LIMIT 1\")\n",
    "record=cursor.execute(\"SELECT* FROM S_list1\")\n",
    "record.fetchone()"
   ]
  },
  {
   "cell_type": "code",
   "execution_count": 32,
   "id": "3883b729",
   "metadata": {},
   "outputs": [
    {
     "data": {
      "text/plain": [
       "[(1, 'sachin', 'satish'), (4, 'jatin', 'sunny')]"
      ]
     },
     "execution_count": 32,
     "metadata": {},
     "output_type": "execute_result"
    }
   ],
   "source": [
    "cursor.execute(\"SELECT * FROM S_list1 LIMIT 2\")\n",
    "record=cursor.execute(\"SELECT* FROM S_list1\")\n",
    "record.fetchall()"
   ]
  },
  {
   "cell_type": "code",
   "execution_count": 33,
   "id": "585298de",
   "metadata": {},
   "outputs": [
    {
     "ename": "SyntaxError",
     "evalue": "invalid syntax (1317329610.py, line 1)",
     "output_type": "error",
     "traceback": [
      "\u001b[1;36m  File \u001b[1;32m\"C:\\Users\\SACHIN\\AppData\\Local\\Temp\\ipykernel_24444\\1317329610.py\"\u001b[1;36m, line \u001b[1;32m1\u001b[0m\n\u001b[1;33m    SELECT MIN(column_2)\u001b[0m\n\u001b[1;37m           ^\u001b[0m\n\u001b[1;31mSyntaxError\u001b[0m\u001b[1;31m:\u001b[0m invalid syntax\n"
     ]
    }
   ],
   "source": []
  },
  {
   "cell_type": "code",
   "execution_count": null,
   "id": "90187396",
   "metadata": {},
   "outputs": [],
   "source": []
  }
 ],
 "metadata": {
  "kernelspec": {
   "display_name": "Python 3 (ipykernel)",
   "language": "python",
   "name": "python3"
  },
  "language_info": {
   "codemirror_mode": {
    "name": "ipython",
    "version": 3
   },
   "file_extension": ".py",
   "mimetype": "text/x-python",
   "name": "python",
   "nbconvert_exporter": "python",
   "pygments_lexer": "ipython3",
   "version": "3.9.13"
  }
 },
 "nbformat": 4,
 "nbformat_minor": 5
}
