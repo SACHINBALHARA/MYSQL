{
 "cells": [
  {
   "cell_type": "code",
   "execution_count": 1,
   "id": "562fb498",
   "metadata": {},
   "outputs": [],
   "source": [
    "import sqlite3"
   ]
  },
  {
   "cell_type": "code",
   "execution_count": 2,
   "id": "c37f2fe8",
   "metadata": {},
   "outputs": [],
   "source": [
    "db = sqlite3.connect(\"my_data.db\")"
   ]
  },
  {
   "cell_type": "raw",
   "id": "fd1051ec",
   "metadata": {},
   "source": []
  },
  {
   "cell_type": "code",
   "execution_count": 3,
   "id": "b0bc2f4c",
   "metadata": {},
   "outputs": [],
   "source": [
    "cursor =db.cursor()"
   ]
  },
  {
   "cell_type": "code",
   "execution_count": 4,
   "id": "71fe0cda",
   "metadata": {
    "scrolled": true
   },
   "outputs": [
    {
     "data": {
      "text/plain": [
       "<sqlite3.Cursor at 0x2171ec219d0>"
      ]
     },
     "execution_count": 4,
     "metadata": {},
     "output_type": "execute_result"
    }
   ],
   "source": [
    "cursor.execute(\"CREATE TABLE S_marks5(roll_no INT PRIMARY KEY,s_name TEXT,f_name TEXT, total_marks INT,percentage INT,rank INT)\")"
   ]
  },
  {
   "cell_type": "raw",
   "id": "fc57e256",
   "metadata": {},
   "source": [
    "cursor.execute(\"INSERT INTO S_marks4(roll_no,s_name,f_name,total_marks,percentage,rank) values(1,'sachin','satish',490,98,1),(2,'rohit','ajay',400,80,10),(3,'sahil','ajad',380,76,14),(4,'vishal','sachin',420,84,8),(5,'monit','krishan',460,92,5)\")"
   ]
  },
  {
   "cell_type": "code",
   "execution_count": 5,
   "id": "07a30ae2",
   "metadata": {},
   "outputs": [
    {
     "data": {
      "text/plain": [
       "<sqlite3.Cursor at 0x2171ec219d0>"
      ]
     },
     "execution_count": 5,
     "metadata": {},
     "output_type": "execute_result"
    }
   ],
   "source": [
    "cursor.execute(\"INSERT INTO S_marks5(roll_no,s_name,f_name,total_marks,percentage,rank) values(1,'sachin','satish',490,98,1),(2,'rohit','ajay',400,80,10),(3,'sahil','ajad',380,76,14),(4,'vishal','sachin',420,84,8),(5,'monit','krishan',460,92,5)\")"
   ]
  },
  {
   "cell_type": "code",
   "execution_count": 9,
   "id": "92a15a23",
   "metadata": {},
   "outputs": [],
   "source": [
    "# save the data\n",
    "db.commit()"
   ]
  },
  {
   "cell_type": "code",
   "execution_count": 14,
   "id": "e05d1230",
   "metadata": {},
   "outputs": [
    {
     "data": {
      "text/plain": [
       "(5, 'record(s) inserted')"
      ]
     },
     "execution_count": 14,
     "metadata": {},
     "output_type": "execute_result"
    }
   ],
   "source": [
    "cursor.rowcount,\"record(s) inserted\""
   ]
  },
  {
   "cell_type": "raw",
   "id": "87e371ef",
   "metadata": {},
   "source": []
  },
  {
   "cell_type": "code",
   "execution_count": 30,
   "id": "9789ef59",
   "metadata": {},
   "outputs": [
    {
     "data": {
      "text/plain": [
       "<sqlite3.Cursor at 0x2171ec219d0>"
      ]
     },
     "execution_count": 30,
     "metadata": {},
     "output_type": "execute_result"
    }
   ],
   "source": [
    "cursor.execute(\"SELECT * FROM S_marks5\")"
   ]
  },
  {
   "cell_type": "code",
   "execution_count": 28,
   "id": "a5ac6642",
   "metadata": {},
   "outputs": [
    {
     "data": {
      "text/plain": [
       "[(1, 'sachin', 'satish', 490, 98, 1),\n",
       " (2, 'rohit', 'ajay', 400, 80, 10),\n",
       " (3, 'sahil', 'ajad', 380, 76, 14),\n",
       " (4, 'vishal', 'sachin', 420, 84, 8),\n",
       " (5, 'monit', 'krishan', 460, 92, 5)]"
      ]
     },
     "execution_count": 28,
     "metadata": {},
     "output_type": "execute_result"
    }
   ],
   "source": [
    "# show all data inserted\n",
    "cursor.fetchall()"
   ]
  },
  {
   "cell_type": "code",
   "execution_count": 31,
   "id": "885885b9",
   "metadata": {},
   "outputs": [
    {
     "name": "stdout",
     "output_type": "stream",
     "text": [
      "(1, 'sachin', 'satish', 490, 98, 1)\n",
      "(2, 'rohit', 'ajay', 400, 80, 10)\n",
      "(3, 'sahil', 'ajad', 380, 76, 14)\n",
      "(4, 'vishal', 'sachin', 420, 84, 8)\n",
      "(5, 'monit', 'krishan', 460, 92, 5)\n"
     ]
    }
   ],
   "source": [
    "record=cursor.fetchall()\n",
    "for x in record:\n",
    "    print(x)"
   ]
  },
  {
   "cell_type": "code",
   "execution_count": 32,
   "id": "66ecc9cd",
   "metadata": {},
   "outputs": [
    {
     "data": {
      "text/plain": [
       "[(1, 'sachin', 'satish', 490, 98, 1),\n",
       " (2, 'rohit', 'ajay', 400, 80, 10),\n",
       " (3, 'sahil', 'ajad', 380, 76, 14),\n",
       " (4, 'vishal', 'sachin', 420, 84, 8),\n",
       " (5, 'monit', 'krishan', 460, 92, 5)]"
      ]
     },
     "execution_count": 32,
     "metadata": {},
     "output_type": "execute_result"
    }
   ],
   "source": [
    "record"
   ]
  },
  {
   "cell_type": "code",
   "execution_count": 36,
   "id": "216f8d56",
   "metadata": {},
   "outputs": [
    {
     "name": "stdout",
     "output_type": "stream",
     "text": [
      "(1,)\n",
      "(2,)\n",
      "(3,)\n",
      "(4,)\n",
      "(5,)\n"
     ]
    }
   ],
   "source": [
    "#fetch all rool no\n",
    "data=cursor.execute(\"SELECT roll_no FROM S_marks5\")\n",
    "for x in data:\n",
    "    print(x)"
   ]
  },
  {
   "cell_type": "code",
   "execution_count": 37,
   "id": "5c47c7f3",
   "metadata": {},
   "outputs": [
    {
     "data": {
      "text/plain": [
       "[(1,), (2,), (3,), (4,), (5,)]"
      ]
     },
     "execution_count": 37,
     "metadata": {},
     "output_type": "execute_result"
    }
   ],
   "source": [
    "data=cursor.execute(\"SELECT roll_no FROM S_marks5\")\n",
    "data.fetchall()"
   ]
  },
  {
   "cell_type": "code",
   "execution_count": 42,
   "id": "e5a41ead",
   "metadata": {},
   "outputs": [
    {
     "name": "stdout",
     "output_type": "stream",
     "text": [
      "('sachin',)\n",
      "('rohit',)\n",
      "('sahil',)\n",
      "('vishal',)\n",
      "('monit',)\n"
     ]
    }
   ],
   "source": [
    "name=cursor.execute(\"SELECT s_name FROM S_marks5\")\n",
    "for x in name:\n",
    "    print(x)\n"
   ]
  },
  {
   "cell_type": "markdown",
   "id": "a2322260",
   "metadata": {},
   "source": [
    "# where"
   ]
  },
  {
   "cell_type": "code",
   "execution_count": 6,
   "id": "a9397842",
   "metadata": {},
   "outputs": [
    {
     "data": {
      "text/plain": [
       "(1, 'sachin', 'satish', 490, 98, 1)"
      ]
     },
     "execution_count": 6,
     "metadata": {},
     "output_type": "execute_result"
    }
   ],
   "source": [
    "cursor.execute(\"SELECT * FROM S_marks5 where s_name='sachin'\")\n",
    "cursor.fetchone()"
   ]
  },
  {
   "cell_type": "code",
   "execution_count": 8,
   "id": "692bb4ca",
   "metadata": {},
   "outputs": [
    {
     "data": {
      "text/plain": [
       "[(5, 'monit', 'krishan', 460, 92, 5)]"
      ]
     },
     "execution_count": 8,
     "metadata": {},
     "output_type": "execute_result"
    }
   ],
   "source": [
    "cursor.execute(\"SELECT * from S_marks5 where s_name='monit'\")\n",
    "cursor.fetchall()"
   ]
  },
  {
   "cell_type": "code",
   "execution_count": 9,
   "id": "66e76890",
   "metadata": {},
   "outputs": [
    {
     "data": {
      "text/plain": [
       "[(1, 'sachin', 'satish', 490, 98, 1), (5, 'monit', 'krishan', 460, 92, 5)]"
      ]
     },
     "execution_count": 9,
     "metadata": {},
     "output_type": "execute_result"
    }
   ],
   "source": [
    "cursor.execute(\"SELECT * FROM s_marks5 where percentage>90\")\n",
    "cursor.fetchall()"
   ]
  },
  {
   "cell_type": "code",
   "execution_count": 10,
   "id": "bcfbb599",
   "metadata": {},
   "outputs": [
    {
     "data": {
      "text/plain": [
       "[(1, 'sachin', 'satish', 490, 98, 1)]"
      ]
     },
     "execution_count": 10,
     "metadata": {},
     "output_type": "execute_result"
    }
   ],
   "source": [
    "cursor.execute(\"SELECT * FROM S_marks5 where rank <5\")\n",
    "cursor.fetchall()"
   ]
  },
  {
   "cell_type": "code",
   "execution_count": 11,
   "id": "5875eb96",
   "metadata": {},
   "outputs": [
    {
     "data": {
      "text/plain": [
       "[(92,)]"
      ]
     },
     "execution_count": 11,
     "metadata": {},
     "output_type": "execute_result"
    }
   ],
   "source": [
    "cursor.execute(\"SELECT percentage FROM S_marks5 where s_name='monit'\")\n",
    "cursor.fetchall()"
   ]
  },
  {
   "cell_type": "raw",
   "id": "f31ed8df",
   "metadata": {},
   "source": []
  },
  {
   "cell_type": "code",
   "execution_count": 12,
   "id": "213c81a9",
   "metadata": {},
   "outputs": [
    {
     "data": {
      "text/plain": [
       "[(92,)]"
      ]
     },
     "execution_count": 12,
     "metadata": {},
     "output_type": "execute_result"
    }
   ],
   "source": [
    "x=cursor.execute(\"SELECT percentage FROM S_marks5 where s_name='monit'\")\n",
    "x.fetchall()"
   ]
  },
  {
   "cell_type": "code",
   "execution_count": 18,
   "id": "6c15a6dd",
   "metadata": {},
   "outputs": [
    {
     "data": {
      "text/plain": [
       "[(1, 'sachin', 'satish', 490, 98, 1),\n",
       " (3, 'sahil', 'ajad', 380, 76, 14),\n",
       " (4, 'vishal', 'sachin', 420, 84, 8)]"
      ]
     },
     "execution_count": 18,
     "metadata": {},
     "output_type": "execute_result"
    }
   ],
   "source": [
    "cursor.execute(\"SELECT* FROM S_marks5 where s_name like '%a%'\")\n",
    "cursor.fetchall()"
   ]
  },
  {
   "cell_type": "code",
   "execution_count": 19,
   "id": "00021bf3",
   "metadata": {},
   "outputs": [
    {
     "data": {
      "text/plain": [
       "[(1, 'sachin', 'satish', 490, 98, 1), (3, 'sahil', 'ajad', 380, 76, 14)]"
      ]
     },
     "execution_count": 19,
     "metadata": {},
     "output_type": "execute_result"
    }
   ],
   "source": [
    "cursor.execute(\"SELECT* FROM S_marks5 where s_name like '_a%'\")\n",
    "cursor.fetchall()"
   ]
  },
  {
   "cell_type": "markdown",
   "id": "da587888",
   "metadata": {},
   "source": [
    "# order by"
   ]
  },
  {
   "cell_type": "code",
   "execution_count": 20,
   "id": "00f76066",
   "metadata": {},
   "outputs": [
    {
     "data": {
      "text/plain": [
       "[(5, 'monit', 'krishan', 460, 92, 5),\n",
       " (2, 'rohit', 'ajay', 400, 80, 10),\n",
       " (1, 'sachin', 'satish', 490, 98, 1),\n",
       " (3, 'sahil', 'ajad', 380, 76, 14),\n",
       " (4, 'vishal', 'sachin', 420, 84, 8)]"
      ]
     },
     "execution_count": 20,
     "metadata": {},
     "output_type": "execute_result"
    }
   ],
   "source": [
    "cursor.execute(\"SELECT * FROM S_marks5 order by s_name\")\n",
    "cursor.fetchall()\n",
    "\n"
   ]
  },
  {
   "cell_type": "code",
   "execution_count": 21,
   "id": "a70f2b9f",
   "metadata": {},
   "outputs": [
    {
     "data": {
      "text/plain": [
       "[(1, 'sachin', 'satish', 490, 98, 1),\n",
       " (5, 'monit', 'krishan', 460, 92, 5),\n",
       " (4, 'vishal', 'sachin', 420, 84, 8),\n",
       " (2, 'rohit', 'ajay', 400, 80, 10),\n",
       " (3, 'sahil', 'ajad', 380, 76, 14)]"
      ]
     },
     "execution_count": 21,
     "metadata": {},
     "output_type": "execute_result"
    }
   ],
   "source": [
    "cursor.execute(\"SELECT * FROM S_marks5 order by rank\")\n",
    "cursor.fetchall()"
   ]
  },
  {
   "cell_type": "markdown",
   "id": "a1371c07",
   "metadata": {},
   "source": [
    "# delete data"
   ]
  },
  {
   "cell_type": "code",
   "execution_count": 24,
   "id": "c04c5593",
   "metadata": {},
   "outputs": [
    {
     "data": {
      "text/plain": [
       "[]"
      ]
     },
     "execution_count": 24,
     "metadata": {},
     "output_type": "execute_result"
    }
   ],
   "source": [
    "cursor.execute(\"DELETE FROM S_marks5 where s_name='vishal'\")\n",
    "cursor.fetchall()"
   ]
  },
  {
   "cell_type": "code",
   "execution_count": 26,
   "id": "4c9e572f",
   "metadata": {},
   "outputs": [
    {
     "data": {
      "text/plain": [
       "[(1, 'sachin', 'satish', 490, 98, 1),\n",
       " (2, 'rohit', 'ajay', 400, 80, 10),\n",
       " (3, 'sahil', 'ajad', 380, 76, 14),\n",
       " (5, 'monit', 'krishan', 460, 92, 5)]"
      ]
     },
     "execution_count": 26,
     "metadata": {},
     "output_type": "execute_result"
    }
   ],
   "source": [
    "cursor.execute(\"SELECT * FROM S_marks5\")\n",
    "cursor.fetchall()"
   ]
  },
  {
   "cell_type": "markdown",
   "id": "26899d64",
   "metadata": {},
   "source": [
    "# update table"
   ]
  },
  {
   "cell_type": "code",
   "execution_count": 28,
   "id": "2d231cfd",
   "metadata": {},
   "outputs": [
    {
     "data": {
      "text/plain": [
       "[]"
      ]
     },
     "execution_count": 28,
     "metadata": {},
     "output_type": "execute_result"
    }
   ],
   "source": [
    "cursor.execute(\"UPDATE  S_marks5 SET f_name='ajay' where f_name ='ajad'\")\n",
    "db.commit()\n",
    "cursor.fetchall()"
   ]
  },
  {
   "cell_type": "code",
   "execution_count": 29,
   "id": "d53ec2ab",
   "metadata": {},
   "outputs": [
    {
     "data": {
      "text/plain": [
       "[(1, 'sachin', 'satish', 490, 98, 1),\n",
       " (2, 'rohit', 'ajay', 400, 80, 10),\n",
       " (3, 'sahil', 'ajay', 380, 76, 14),\n",
       " (5, 'monit', 'krishan', 460, 92, 5)]"
      ]
     },
     "execution_count": 29,
     "metadata": {},
     "output_type": "execute_result"
    }
   ],
   "source": [
    "cursor.execute(\"SELECT * FROM S_marks5\")\n",
    "cursor.fetchall()"
   ]
  },
  {
   "cell_type": "markdown",
   "id": "e52a7ada",
   "metadata": {},
   "source": [
    "# Limit the Result\n",
    "You can limit the number of records returned from the query, by using the \"LIMIT\" statement:\n",
    "\n"
   ]
  },
  {
   "cell_type": "code",
   "execution_count": 33,
   "id": "feed53df",
   "metadata": {},
   "outputs": [
    {
     "data": {
      "text/plain": [
       "[(1, 'sachin', 'satish', 490, 98, 1), (2, 'rohit', 'ajay', 400, 80, 10)]"
      ]
     },
     "execution_count": 33,
     "metadata": {},
     "output_type": "execute_result"
    }
   ],
   "source": [
    "cursor.execute(\"SELECT * FROM S_marks5 LIMIT 2\")\n",
    "cursor.fetchall()"
   ]
  },
  {
   "cell_type": "code",
   "execution_count": 35,
   "id": "5b75833f",
   "metadata": {},
   "outputs": [],
   "source": [
    "#Start From Another Position\n",
    "#If you want to return five records, starting from the third record, you can use the \"OFFSET\" keyword:"
   ]
  },
  {
   "cell_type": "code",
   "execution_count": 36,
   "id": "bf750d43",
   "metadata": {},
   "outputs": [
    {
     "data": {
      "text/plain": [
       "[(2, 'rohit', 'ajay', 400, 80, 10),\n",
       " (3, 'sahil', 'ajay', 380, 76, 14),\n",
       " (5, 'monit', 'krishan', 460, 92, 5)]"
      ]
     },
     "execution_count": 36,
     "metadata": {},
     "output_type": "execute_result"
    }
   ],
   "source": [
    "cursor.execute(\"SELECT * FROM S_marks5 LIMIT 4 OFFSET 1\")\n",
    "cursor.fetchall()"
   ]
  },
  {
   "cell_type": "code",
   "execution_count": 40,
   "id": "098e79e9",
   "metadata": {},
   "outputs": [
    {
     "data": {
      "text/plain": [
       "[(98,)]"
      ]
     },
     "execution_count": 40,
     "metadata": {},
     "output_type": "execute_result"
    }
   ],
   "source": [
    "# select min or max\n",
    "cursor.execute(\"SELECT max(percentage) from S_marks5  \")\n",
    "cursor.fetchall()"
   ]
  },
  {
   "cell_type": "code",
   "execution_count": 41,
   "id": "4dcc4155",
   "metadata": {},
   "outputs": [
    {
     "data": {
      "text/plain": [
       "[(14,)]"
      ]
     },
     "execution_count": 41,
     "metadata": {},
     "output_type": "execute_result"
    }
   ],
   "source": [
    "cursor.execute(\"SELECT max(rank) from S_marks5  \")\n",
    "cursor.fetchall()"
   ]
  },
  {
   "cell_type": "code",
   "execution_count": 42,
   "id": "e0975bc6",
   "metadata": {},
   "outputs": [
    {
     "data": {
      "text/plain": [
       "[('sahil',)]"
      ]
     },
     "execution_count": 42,
     "metadata": {},
     "output_type": "execute_result"
    }
   ],
   "source": [
    "cursor.execute(\"SELECT max(s_name) from S_marks5  \")\n",
    "cursor.fetchall()"
   ]
  },
  {
   "cell_type": "code",
   "execution_count": 44,
   "id": "e345e45d",
   "metadata": {},
   "outputs": [
    {
     "data": {
      "text/plain": [
       "[(86.5,)]"
      ]
     },
     "execution_count": 44,
     "metadata": {},
     "output_type": "execute_result"
    }
   ],
   "source": [
    "# sum ,avg\n",
    "cursor.execute(\"SELECT AVG(percentage) from S_marks5\")\n",
    "cursor.fetchall()"
   ]
  },
  {
   "cell_type": "code",
   "execution_count": 45,
   "id": "df398c45",
   "metadata": {},
   "outputs": [
    {
     "data": {
      "text/plain": [
       "[(346,)]"
      ]
     },
     "execution_count": 45,
     "metadata": {},
     "output_type": "execute_result"
    }
   ],
   "source": [
    "cursor.execute(\"SELECT SUM(percentage) from S_marks5\")\n",
    "cursor.fetchall()"
   ]
  },
  {
   "cell_type": "code",
   "execution_count": 48,
   "id": "4818f4e9",
   "metadata": {},
   "outputs": [
    {
     "data": {
      "text/plain": [
       "[(432.5,)]"
      ]
     },
     "execution_count": 48,
     "metadata": {},
     "output_type": "execute_result"
    }
   ],
   "source": [
    "cursor.execute(\"SELECT AVG(total_marks) from S_marks5\")\n",
    "cursor.fetchall()"
   ]
  },
  {
   "cell_type": "code",
   "execution_count": null,
   "id": "e55dbeef",
   "metadata": {},
   "outputs": [],
   "source": []
  }
 ],
 "metadata": {
  "kernelspec": {
   "display_name": "Python 3 (ipykernel)",
   "language": "python",
   "name": "python3"
  },
  "language_info": {
   "codemirror_mode": {
    "name": "ipython",
    "version": 3
   },
   "file_extension": ".py",
   "mimetype": "text/x-python",
   "name": "python",
   "nbconvert_exporter": "python",
   "pygments_lexer": "ipython3",
   "version": "3.9.13"
  }
 },
 "nbformat": 4,
 "nbformat_minor": 5
}
