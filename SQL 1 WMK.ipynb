{
 "cells": [
  {
   "cell_type": "markdown",
   "id": "02254ea1-e269-4a0c-a03f-f9cf045802d1",
   "metadata": {
    "jp-MarkdownHeadingCollapsed": true
   },
   "source": [
    "# What is Database?\n",
    "A database is an organized collection of data, stored and retrieved digitally from a\n",
    "remote or local computer system.\n",
    "\n",
    "Databases can be vast and complex, and such\n",
    "databases are developed using fixed design and modeling approaches.\n",
    "\n",
    "---------------------------------------------------------------------------------------------------------\n",
    "\n",
    "#   What is DBMS?\n",
    "DBMS stands for Database Management System. DBMS is a system software responsible for the creation, retrieval, updation, and management of the database.\n",
    "\n",
    "It\n",
    "ensures that our data is consistent, organized, and is easily accessible by serving as\n",
    "an interface between the database and its end-users or application software.\n",
    "\n",
    "---------------------------------------------------------------------------------------------------------\n",
    "\n",
    "#  What is RDBMS? How is it different from DBMS?\n",
    "RDBMS stands for Relational Database Management System. \n",
    "\n",
    "The key difference here,\n",
    "compared to DBMS, is that RDBMS stores data in the form of a collection of tables,\n",
    "and relations can be defined between the common fields of these tables.\n",
    "\n",
    "Most\n",
    "modern database management systems like MySQL, Microsoft SQL Server, Oracle,\n",
    "IBM DB2, and Amazon Redshift based on RDBMS.\n",
    "\n",
    "---------------------------------------------------------------------------------------------------------\n",
    "\n",
    "# What is SQL?\n",
    "SQL stands for Structured Query Language. It is the standard language for relational\n",
    "database management systems. \n",
    "\n",
    "It is especially useful in handling organized data\n",
    "comprised of entities (variables) and relations between different entities of the data.\n",
    "\n",
    "\n",
    "\n",
    "#  What are Tables and Fields?\n",
    "A table is an organized collection of data stored in the form of rows and columns.\n",
    "\n",
    "Columns can be categorized as vertical and rows as horizontal. The columns in a\n",
    "table are called fields while the rows can be referred to as records.\n",
    "\n",
    "```````````````````````````````````````````````````````````````````````````````````````````````````````````````````"
   ]
  },
  {
   "cell_type": "code",
   "execution_count": null,
   "id": "ceeb58e2-c9c4-4b3e-8a09-e594f9a997fe",
   "metadata": {},
   "outputs": [],
   "source": []
  },
  {
   "cell_type": "markdown",
   "id": "ba2f110f-c24d-45ef-b0d2-f8da64711282",
   "metadata": {},
   "source": [
    "# Importance of MYSQL in Data science\n",
    "\n",
    "\n",
    "-  Data Storage and Management:\n",
    "\n",
    "MySQL provides a robust platform for storing and managing structured data. In data science, where large volumes of data are generated and analyzed, having a reliable database management system is essential for organizing and accessing data efficiently.\n",
    "\n",
    "-  Data Acquisition:\n",
    "\n",
    "MySQL can serve as a central repository for various types of data, including structured, semi-structured, and even unstructured data. Data scientists often need to access and integrate data from multiple sources, and MySQL facilitates this process by allowing seamless data ingestion.\n",
    "\n",
    "-  Data Exploration and Analysis: \n",
    "\n",
    "MySQL supports SQL (Structured Query Language), which is a powerful language for querying and analyzing data. Data scientists can leverage SQL queries to explore datasets, perform aggregations, filter data, and derive meaningful insights directly from the database.\n",
    "\n",
    "-  Integration with Data Science Tools:\n",
    "\n",
    "Many data science tools and libraries, such as Python's pandas and R's dplyr, provide connectors and interfaces to interact with MySQL databases. This enables data scientists to seamlessly integrate MySQL into their data analysis workflows and leverage the full capabilities of both SQL and their preferred data science tools.\n",
    "\n",
    "-  Scalability and Performance: \n",
    "\n",
    "\n",
    "MySQL is designed to handle large-scale datasets and high-volume transactional workloads. With proper optimization and configuration, MySQL can offer excellent performance for data retrieval and processing tasks, making it suitable for data-intensive applications in data science.\n",
    "\n",
    "-  Data Warehousing:\n",
    "\n",
    "MySQL can be used as part of a data warehousing solution, where historical and aggregated data are stored for analysis and reporting purposes. Data scientists can build data marts or data warehouses on top of MySQL to facilitate complex analytics and decision-making processes.\n",
    "\n",
    "\n",
    "\n",
    "-  Security and Reliability:\n",
    "\n",
    "MySQL provides features for data security, access control, and data integrity, ensuring that sensitive information is protected and that data remains consistent and reliable. This is particularly important in data science projects where data privacy and compliance are critical considerations.\n",
    "\n",
    "# What are Constraints in SQL?\n",
    "Constraints are used to specify the rules concerning data in the table. \n",
    "\n",
    "It can be\n",
    "applied for single or multiple fields in an SQL table during the creation of the table or after creating using the ALTER TABLE command. \n",
    "\n",
    "The constraints are:\n",
    "\n",
    "\n",
    "NOT NULL - Restricts NULL value from being inserted into a column\n",
    "\n",
    "\n",
    "CHECK - Verifies that all values in a field satisfy a condition.\n",
    "\n",
    "\n",
    "DEFAULT - Automatically assigns a default value if no value has been specified\n",
    "for the field.\n",
    "\n",
    "\n",
    "UNIQUE - Ensures unique values to be inserted into the field.\n",
    "\n",
    "\n",
    "INDEX - Indexes a field providing faster retrieval of records.\n",
    "\n",
    "\n",
    "PRIMARY KEY - Uniquely identifies each record in a table.\n",
    "\n",
    "\n",
    "FOREIGN KEY - Ensures referential integrity for a record in another table.\n",
    "\n",
    "\n",
    "#  cursor\n",
    "\n",
    " A cursor allows you to execute SQL queries, fetch data from the result sets, and perform various operations on the database.\n",
    "\n",
    "# Data Types in SQL\n",
    "\n",
    "Numeric: Whole numbers (e.g., INT) and decimals (FLOAT).\n",
    "\n",
    "Character: Text (e.g., VARCHAR for variable-length).\n",
    "\n",
    "Date and Time: Dates (DATE) and timestamps (DATETIME).\n",
    "\n",
    "# Basic components\n",
    "\n",
    "DDL (Data Definition Language): Defines database structure (e.g., CREATE TABLE).\n",
    "\n",
    "DML (Data Manipulation Language): Works with data (e.g., INSERT, UPDATE).\n",
    "\n",
    "DQL (Data Query Language): Queries data (SELECT).\n",
    "\n",
    "DCL (Data Control Language): Controls access (GRANT, REVOKE).\n",
    "\n",
    "TCL (Transaction Control Language): Manages changes (COMMIT, ROLLBACK)."
   ]
  },
  {
   "cell_type": "code",
   "execution_count": 2,
   "id": "9f740777-4a51-4d55-beb4-21cf4d2ac910",
   "metadata": {},
   "outputs": [],
   "source": [
    "# import library\n",
    "import sqlite3"
   ]
  },
  {
   "cell_type": "code",
   "execution_count": 6,
   "id": "56233503-af2c-401c-ab49-f7da90da9968",
   "metadata": {},
   "outputs": [],
   "source": [
    "# connect a database\n",
    "db=sqlite3.connect(\"student3.db\")"
   ]
  },
  {
   "cell_type": "code",
   "execution_count": 7,
   "id": "99eedf98-8b15-4d27-a9f5-1f8fb55587bb",
   "metadata": {},
   "outputs": [],
   "source": [
    "cursor=db.cursor()    # cursor"
   ]
  },
  {
   "cell_type": "raw",
   "id": "ec7f62c0-5b57-48e8-83eb-fa690ed33405",
   "metadata": {},
   "source": []
  },
  {
   "cell_type": "code",
   "execution_count": 8,
   "id": "c555f292-64ab-489a-82fa-6b1bb5a0d53e",
   "metadata": {},
   "outputs": [
    {
     "data": {
      "text/plain": [
       "<sqlite3.Cursor at 0x1e6e87db240>"
      ]
     },
     "execution_count": 8,
     "metadata": {},
     "output_type": "execute_result"
    }
   ],
   "source": [
    "cursor.execute(\"CREATE TABLE student_data1(roll_no INT PRIMARY KEY, name TEXT, total_marks INT, rank INT)\")"
   ]
  },
  {
   "cell_type": "code",
   "execution_count": 9,
   "id": "d8c3bca3-4215-4092-840a-e3f7fc2fa331",
   "metadata": {
    "scrolled": true
   },
   "outputs": [
    {
     "data": {
      "text/plain": [
       "<sqlite3.Cursor at 0x1e6e87db240>"
      ]
     },
     "execution_count": 9,
     "metadata": {},
     "output_type": "execute_result"
    }
   ],
   "source": [
    "# insert data in table \n",
    "cursor.execute(\"INSERT INTO student_data1(roll_no,name,total_marks,rank) values(21, 'rohit',400,15),(2,'ajay',350,20),(3,'aakash',420,12),(4,'akash',410,13),(5,'sahil',440,8),(6,'vipul',340,21),(7,'nikhil',400,15),(8,'abhishek',450,7),(9,'ekta',408,14),(10,'sachin',460,5),(11,'simran',330,22),(12,'nancy',400,15),(13,'ayushi',330,22),(14,'mohit',480,2),(15,'rahul',485,1),(16,'deepika',250,27),(17,'deepak',290,24),(18,'mohit',395,16),(19,'abhisheek',288,24),(20,'navdeep',435,9)\")"
   ]
  },
  {
   "cell_type": "code",
   "execution_count": 10,
   "id": "374081cd-a312-4c73-b22d-0a6df33bfbf4",
   "metadata": {},
   "outputs": [],
   "source": [
    "#save data\n",
    "db.commit()"
   ]
  },
  {
   "cell_type": "code",
   "execution_count": 11,
   "id": "13f1bf3a-3935-4923-b87b-c2386eaae3b8",
   "metadata": {},
   "outputs": [
    {
     "data": {
      "text/plain": [
       "(20, 'rows inserted')"
      ]
     },
     "execution_count": 11,
     "metadata": {},
     "output_type": "execute_result"
    }
   ],
   "source": [
    "cursor.rowcount,\"rows inserted\""
   ]
  },
  {
   "cell_type": "code",
   "execution_count": 8,
   "id": "08f2ee60-6c67-40c6-b684-e96fd0dabc24",
   "metadata": {},
   "outputs": [
    {
     "data": {
      "text/html": [
       "<div>\n",
       "<style scoped>\n",
       "    .dataframe tbody tr th:only-of-type {\n",
       "        vertical-align: middle;\n",
       "    }\n",
       "\n",
       "    .dataframe tbody tr th {\n",
       "        vertical-align: top;\n",
       "    }\n",
       "\n",
       "    .dataframe thead th {\n",
       "        text-align: right;\n",
       "    }\n",
       "</style>\n",
       "<table border=\"1\" class=\"dataframe\">\n",
       "  <thead>\n",
       "    <tr style=\"text-align: right;\">\n",
       "      <th></th>\n",
       "      <th>roll_no</th>\n",
       "      <th>name</th>\n",
       "      <th>total_marks</th>\n",
       "      <th>rank</th>\n",
       "    </tr>\n",
       "  </thead>\n",
       "  <tbody>\n",
       "    <tr>\n",
       "      <th>0</th>\n",
       "      <td>21</td>\n",
       "      <td>rohit</td>\n",
       "      <td>400</td>\n",
       "      <td>15</td>\n",
       "    </tr>\n",
       "    <tr>\n",
       "      <th>1</th>\n",
       "      <td>2</td>\n",
       "      <td>ajay</td>\n",
       "      <td>350</td>\n",
       "      <td>20</td>\n",
       "    </tr>\n",
       "    <tr>\n",
       "      <th>2</th>\n",
       "      <td>3</td>\n",
       "      <td>aakash</td>\n",
       "      <td>420</td>\n",
       "      <td>12</td>\n",
       "    </tr>\n",
       "    <tr>\n",
       "      <th>3</th>\n",
       "      <td>4</td>\n",
       "      <td>akash</td>\n",
       "      <td>410</td>\n",
       "      <td>13</td>\n",
       "    </tr>\n",
       "    <tr>\n",
       "      <th>4</th>\n",
       "      <td>5</td>\n",
       "      <td>sahil</td>\n",
       "      <td>440</td>\n",
       "      <td>8</td>\n",
       "    </tr>\n",
       "    <tr>\n",
       "      <th>5</th>\n",
       "      <td>6</td>\n",
       "      <td>vipul</td>\n",
       "      <td>340</td>\n",
       "      <td>21</td>\n",
       "    </tr>\n",
       "    <tr>\n",
       "      <th>6</th>\n",
       "      <td>7</td>\n",
       "      <td>nikhil</td>\n",
       "      <td>400</td>\n",
       "      <td>15</td>\n",
       "    </tr>\n",
       "    <tr>\n",
       "      <th>7</th>\n",
       "      <td>8</td>\n",
       "      <td>abhishek</td>\n",
       "      <td>450</td>\n",
       "      <td>7</td>\n",
       "    </tr>\n",
       "    <tr>\n",
       "      <th>8</th>\n",
       "      <td>9</td>\n",
       "      <td>ekta</td>\n",
       "      <td>408</td>\n",
       "      <td>14</td>\n",
       "    </tr>\n",
       "    <tr>\n",
       "      <th>9</th>\n",
       "      <td>10</td>\n",
       "      <td>sachin</td>\n",
       "      <td>460</td>\n",
       "      <td>5</td>\n",
       "    </tr>\n",
       "    <tr>\n",
       "      <th>10</th>\n",
       "      <td>11</td>\n",
       "      <td>simran</td>\n",
       "      <td>330</td>\n",
       "      <td>22</td>\n",
       "    </tr>\n",
       "    <tr>\n",
       "      <th>11</th>\n",
       "      <td>12</td>\n",
       "      <td>nancy</td>\n",
       "      <td>400</td>\n",
       "      <td>15</td>\n",
       "    </tr>\n",
       "    <tr>\n",
       "      <th>12</th>\n",
       "      <td>13</td>\n",
       "      <td>ayushi</td>\n",
       "      <td>330</td>\n",
       "      <td>22</td>\n",
       "    </tr>\n",
       "    <tr>\n",
       "      <th>13</th>\n",
       "      <td>14</td>\n",
       "      <td>mohit</td>\n",
       "      <td>480</td>\n",
       "      <td>2</td>\n",
       "    </tr>\n",
       "    <tr>\n",
       "      <th>14</th>\n",
       "      <td>15</td>\n",
       "      <td>rahul</td>\n",
       "      <td>485</td>\n",
       "      <td>1</td>\n",
       "    </tr>\n",
       "    <tr>\n",
       "      <th>15</th>\n",
       "      <td>16</td>\n",
       "      <td>deepika</td>\n",
       "      <td>250</td>\n",
       "      <td>27</td>\n",
       "    </tr>\n",
       "    <tr>\n",
       "      <th>16</th>\n",
       "      <td>17</td>\n",
       "      <td>deepak</td>\n",
       "      <td>290</td>\n",
       "      <td>24</td>\n",
       "    </tr>\n",
       "    <tr>\n",
       "      <th>17</th>\n",
       "      <td>18</td>\n",
       "      <td>mohit</td>\n",
       "      <td>395</td>\n",
       "      <td>16</td>\n",
       "    </tr>\n",
       "    <tr>\n",
       "      <th>18</th>\n",
       "      <td>19</td>\n",
       "      <td>abhisheek</td>\n",
       "      <td>288</td>\n",
       "      <td>24</td>\n",
       "    </tr>\n",
       "    <tr>\n",
       "      <th>19</th>\n",
       "      <td>20</td>\n",
       "      <td>navdeep</td>\n",
       "      <td>435</td>\n",
       "      <td>9</td>\n",
       "    </tr>\n",
       "  </tbody>\n",
       "</table>\n",
       "</div>"
      ],
      "text/plain": [
       "    roll_no       name  total_marks  rank\n",
       "0        21      rohit          400    15\n",
       "1         2       ajay          350    20\n",
       "2         3     aakash          420    12\n",
       "3         4      akash          410    13\n",
       "4         5      sahil          440     8\n",
       "5         6      vipul          340    21\n",
       "6         7     nikhil          400    15\n",
       "7         8   abhishek          450     7\n",
       "8         9       ekta          408    14\n",
       "9        10     sachin          460     5\n",
       "10       11     simran          330    22\n",
       "11       12      nancy          400    15\n",
       "12       13     ayushi          330    22\n",
       "13       14      mohit          480     2\n",
       "14       15      rahul          485     1\n",
       "15       16    deepika          250    27\n",
       "16       17     deepak          290    24\n",
       "17       18      mohit          395    16\n",
       "18       19  abhisheek          288    24\n",
       "19       20    navdeep          435     9"
      ]
     },
     "metadata": {},
     "output_type": "display_data"
    }
   ],
   "source": [
    "import pandas as pd\n",
    "\n",
    "# Step 2: Write the SQL query as a string\n",
    "query = \"SELECT * FROM student_dataa;\"  # Replace with your table name\n",
    "\n",
    "# Step 3: Use pandas to execute the query\n",
    "data = pd.read_sql_query(query, db)\n",
    "\n",
    "# Step 4: Display the data\n",
    "display(data)"
   ]
  },
  {
   "cell_type": "code",
   "execution_count": 94,
   "id": "74b75511-aba5-43a6-9c5b-b2f9f67a4367",
   "metadata": {
    "collapsed": true,
    "jupyter": {
     "outputs_hidden": true
    },
    "scrolled": true
   },
   "outputs": [
    {
     "data": {
      "text/html": [
       "<div>\n",
       "<style scoped>\n",
       "    .dataframe tbody tr th:only-of-type {\n",
       "        vertical-align: middle;\n",
       "    }\n",
       "\n",
       "    .dataframe tbody tr th {\n",
       "        vertical-align: top;\n",
       "    }\n",
       "\n",
       "    .dataframe thead th {\n",
       "        text-align: right;\n",
       "    }\n",
       "</style>\n",
       "<table border=\"1\" class=\"dataframe\">\n",
       "  <thead>\n",
       "    <tr style=\"text-align: right;\">\n",
       "      <th></th>\n",
       "      <th>roll_no</th>\n",
       "      <th>name</th>\n",
       "    </tr>\n",
       "  </thead>\n",
       "  <tbody>\n",
       "    <tr>\n",
       "      <th>0</th>\n",
       "      <td>21</td>\n",
       "      <td>rohit</td>\n",
       "    </tr>\n",
       "    <tr>\n",
       "      <th>1</th>\n",
       "      <td>2</td>\n",
       "      <td>sunny</td>\n",
       "    </tr>\n",
       "    <tr>\n",
       "      <th>2</th>\n",
       "      <td>3</td>\n",
       "      <td>aakash</td>\n",
       "    </tr>\n",
       "    <tr>\n",
       "      <th>3</th>\n",
       "      <td>4</td>\n",
       "      <td>akash</td>\n",
       "    </tr>\n",
       "    <tr>\n",
       "      <th>4</th>\n",
       "      <td>5</td>\n",
       "      <td>sahil</td>\n",
       "    </tr>\n",
       "    <tr>\n",
       "      <th>5</th>\n",
       "      <td>6</td>\n",
       "      <td>vipul</td>\n",
       "    </tr>\n",
       "    <tr>\n",
       "      <th>6</th>\n",
       "      <td>7</td>\n",
       "      <td>nikhil</td>\n",
       "    </tr>\n",
       "    <tr>\n",
       "      <th>7</th>\n",
       "      <td>8</td>\n",
       "      <td>abhishek</td>\n",
       "    </tr>\n",
       "    <tr>\n",
       "      <th>8</th>\n",
       "      <td>9</td>\n",
       "      <td>ekta</td>\n",
       "    </tr>\n",
       "    <tr>\n",
       "      <th>9</th>\n",
       "      <td>10</td>\n",
       "      <td>sachin</td>\n",
       "    </tr>\n",
       "    <tr>\n",
       "      <th>10</th>\n",
       "      <td>11</td>\n",
       "      <td>simran</td>\n",
       "    </tr>\n",
       "    <tr>\n",
       "      <th>11</th>\n",
       "      <td>12</td>\n",
       "      <td>nancy</td>\n",
       "    </tr>\n",
       "    <tr>\n",
       "      <th>12</th>\n",
       "      <td>13</td>\n",
       "      <td>ayushi</td>\n",
       "    </tr>\n",
       "    <tr>\n",
       "      <th>13</th>\n",
       "      <td>14</td>\n",
       "      <td>mohit</td>\n",
       "    </tr>\n",
       "    <tr>\n",
       "      <th>14</th>\n",
       "      <td>17</td>\n",
       "      <td>deepak</td>\n",
       "    </tr>\n",
       "    <tr>\n",
       "      <th>15</th>\n",
       "      <td>18</td>\n",
       "      <td>mohit</td>\n",
       "    </tr>\n",
       "    <tr>\n",
       "      <th>16</th>\n",
       "      <td>19</td>\n",
       "      <td>abhisheek</td>\n",
       "    </tr>\n",
       "    <tr>\n",
       "      <th>17</th>\n",
       "      <td>20</td>\n",
       "      <td>navdeep</td>\n",
       "    </tr>\n",
       "    <tr>\n",
       "      <th>18</th>\n",
       "      <td>25</td>\n",
       "      <td>sachinn</td>\n",
       "    </tr>\n",
       "    <tr>\n",
       "      <th>19</th>\n",
       "      <td>26</td>\n",
       "      <td>sachinn</td>\n",
       "    </tr>\n",
       "  </tbody>\n",
       "</table>\n",
       "</div>"
      ],
      "text/plain": [
       "    roll_no       name\n",
       "0        21      rohit\n",
       "1         2      sunny\n",
       "2         3     aakash\n",
       "3         4      akash\n",
       "4         5      sahil\n",
       "5         6      vipul\n",
       "6         7     nikhil\n",
       "7         8   abhishek\n",
       "8         9       ekta\n",
       "9        10     sachin\n",
       "10       11     simran\n",
       "11       12      nancy\n",
       "12       13     ayushi\n",
       "13       14      mohit\n",
       "14       17     deepak\n",
       "15       18      mohit\n",
       "16       19  abhisheek\n",
       "17       20    navdeep\n",
       "18       25    sachinn\n",
       "19       26    sachinn"
      ]
     },
     "metadata": {},
     "output_type": "display_data"
    }
   ],
   "source": [
    "query = \"SELECT roll_no,name FROM student_data\"  \n",
    "data = pd.read_sql_query(query, db)\n",
    "display(data)"
   ]
  },
  {
   "cell_type": "code",
   "execution_count": null,
   "id": "aea28c12-f612-42c7-aa0a-02c4f18e7853",
   "metadata": {},
   "outputs": [],
   "source": []
  },
  {
   "cell_type": "markdown",
   "id": "259bc5d3-18af-4c36-b6b2-7fc3382c471b",
   "metadata": {
    "jp-MarkdownHeadingCollapsed": true
   },
   "source": [
    "# select "
   ]
  },
  {
   "cell_type": "code",
   "execution_count": 11,
   "id": "9a380895-cef5-4916-bfcf-01e1392327da",
   "metadata": {},
   "outputs": [
    {
     "data": {
      "text/plain": [
       "<sqlite3.Cursor at 0x1507ceadd40>"
      ]
     },
     "execution_count": 11,
     "metadata": {},
     "output_type": "execute_result"
    }
   ],
   "source": [
    "cursor.execute(\"SELECT * FROM student_data1\")"
   ]
  },
  {
   "cell_type": "code",
   "execution_count": 12,
   "id": "6bd62bce-06ed-4b90-a921-e949cdc1ca9f",
   "metadata": {},
   "outputs": [
    {
     "data": {
      "text/plain": [
       "[(21, 'rohit', 400, 15),\n",
       " (2, 'ajay', 350, 20),\n",
       " (3, 'aakash', 420, 12),\n",
       " (4, 'akash', 410, 13),\n",
       " (5, 'sahil', 440, 8),\n",
       " (6, 'vipul', 340, 21),\n",
       " (7, 'nikhil', 400, 15),\n",
       " (8, 'abhishek', 450, 7),\n",
       " (9, 'ekta', 408, 14),\n",
       " (10, 'sachin', 460, 5),\n",
       " (11, 'simran', 330, 22),\n",
       " (12, 'nancy', 400, 15),\n",
       " (13, 'ayushi', 330, 22),\n",
       " (14, 'mohit', 480, 2),\n",
       " (15, 'rahul', 485, 1),\n",
       " (16, 'deepika', 250, 27),\n",
       " (17, 'deepak', 290, 24),\n",
       " (18, 'mohit', 395, 16),\n",
       " (19, 'abhisheek', 288, 24),\n",
       " (20, 'navdeep', 435, 9)]"
      ]
     },
     "execution_count": 12,
     "metadata": {},
     "output_type": "execute_result"
    }
   ],
   "source": [
    "# fetch all\n",
    "cursor.fetchall()"
   ]
  },
  {
   "cell_type": "code",
   "execution_count": 13,
   "id": "5dbf2608-56fa-4b05-9f34-c7800ec8059a",
   "metadata": {},
   "outputs": [
    {
     "name": "stdout",
     "output_type": "stream",
     "text": [
      "(2,)\n",
      "(3,)\n",
      "(4,)\n",
      "(5,)\n",
      "(6,)\n",
      "(7,)\n",
      "(8,)\n",
      "(9,)\n",
      "(10,)\n",
      "(11,)\n",
      "(12,)\n",
      "(13,)\n",
      "(14,)\n",
      "(15,)\n",
      "(16,)\n",
      "(17,)\n",
      "(18,)\n",
      "(19,)\n",
      "(20,)\n",
      "(21,)\n"
     ]
    }
   ],
   "source": [
    "x=cursor.execute(\"SELECT roll_no from student_data1\")\n",
    "for y in x:\n",
    "    print(y)"
   ]
  },
  {
   "cell_type": "code",
   "execution_count": 14,
   "id": "76fa9e48-0f82-404a-84b6-85af4559a475",
   "metadata": {},
   "outputs": [
    {
     "name": "stdout",
     "output_type": "stream",
     "text": [
      "[(2,), (3,), (4,), (5,), (6,), (7,), (8,), (9,), (10,), (11,), (12,), (13,), (14,), (15,), (16,), (17,), (18,), (19,), (20,), (21,)]\n"
     ]
    }
   ],
   "source": [
    "cursor.execute(\"SELECT roll_no from student_data1\")\n",
    "roll_no=cursor.fetchall()\n",
    "print(roll_no)"
   ]
  },
  {
   "cell_type": "code",
   "execution_count": 15,
   "id": "292cae9b-c968-4a4e-b0b6-97521bba7b9c",
   "metadata": {},
   "outputs": [
    {
     "name": "stdout",
     "output_type": "stream",
     "text": [
      "('rohit',)\n",
      "('ajay',)\n",
      "('aakash',)\n",
      "('akash',)\n",
      "('sahil',)\n",
      "('vipul',)\n",
      "('nikhil',)\n",
      "('abhishek',)\n",
      "('ekta',)\n",
      "('sachin',)\n",
      "('simran',)\n",
      "('nancy',)\n",
      "('ayushi',)\n",
      "('mohit',)\n",
      "('rahul',)\n",
      "('deepika',)\n",
      "('deepak',)\n",
      "('mohit',)\n",
      "('abhisheek',)\n",
      "('navdeep',)\n"
     ]
    }
   ],
   "source": [
    "# fetch all names\n",
    "names=cursor.execute(\"SELECT name from student_data1\")\n",
    "for x in names:\n",
    "    print(x)"
   ]
  },
  {
   "cell_type": "code",
   "execution_count": 25,
   "id": "1cc456e2-54da-4e12-a429-d7cabae9f8f1",
   "metadata": {},
   "outputs": [
    {
     "name": "stdout",
     "output_type": "stream",
     "text": [
      "[('rohit',), ('ajay',), ('aakash',), ('akash',), ('sahil',), ('vipul',), ('nikhil',), ('abhishek',), ('ekta',), ('sachin',)]\n"
     ]
    }
   ],
   "source": [
    "cursor.execute(\"SELECT name from student_data1\")\n",
    "names=cursor.fetchall()[:10]\n",
    "print(names)"
   ]
  },
  {
   "cell_type": "markdown",
   "id": "67504e42-32aa-4449-b9c7-ff221a1c98e4",
   "metadata": {
    "jp-MarkdownHeadingCollapsed": true
   },
   "source": [
    "# show all tables"
   ]
  },
  {
   "cell_type": "code",
   "execution_count": 24,
   "id": "95be2f28-a5d3-4c58-b230-15536b3d900d",
   "metadata": {},
   "outputs": [
    {
     "data": {
      "text/plain": [
       "[('student_data1',)]"
      ]
     },
     "execution_count": 24,
     "metadata": {},
     "output_type": "execute_result"
    }
   ],
   "source": [
    "cursor.execute(\"SELECT name FROM sqlite_master WHERE type='table'\")\n",
    "tables = cursor.fetchall()\n",
    "tables"
   ]
  },
  {
   "cell_type": "markdown",
   "id": "2e278d98-e933-422e-84e2-6bef764c43ea",
   "metadata": {
    "jp-MarkdownHeadingCollapsed": true
   },
   "source": [
    "# show column present in tables"
   ]
  },
  {
   "cell_type": "code",
   "execution_count": 28,
   "id": "20682b27-0fd3-423c-9816-f45e20862a6f",
   "metadata": {},
   "outputs": [
    {
     "data": {
      "text/plain": [
       "[(0, 'roll_no', 'INT', 0, None, 1),\n",
       " (1, 'name', 'TEXT', 0, None, 0),\n",
       " (2, 'total_marks', 'INT', 0, None, 0),\n",
       " (3, 'rank', 'INT', 0, None, 0)]"
      ]
     },
     "execution_count": 28,
     "metadata": {},
     "output_type": "execute_result"
    }
   ],
   "source": [
    "\n",
    "cursor.execute(\"PRAGMA table_info(student_data1);\")\n",
    "cursor.fetchall()"
   ]
  },
  {
   "cell_type": "raw",
   "id": "6531ff9c-2f5d-49e4-b82a-afa7aae2f535",
   "metadata": {},
   "source": [
    "cid: 0 → This is the first column in the table.\n",
    "name: 'roll_no' → The column is named roll_no.\n",
    "type: 'INT' → The data type of this column is INT (integer).\n",
    "notnull: 0 → This column does not have a NOT NULL constraint.\n",
    "dflt_value: None → There is no default value defined for this column.\n",
    "pk: 1 → This column is the primary key of the table."
   ]
  },
  {
   "cell_type": "code",
   "execution_count": 32,
   "id": "eceea215-66b1-4af6-8cff-33f79ffdde01",
   "metadata": {},
   "outputs": [
    {
     "name": "stdout",
     "output_type": "stream",
     "text": [
      "roll_no\n",
      "name\n",
      "total_marks\n",
      "rank\n"
     ]
    }
   ],
   "source": [
    "cursor.execute(\"PRAGMA table_info(student_data1)\")\n",
    "y=cursor.fetchall()\n",
    "for column in y:\n",
    "    print(column[1])"
   ]
  },
  {
   "cell_type": "code",
   "execution_count": null,
   "id": "33e66f79-37e9-40fb-a414-03fb6a81780b",
   "metadata": {},
   "outputs": [],
   "source": []
  },
  {
   "cell_type": "code",
   "execution_count": null,
   "id": "e3108c00-0810-4ef1-9e81-11bd953aafa2",
   "metadata": {},
   "outputs": [],
   "source": []
  },
  {
   "cell_type": "markdown",
   "id": "d7588931-03f6-4ebb-baf7-6bf08880f5c0",
   "metadata": {
    "jp-MarkdownHeadingCollapsed": true
   },
   "source": [
    "# display specific columns"
   ]
  },
  {
   "cell_type": "code",
   "execution_count": 33,
   "id": "f538992b-b7cc-4722-b350-eda009cb23e2",
   "metadata": {},
   "outputs": [
    {
     "data": {
      "text/plain": [
       "[('rohit', 15),\n",
       " ('ajay', 20),\n",
       " ('aakash', 12),\n",
       " ('akash', 13),\n",
       " ('sahil', 8),\n",
       " ('vipul', 21),\n",
       " ('nikhil', 15),\n",
       " ('abhishek', 7),\n",
       " ('ekta', 14),\n",
       " ('sachin', 5),\n",
       " ('simran', 22),\n",
       " ('nancy', 15),\n",
       " ('ayushi', 22),\n",
       " ('mohit', 2),\n",
       " ('rahul', 1),\n",
       " ('deepika', 27),\n",
       " ('deepak', 24),\n",
       " ('mohit', 16),\n",
       " ('abhisheek', 24),\n",
       " ('navdeep', 9)]"
      ]
     },
     "execution_count": 33,
     "metadata": {},
     "output_type": "execute_result"
    }
   ],
   "source": [
    "cursor.execute(\"SELECT name,rank from student_data1\")\n",
    "cursor.fetchall()"
   ]
  },
  {
   "cell_type": "code",
   "execution_count": 35,
   "id": "ca42a75f-543a-4a13-a73f-2522921f04fd",
   "metadata": {},
   "outputs": [
    {
     "name": "stdout",
     "output_type": "stream",
     "text": [
      "('rohit', 15)\n",
      "('ajay', 20)\n",
      "('aakash', 12)\n",
      "('akash', 13)\n",
      "('sahil', 8)\n"
     ]
    }
   ],
   "source": [
    "cursor.execute(\"SELECT name,rank from student_data1\")\n",
    "x=cursor.fetchall()\n",
    "for names in x[:5]:\n",
    "    print(names)"
   ]
  },
  {
   "cell_type": "code",
   "execution_count": 37,
   "id": "199a1c01-34c5-49fc-aa19-397e83e627ec",
   "metadata": {},
   "outputs": [
    {
     "name": "stdout",
     "output_type": "stream",
     "text": [
      "name: rohit,    rank: 15\n",
      "name: ajay,    rank: 20\n",
      "name: aakash,    rank: 12\n",
      "name: akash,    rank: 13\n",
      "name: sahil,    rank: 8\n",
      "name: vipul,    rank: 21\n",
      "name: nikhil,    rank: 15\n",
      "name: abhishek,    rank: 7\n",
      "name: ekta,    rank: 14\n",
      "name: sachin,    rank: 5\n",
      "name: simran,    rank: 22\n",
      "name: nancy,    rank: 15\n",
      "name: ayushi,    rank: 22\n",
      "name: mohit,    rank: 2\n",
      "name: rahul,    rank: 1\n",
      "name: deepika,    rank: 27\n",
      "name: deepak,    rank: 24\n",
      "name: mohit,    rank: 16\n",
      "name: abhisheek,    rank: 24\n",
      "name: navdeep,    rank: 9\n"
     ]
    }
   ],
   "source": [
    "cursor.execute(\"SELECT name,rank from student_data1\")\n",
    "x=cursor.fetchall()\n",
    "for names in x:\n",
    "    print(f\"name: {names[0]},    rank: {names[1]}\")"
   ]
  },
  {
   "cell_type": "markdown",
   "id": "7ac387d0-c65b-487d-8d00-5b51d1ea9f18",
   "metadata": {
    "jp-MarkdownHeadingCollapsed": true
   },
   "source": [
    "# sorting the data"
   ]
  },
  {
   "cell_type": "code",
   "execution_count": 39,
   "id": "4799c0bb-e6b7-4aaa-8c1f-c43653e9bc26",
   "metadata": {},
   "outputs": [
    {
     "data": {
      "text/plain": [
       "[(15, 'rahul', 485, 1),\n",
       " (14, 'mohit', 480, 2),\n",
       " (10, 'sachin', 460, 5),\n",
       " (8, 'abhishek', 450, 7),\n",
       " (5, 'sahil', 440, 8)]"
      ]
     },
     "execution_count": 39,
     "metadata": {},
     "output_type": "execute_result"
    }
   ],
   "source": [
    "cursor.execute(\"SELECT * from student_data1 ORDER BY rank ASC\")\n",
    "cursor.fetchall()[:5]"
   ]
  },
  {
   "cell_type": "code",
   "execution_count": 40,
   "id": "9af5a825-a9b9-4397-a948-fb04e65565ed",
   "metadata": {},
   "outputs": [
    {
     "data": {
      "text/plain": [
       "[(16, 'deepika', 250, 27),\n",
       " (17, 'deepak', 290, 24),\n",
       " (19, 'abhisheek', 288, 24),\n",
       " (11, 'simran', 330, 22),\n",
       " (13, 'ayushi', 330, 22),\n",
       " (6, 'vipul', 340, 21),\n",
       " (2, 'ajay', 350, 20),\n",
       " (18, 'mohit', 395, 16),\n",
       " (21, 'rohit', 400, 15),\n",
       " (7, 'nikhil', 400, 15),\n",
       " (12, 'nancy', 400, 15),\n",
       " (9, 'ekta', 408, 14),\n",
       " (4, 'akash', 410, 13),\n",
       " (3, 'aakash', 420, 12),\n",
       " (20, 'navdeep', 435, 9),\n",
       " (5, 'sahil', 440, 8),\n",
       " (8, 'abhishek', 450, 7),\n",
       " (10, 'sachin', 460, 5),\n",
       " (14, 'mohit', 480, 2),\n",
       " (15, 'rahul', 485, 1)]"
      ]
     },
     "execution_count": 40,
     "metadata": {},
     "output_type": "execute_result"
    }
   ],
   "source": [
    "cursor.execute(\"SELECT * from student_data1 ORDER BY rank DESC\")\n",
    "cursor.fetchall()"
   ]
  },
  {
   "cell_type": "code",
   "execution_count": 45,
   "id": "350a7e15-be7c-4b85-bdee-022e501b16f1",
   "metadata": {
    "scrolled": true
   },
   "outputs": [
    {
     "data": {
      "text/plain": [
       "[('aakash', 420),\n",
       " ('abhisheek', 288),\n",
       " ('abhishek', 450),\n",
       " ('ajay', 350),\n",
       " ('akash', 410),\n",
       " ('ayushi', 330),\n",
       " ('deepak', 290),\n",
       " ('deepika', 250),\n",
       " ('ekta', 408),\n",
       " ('mohit', 480),\n",
       " ('mohit', 395),\n",
       " ('nancy', 400),\n",
       " ('navdeep', 435),\n",
       " ('nikhil', 400),\n",
       " ('rahul', 485),\n",
       " ('rohit', 400),\n",
       " ('sachin', 460),\n",
       " ('sahil', 440),\n",
       " ('simran', 330),\n",
       " ('vipul', 340)]"
      ]
     },
     "execution_count": 45,
     "metadata": {},
     "output_type": "execute_result"
    }
   ],
   "source": [
    "cursor.execute(\"SELECT name,total_marks from student_data1 ORDER BY name ASC\")\n",
    "cursor.fetchall()"
   ]
  },
  {
   "cell_type": "markdown",
   "id": "494ff84b-636b-49b4-bd51-3e832ff7bf81",
   "metadata": {
    "jp-MarkdownHeadingCollapsed": true
   },
   "source": [
    "# where method"
   ]
  },
  {
   "cell_type": "code",
   "execution_count": 21,
   "id": "52f9a415-7c83-42ef-90aa-de23a01cbf6d",
   "metadata": {},
   "outputs": [
    {
     "data": {
      "text/plain": [
       "[(15, 'rahul', 485, 1)]"
      ]
     },
     "execution_count": 21,
     "metadata": {},
     "output_type": "execute_result"
    }
   ],
   "source": [
    "cursor.execute(\"SELECT * from student_data where name='rahul'\")\n",
    "cursor.fetchall()"
   ]
  },
  {
   "cell_type": "code",
   "execution_count": 23,
   "id": "a467dfab-3c85-4689-822f-f5179caa2e9a",
   "metadata": {},
   "outputs": [
    {
     "data": {
      "text/plain": [
       "[('rahul', 1)]"
      ]
     },
     "execution_count": 23,
     "metadata": {},
     "output_type": "execute_result"
    }
   ],
   "source": [
    "cursor.execute(\"SELECT name,rank from student_data where name='rahul'\")\n",
    "cursor.fetchall()"
   ]
  },
  {
   "cell_type": "raw",
   "id": "7fc68b95-d2b2-49bc-8d1f-6dde38d012f7",
   "metadata": {},
   "source": [
    "........"
   ]
  },
  {
   "cell_type": "code",
   "execution_count": 26,
   "id": "027de924-5942-4a28-a614-67ca06bdefec",
   "metadata": {},
   "outputs": [
    {
     "data": {
      "text/plain": [
       "[('sachin', 5), ('mohit', 2), ('rahul', 1)]"
      ]
     },
     "execution_count": 26,
     "metadata": {},
     "output_type": "execute_result"
    }
   ],
   "source": [
    "cursor.execute(\"SELECT name,rank from student_data where rank Between 1 and 5\")\n",
    "cursor.fetchall()"
   ]
  },
  {
   "cell_type": "code",
   "execution_count": 32,
   "id": "91abd6dc-e563-4b01-b984-40cbe787fb05",
   "metadata": {},
   "outputs": [
    {
     "data": {
      "text/plain": [
       "[(21, 'rohit', 400, 15),\n",
       " (2, 'ajay', 350, 20),\n",
       " (3, 'aakash', 420, 12),\n",
       " (4, 'akash', 410, 13),\n",
       " (6, 'vipul', 340, 21),\n",
       " (7, 'nikhil', 400, 15),\n",
       " (9, 'ekta', 408, 14),\n",
       " (11, 'simran', 330, 22),\n",
       " (12, 'nancy', 400, 15),\n",
       " (13, 'ayushi', 330, 22),\n",
       " (16, 'deepika', 250, 27),\n",
       " (17, 'deepak', 290, 24),\n",
       " (18, 'mohit', 395, 16),\n",
       " (19, 'abhisheek', 288, 24)]"
      ]
     },
     "execution_count": 32,
     "metadata": {},
     "output_type": "execute_result"
    }
   ],
   "source": [
    "cursor.execute(\"SELECT * from student_data where rank >10\")\n",
    "cursor.fetchall()"
   ]
  },
  {
   "cell_type": "code",
   "execution_count": 33,
   "id": "281a282a-78ed-49aa-88df-e98fa83abc44",
   "metadata": {},
   "outputs": [
    {
     "data": {
      "text/plain": [
       "[(3, 'aakash', 420, 12),\n",
       " (4, 'akash', 410, 13),\n",
       " (5, 'sahil', 440, 8),\n",
       " (8, 'abhishek', 450, 7),\n",
       " (9, 'ekta', 408, 14),\n",
       " (20, 'navdeep', 435, 9)]"
      ]
     },
     "execution_count": 33,
     "metadata": {},
     "output_type": "execute_result"
    }
   ],
   "source": [
    "cursor.execute(\"SELECT * from student_data where rank >5 and rank<15\")\n",
    "cursor.fetchall()"
   ]
  },
  {
   "cell_type": "raw",
   "id": "6f4f3ad3-b81c-452e-94e7-4fdaab1c509a",
   "metadata": {},
   "source": [
    "............"
   ]
  },
  {
   "cell_type": "code",
   "execution_count": 35,
   "id": "cda1bc17-d92e-411d-8a65-21f99aa862aa",
   "metadata": {},
   "outputs": [
    {
     "data": {
      "text/plain": [
       "[(2, 'ajay', 350, 20), (5, 'sahil', 440, 8), (15, 'rahul', 485, 1)]"
      ]
     },
     "execution_count": 35,
     "metadata": {},
     "output_type": "execute_result"
    }
   ],
   "source": [
    "cursor.execute(\"SELECT * from student_data where name IN ('sahil','rahul','ajay')\")\n",
    "cursor.fetchall()"
   ]
  },
  {
   "cell_type": "code",
   "execution_count": 37,
   "id": "dae80667-8877-49bf-b2a3-f3f0c2f8c3e3",
   "metadata": {
    "scrolled": true
   },
   "outputs": [
    {
     "data": {
      "text/plain": [
       "[(21, 'rohit', 400, 15),\n",
       " (3, 'aakash', 420, 12),\n",
       " (4, 'akash', 410, 13),\n",
       " (5, 'sahil', 440, 8),\n",
       " (6, 'vipul', 340, 21),\n",
       " (7, 'nikhil', 400, 15),\n",
       " (8, 'abhishek', 450, 7),\n",
       " (9, 'ekta', 408, 14),\n",
       " (10, 'sachin', 460, 5),\n",
       " (11, 'simran', 330, 22),\n",
       " (12, 'nancy', 400, 15),\n",
       " (13, 'ayushi', 330, 22),\n",
       " (14, 'mohit', 480, 2),\n",
       " (16, 'deepika', 250, 27),\n",
       " (17, 'deepak', 290, 24),\n",
       " (18, 'mohit', 395, 16),\n",
       " (19, 'abhisheek', 288, 24),\n",
       " (20, 'navdeep', 435, 9)]"
      ]
     },
     "execution_count": 37,
     "metadata": {},
     "output_type": "execute_result"
    }
   ],
   "source": [
    "cursor.execute(\"SELECT * FROM student_data WHERE name NOT IN ('rahul', 'ajay')\")\n",
    "cursor.fetchall()"
   ]
  },
  {
   "cell_type": "raw",
   "id": "be3283ba-38f2-427c-981d-2e31d991f3c9",
   "metadata": {},
   "source": [
    "................."
   ]
  },
  {
   "cell_type": "code",
   "execution_count": null,
   "id": "5682f2d4-1979-49d6-a13e-20d09b967bb9",
   "metadata": {},
   "outputs": [],
   "source": [
    "# like operator \n",
    "\n",
    "#  % - you can select the record that start ,including or end with a given letter or phrase.. use % to represent wildcard"
   ]
  },
  {
   "cell_type": "code",
   "execution_count": 38,
   "id": "baa74da1-b225-4526-8ec8-e675e5af2730",
   "metadata": {},
   "outputs": [
    {
     "name": "stdout",
     "output_type": "stream",
     "text": [
      "(21, 'rohit', 400, 15)\n",
      "(3, 'aakash', 420, 12)\n",
      "(4, 'akash', 410, 13)\n",
      "(5, 'sahil', 440, 8)\n",
      "(7, 'nikhil', 400, 15)\n",
      "(8, 'abhishek', 450, 7)\n",
      "(10, 'sachin', 460, 5)\n",
      "(13, 'ayushi', 330, 22)\n",
      "(14, 'mohit', 480, 2)\n",
      "(15, 'rahul', 485, 1)\n",
      "(18, 'mohit', 395, 16)\n",
      "(19, 'abhisheek', 288, 24)\n"
     ]
    }
   ],
   "source": [
    "x=cursor.execute(\"SELECT * from student_data where name LIKE '%h%'\")\n",
    "for a in x:\n",
    "    print(a)"
   ]
  },
  {
   "cell_type": "code",
   "execution_count": 39,
   "id": "6f894306-292d-4980-aae4-656c46c7e34b",
   "metadata": {},
   "outputs": [
    {
     "name": "stdout",
     "output_type": "stream",
     "text": [
      "(5, 'sahil', 440, 8)\n",
      "(10, 'sachin', 460, 5)\n",
      "(11, 'simran', 330, 22)\n"
     ]
    }
   ],
   "source": [
    "# name starting with 's'\n",
    "x=cursor.execute(\"SELECT * from student_data where name LIKE 's%'\")\n",
    "for a in x:\n",
    "    print(a)"
   ]
  },
  {
   "cell_type": "code",
   "execution_count": 40,
   "id": "801d298f-3bb6-460f-9ea9-e6ea4054467b",
   "metadata": {},
   "outputs": [
    {
     "name": "stdout",
     "output_type": "stream",
     "text": [
      "(5, 'sahil', 440, 8)\n"
     ]
    }
   ],
   "source": [
    "# name starting with 's' and ending with 'l'\n",
    "x=cursor.execute(\"SELECT * from student_data where name LIKE 's%l'\")\n",
    "for a in x:\n",
    "    print(a)"
   ]
  },
  {
   "cell_type": "code",
   "execution_count": 41,
   "id": "918da061-94ed-425a-8cda-04a905c14ec9",
   "metadata": {},
   "outputs": [
    {
     "name": "stdout",
     "output_type": "stream",
     "text": [
      "(3, 'aakash', 420, 12)\n",
      "(5, 'sahil', 440, 8)\n",
      "(10, 'sachin', 460, 5)\n",
      "(12, 'nancy', 400, 15)\n",
      "(15, 'rahul', 485, 1)\n",
      "(20, 'navdeep', 435, 9)\n"
     ]
    }
   ],
   "source": [
    "# find data where name 2nd alphabet is 'a' and have 1 aplhabet before it \n",
    "x=cursor.execute(\"SELECT * from student_data where name LIKE '_a%'\")\n",
    "for a in x:\n",
    "    print(a)"
   ]
  },
  {
   "cell_type": "code",
   "execution_count": 42,
   "id": "9f899d46-daf9-42d3-8b30-f5ee5aac4cd1",
   "metadata": {},
   "outputs": [
    {
     "name": "stdout",
     "output_type": "stream",
     "text": [
      "(2, 'ajay', 350, 20)\n",
      "(4, 'akash', 410, 13)\n"
     ]
    }
   ],
   "source": [
    "x=cursor.execute(\"SELECT * from student_data where name LIKE '__a%'\")\n",
    "for a in x:\n",
    "    print(a)"
   ]
  },
  {
   "cell_type": "code",
   "execution_count": null,
   "id": "50467c4b-8e13-4cd3-b36c-19093bb26586",
   "metadata": {},
   "outputs": [],
   "source": [
    "x=cur.execute(\"SELECT * from student_data1 where name LIKE '__n%'\")\n",
    "for a in x:\n",
    "    print(a)"
   ]
  },
  {
   "cell_type": "code",
   "execution_count": 43,
   "id": "f60537c3-a895-487d-b860-53a1e203c275",
   "metadata": {},
   "outputs": [],
   "source": [
    "x=cursor.execute(\"SELECT * from student_data where name LIKE '__n_'\")\n",
    "for a in x:\n",
    "    print(a)"
   ]
  },
  {
   "cell_type": "code",
   "execution_count": 47,
   "id": "ea69b936-a5ba-4229-a811-564abeb8f55f",
   "metadata": {},
   "outputs": [
    {
     "data": {
      "text/plain": [
       "[(3, 'aakash', 420, 12),\n",
       " (4, 'akash', 410, 13),\n",
       " (5, 'sahil', 440, 8),\n",
       " (8, 'abhishek', 450, 7),\n",
       " (9, 'ekta', 408, 14),\n",
       " (10, 'sachin', 460, 5),\n",
       " (14, 'mohit', 480, 2),\n",
       " (15, 'rahul', 485, 1),\n",
       " (20, 'navdeep', 435, 9)]"
      ]
     },
     "execution_count": 47,
     "metadata": {},
     "output_type": "execute_result"
    }
   ],
   "source": [
    "cursor.execute(\"SELECT * FROM student_data where total_marks > 400 OR rank < 10\")\n",
    "cursor.fetchall()"
   ]
  },
  {
   "cell_type": "code",
   "execution_count": 48,
   "id": "68e570dd-f373-4eea-9970-52dc9ad3df85",
   "metadata": {},
   "outputs": [
    {
     "data": {
      "text/plain": [
       "[(5, 'sahil', 440, 8),\n",
       " (8, 'abhishek', 450, 7),\n",
       " (10, 'sachin', 460, 5),\n",
       " (14, 'mohit', 480, 2),\n",
       " (15, 'rahul', 485, 1),\n",
       " (20, 'navdeep', 435, 9)]"
      ]
     },
     "execution_count": 48,
     "metadata": {},
     "output_type": "execute_result"
    }
   ],
   "source": [
    "cursor.execute(\"SELECT * FROM student_data WHERE total_marks > 400 AND rank < 10\")\n",
    "cursor.fetchall()"
   ]
  },
  {
   "cell_type": "code",
   "execution_count": 50,
   "id": "93243e90-dbc5-4149-972c-e766ebd5058c",
   "metadata": {},
   "outputs": [
    {
     "data": {
      "text/plain": [
       "[]"
      ]
     },
     "execution_count": 50,
     "metadata": {},
     "output_type": "execute_result"
    }
   ],
   "source": [
    "# check null values\n",
    "cursor.execute(\"SELECT * FROM student_data WHERE rank IS NULL\")\n",
    "cursor.fetchall()"
   ]
  },
  {
   "cell_type": "code",
   "execution_count": 51,
   "id": "ef2add17-26f5-4d54-bb37-79bff4c0d2d5",
   "metadata": {},
   "outputs": [
    {
     "data": {
      "text/plain": [
       "[(21, 'rohit', 400, 15),\n",
       " (2, 'ajay', 350, 20),\n",
       " (3, 'aakash', 420, 12),\n",
       " (4, 'akash', 410, 13),\n",
       " (5, 'sahil', 440, 8),\n",
       " (6, 'vipul', 340, 21),\n",
       " (7, 'nikhil', 400, 15),\n",
       " (8, 'abhishek', 450, 7),\n",
       " (9, 'ekta', 408, 14),\n",
       " (10, 'sachin', 460, 5),\n",
       " (11, 'simran', 330, 22),\n",
       " (12, 'nancy', 400, 15),\n",
       " (13, 'ayushi', 330, 22),\n",
       " (14, 'mohit', 480, 2),\n",
       " (15, 'rahul', 485, 1),\n",
       " (16, 'deepika', 250, 27),\n",
       " (17, 'deepak', 290, 24),\n",
       " (18, 'mohit', 395, 16),\n",
       " (19, 'abhisheek', 288, 24),\n",
       " (20, 'navdeep', 435, 9)]"
      ]
     },
     "execution_count": 51,
     "metadata": {},
     "output_type": "execute_result"
    }
   ],
   "source": [
    "\n",
    "cursor.execute(\"SELECT * FROM student_data WHERE rank IS NOT NULL;\")\n",
    "cursor.fetchall()"
   ]
  },
  {
   "cell_type": "markdown",
   "id": "a1a51c80-8201-4380-8517-5bfcde69fefc",
   "metadata": {},
   "source": [
    "## subqueries"
   ]
  },
  {
   "cell_type": "code",
   "execution_count": 53,
   "id": "7df55068-3c92-47f2-a0fd-f7662c403a54",
   "metadata": {},
   "outputs": [
    {
     "data": {
      "text/plain": [
       "[(15, 'rahul', 485, 1)]"
      ]
     },
     "execution_count": 53,
     "metadata": {},
     "output_type": "execute_result"
    }
   ],
   "source": [
    "cursor.execute(\"SELECT * FROM student_data WHERE rank = (SELECT MIN(rank) FROM student_data)\")\n",
    "cursor.fetchall()"
   ]
  },
  {
   "cell_type": "code",
   "execution_count": null,
   "id": "1d63ae8e-a322-4398-9bd6-656a9d4b79b2",
   "metadata": {},
   "outputs": [],
   "source": [
    "cur.execute(\"SELECT * FROM student_data1 WHERE rank = (SELECT MAX(rank) FROM student_data1)\")\n",
    "cur.fetchall()"
   ]
  },
  {
   "cell_type": "code",
   "execution_count": null,
   "id": "6ab9cd43-6491-4b47-9872-04801d28cf85",
   "metadata": {},
   "outputs": [],
   "source": [
    "cur.execute(\"SELECT * FROM student_data1 WHERE total_marks = (SELECT MIN(total_marks) FROM student_data1)\")\n",
    "cur.fetchall()"
   ]
  },
  {
   "cell_type": "code",
   "execution_count": 55,
   "id": "3d21327a-14c4-41c0-86a1-2cdc0248d4b1",
   "metadata": {},
   "outputs": [
    {
     "data": {
      "text/plain": [
       "[(27,)]"
      ]
     },
     "execution_count": 55,
     "metadata": {},
     "output_type": "execute_result"
    }
   ],
   "source": [
    "cursor.execute(\"SELECT MAX(rank) FROM student_data\")\n",
    "cursor.fetchall()"
   ]
  },
  {
   "cell_type": "markdown",
   "id": "0c7f5ac7-e64f-4f79-a618-9e9c05cb24b4",
   "metadata": {
    "jp-MarkdownHeadingCollapsed": true
   },
   "source": [
    "# Update Data"
   ]
  },
  {
   "cell_type": "code",
   "execution_count": 56,
   "id": "d07788a4-f025-48c0-86dc-98c4117d11a7",
   "metadata": {},
   "outputs": [],
   "source": [
    "# change sahil rank to 10\n",
    "cursor.execute(\"UPDATE student_data SET rank=10 where name='sahil'\")\n",
    "db.commit()"
   ]
  },
  {
   "cell_type": "code",
   "execution_count": 58,
   "id": "6a9dbb5e-1e6c-468a-ae40-cfd6736c4915",
   "metadata": {},
   "outputs": [
    {
     "data": {
      "text/plain": [
       "[(21, 'rohit', 400, 15),\n",
       " (2, 'ajay', 350, 20),\n",
       " (3, 'aakash', 420, 12),\n",
       " (4, 'akash', 410, 13),\n",
       " (5, 'sahil', 440, 10),\n",
       " (6, 'vipul', 340, 21),\n",
       " (7, 'nikhil', 400, 15),\n",
       " (8, 'abhishek', 450, 7),\n",
       " (9, 'ekta', 408, 14),\n",
       " (10, 'sachin', 460, 5),\n",
       " (11, 'simran', 330, 22),\n",
       " (12, 'nancy', 400, 15),\n",
       " (13, 'ayushi', 330, 22),\n",
       " (14, 'mohit', 480, 2),\n",
       " (15, 'rahul', 485, 1),\n",
       " (16, 'deepika', 250, 27),\n",
       " (17, 'deepak', 290, 24),\n",
       " (18, 'mohit', 395, 16),\n",
       " (19, 'abhisheek', 288, 24),\n",
       " (20, 'navdeep', 435, 9)]"
      ]
     },
     "execution_count": 58,
     "metadata": {},
     "output_type": "execute_result"
    }
   ],
   "source": [
    "cursor.execute(\"SELECT * from student_data\")\n",
    "cursor.fetchall()"
   ]
  },
  {
   "cell_type": "code",
   "execution_count": 59,
   "id": "9cbf7a3b-12ea-43bd-a114-009cfd0be68e",
   "metadata": {},
   "outputs": [
    {
     "data": {
      "text/plain": [
       "[('rohit',),\n",
       " ('sunny',),\n",
       " ('aakash',),\n",
       " ('akash',),\n",
       " ('sahil',),\n",
       " ('vipul',),\n",
       " ('nikhil',),\n",
       " ('abhishek',),\n",
       " ('ekta',),\n",
       " ('sachin',),\n",
       " ('simran',),\n",
       " ('nancy',),\n",
       " ('ayushi',),\n",
       " ('mohit',),\n",
       " ('rahul',),\n",
       " ('deepika',),\n",
       " ('deepak',),\n",
       " ('mohit',),\n",
       " ('abhisheek',),\n",
       " ('navdeep',)]"
      ]
     },
     "execution_count": 59,
     "metadata": {},
     "output_type": "execute_result"
    }
   ],
   "source": [
    "# change name from 'sac' to sunny\n",
    "cursor.execute(\"UPDATE student_data SET name='sunny' where name='ajay'\")\n",
    "cursor.execute(\"SELECT name from student_data\")\n",
    "cursor.fetchall()"
   ]
  },
  {
   "cell_type": "markdown",
   "id": "abcac0dd-6178-47d6-b712-14673553dd68",
   "metadata": {
    "jp-MarkdownHeadingCollapsed": true
   },
   "source": [
    "# order by method"
   ]
  },
  {
   "cell_type": "code",
   "execution_count": 60,
   "id": "e83c36cb-4758-4111-9236-d8050b363bd3",
   "metadata": {},
   "outputs": [
    {
     "data": {
      "text/plain": [
       "[(3, 'aakash', 420, 12),\n",
       " (19, 'abhisheek', 288, 24),\n",
       " (8, 'abhishek', 450, 7),\n",
       " (4, 'akash', 410, 13),\n",
       " (13, 'ayushi', 330, 22),\n",
       " (17, 'deepak', 290, 24),\n",
       " (16, 'deepika', 250, 27),\n",
       " (9, 'ekta', 408, 14),\n",
       " (14, 'mohit', 480, 2),\n",
       " (18, 'mohit', 395, 16),\n",
       " (12, 'nancy', 400, 15),\n",
       " (20, 'navdeep', 435, 9),\n",
       " (7, 'nikhil', 400, 15),\n",
       " (15, 'rahul', 485, 1),\n",
       " (21, 'rohit', 400, 15),\n",
       " (10, 'sachin', 460, 5),\n",
       " (5, 'sahil', 440, 10),\n",
       " (11, 'simran', 330, 22),\n",
       " (2, 'sunny', 350, 20),\n",
       " (6, 'vipul', 340, 21)]"
      ]
     },
     "execution_count": 60,
     "metadata": {},
     "output_type": "execute_result"
    }
   ],
   "source": [
    "cursor.execute(\"SELECT * FROM student_data ORDER BY name\")\n",
    "cursor.fetchall()"
   ]
  },
  {
   "cell_type": "code",
   "execution_count": 61,
   "id": "2a3f28b6-8d5b-4f77-a9b2-4791a2b32d48",
   "metadata": {},
   "outputs": [
    {
     "data": {
      "text/plain": [
       "[(21, 'rohit', 400, 15),\n",
       " (20, 'navdeep', 435, 9),\n",
       " (19, 'abhisheek', 288, 24),\n",
       " (18, 'mohit', 395, 16),\n",
       " (17, 'deepak', 290, 24),\n",
       " (16, 'deepika', 250, 27),\n",
       " (15, 'rahul', 485, 1),\n",
       " (14, 'mohit', 480, 2),\n",
       " (13, 'ayushi', 330, 22),\n",
       " (12, 'nancy', 400, 15),\n",
       " (11, 'simran', 330, 22),\n",
       " (10, 'sachin', 460, 5),\n",
       " (9, 'ekta', 408, 14),\n",
       " (8, 'abhishek', 450, 7),\n",
       " (7, 'nikhil', 400, 15),\n",
       " (6, 'vipul', 340, 21),\n",
       " (5, 'sahil', 440, 10),\n",
       " (4, 'akash', 410, 13),\n",
       " (3, 'aakash', 420, 12),\n",
       " (2, 'sunny', 350, 20)]"
      ]
     },
     "execution_count": 61,
     "metadata": {},
     "output_type": "execute_result"
    }
   ],
   "source": [
    "cursor.execute(\"select * FROM student_data ORDER BY roll_no desc\")\n",
    "cursor.fetchall()"
   ]
  },
  {
   "cell_type": "markdown",
   "id": "518f60ef-b08e-4154-bd15-ae8e654d45b5",
   "metadata": {
    "jp-MarkdownHeadingCollapsed": true
   },
   "source": [
    "# delete data"
   ]
  },
  {
   "cell_type": "code",
   "execution_count": 62,
   "id": "2158f97d-90c9-4cb3-a241-f460604d68c1",
   "metadata": {},
   "outputs": [],
   "source": [
    "cursor.execute(\"DELETE FROM student_data WHERE roll_no=16\")\n",
    "db.commit()"
   ]
  },
  {
   "cell_type": "code",
   "execution_count": 63,
   "id": "5b6fec74-59ac-47dc-87de-4ea698c9300a",
   "metadata": {},
   "outputs": [
    {
     "data": {
      "text/plain": [
       "1"
      ]
     },
     "execution_count": 63,
     "metadata": {},
     "output_type": "execute_result"
    }
   ],
   "source": [
    "cursor.rowcount"
   ]
  },
  {
   "cell_type": "code",
   "execution_count": 65,
   "id": "e151770a-67d4-403a-9061-8f05df882185",
   "metadata": {},
   "outputs": [
    {
     "data": {
      "text/plain": [
       "[(21, 'rohit', 400, 15),\n",
       " (2, 'sunny', 350, 20),\n",
       " (3, 'aakash', 420, 12),\n",
       " (4, 'akash', 410, 13),\n",
       " (5, 'sahil', 440, 10),\n",
       " (6, 'vipul', 340, 21),\n",
       " (7, 'nikhil', 400, 15),\n",
       " (8, 'abhishek', 450, 7),\n",
       " (9, 'ekta', 408, 14),\n",
       " (10, 'sachin', 460, 5),\n",
       " (11, 'simran', 330, 22),\n",
       " (12, 'nancy', 400, 15),\n",
       " (13, 'ayushi', 330, 22),\n",
       " (14, 'mohit', 480, 2),\n",
       " (15, 'rahul', 485, 1),\n",
       " (17, 'deepak', 290, 24),\n",
       " (18, 'mohit', 395, 16),\n",
       " (19, 'abhisheek', 288, 24),\n",
       " (20, 'navdeep', 435, 9)]"
      ]
     },
     "execution_count": 65,
     "metadata": {},
     "output_type": "execute_result"
    }
   ],
   "source": [
    "cursor.execute(\"SELECT * FROM student_data\")\n",
    "cursor.fetchall()"
   ]
  },
  {
   "cell_type": "code",
   "execution_count": 66,
   "id": "13b2af56-4c96-485d-b9bf-4aaa6d90aeb0",
   "metadata": {},
   "outputs": [
    {
     "data": {
      "text/plain": [
       "[(21, 'rohit', 400, 15),\n",
       " (2, 'sunny', 350, 20),\n",
       " (3, 'aakash', 420, 12),\n",
       " (4, 'akash', 410, 13),\n",
       " (5, 'sahil', 440, 10),\n",
       " (6, 'vipul', 340, 21),\n",
       " (7, 'nikhil', 400, 15),\n",
       " (8, 'abhishek', 450, 7),\n",
       " (9, 'ekta', 408, 14),\n",
       " (10, 'sachin', 460, 5),\n",
       " (11, 'simran', 330, 22),\n",
       " (12, 'nancy', 400, 15),\n",
       " (13, 'ayushi', 330, 22),\n",
       " (14, 'mohit', 480, 2),\n",
       " (17, 'deepak', 290, 24),\n",
       " (18, 'mohit', 395, 16),\n",
       " (19, 'abhisheek', 288, 24),\n",
       " (20, 'navdeep', 435, 9)]"
      ]
     },
     "execution_count": 66,
     "metadata": {},
     "output_type": "execute_result"
    }
   ],
   "source": [
    "cursor.execute(\"DELETE FROM student_data WHERE total_marks>480 \")\n",
    "cursor.execute(\"SELECT * FROM student_data\")\n",
    "cursor.fetchall()"
   ]
  },
  {
   "cell_type": "markdown",
   "id": "2874b67e-63e3-4d6e-9966-3d3ba25bcdf8",
   "metadata": {
    "jp-MarkdownHeadingCollapsed": true
   },
   "source": [
    "# Add a New Column to the Table"
   ]
  },
  {
   "cell_type": "code",
   "execution_count": 18,
   "id": "fb4d4426-d5cc-47e5-b7b3-f8d77909cd29",
   "metadata": {},
   "outputs": [
    {
     "data": {
      "text/plain": [
       "<sqlite3.Cursor at 0x1e6e87db240>"
      ]
     },
     "execution_count": 18,
     "metadata": {},
     "output_type": "execute_result"
    }
   ],
   "source": [
    "cursor.execute(\"ALTER TABLE student_data1 ADD COLUMN class_section TEXT\")"
   ]
  },
  {
   "cell_type": "code",
   "execution_count": 19,
   "id": "749c678a-cbbf-4f20-8dd8-ae081e9bf1f6",
   "metadata": {},
   "outputs": [
    {
     "data": {
      "text/plain": [
       "<sqlite3.Cursor at 0x1e6e87db240>"
      ]
     },
     "execution_count": 19,
     "metadata": {},
     "output_type": "execute_result"
    }
   ],
   "source": [
    "# 1) Update a Specific Row: To update the class_section for a specific row:\n",
    "\n",
    "cursor.execute(\"UPDATE student_data1 SET class_section = 'A' WHERE roll_no = 1\")"
   ]
  },
  {
   "cell_type": "code",
   "execution_count": 20,
   "id": "e5b51187-d2b9-44a0-b0dd-af802d5aee96",
   "metadata": {},
   "outputs": [],
   "source": [
    "# 2) update multiple rows"
   ]
  },
  {
   "cell_type": "code",
   "execution_count": 21,
   "id": "c459f8d1-2f1e-4753-a833-e459e28518c9",
   "metadata": {},
   "outputs": [
    {
     "data": {
      "text/plain": [
       "<sqlite3.Cursor at 0x1e6e87db240>"
      ]
     },
     "execution_count": 21,
     "metadata": {},
     "output_type": "execute_result"
    }
   ],
   "source": [
    "cursor.execute(\"UPDATE student_data1 SET class_section =CASE WHEN roll_no = 1 THEN 'A' WHEN roll_no = 2 THEN 'B' WHEN roll_no = 3 THEN 'C' END WHERE roll_no IN (1, 2, 3)\")"
   ]
  },
  {
   "cell_type": "code",
   "execution_count": 70,
   "id": "ddec75c2-a87f-4880-9310-f01adcf0ac78",
   "metadata": {},
   "outputs": [
    {
     "data": {
      "text/plain": [
       "[(21, 'rohit', 400, 15, None),\n",
       " (2, 'sunny', 350, 20, 'B'),\n",
       " (3, 'aakash', 420, 12, 'C'),\n",
       " (4, 'akash', 410, 13, None),\n",
       " (5, 'sahil', 440, 10, None),\n",
       " (6, 'vipul', 340, 21, None),\n",
       " (7, 'nikhil', 400, 15, None),\n",
       " (8, 'abhishek', 450, 7, None),\n",
       " (9, 'ekta', 408, 14, None),\n",
       " (10, 'sachin', 460, 5, None),\n",
       " (11, 'simran', 330, 22, None),\n",
       " (12, 'nancy', 400, 15, None),\n",
       " (13, 'ayushi', 330, 22, None),\n",
       " (14, 'mohit', 480, 2, None),\n",
       " (17, 'deepak', 290, 24, None),\n",
       " (18, 'mohit', 395, 16, None),\n",
       " (19, 'abhisheek', 288, 24, None),\n",
       " (20, 'navdeep', 435, 9, None)]"
      ]
     },
     "execution_count": 70,
     "metadata": {},
     "output_type": "execute_result"
    }
   ],
   "source": [
    "cursor.execute(\"SELECT * FROM student_data\")\n",
    "cursor.fetchall()"
   ]
  },
  {
   "cell_type": "code",
   "execution_count": 22,
   "id": "ce08cdf7-3173-4a3c-9dde-e497c5358081",
   "metadata": {},
   "outputs": [
    {
     "data": {
      "text/plain": [
       "<sqlite3.Cursor at 0x1e6e87db240>"
      ]
     },
     "execution_count": 22,
     "metadata": {},
     "output_type": "execute_result"
    }
   ],
   "source": [
    "# 3) update all rows with same values\n",
    "cursor.execute(\"UPDATE student_data1 SET class_section = 'A'\")"
   ]
  },
  {
   "cell_type": "code",
   "execution_count": 23,
   "id": "ff9ca8dd-9980-4470-bb47-675b99bec732",
   "metadata": {},
   "outputs": [
    {
     "data": {
      "text/plain": [
       "[(21, 'rohit', 400, 15, 'A'),\n",
       " (2, 'ajay', 350, 20, 'A'),\n",
       " (3, 'aakash', 420, 12, 'A'),\n",
       " (4, 'akash', 410, 13, 'A'),\n",
       " (5, 'sahil', 440, 8, 'A'),\n",
       " (6, 'vipul', 340, 21, 'A'),\n",
       " (7, 'nikhil', 400, 15, 'A'),\n",
       " (8, 'abhishek', 450, 7, 'A'),\n",
       " (9, 'ekta', 408, 14, 'A'),\n",
       " (10, 'sachin', 460, 5, 'A'),\n",
       " (11, 'simran', 330, 22, 'A'),\n",
       " (12, 'nancy', 400, 15, 'A'),\n",
       " (13, 'ayushi', 330, 22, 'A'),\n",
       " (14, 'mohit', 480, 2, 'A'),\n",
       " (15, 'rahul', 485, 1, 'A'),\n",
       " (16, 'deepika', 250, 27, 'A'),\n",
       " (17, 'deepak', 290, 24, 'A'),\n",
       " (18, 'mohit', 395, 16, 'A'),\n",
       " (19, 'abhisheek', 288, 24, 'A'),\n",
       " (20, 'navdeep', 435, 9, 'A')]"
      ]
     },
     "execution_count": 23,
     "metadata": {},
     "output_type": "execute_result"
    }
   ],
   "source": [
    "cursor.execute(\"SELECT * FROM student_data1\")\n",
    "cursor.fetchall()"
   ]
  },
  {
   "cell_type": "code",
   "execution_count": 24,
   "id": "f08e7113-8552-4586-a8d3-611c6d864b54",
   "metadata": {},
   "outputs": [
    {
     "data": {
      "text/plain": [
       "[(21, 'rohit', 400, 15, 'A'),\n",
       " (2, 'ajay', 350, 20, 'A'),\n",
       " (3, 'aakash', 420, 12, 'B'),\n",
       " (4, 'akash', 410, 13, 'B'),\n",
       " (5, 'sahil', 440, 8, 'B'),\n",
       " (6, 'vipul', 340, 21, 'A'),\n",
       " (7, 'nikhil', 400, 15, 'A'),\n",
       " (8, 'abhishek', 450, 7, 'B'),\n",
       " (9, 'ekta', 408, 14, 'B'),\n",
       " (10, 'sachin', 460, 5, 'B'),\n",
       " (11, 'simran', 330, 22, 'A'),\n",
       " (12, 'nancy', 400, 15, 'A'),\n",
       " (13, 'ayushi', 330, 22, 'A'),\n",
       " (14, 'mohit', 480, 2, 'B'),\n",
       " (15, 'rahul', 485, 1, 'B'),\n",
       " (16, 'deepika', 250, 27, 'A'),\n",
       " (17, 'deepak', 290, 24, 'A'),\n",
       " (18, 'mohit', 395, 16, 'A'),\n",
       " (19, 'abhisheek', 288, 24, 'A'),\n",
       " (20, 'navdeep', 435, 9, 'B')]"
      ]
     },
     "execution_count": 24,
     "metadata": {},
     "output_type": "execute_result"
    }
   ],
   "source": [
    "# 4)condition based updating\n",
    "\n",
    "cursor.execute(\"UPDATE student_data1 SET class_section = 'B' WHERE total_marks > 400\")\n",
    "cursor.execute(\"SELECT * FROM student_data1\")\n",
    "cursor.fetchall()"
   ]
  },
  {
   "cell_type": "markdown",
   "id": "18fae087-675e-444b-9524-e1d3124bf5ec",
   "metadata": {
    "jp-MarkdownHeadingCollapsed": true
   },
   "source": [
    "# insert more data"
   ]
  },
  {
   "cell_type": "code",
   "execution_count": 86,
   "id": "b16afc2d-8d19-41d2-b90d-3c972531516d",
   "metadata": {},
   "outputs": [
    {
     "data": {
      "text/plain": [
       "<sqlite3.Cursor at 0x22409c1cbc0>"
      ]
     },
     "execution_count": 86,
     "metadata": {},
     "output_type": "execute_result"
    }
   ],
   "source": [
    "cursor.execute(\"INSERT INTO student_data(roll_no,name,total_marks,rank,class_section) values(26,'sachinn',490,2,'A')\")"
   ]
  },
  {
   "cell_type": "code",
   "execution_count": 87,
   "id": "c95eabde-4ffb-408c-bb79-2a7f8b5a9485",
   "metadata": {},
   "outputs": [
    {
     "data": {
      "text/plain": [
       "[(21, 'rohit', 400, 15, 'A'),\n",
       " (2, 'sunny', 350, 20, 'A'),\n",
       " (3, 'aakash', 420, 12, 'B'),\n",
       " (4, 'akash', 410, 13, 'B'),\n",
       " (5, 'sahil', 440, 10, 'B'),\n",
       " (6, 'vipul', 340, 21, 'A'),\n",
       " (7, 'nikhil', 400, 15, 'A'),\n",
       " (8, 'abhishek', 450, 7, 'B'),\n",
       " (9, 'ekta', 408, 14, 'B'),\n",
       " (10, 'sachin', 460, 5, 'B'),\n",
       " (11, 'simran', 330, 22, 'A'),\n",
       " (12, 'nancy', 400, 15, 'A'),\n",
       " (13, 'ayushi', 330, 22, 'A'),\n",
       " (14, 'mohit', 480, 2, 'B'),\n",
       " (17, 'deepak', 290, 24, 'A'),\n",
       " (18, 'mohit', 395, 16, 'A'),\n",
       " (19, 'abhisheek', 288, 24, 'A'),\n",
       " (20, 'navdeep', 435, 9, 'B'),\n",
       " (25, 'sachinn', 490, 2, None),\n",
       " (26, 'sachinn', 490, 2, 'A')]"
      ]
     },
     "execution_count": 87,
     "metadata": {},
     "output_type": "execute_result"
    }
   ],
   "source": [
    "cursor.execute(\"SELECT * FROM student_data\")\n",
    "cursor.fetchall()"
   ]
  },
  {
   "cell_type": "markdown",
   "id": "49d29ebf-6c26-4b7f-895a-44ccfc3a80ae",
   "metadata": {
    "jp-MarkdownHeadingCollapsed": true
   },
   "source": [
    "# count total entries"
   ]
  },
  {
   "cell_type": "code",
   "execution_count": 88,
   "id": "365bc618-2ebe-407f-9517-524ca1286962",
   "metadata": {},
   "outputs": [
    {
     "data": {
      "text/plain": [
       "<sqlite3.Cursor at 0x22409c1cbc0>"
      ]
     },
     "execution_count": 88,
     "metadata": {},
     "output_type": "execute_result"
    }
   ],
   "source": [
    "cursor.execute(\"SELECT count(*) from student_data\")"
   ]
  },
  {
   "cell_type": "code",
   "execution_count": 89,
   "id": "c8e6c64e-1cc2-4f2b-a0d7-7f05f0cf2cdd",
   "metadata": {},
   "outputs": [
    {
     "data": {
      "text/plain": [
       "[(20,)]"
      ]
     },
     "execution_count": 89,
     "metadata": {},
     "output_type": "execute_result"
    }
   ],
   "source": [
    "cursor.fetchall()"
   ]
  },
  {
   "cell_type": "markdown",
   "id": "80de72ba-03c7-4b0e-9f3d-a2fa7b796b0e",
   "metadata": {},
   "source": [
    "# aggregate functions\n",
    "\n",
    "1) COUNT\n",
    "2) SUM\n",
    "3) AVERAGE (AVG))\n",
    "4) MAXIMUM (MAX())\n",
    "5) MINIMUM (MIN())\n",
    "6) VARIANCE\n",
    "7) STANDARD DEVIATION (STDDEV)\n",
    "8) MEDIAN \n"
   ]
  },
  {
   "cell_type": "markdown",
   "id": "5ebbb018-677a-44bd-9e24-83b2391abd5f",
   "metadata": {},
   "source": [
    "### count"
   ]
  },
  {
   "cell_type": "code",
   "execution_count": 15,
   "id": "182d3151-3acf-4953-9b36-107be4fc5d13",
   "metadata": {},
   "outputs": [
    {
     "data": {
      "text/plain": [
       "[(20,)]"
      ]
     },
     "execution_count": 15,
     "metadata": {},
     "output_type": "execute_result"
    }
   ],
   "source": [
    "cursor.execute(\"select count(*) from student_data1\")  #  Total number of rows\n",
    "cursor.execute(\"SELECT COUNT(name) FROM student_data1\")  # Total number of non-NULL names\n",
    "cursor.fetchall()"
   ]
  },
  {
   "cell_type": "code",
   "execution_count": 14,
   "id": "52481654-7e2a-409d-b694-7a0b63268bed",
   "metadata": {},
   "outputs": [
    {
     "data": {
      "text/plain": [
       "[(16,)]"
      ]
     },
     "execution_count": 14,
     "metadata": {},
     "output_type": "execute_result"
    }
   ],
   "source": [
    "cursor.execute(\"SELECT COUNT(DISTINCT rank) FROM student_data1\")  # count of unique ranks\n",
    "cursor.fetchall()"
   ]
  },
  {
   "cell_type": "markdown",
   "id": "6d87ebf3-8fb6-4a7b-a109-bfae7a6426df",
   "metadata": {},
   "source": [
    "### Sum"
   ]
  },
  {
   "cell_type": "code",
   "execution_count": 16,
   "id": "f0fb816d-726c-4f08-a34d-788e481ec531",
   "metadata": {},
   "outputs": [
    {
     "data": {
      "text/plain": [
       "[(7761,)]"
      ]
     },
     "execution_count": 16,
     "metadata": {},
     "output_type": "execute_result"
    }
   ],
   "source": [
    "cursor.execute(\"SELECT SUM(total_marks) from student_data1\")\n",
    "cursor.fetchall()"
   ]
  },
  {
   "cell_type": "code",
   "execution_count": 25,
   "id": "c4b5125b-71d9-4958-953c-67cf85c706be",
   "metadata": {},
   "outputs": [
    {
     "data": {
      "text/plain": [
       "[(3773,)]"
      ]
     },
     "execution_count": 25,
     "metadata": {},
     "output_type": "execute_result"
    }
   ],
   "source": [
    "\n",
    "cursor.execute(\"SELECT SUM(total_marks) from student_data1 WHERE class_section = 'A'\")\n",
    "cursor.fetchall()"
   ]
  },
  {
   "cell_type": "markdown",
   "id": "c026feb2-9295-450a-a735-d99d63d4fa23",
   "metadata": {},
   "source": [
    "### AVERAGE"
   ]
  },
  {
   "cell_type": "code",
   "execution_count": 26,
   "id": "a43bee71-25ed-4aea-93cd-44efb26ecb46",
   "metadata": {},
   "outputs": [
    {
     "data": {
      "text/plain": [
       "[(388.05,)]"
      ]
     },
     "execution_count": 26,
     "metadata": {},
     "output_type": "execute_result"
    }
   ],
   "source": [
    "cursor.execute(\"SELECT AVG(total_marks) from student_data1\")\n",
    "cursor.fetchall()"
   ]
  },
  {
   "cell_type": "code",
   "execution_count": 27,
   "id": "7f1f03d4-8c51-461a-b7bd-5a4f49db7f76",
   "metadata": {},
   "outputs": [
    {
     "data": {
      "text/plain": [
       "[(14.6,)]"
      ]
     },
     "execution_count": 27,
     "metadata": {},
     "output_type": "execute_result"
    }
   ],
   "source": [
    "cursor.execute(\"SELECT AVG(rank) from student_data1\")\n",
    "cursor.fetchall()"
   ]
  },
  {
   "cell_type": "code",
   "execution_count": 28,
   "id": "9b50ae92-1f5e-43b6-a70d-17fa362ff662",
   "metadata": {},
   "outputs": [
    {
     "data": {
      "text/plain": [
       "[(343.0,)]"
      ]
     },
     "execution_count": 28,
     "metadata": {},
     "output_type": "execute_result"
    }
   ],
   "source": [
    "cursor.execute(\"SELECT AVG(total_marks) from student_data1 WHERE class_section='A'\")\n",
    "cursor.fetchall()"
   ]
  },
  {
   "cell_type": "markdown",
   "id": "acf9acd6-be1d-47b5-88a3-2cca9e51e3b2",
   "metadata": {},
   "source": [
    "### maximum, minimum"
   ]
  },
  {
   "cell_type": "code",
   "execution_count": 29,
   "id": "7e6a42dc-cf8a-4d1a-a2c5-c6bee6fec0a1",
   "metadata": {},
   "outputs": [
    {
     "data": {
      "text/plain": [
       "[(27,)]"
      ]
     },
     "execution_count": 29,
     "metadata": {},
     "output_type": "execute_result"
    }
   ],
   "source": [
    "cursor.execute(\"SELECT MAX(rank) from student_data1\")\n",
    "cursor.fetchall()"
   ]
  },
  {
   "cell_type": "code",
   "execution_count": 30,
   "id": "0a1e6605-d73e-4fb7-928e-93206c2359f2",
   "metadata": {},
   "outputs": [
    {
     "data": {
      "text/plain": [
       "[(1,)]"
      ]
     },
     "execution_count": 30,
     "metadata": {},
     "output_type": "execute_result"
    }
   ],
   "source": [
    "cursor.execute(\"SELECT MIN(rank) from student_data1\")\n",
    "cursor.fetchall()"
   ]
  },
  {
   "cell_type": "code",
   "execution_count": 32,
   "id": "65176f5c-464c-49a3-88ad-472217ab2e5f",
   "metadata": {},
   "outputs": [
    {
     "data": {
      "text/plain": [
       "[(485,)]"
      ]
     },
     "execution_count": 32,
     "metadata": {},
     "output_type": "execute_result"
    }
   ],
   "source": [
    "cursor.execute(\"SELECT MAX(total_marks) from student_data1\")\n",
    "cursor.fetchall()"
   ]
  },
  {
   "cell_type": "markdown",
   "id": "464ef013-b4c2-4f71-967c-91f8b4193edc",
   "metadata": {},
   "source": [
    "### variance"
   ]
  },
  {
   "cell_type": "code",
   "execution_count": 43,
   "id": "1f167a76-27d0-43ce-a2e6-914d83823223",
   "metadata": {},
   "outputs": [
    {
     "ename": "OperationalError",
     "evalue": "no such function: MEDIAN",
     "output_type": "error",
     "traceback": [
      "\u001b[1;31m---------------------------------------------------------------------------\u001b[0m",
      "\u001b[1;31mOperationalError\u001b[0m                          Traceback (most recent call last)",
      "Cell \u001b[1;32mIn[43], line 1\u001b[0m\n\u001b[1;32m----> 1\u001b[0m \u001b[43mcursor\u001b[49m\u001b[38;5;241;43m.\u001b[39;49m\u001b[43mexecute\u001b[49m\u001b[43m(\u001b[49m\u001b[38;5;124;43m\"\u001b[39;49m\u001b[38;5;124;43mSELECT MEDIAN(total_marks) from student_data1\u001b[39;49m\u001b[38;5;124;43m\"\u001b[39;49m\u001b[43m)\u001b[49m\n\u001b[0;32m      2\u001b[0m cursor\u001b[38;5;241m.\u001b[39mfetchall()\n",
      "\u001b[1;31mOperationalError\u001b[0m: no such function: MEDIAN"
     ]
    }
   ],
   "source": [
    "cursor.execute(\"SELECT MEDIAN(total_marks) from student_data1\")\n",
    "cursor.fetchall()"
   ]
  },
  {
   "cell_type": "markdown",
   "id": "ff6cda65-088f-41fc-93e4-ae4df1837e2d",
   "metadata": {},
   "source": [
    "### standard deviation"
   ]
  },
  {
   "cell_type": "code",
   "execution_count": 42,
   "id": "c672b72a-635b-410e-89ca-79dbd1050fd7",
   "metadata": {},
   "outputs": [
    {
     "ename": "OperationalError",
     "evalue": "no such function: STDDEV_SAMP",
     "output_type": "error",
     "traceback": [
      "\u001b[1;31m---------------------------------------------------------------------------\u001b[0m",
      "\u001b[1;31mOperationalError\u001b[0m                          Traceback (most recent call last)",
      "Cell \u001b[1;32mIn[42], line 1\u001b[0m\n\u001b[1;32m----> 1\u001b[0m \u001b[43mcursor\u001b[49m\u001b[38;5;241;43m.\u001b[39;49m\u001b[43mexecute\u001b[49m\u001b[43m(\u001b[49m\u001b[38;5;124;43m\"\u001b[39;49m\u001b[38;5;124;43mSELECT STDDEV_SAMP(total_marks) FROM student_data1\u001b[39;49m\u001b[38;5;124;43m\"\u001b[39;49m\u001b[43m)\u001b[49m\n\u001b[0;32m      2\u001b[0m result \u001b[38;5;241m=\u001b[39m cursor\u001b[38;5;241m.\u001b[39mfetchall()\n\u001b[0;32m      3\u001b[0m stddev_value \u001b[38;5;241m=\u001b[39m result[\u001b[38;5;241m0\u001b[39m][\u001b[38;5;241m0\u001b[39m]  \u001b[38;5;66;03m# Access the first tuple's first element\u001b[39;00m\n",
      "\u001b[1;31mOperationalError\u001b[0m: no such function: STDDEV_SAMP"
     ]
    }
   ],
   "source": [
    "cursor.execute(\"SELECT STDDEV_SAMP(total_marks) FROM student_data1\")\n",
    "result = cursor.fetchall()\n",
    "stddev_value = result[0][0]  # Access the first tuple's first element\n",
    "print(\"Standard Deviation:\", stddev_value)\n"
   ]
  },
  {
   "cell_type": "code",
   "execution_count": null,
   "id": "37387058-e16a-4af4-bad4-f1ded1701f48",
   "metadata": {},
   "outputs": [],
   "source": []
  },
  {
   "cell_type": "markdown",
   "id": "b0684783-4e6b-4005-974a-6143c6c06604",
   "metadata": {
    "jp-MarkdownHeadingCollapsed": true
   },
   "source": [
    "# group by"
   ]
  },
  {
   "cell_type": "markdown",
   "id": "6f6246a7-6ccf-4f48-9497-2dba7ef21284",
   "metadata": {},
   "source": [
    "### group by column name"
   ]
  },
  {
   "cell_type": "code",
   "execution_count": 46,
   "id": "c8b36f90-f566-48af-858b-6c20654d55fc",
   "metadata": {},
   "outputs": [
    {
     "data": {
      "text/plain": [
       "[(1, 1),\n",
       " (2, 1),\n",
       " (5, 1),\n",
       " (7, 1),\n",
       " (8, 1),\n",
       " (9, 1),\n",
       " (12, 1),\n",
       " (13, 1),\n",
       " (14, 1),\n",
       " (15, 3),\n",
       " (16, 1),\n",
       " (20, 1),\n",
       " (21, 1),\n",
       " (22, 2),\n",
       " (24, 2),\n",
       " (27, 1)]"
      ]
     },
     "execution_count": 46,
     "metadata": {},
     "output_type": "execute_result"
    }
   ],
   "source": [
    "# Group students by rank and count the number of students in each rank\n",
    "cursor.execute(\"SELECT rank,COUNT(*)  from student_data1 GROUP BY rank\")\n",
    "cursor.fetchall()"
   ]
  },
  {
   "cell_type": "code",
   "execution_count": 47,
   "id": "b48d24ec-e1fc-4a98-b282-1d463340d8d0",
   "metadata": {},
   "outputs": [
    {
     "data": {
      "text/plain": [
       "[('A', 11), ('B', 9)]"
      ]
     },
     "execution_count": 47,
     "metadata": {},
     "output_type": "execute_result"
    }
   ],
   "source": [
    "cursor.execute(\"SELECT class_section,COUNT(*) FROM student_data1 GROUP BY class_section\")\n",
    "cursor.fetchall()"
   ]
  },
  {
   "cell_type": "code",
   "execution_count": 50,
   "id": "aad06485-3372-4c6e-9b70-a08138d3eb7a",
   "metadata": {},
   "outputs": [
    {
     "data": {
      "text/plain": [
       "[('rahul', 1),\n",
       " ('mohit', 1),\n",
       " ('sachin', 1),\n",
       " ('abhishek', 1),\n",
       " ('sahil', 1),\n",
       " ('navdeep', 1),\n",
       " ('aakash', 1),\n",
       " ('akash', 1),\n",
       " ('ekta', 1),\n",
       " ('rohit', 3),\n",
       " ('mohit', 1),\n",
       " ('ajay', 1),\n",
       " ('vipul', 1),\n",
       " ('simran', 2),\n",
       " ('deepak', 2),\n",
       " ('deepika', 1)]"
      ]
     },
     "execution_count": 50,
     "metadata": {},
     "output_type": "execute_result"
    }
   ],
   "source": [
    "cursor.execute(\"SELECT name,COUNT(*) FROM student_data1 GROUP BY rank\")\n",
    "cursor.fetchall()"
   ]
  },
  {
   "cell_type": "markdown",
   "id": "75a0112c-eaf4-4de6-bbd3-55a52cf42f1c",
   "metadata": {},
   "source": [
    "### group by multiple columns"
   ]
  },
  {
   "cell_type": "code",
   "execution_count": 51,
   "id": "e5e1a7ab-4663-4cd5-8c94-ed48e6902402",
   "metadata": {},
   "outputs": [
    {
     "data": {
      "text/plain": [
       "[('A', 15, 3),\n",
       " ('A', 16, 1),\n",
       " ('A', 20, 1),\n",
       " ('A', 21, 1),\n",
       " ('A', 22, 2),\n",
       " ('A', 24, 2),\n",
       " ('A', 27, 1),\n",
       " ('B', 1, 1),\n",
       " ('B', 2, 1),\n",
       " ('B', 5, 1),\n",
       " ('B', 7, 1),\n",
       " ('B', 8, 1),\n",
       " ('B', 9, 1),\n",
       " ('B', 12, 1),\n",
       " ('B', 13, 1),\n",
       " ('B', 14, 1)]"
      ]
     },
     "execution_count": 51,
     "metadata": {},
     "output_type": "execute_result"
    }
   ],
   "source": [
    "cursor.execute(\"SELECT class_section,rank,count(*) FROM student_data1 GROUP BY class_section,rank\")\n",
    "cursor.fetchall()"
   ]
  },
  {
   "cell_type": "code",
   "execution_count": null,
   "id": "7f9d48c7-7fe2-4449-87ed-621c58661abd",
   "metadata": {},
   "outputs": [],
   "source": []
  },
  {
   "cell_type": "markdown",
   "id": "c72e5944-7b67-4787-8244-cb7861987241",
   "metadata": {},
   "source": [
    "### using aggregate function in group by clause"
   ]
  },
  {
   "cell_type": "code",
   "execution_count": 52,
   "id": "eb1173f1-e7dc-4721-98b6-ca4b86375d91",
   "metadata": {},
   "outputs": [
    {
     "data": {
      "text/plain": [
       "[('A', 343.0), ('B', 443.1111111111111)]"
      ]
     },
     "execution_count": 52,
     "metadata": {},
     "output_type": "execute_result"
    }
   ],
   "source": [
    "cursor.execute(\"SELECT class_section, AVG(total_marks) as avg_marks FROM student_data1 GROUP BY class_section\")\n",
    "cursor.fetchall()"
   ]
  },
  {
   "cell_type": "markdown",
   "id": "96e9fdd9-1162-4e2f-933c-52cffae36667",
   "metadata": {},
   "source": [
    "### group by with order by"
   ]
  },
  {
   "cell_type": "code",
   "execution_count": 55,
   "id": "d304d42a-1d02-439f-99d9-5fb44721324f",
   "metadata": {},
   "outputs": [
    {
     "data": {
      "text/plain": [
       "[('B', 3988), ('A', 3773)]"
      ]
     },
     "execution_count": 55,
     "metadata": {},
     "output_type": "execute_result"
    }
   ],
   "source": [
    "cursor.execute(\"SELECT class_section,SUM(total_marks) AS total_marks FROM student_data1 GROUP BY class_section ORDER BY total_marks DESC\")\n",
    "cursor.fetchall()"
   ]
  },
  {
   "cell_type": "markdown",
   "id": "fe6e8f38-3be1-4644-b433-c68c8de11261",
   "metadata": {},
   "source": [
    "### group by with subqueries"
   ]
  },
  {
   "cell_type": "code",
   "execution_count": 61,
   "id": "7ee119d9-752c-461e-a3fe-6306f233a383",
   "metadata": {},
   "outputs": [
    {
     "data": {
      "text/plain": [
       "[('B', 485)]"
      ]
     },
     "execution_count": 61,
     "metadata": {},
     "output_type": "execute_result"
    }
   ],
   "source": [
    "cursor.execute(\"SELECT class_section,MAX(total_marks) AS highest_marks FROM (SELECT * FROM student_data1 WHERE rank <= 10) AS top_Students GROUP BY class_section\")\n",
    "cursor.fetchall()"
   ]
  },
  {
   "cell_type": "code",
   "execution_count": 62,
   "id": "3312592c-bdae-4687-9f68-3c6e02eac2ac",
   "metadata": {},
   "outputs": [
    {
     "data": {
      "text/plain": [
       "[('A', 400), ('B', 485)]"
      ]
     },
     "execution_count": 62,
     "metadata": {},
     "output_type": "execute_result"
    }
   ],
   "source": [
    "cursor.execute(\"SELECT class_section,MAX(total_marks) AS highest_marks FROM (SELECT * FROM student_data1 WHERE rank <= 20) AS top_Students GROUP BY class_section\")\n",
    "cursor.fetchall()"
   ]
  },
  {
   "cell_type": "code",
   "execution_count": 60,
   "id": "b58c7200-f0db-4b68-8b8f-e91be3ff5569",
   "metadata": {},
   "outputs": [
    {
     "data": {
      "text/plain": [
       "[(400, 15, 'A'),\n",
       " (350, 20, 'A'),\n",
       " (420, 12, 'B'),\n",
       " (410, 13, 'B'),\n",
       " (440, 8, 'B'),\n",
       " (340, 21, 'A'),\n",
       " (400, 15, 'A'),\n",
       " (450, 7, 'B'),\n",
       " (408, 14, 'B'),\n",
       " (460, 5, 'B'),\n",
       " (330, 22, 'A'),\n",
       " (400, 15, 'A'),\n",
       " (330, 22, 'A'),\n",
       " (480, 2, 'B'),\n",
       " (485, 1, 'B'),\n",
       " (250, 27, 'A'),\n",
       " (290, 24, 'A'),\n",
       " (395, 16, 'A'),\n",
       " (288, 24, 'A'),\n",
       " (435, 9, 'B')]"
      ]
     },
     "execution_count": 60,
     "metadata": {},
     "output_type": "execute_result"
    }
   ],
   "source": [
    "cursor.execute(\"SELECT total_marks,rank,class_section from student_data1\")\n",
    "cursor.fetchall()"
   ]
  },
  {
   "cell_type": "markdown",
   "id": "b26295a7-fd6e-4dcf-ae66-d760e03dffaa",
   "metadata": {},
   "source": [
    "# Limit the Output"
   ]
  },
  {
   "cell_type": "code",
   "execution_count": null,
   "id": "b4dbb7bf-3694-44d8-8159-d24743c3a213",
   "metadata": {},
   "outputs": [],
   "source": []
  },
  {
   "cell_type": "code",
   "execution_count": null,
   "id": "a3dc5142-9af5-4493-8179-1848f361b46a",
   "metadata": {},
   "outputs": [],
   "source": []
  },
  {
   "cell_type": "code",
   "execution_count": 63,
   "id": "54dda210-e611-420b-96d9-791dc2dc153b",
   "metadata": {},
   "outputs": [
    {
     "data": {
      "text/plain": [
       "[(15, 'rahul', 485, 1, 'B'),\n",
       " (14, 'mohit', 480, 2, 'B'),\n",
       " (10, 'sachin', 460, 5, 'B'),\n",
       " (8, 'abhishek', 450, 7, 'B'),\n",
       " (5, 'sahil', 440, 8, 'B')]"
      ]
     },
     "execution_count": 63,
     "metadata": {},
     "output_type": "execute_result"
    }
   ],
   "source": [
    " # retrive top five\n",
    "cursor.execute(\"SELECT * FROM student_data1 ORDER BY total_marks DESC LIMIT 5\")\n",
    "cursor.fetchall()"
   ]
  },
  {
   "cell_type": "code",
   "execution_count": 64,
   "id": "ec62e4d7-224e-4a4e-a4cb-6c7844385646",
   "metadata": {},
   "outputs": [
    {
     "data": {
      "text/plain": [
       "[('deepika', 27),\n",
       " ('abhisheek', 24),\n",
       " ('deepak', 24),\n",
       " ('simran', 22),\n",
       " ('ayushi', 22)]"
      ]
     },
     "execution_count": 64,
     "metadata": {},
     "output_type": "execute_result"
    }
   ],
   "source": [
    "cursor.execute(\"SELECT name,rank FROM student_data1 ORDER BY total_marks ASC LIMIT 5\")\n",
    "cursor.fetchall()"
   ]
  },
  {
   "cell_type": "markdown",
   "id": "d0aaaf19-a10b-43ee-b647-30caf6f68925",
   "metadata": {},
   "source": [
    "# SQL joins\n",
    "\n",
    "The SQL Joins clause is used to combine records from two or more tables in a database. A JOIN is a \n",
    "means for combining fields from two tables by using values common to each.\n",
    "\n",
    "## SQL Join Types:\n",
    "There are different types of joins available in SQL:\n",
    "\n",
    "1 INNER JOIN: returns rows when there is a match in both tables.\n",
    "\n",
    "2 LEFT JOIN: returns all rows from the left table, even if there are no matches in the right table.\n",
    "\n",
    "3 RIGHT JOIN: returns all rows from the right table, even if there are no matches in the left table.\n",
    "\n",
    "4 FULL JOIN: returns rows when there is a match in one of the tables.\n",
    "\n",
    "5 SELF JOIN: is used to join a table to itself as if the table were two tables, temporarily renaming at least one \n",
    "table in the SQL statement.\n"
   ]
  },
  {
   "cell_type": "markdown",
   "id": "bc87a26e-878d-4d9c-a06c-c5d2cdcc7084",
   "metadata": {},
   "source": []
  },
  {
   "cell_type": "raw",
   "id": "29055919-4241-4cb3-82dd-9d953bb810f5",
   "metadata": {},
   "source": []
  },
  {
   "cell_type": "code",
   "execution_count": 56,
   "id": "c363ec59-fed6-4e29-9dbe-b02baf0de101",
   "metadata": {},
   "outputs": [],
   "source": [
    "# create batabase"
   ]
  },
  {
   "cell_type": "code",
   "execution_count": 57,
   "id": "f9de5063-18d1-49a0-ba85-1b6eef5df4e8",
   "metadata": {},
   "outputs": [],
   "source": [
    "import sqlite3"
   ]
  },
  {
   "cell_type": "code",
   "execution_count": 61,
   "id": "c15364a6-85d8-4ff4-8679-7c21a63a4395",
   "metadata": {},
   "outputs": [],
   "source": [
    "db2=sqlite3.connect(\"my_db1\")"
   ]
  },
  {
   "cell_type": "code",
   "execution_count": 62,
   "id": "5c3a53c6-bb60-4050-a67b-c81705cba305",
   "metadata": {},
   "outputs": [],
   "source": [
    "# cursor\n",
    "cursor=db2.cursor()"
   ]
  },
  {
   "cell_type": "code",
   "execution_count": 63,
   "id": "9e6ad3b1-6ea8-48e7-92af-d6b792c2f933",
   "metadata": {},
   "outputs": [
    {
     "data": {
      "text/plain": [
       "<sqlite3.Cursor at 0x281f0212ec0>"
      ]
     },
     "execution_count": 63,
     "metadata": {},
     "output_type": "execute_result"
    }
   ],
   "source": [
    "#create table1\n",
    "cursor.execute(\"CREATE TABLE student_data(roll_no INT PRIMARY KEY,name TEXT, total_marks INT,rank INT,class_section TEXT)\")"
   ]
  },
  {
   "cell_type": "code",
   "execution_count": 64,
   "id": "04bdd6b9-2896-4b3e-82ff-d93510a805a8",
   "metadata": {},
   "outputs": [
    {
     "data": {
      "text/plain": [
       "<sqlite3.Cursor at 0x281f0212ec0>"
      ]
     },
     "execution_count": 64,
     "metadata": {},
     "output_type": "execute_result"
    }
   ],
   "source": [
    "# insert data into table 1\n",
    "cursor.execute(\"INSERT INTO student_data(roll_no,name,total_marks,rank,class_section) values(1, 'Rohit', 400, 15, 'A'),(2, 'Ajay', 350, 20, 'B'),(3, 'Aakash', 420, 12, 'A'),(4, 'Akash', 410, 13, 'C'),(5, 'Sahil', 440, 8, 'B'),(6, 'Vipul', 340, 21, 'A'),(7, 'Nikhil', 400, 15, 'C')\")"
   ]
  },
  {
   "cell_type": "code",
   "execution_count": 65,
   "id": "f7a53efb-6279-473a-a669-727a495215d5",
   "metadata": {},
   "outputs": [
    {
     "data": {
      "text/plain": [
       "<sqlite3.Cursor at 0x281f0212ec0>"
      ]
     },
     "execution_count": 65,
     "metadata": {},
     "output_type": "execute_result"
    }
   ],
   "source": [
    "# create second table\n",
    "cursor.execute(\"CREATE TABLE student_subjects(roll_no INT,subject_name TEXT)\")\n",
    "\n",
    "# insert data\n",
    "cursor.execute(\"INSERT INTO student_subjects(roll_no,subject_name) values(1, 'Math'),(1, 'Science'),(2, 'History'),(3, 'Math'),(4, 'Science'),(5, 'History'),(7, 'Math')\")"
   ]
  },
  {
   "cell_type": "code",
   "execution_count": null,
   "id": "ff5e10ab-a55f-49bb-812e-c1ba248157f4",
   "metadata": {},
   "outputs": [],
   "source": []
  },
  {
   "cell_type": "code",
   "execution_count": 66,
   "id": "5c57aee7-7810-4443-afa3-9e05f7c7a434",
   "metadata": {},
   "outputs": [
    {
     "data": {
      "text/plain": [
       "[(1, 'Rohit', 400, 15, 'A'),\n",
       " (2, 'Ajay', 350, 20, 'B'),\n",
       " (3, 'Aakash', 420, 12, 'A'),\n",
       " (4, 'Akash', 410, 13, 'C'),\n",
       " (5, 'Sahil', 440, 8, 'B'),\n",
       " (6, 'Vipul', 340, 21, 'A'),\n",
       " (7, 'Nikhil', 400, 15, 'C')]"
      ]
     },
     "execution_count": 66,
     "metadata": {},
     "output_type": "execute_result"
    }
   ],
   "source": [
    "cursor.execute(\"SELECT * FROM student_data\")\n",
    "cursor.fetchall()"
   ]
  },
  {
   "cell_type": "code",
   "execution_count": 67,
   "id": "fe8ccd1e-b9b4-427a-9630-5ad38069f809",
   "metadata": {},
   "outputs": [
    {
     "data": {
      "text/plain": [
       "[(1, 'Math'),\n",
       " (1, 'Science'),\n",
       " (2, 'History'),\n",
       " (3, 'Math'),\n",
       " (4, 'Science'),\n",
       " (5, 'History'),\n",
       " (7, 'Math')]"
      ]
     },
     "execution_count": 67,
     "metadata": {},
     "output_type": "execute_result"
    }
   ],
   "source": [
    "cursor.execute(\"SELECT * FROM student_subjects\")\n",
    "cursor.fetchall()"
   ]
  },
  {
   "cell_type": "markdown",
   "id": "49c01d74-6c2f-4220-a1c6-d03ac01b0c45",
   "metadata": {},
   "source": [
    "### inner join"
   ]
  },
  {
   "cell_type": "code",
   "execution_count": 68,
   "id": "8e1365f9-0d7c-4ff2-9eda-3bc57dd8b3ea",
   "metadata": {},
   "outputs": [
    {
     "data": {
      "text/plain": [
       "<sqlite3.Cursor at 0x281f0212ec0>"
      ]
     },
     "execution_count": 68,
     "metadata": {},
     "output_type": "execute_result"
    }
   ],
   "source": [
    "cursor.execute(\"SELECT student_data.name,student_data.class_section,student_subjects.subject_name FROM student_data INNER JOIN student_subjects ON student_data.roll_no=student_subjects.roll_no\")"
   ]
  },
  {
   "cell_type": "code",
   "execution_count": 69,
   "id": "c29614e5-3f1b-4236-8a8b-f2d599464a3c",
   "metadata": {},
   "outputs": [
    {
     "data": {
      "text/plain": [
       "[('Rohit', 'A', 'Math'),\n",
       " ('Rohit', 'A', 'Science'),\n",
       " ('Ajay', 'B', 'History'),\n",
       " ('Aakash', 'A', 'Math'),\n",
       " ('Akash', 'C', 'Science'),\n",
       " ('Sahil', 'B', 'History'),\n",
       " ('Nikhil', 'C', 'Math')]"
      ]
     },
     "execution_count": 69,
     "metadata": {},
     "output_type": "execute_result"
    }
   ],
   "source": [
    "cursor.fetchall()"
   ]
  },
  {
   "cell_type": "markdown",
   "id": "2c2d63e0-b1c4-49ac-85d1-dcd723f62b7e",
   "metadata": {},
   "source": [
    "### left join"
   ]
  },
  {
   "cell_type": "code",
   "execution_count": 70,
   "id": "41e2976b-b2a6-4f77-b44e-3108c40013b1",
   "metadata": {},
   "outputs": [
    {
     "data": {
      "text/plain": [
       "[('Rohit', 'A', 'Math'),\n",
       " ('Rohit', 'A', 'Science'),\n",
       " ('Ajay', 'B', 'History'),\n",
       " ('Aakash', 'A', 'Math'),\n",
       " ('Akash', 'C', 'Science'),\n",
       " ('Sahil', 'B', 'History'),\n",
       " ('Vipul', 'A', None),\n",
       " ('Nikhil', 'C', 'Math')]"
      ]
     },
     "execution_count": 70,
     "metadata": {},
     "output_type": "execute_result"
    }
   ],
   "source": [
    "cursor.execute(\"SELECT student_data.name, student_data.class_section, student_subjects.subject_name FROM student_data LEFT JOIN student_subjects ON student_data.roll_no = student_subjects.roll_no\")\n",
    "cursor.fetchall()"
   ]
  },
  {
   "cell_type": "markdown",
   "id": "8b4e4a37-76eb-459c-898f-c1c87084972d",
   "metadata": {},
   "source": [
    "### right join"
   ]
  },
  {
   "cell_type": "code",
   "execution_count": 72,
   "id": "89d0cbbb-a510-4350-b4e0-2d7208ad63c0",
   "metadata": {},
   "outputs": [
    {
     "data": {
      "text/plain": [
       "[('Math', 'Rohit', 'A'),\n",
       " ('Science', 'Rohit', 'A'),\n",
       " ('History', 'Ajay', 'B'),\n",
       " ('Math', 'Aakash', 'A'),\n",
       " ('Science', 'Akash', 'C'),\n",
       " ('History', 'Sahil', 'B'),\n",
       " ('Math', 'Nikhil', 'C'),\n",
       " (None, 'Vipul', 'A')]"
      ]
     },
     "execution_count": 72,
     "metadata": {},
     "output_type": "execute_result"
    }
   ],
   "source": [
    "cursor.execute(\"SELECT student_subjects.subject_name, student_data.name, student_data.class_section FROM student_subjects RIGHT JOIN student_data ON student_subjects.roll_no = student_data.roll_no\")\n",
    "cursor.fetchall()"
   ]
  },
  {
   "cell_type": "markdown",
   "id": "e9c5bbe2-4465-4842-afb8-2e93d64eaf77",
   "metadata": {},
   "source": [
    "### full join"
   ]
  },
  {
   "cell_type": "code",
   "execution_count": 73,
   "id": "9c5e465c-7220-4278-b2cf-e0dad44372b6",
   "metadata": {},
   "outputs": [
    {
     "data": {
      "text/plain": [
       "<sqlite3.Cursor at 0x281f0212ec0>"
      ]
     },
     "execution_count": 73,
     "metadata": {},
     "output_type": "execute_result"
    }
   ],
   "source": [
    "cursor.execute(\"SELECT student_data.name, student_data.class_section, student_subjects.subject_name FROM student_data LEFT JOIN student_subjects ON student_data.roll_no = student_subjects.roll_no UNION SELECT student_data.name, student_data.class_section, student_subjects.subject_name FROM student_subjects LEFT JOIN student_data ON student_subjects.roll_no = student_data.roll_no\")"
   ]
  },
  {
   "cell_type": "code",
   "execution_count": 74,
   "id": "33a11ebc-4729-4b98-93ad-21589dad4faa",
   "metadata": {},
   "outputs": [
    {
     "data": {
      "text/plain": [
       "[('Aakash', 'A', 'Math'),\n",
       " ('Ajay', 'B', 'History'),\n",
       " ('Akash', 'C', 'Science'),\n",
       " ('Nikhil', 'C', 'Math'),\n",
       " ('Rohit', 'A', 'Math'),\n",
       " ('Rohit', 'A', 'Science'),\n",
       " ('Sahil', 'B', 'History'),\n",
       " ('Vipul', 'A', None)]"
      ]
     },
     "execution_count": 74,
     "metadata": {},
     "output_type": "execute_result"
    }
   ],
   "source": [
    "cursor.fetchall()"
   ]
  },
  {
   "cell_type": "markdown",
   "id": "1819ab9a-63f3-41a4-ae6f-eccb671732de",
   "metadata": {},
   "source": [
    "# view"
   ]
  },
  {
   "cell_type": "code",
   "execution_count": 75,
   "id": "ae204dc3-1757-4fe3-b636-1c597b8862db",
   "metadata": {},
   "outputs": [
    {
     "data": {
      "text/plain": [
       "<sqlite3.Cursor at 0x281f0212ec0>"
      ]
     },
     "execution_count": 75,
     "metadata": {},
     "output_type": "execute_result"
    }
   ],
   "source": [
    "cursor.execute(\"CREATE VIEW view_names AS SELECT * FROM student_data\")\n"
   ]
  },
  {
   "cell_type": "code",
   "execution_count": 76,
   "id": "ce801fac-b5b1-4078-b22e-53355fb42d47",
   "metadata": {
    "scrolled": true
   },
   "outputs": [
    {
     "data": {
      "text/plain": [
       "[(1, 'Rohit', 400, 15, 'A'),\n",
       " (2, 'Ajay', 350, 20, 'B'),\n",
       " (3, 'Aakash', 420, 12, 'A'),\n",
       " (4, 'Akash', 410, 13, 'C'),\n",
       " (5, 'Sahil', 440, 8, 'B'),\n",
       " (6, 'Vipul', 340, 21, 'A'),\n",
       " (7, 'Nikhil', 400, 15, 'C')]"
      ]
     },
     "execution_count": 76,
     "metadata": {},
     "output_type": "execute_result"
    }
   ],
   "source": [
    "cursor.execute(\"SELECT * from view_names\")\n",
    "cursor.fetchall()"
   ]
  },
  {
   "cell_type": "code",
   "execution_count": null,
   "id": "0d863bbc-faf1-4869-bfd3-3d21abbfabbc",
   "metadata": {},
   "outputs": [],
   "source": []
  },
  {
   "cell_type": "markdown",
   "id": "34ef49b8-6353-4f80-aff6-50ece0e2059d",
   "metadata": {},
   "source": [
    "# import data from csv to sql"
   ]
  },
  {
   "cell_type": "code",
   "execution_count": 77,
   "id": "5c24eae8-601a-4ece-b1c5-c06be96bde8e",
   "metadata": {},
   "outputs": [
    {
     "name": "stdout",
     "output_type": "stream",
     "text": [
      "(2023, 'SE', 'FT', 'Principal Data Scientist', 80000, 'EUR', 85847, 'ES', 100, 'ES', 'L')\n",
      "(2023, 'MI', 'CT', 'ML Engineer', 30000, 'USD', 30000, 'US', 100, 'US', 'S')\n",
      "(2023, 'MI', 'CT', 'ML Engineer', 25500, 'USD', 25500, 'US', 100, 'US', 'S')\n",
      "(2023, 'SE', 'FT', 'Data Scientist', 175000, 'USD', 175000, 'CA', 100, 'CA', 'M')\n",
      "(2023, 'SE', 'FT', 'Data Scientist', 120000, 'USD', 120000, 'CA', 100, 'CA', 'M')\n",
      "(2023, 'SE', 'FT', 'Applied Scientist', 222200, 'USD', 222200, 'US', 0, 'US', 'L')\n",
      "(2023, 'SE', 'FT', 'Applied Scientist', 136000, 'USD', 136000, 'US', 0, 'US', 'L')\n",
      "(2023, 'SE', 'FT', 'Data Scientist', 219000, 'USD', 219000, 'CA', 0, 'CA', 'M')\n",
      "(2023, 'SE', 'FT', 'Data Scientist', 141000, 'USD', 141000, 'CA', 0, 'CA', 'M')\n",
      "(2023, 'SE', 'FT', 'Data Scientist', 147100, 'USD', 147100, 'US', 0, 'US', 'M')\n"
     ]
    }
   ],
   "source": [
    "import sqlite3\n",
    "import pandas as pd\n",
    "# create database\n",
    "conn = sqlite3.connect('db5')\n",
    "data = pd.read_csv(r'C:\\Users\\SACHIN\\OneDrive\\Documents\\ML MODELS DATA\\ds_salaries.csv')\n",
    "data.to_sql('salary', conn, if_exists='replace', index=False)\n",
    "# connect cursor\n",
    "cursor = conn.cursor()\n",
    "\n",
    "cursor.execute(\"SELECT * FROM salary\")\n",
    "rows = cursor.fetchall()[:10]\n",
    "for row in rows:\n",
    "    print(row)\n"
   ]
  },
  {
   "cell_type": "code",
   "execution_count": 78,
   "id": "b959af2b-df61-4414-908e-0830c732c6c3",
   "metadata": {},
   "outputs": [
    {
     "data": {
      "text/html": [
       "<div>\n",
       "<style scoped>\n",
       "    .dataframe tbody tr th:only-of-type {\n",
       "        vertical-align: middle;\n",
       "    }\n",
       "\n",
       "    .dataframe tbody tr th {\n",
       "        vertical-align: top;\n",
       "    }\n",
       "\n",
       "    .dataframe thead th {\n",
       "        text-align: right;\n",
       "    }\n",
       "</style>\n",
       "<table border=\"1\" class=\"dataframe\">\n",
       "  <thead>\n",
       "    <tr style=\"text-align: right;\">\n",
       "      <th></th>\n",
       "      <th>work_year</th>\n",
       "      <th>experience_level</th>\n",
       "      <th>employment_type</th>\n",
       "      <th>job_title</th>\n",
       "      <th>salary</th>\n",
       "      <th>salary_currency</th>\n",
       "      <th>salary_in_usd</th>\n",
       "      <th>employee_residence</th>\n",
       "      <th>remote_ratio</th>\n",
       "      <th>company_location</th>\n",
       "      <th>company_size</th>\n",
       "    </tr>\n",
       "  </thead>\n",
       "  <tbody>\n",
       "    <tr>\n",
       "      <th>0</th>\n",
       "      <td>2023</td>\n",
       "      <td>SE</td>\n",
       "      <td>FT</td>\n",
       "      <td>Principal Data Scientist</td>\n",
       "      <td>80000</td>\n",
       "      <td>EUR</td>\n",
       "      <td>85847</td>\n",
       "      <td>ES</td>\n",
       "      <td>100</td>\n",
       "      <td>ES</td>\n",
       "      <td>L</td>\n",
       "    </tr>\n",
       "    <tr>\n",
       "      <th>1</th>\n",
       "      <td>2023</td>\n",
       "      <td>MI</td>\n",
       "      <td>CT</td>\n",
       "      <td>ML Engineer</td>\n",
       "      <td>30000</td>\n",
       "      <td>USD</td>\n",
       "      <td>30000</td>\n",
       "      <td>US</td>\n",
       "      <td>100</td>\n",
       "      <td>US</td>\n",
       "      <td>S</td>\n",
       "    </tr>\n",
       "    <tr>\n",
       "      <th>2</th>\n",
       "      <td>2023</td>\n",
       "      <td>MI</td>\n",
       "      <td>CT</td>\n",
       "      <td>ML Engineer</td>\n",
       "      <td>25500</td>\n",
       "      <td>USD</td>\n",
       "      <td>25500</td>\n",
       "      <td>US</td>\n",
       "      <td>100</td>\n",
       "      <td>US</td>\n",
       "      <td>S</td>\n",
       "    </tr>\n",
       "    <tr>\n",
       "      <th>3</th>\n",
       "      <td>2023</td>\n",
       "      <td>SE</td>\n",
       "      <td>FT</td>\n",
       "      <td>Data Scientist</td>\n",
       "      <td>175000</td>\n",
       "      <td>USD</td>\n",
       "      <td>175000</td>\n",
       "      <td>CA</td>\n",
       "      <td>100</td>\n",
       "      <td>CA</td>\n",
       "      <td>M</td>\n",
       "    </tr>\n",
       "    <tr>\n",
       "      <th>4</th>\n",
       "      <td>2023</td>\n",
       "      <td>SE</td>\n",
       "      <td>FT</td>\n",
       "      <td>Data Scientist</td>\n",
       "      <td>120000</td>\n",
       "      <td>USD</td>\n",
       "      <td>120000</td>\n",
       "      <td>CA</td>\n",
       "      <td>100</td>\n",
       "      <td>CA</td>\n",
       "      <td>M</td>\n",
       "    </tr>\n",
       "  </tbody>\n",
       "</table>\n",
       "</div>"
      ],
      "text/plain": [
       "   work_year experience_level employment_type                 job_title  \\\n",
       "0       2023               SE              FT  Principal Data Scientist   \n",
       "1       2023               MI              CT               ML Engineer   \n",
       "2       2023               MI              CT               ML Engineer   \n",
       "3       2023               SE              FT            Data Scientist   \n",
       "4       2023               SE              FT            Data Scientist   \n",
       "\n",
       "   salary salary_currency  salary_in_usd employee_residence  remote_ratio  \\\n",
       "0   80000             EUR          85847                 ES           100   \n",
       "1   30000             USD          30000                 US           100   \n",
       "2   25500             USD          25500                 US           100   \n",
       "3  175000             USD         175000                 CA           100   \n",
       "4  120000             USD         120000                 CA           100   \n",
       "\n",
       "  company_location company_size  \n",
       "0               ES            L  \n",
       "1               US            S  \n",
       "2               US            S  \n",
       "3               CA            M  \n",
       "4               CA            M  "
      ]
     },
     "execution_count": 78,
     "metadata": {},
     "output_type": "execute_result"
    }
   ],
   "source": [
    "data.head()"
   ]
  },
  {
   "cell_type": "code",
   "execution_count": 83,
   "id": "a658b2e8-d7f4-41ce-bd54-0f0f288da042",
   "metadata": {},
   "outputs": [
    {
     "data": {
      "text/plain": [
       "<sqlite3.Cursor at 0x281f0445cc0>"
      ]
     },
     "execution_count": 83,
     "metadata": {},
     "output_type": "execute_result"
    }
   ],
   "source": [
    "cursor.execute(\"PRAGMA table_info(salary)\")\n"
   ]
  },
  {
   "cell_type": "code",
   "execution_count": 84,
   "id": "68f1921f-13ea-4c0a-ae33-41474589c554",
   "metadata": {},
   "outputs": [
    {
     "name": "stdout",
     "output_type": "stream",
     "text": [
      "work_year\n",
      "experience_level\n",
      "employment_type\n",
      "job_title\n",
      "salary\n",
      "salary_currency\n",
      "salary_in_usd\n",
      "employee_residence\n",
      "remote_ratio\n",
      "company_location\n",
      "company_size\n"
     ]
    }
   ],
   "source": [
    "y=cursor.fetchall()\n",
    "for column in y:\n",
    "    print(column[1])"
   ]
  },
  {
   "cell_type": "code",
   "execution_count": 48,
   "id": "20a51722-7795-4925-97ae-ee568b157ad8",
   "metadata": {},
   "outputs": [],
   "source": [
    "query=\"SELECT * FROM salary\"\n",
    "data=pd.read_sql_query(query,conn)"
   ]
  },
  {
   "cell_type": "code",
   "execution_count": 49,
   "id": "1f473af4-c485-4465-b520-235f54d328b9",
   "metadata": {},
   "outputs": [
    {
     "data": {
      "text/html": [
       "<div>\n",
       "<style scoped>\n",
       "    .dataframe tbody tr th:only-of-type {\n",
       "        vertical-align: middle;\n",
       "    }\n",
       "\n",
       "    .dataframe tbody tr th {\n",
       "        vertical-align: top;\n",
       "    }\n",
       "\n",
       "    .dataframe thead th {\n",
       "        text-align: right;\n",
       "    }\n",
       "</style>\n",
       "<table border=\"1\" class=\"dataframe\">\n",
       "  <thead>\n",
       "    <tr style=\"text-align: right;\">\n",
       "      <th></th>\n",
       "      <th>work_year</th>\n",
       "      <th>experience_level</th>\n",
       "      <th>employment_type</th>\n",
       "      <th>job_title</th>\n",
       "      <th>salary</th>\n",
       "      <th>salary_currency</th>\n",
       "      <th>salary_in_usd</th>\n",
       "      <th>employee_residence</th>\n",
       "      <th>remote_ratio</th>\n",
       "      <th>company_location</th>\n",
       "      <th>company_size</th>\n",
       "    </tr>\n",
       "  </thead>\n",
       "  <tbody>\n",
       "    <tr>\n",
       "      <th>0</th>\n",
       "      <td>2023</td>\n",
       "      <td>SE</td>\n",
       "      <td>FT</td>\n",
       "      <td>Principal Data Scientist</td>\n",
       "      <td>80000</td>\n",
       "      <td>EUR</td>\n",
       "      <td>85847</td>\n",
       "      <td>ES</td>\n",
       "      <td>100</td>\n",
       "      <td>ES</td>\n",
       "      <td>L</td>\n",
       "    </tr>\n",
       "    <tr>\n",
       "      <th>1</th>\n",
       "      <td>2023</td>\n",
       "      <td>MI</td>\n",
       "      <td>CT</td>\n",
       "      <td>ML Engineer</td>\n",
       "      <td>30000</td>\n",
       "      <td>USD</td>\n",
       "      <td>30000</td>\n",
       "      <td>US</td>\n",
       "      <td>100</td>\n",
       "      <td>US</td>\n",
       "      <td>S</td>\n",
       "    </tr>\n",
       "    <tr>\n",
       "      <th>2</th>\n",
       "      <td>2023</td>\n",
       "      <td>MI</td>\n",
       "      <td>CT</td>\n",
       "      <td>ML Engineer</td>\n",
       "      <td>25500</td>\n",
       "      <td>USD</td>\n",
       "      <td>25500</td>\n",
       "      <td>US</td>\n",
       "      <td>100</td>\n",
       "      <td>US</td>\n",
       "      <td>S</td>\n",
       "    </tr>\n",
       "    <tr>\n",
       "      <th>3</th>\n",
       "      <td>2023</td>\n",
       "      <td>SE</td>\n",
       "      <td>FT</td>\n",
       "      <td>Data Scientist</td>\n",
       "      <td>175000</td>\n",
       "      <td>USD</td>\n",
       "      <td>175000</td>\n",
       "      <td>CA</td>\n",
       "      <td>100</td>\n",
       "      <td>CA</td>\n",
       "      <td>M</td>\n",
       "    </tr>\n",
       "    <tr>\n",
       "      <th>4</th>\n",
       "      <td>2023</td>\n",
       "      <td>SE</td>\n",
       "      <td>FT</td>\n",
       "      <td>Data Scientist</td>\n",
       "      <td>120000</td>\n",
       "      <td>USD</td>\n",
       "      <td>120000</td>\n",
       "      <td>CA</td>\n",
       "      <td>100</td>\n",
       "      <td>CA</td>\n",
       "      <td>M</td>\n",
       "    </tr>\n",
       "    <tr>\n",
       "      <th>...</th>\n",
       "      <td>...</td>\n",
       "      <td>...</td>\n",
       "      <td>...</td>\n",
       "      <td>...</td>\n",
       "      <td>...</td>\n",
       "      <td>...</td>\n",
       "      <td>...</td>\n",
       "      <td>...</td>\n",
       "      <td>...</td>\n",
       "      <td>...</td>\n",
       "      <td>...</td>\n",
       "    </tr>\n",
       "    <tr>\n",
       "      <th>3750</th>\n",
       "      <td>2020</td>\n",
       "      <td>SE</td>\n",
       "      <td>FT</td>\n",
       "      <td>Data Scientist</td>\n",
       "      <td>412000</td>\n",
       "      <td>USD</td>\n",
       "      <td>412000</td>\n",
       "      <td>US</td>\n",
       "      <td>100</td>\n",
       "      <td>US</td>\n",
       "      <td>L</td>\n",
       "    </tr>\n",
       "    <tr>\n",
       "      <th>3751</th>\n",
       "      <td>2021</td>\n",
       "      <td>MI</td>\n",
       "      <td>FT</td>\n",
       "      <td>Principal Data Scientist</td>\n",
       "      <td>151000</td>\n",
       "      <td>USD</td>\n",
       "      <td>151000</td>\n",
       "      <td>US</td>\n",
       "      <td>100</td>\n",
       "      <td>US</td>\n",
       "      <td>L</td>\n",
       "    </tr>\n",
       "    <tr>\n",
       "      <th>3752</th>\n",
       "      <td>2020</td>\n",
       "      <td>EN</td>\n",
       "      <td>FT</td>\n",
       "      <td>Data Scientist</td>\n",
       "      <td>105000</td>\n",
       "      <td>USD</td>\n",
       "      <td>105000</td>\n",
       "      <td>US</td>\n",
       "      <td>100</td>\n",
       "      <td>US</td>\n",
       "      <td>S</td>\n",
       "    </tr>\n",
       "    <tr>\n",
       "      <th>3753</th>\n",
       "      <td>2020</td>\n",
       "      <td>EN</td>\n",
       "      <td>CT</td>\n",
       "      <td>Business Data Analyst</td>\n",
       "      <td>100000</td>\n",
       "      <td>USD</td>\n",
       "      <td>100000</td>\n",
       "      <td>US</td>\n",
       "      <td>100</td>\n",
       "      <td>US</td>\n",
       "      <td>L</td>\n",
       "    </tr>\n",
       "    <tr>\n",
       "      <th>3754</th>\n",
       "      <td>2021</td>\n",
       "      <td>SE</td>\n",
       "      <td>FT</td>\n",
       "      <td>Data Science Manager</td>\n",
       "      <td>7000000</td>\n",
       "      <td>INR</td>\n",
       "      <td>94665</td>\n",
       "      <td>IN</td>\n",
       "      <td>50</td>\n",
       "      <td>IN</td>\n",
       "      <td>L</td>\n",
       "    </tr>\n",
       "  </tbody>\n",
       "</table>\n",
       "<p>3755 rows × 11 columns</p>\n",
       "</div>"
      ],
      "text/plain": [
       "      work_year experience_level employment_type                 job_title  \\\n",
       "0          2023               SE              FT  Principal Data Scientist   \n",
       "1          2023               MI              CT               ML Engineer   \n",
       "2          2023               MI              CT               ML Engineer   \n",
       "3          2023               SE              FT            Data Scientist   \n",
       "4          2023               SE              FT            Data Scientist   \n",
       "...         ...              ...             ...                       ...   \n",
       "3750       2020               SE              FT            Data Scientist   \n",
       "3751       2021               MI              FT  Principal Data Scientist   \n",
       "3752       2020               EN              FT            Data Scientist   \n",
       "3753       2020               EN              CT     Business Data Analyst   \n",
       "3754       2021               SE              FT      Data Science Manager   \n",
       "\n",
       "       salary salary_currency  salary_in_usd employee_residence  remote_ratio  \\\n",
       "0       80000             EUR          85847                 ES           100   \n",
       "1       30000             USD          30000                 US           100   \n",
       "2       25500             USD          25500                 US           100   \n",
       "3      175000             USD         175000                 CA           100   \n",
       "4      120000             USD         120000                 CA           100   \n",
       "...       ...             ...            ...                ...           ...   \n",
       "3750   412000             USD         412000                 US           100   \n",
       "3751   151000             USD         151000                 US           100   \n",
       "3752   105000             USD         105000                 US           100   \n",
       "3753   100000             USD         100000                 US           100   \n",
       "3754  7000000             INR          94665                 IN            50   \n",
       "\n",
       "     company_location company_size  \n",
       "0                  ES            L  \n",
       "1                  US            S  \n",
       "2                  US            S  \n",
       "3                  CA            M  \n",
       "4                  CA            M  \n",
       "...               ...          ...  \n",
       "3750               US            L  \n",
       "3751               US            L  \n",
       "3752               US            S  \n",
       "3753               US            L  \n",
       "3754               IN            L  \n",
       "\n",
       "[3755 rows x 11 columns]"
      ]
     },
     "execution_count": 49,
     "metadata": {},
     "output_type": "execute_result"
    }
   ],
   "source": [
    "data"
   ]
  },
  {
   "cell_type": "code",
   "execution_count": 51,
   "id": "5f2838cf-6bd1-4389-8fc3-92dfe2297f54",
   "metadata": {
    "collapsed": true,
    "jupyter": {
     "outputs_hidden": true
    }
   },
   "outputs": [
    {
     "name": "stdout",
     "output_type": "stream",
     "text": [
      "(2023, 'SE', 'FT', 'Data Scientist', 175000, 'USD', 175000, 'CA', 100, 'CA', 'M')\n",
      "(2023, 'SE', 'FT', 'Data Scientist', 120000, 'USD', 120000, 'CA', 100, 'CA', 'M')\n",
      "(2023, 'SE', 'FT', 'Applied Scientist', 222200, 'USD', 222200, 'US', 0, 'US', 'L')\n",
      "(2023, 'SE', 'FT', 'Applied Scientist', 136000, 'USD', 136000, 'US', 0, 'US', 'L')\n",
      "(2023, 'SE', 'FT', 'Data Scientist', 219000, 'USD', 219000, 'CA', 0, 'CA', 'M')\n",
      "(2023, 'SE', 'FT', 'Data Scientist', 141000, 'USD', 141000, 'CA', 0, 'CA', 'M')\n",
      "(2023, 'SE', 'FT', 'Data Scientist', 147100, 'USD', 147100, 'US', 0, 'US', 'M')\n",
      "(2023, 'SE', 'FT', 'Data Analyst', 130000, 'USD', 130000, 'US', 100, 'US', 'M')\n",
      "(2023, 'EN', 'FT', 'Applied Scientist', 213660, 'USD', 213660, 'US', 0, 'US', 'L')\n",
      "(2023, 'EN', 'FT', 'Applied Scientist', 130760, 'USD', 130760, 'US', 0, 'US', 'L')\n",
      "(2023, 'SE', 'FT', 'Data Modeler', 147100, 'USD', 147100, 'US', 0, 'US', 'M')\n",
      "(2023, 'SE', 'FT', 'Data Scientist', 170000, 'USD', 170000, 'US', 0, 'US', 'M')\n",
      "(2023, 'SE', 'FT', 'Data Scientist', 150000, 'USD', 150000, 'US', 0, 'US', 'M')\n",
      "(2023, 'MI', 'FT', 'Data Analyst', 150000, 'USD', 150000, 'US', 100, 'US', 'M')\n",
      "(2023, 'MI', 'FT', 'Data Analyst', 110000, 'USD', 110000, 'US', 100, 'US', 'M')\n",
      "(2023, 'SE', 'FT', 'Research Engineer', 275000, 'USD', 275000, 'DE', 0, 'DE', 'M')\n",
      "(2023, 'SE', 'FT', 'Research Engineer', 174000, 'USD', 174000, 'DE', 0, 'DE', 'M')\n",
      "(2023, 'SE', 'FT', 'Analytics Engineer', 230000, 'USD', 230000, 'GB', 100, 'GB', 'M')\n",
      "(2023, 'SE', 'FT', 'Analytics Engineer', 143200, 'USD', 143200, 'GB', 100, 'GB', 'M')\n",
      "(2023, 'SE', 'FT', 'Business Intelligence Engineer', 225000, 'USD', 225000, 'US', 0, 'US', 'M')\n",
      "(2023, 'SE', 'FT', 'Business Intelligence Engineer', 156400, 'USD', 156400, 'US', 0, 'US', 'M')\n",
      "(2023, 'SE', 'FT', 'Machine Learning Engineer', 200000, 'USD', 200000, 'US', 0, 'US', 'M')\n",
      "(2023, 'SE', 'FT', 'Machine Learning Engineer', 130000, 'USD', 130000, 'US', 0, 'US', 'M')\n",
      "(2023, 'SE', 'FT', 'Data Engineer', 253200, 'USD', 253200, 'US', 0, 'US', 'M')\n",
      "(2023, 'SE', 'FT', 'Computer Vision Engineer', 342810, 'USD', 342810, 'US', 0, 'US', 'M')\n",
      "(2023, 'SE', 'FT', 'Computer Vision Engineer', 184590, 'USD', 184590, 'US', 0, 'US', 'M')\n",
      "(2023, 'MI', 'FT', 'Data Engineer', 162500, 'USD', 162500, 'US', 0, 'US', 'M')\n",
      "(2023, 'MI', 'FT', 'Data Engineer', 130000, 'USD', 130000, 'US', 0, 'US', 'M')\n",
      "(2023, 'MI', 'FT', 'Data Analyst', 105380, 'USD', 105380, 'US', 0, 'US', 'M')\n",
      "(2022, 'MI', 'FT', 'Machine Learning Engineer', 1650000, 'INR', 20984, 'IN', 50, 'IN', 'L')\n",
      "(2023, 'EN', 'FT', 'Applied Scientist', 204620, 'USD', 204620, 'US', 0, 'US', 'L')\n",
      "(2023, 'EN', 'FT', 'Applied Scientist', 110680, 'USD', 110680, 'US', 0, 'US', 'L')\n",
      "(2023, 'SE', 'FT', 'Data Engineer', 270703, 'USD', 270703, 'US', 0, 'US', 'M')\n",
      "(2023, 'SE', 'FT', 'Data Engineer', 221484, 'USD', 221484, 'US', 0, 'US', 'M')\n",
      "(2023, 'SE', 'FT', 'Data Scientist', 212750, 'USD', 212750, 'US', 100, 'US', 'M')\n",
      "(2023, 'SE', 'FT', 'Data Scientist', 185000, 'USD', 185000, 'US', 100, 'US', 'M')\n",
      "(2023, 'SE', 'FT', 'Data Scientist', 262000, 'USD', 262000, 'US', 100, 'US', 'M')\n",
      "(2023, 'SE', 'FT', 'Data Scientist', 245000, 'USD', 245000, 'US', 100, 'US', 'M')\n",
      "(2023, 'SE', 'FT', 'Data Scientist', 275300, 'USD', 275300, 'US', 100, 'US', 'M')\n",
      "(2023, 'SE', 'FT', 'Data Scientist', 183500, 'USD', 183500, 'US', 100, 'US', 'M')\n",
      "(2023, 'SE', 'FT', 'Data Scientist', 218500, 'USD', 218500, 'US', 100, 'US', 'M')\n",
      "(2023, 'SE', 'FT', 'Data Scientist', 199098, 'USD', 199098, 'US', 100, 'US', 'M')\n",
      "(2023, 'SE', 'FT', 'Data Engineer', 203300, 'USD', 203300, 'US', 100, 'US', 'M')\n",
      "(2023, 'SE', 'FT', 'Data Engineer', 123600, 'USD', 123600, 'US', 100, 'US', 'M')\n",
      "(2023, 'SE', 'FT', 'Research Engineer', 189110, 'USD', 189110, 'US', 0, 'US', 'M')\n",
      "(2023, 'SE', 'FT', 'Research Engineer', 139000, 'USD', 139000, 'US', 0, 'US', 'M')\n",
      "(2023, 'EX', 'FT', 'Data Scientist', 258750, 'USD', 258750, 'US', 0, 'US', 'M')\n",
      "(2023, 'EX', 'FT', 'Data Scientist', 185000, 'USD', 185000, 'US', 0, 'US', 'M')\n",
      "(2023, 'SE', 'FT', 'Data Engineer', 231500, 'USD', 231500, 'US', 100, 'US', 'M')\n",
      "(2023, 'SE', 'FT', 'Data Engineer', 166000, 'USD', 166000, 'US', 100, 'US', 'M')\n",
      "(2023, 'SE', 'FT', 'Data Scientist', 172500, 'USD', 172500, 'US', 100, 'US', 'M')\n",
      "(2023, 'SE', 'FT', 'Data Scientist', 110500, 'USD', 110500, 'US', 100, 'US', 'M')\n",
      "(2023, 'SE', 'FT', 'Data Engineer', 238000, 'USD', 238000, 'US', 0, 'US', 'M')\n",
      "(2023, 'SE', 'FT', 'Data Engineer', 176000, 'USD', 176000, 'US', 0, 'US', 'M')\n",
      "(2023, 'SE', 'FT', 'Data Engineer', 237000, 'USD', 237000, 'US', 100, 'US', 'M')\n",
      "(2023, 'SE', 'FT', 'Data Engineer', 201450, 'USD', 201450, 'US', 100, 'US', 'M')\n",
      "(2023, 'SE', 'FT', 'Applied Scientist', 309400, 'USD', 309400, 'US', 0, 'US', 'L')\n",
      "(2023, 'SE', 'FT', 'Applied Scientist', 159100, 'USD', 159100, 'US', 0, 'US', 'L')\n",
      "(2023, 'SE', 'FT', 'Data Engineer', 115000, 'USD', 115000, 'US', 0, 'US', 'M')\n",
      "(2023, 'SE', 'FT', 'Data Scientist', 237000, 'USD', 237000, 'US', 100, 'US', 'M')\n",
      "(2023, 'SE', 'FT', 'Data Scientist', 201450, 'USD', 201450, 'US', 100, 'US', 'M')\n",
      "(2023, 'SE', 'FT', 'Computer Vision Engineer', 280000, 'USD', 280000, 'US', 0, 'US', 'M')\n",
      "(2023, 'SE', 'FT', 'Computer Vision Engineer', 210000, 'USD', 210000, 'US', 0, 'US', 'M')\n",
      "(2023, 'SE', 'FT', 'Data Architect', 280100, 'USD', 280100, 'US', 100, 'US', 'M')\n",
      "(2023, 'SE', 'FT', 'Data Architect', 168100, 'USD', 168100, 'US', 100, 'US', 'M')\n",
      "(2023, 'SE', 'FT', 'Data Engineer', 193500, 'USD', 193500, 'US', 100, 'US', 'M')\n",
      "(2023, 'SE', 'FT', 'Data Engineer', 139000, 'USD', 139000, 'US', 100, 'US', 'M')\n",
      "(2023, 'MI', 'FT', 'Data Scientist', 510000, 'HKD', 65062, 'HK', 0, 'HK', 'L')\n",
      "(2023, 'SE', 'FT', 'Machine Learning Engineer', 150000, 'USD', 150000, 'PT', 100, 'US', 'M')\n",
      "(2022, 'EN', 'FT', 'AI Developer', 300000, 'USD', 300000, 'IN', 50, 'IN', 'L')\n",
      "(2023, 'SE', 'FT', 'Business Intelligence Engineer', 185900, 'USD', 185900, 'US', 0, 'US', 'M')\n",
      "(2023, 'SE', 'FT', 'Business Intelligence Engineer', 129300, 'USD', 129300, 'US', 0, 'US', 'M')\n",
      "(2023, 'SE', 'FT', 'Data Engineer', 225000, 'USD', 225000, 'US', 100, 'US', 'M')\n",
      "(2023, 'SE', 'FT', 'Data Engineer', 175000, 'USD', 175000, 'US', 100, 'US', 'M')\n",
      "(2023, 'SE', 'FT', 'Data Engineer', 185000, 'USD', 185000, 'US', 0, 'US', 'M')\n",
      "(2023, 'SE', 'FT', 'Data Engineer', 140000, 'USD', 140000, 'US', 0, 'US', 'M')\n",
      "(2023, 'SE', 'FT', 'Data Scientist', 105000, 'USD', 105000, 'US', 0, 'US', 'M')\n",
      "(2023, 'EN', 'FT', 'Machine Learning Engineer', 163196, 'USD', 163196, 'US', 0, 'US', 'M')\n",
      "(2023, 'EN', 'FT', 'Machine Learning Engineer', 145885, 'USD', 145885, 'US', 0, 'US', 'M')\n",
      "(2023, 'SE', 'FT', 'Data Engineer', 217000, 'USD', 217000, 'US', 100, 'US', 'M')\n",
      "(2023, 'SE', 'FT', 'Data Engineer', 185000, 'USD', 185000, 'US', 100, 'US', 'M')\n",
      "(2023, 'SE', 'FT', 'Data Analyst', 202800, 'USD', 202800, 'US', 0, 'US', 'L')\n",
      "(2023, 'SE', 'FT', 'Data Analyst', 104300, 'USD', 104300, 'US', 0, 'US', 'L')\n",
      "(2023, 'SE', 'FT', 'Data Analyst', 145000, 'USD', 145000, 'US', 0, 'US', 'M')\n",
      "(2023, 'SE', 'FT', 'Data Engineer', 165000, 'USD', 165000, 'US', 0, 'US', 'M')\n",
      "(2023, 'SE', 'FT', 'Data Engineer', 132300, 'USD', 132300, 'US', 0, 'US', 'M')\n",
      "(2023, 'SE', 'FT', 'Data Engineer', 179170, 'USD', 179170, 'US', 0, 'US', 'M')\n",
      "(2023, 'SE', 'FT', 'Analytics Engineer', 152500, 'USD', 152500, 'US', 0, 'US', 'M')\n",
      "(2023, 'SE', 'FT', 'Analytics Engineer', 116450, 'USD', 116450, 'US', 0, 'US', 'M')\n",
      "(2023, 'SE', 'FT', 'Data Engineer', 247300, 'USD', 247300, 'US', 0, 'US', 'M')\n",
      "(2023, 'SE', 'FT', 'Data Engineer', 133800, 'USD', 133800, 'US', 0, 'US', 'M')\n",
      "(2023, 'SE', 'FT', 'Research Engineer', 203000, 'USD', 203000, 'US', 0, 'US', 'M')\n",
      "(2023, 'SE', 'FT', 'Research Engineer', 133000, 'USD', 133000, 'US', 0, 'US', 'M')\n",
      "(2023, 'EN', 'FT', 'Research Scientist', 220000, 'USD', 220000, 'US', 50, 'US', 'L')\n",
      "(2023, 'SE', 'FT', 'Data Scientist', 150000, 'USD', 150000, 'US', 0, 'US', 'M')\n",
      "(2023, 'SE', 'FT', 'Data Scientist', 120000, 'USD', 120000, 'US', 0, 'US', 'M')\n",
      "(2023, 'SE', 'FT', 'Analytics Engineer', 289800, 'USD', 289800, 'US', 0, 'US', 'M')\n",
      "(2023, 'SE', 'FT', 'Analytics Engineer', 214000, 'USD', 214000, 'US', 0, 'US', 'M')\n",
      "(2023, 'SE', 'FT', 'Analytics Engineer', 179820, 'USD', 179820, 'US', 0, 'US', 'M')\n",
      "(2023, 'SE', 'FT', 'Analytics Engineer', 143860, 'USD', 143860, 'US', 0, 'US', 'M')\n",
      "(2023, 'SE', 'FT', 'Machine Learning Engineer', 283200, 'USD', 283200, 'US', 100, 'US', 'M')\n",
      "(2023, 'SE', 'FT', 'Machine Learning Engineer', 188800, 'USD', 188800, 'US', 100, 'US', 'M')\n",
      "(2023, 'SE', 'FT', 'Analytics Engineer', 289800, 'USD', 289800, 'US', 0, 'US', 'M')\n",
      "(2023, 'SE', 'FT', 'Analytics Engineer', 214200, 'USD', 214200, 'US', 0, 'US', 'M')\n",
      "(2023, 'SE', 'FT', 'Data Engineer', 185900, 'USD', 185900, 'US', 0, 'US', 'M')\n",
      "(2023, 'SE', 'FT', 'Data Engineer', 129300, 'USD', 129300, 'US', 0, 'US', 'M')\n",
      "(2023, 'SE', 'FT', 'Data Engineer', 252000, 'USD', 252000, 'US', 0, 'US', 'M')\n",
      "(2023, 'SE', 'FT', 'Data Engineer', 129000, 'USD', 129000, 'US', 0, 'US', 'M')\n",
      "(2023, 'MI', 'FT', 'Data Analytics Manager', 155000, 'USD', 155000, 'US', 0, 'US', 'M')\n",
      "(2023, 'MI', 'FT', 'Data Analytics Manager', 140000, 'USD', 140000, 'US', 0, 'US', 'M')\n",
      "(2023, 'SE', 'FT', 'Data Engineer', 161800, 'USD', 161800, 'US', 100, 'US', 'M')\n",
      "(2023, 'SE', 'FT', 'Data Engineer', 141600, 'USD', 141600, 'US', 100, 'US', 'M')\n",
      "(2023, 'SE', 'FT', 'Machine Learning Engineer', 342300, 'USD', 342300, 'US', 0, 'US', 'L')\n",
      "(2023, 'SE', 'FT', 'Machine Learning Engineer', 176100, 'USD', 176100, 'US', 0, 'US', 'L')\n",
      "(2023, 'SE', 'FT', 'Data Scientist', 138784, 'USD', 138784, 'US', 100, 'US', 'M')\n",
      "(2023, 'SE', 'FT', 'Data Analyst', 204500, 'USD', 204500, 'US', 0, 'US', 'M')\n",
      "(2023, 'SE', 'FT', 'Data Analyst', 138900, 'USD', 138900, 'US', 0, 'US', 'M')\n",
      "(2023, 'SE', 'FT', 'Machine Learning Engineer', 318300, 'USD', 318300, 'US', 100, 'US', 'M')\n",
      "(2023, 'SE', 'FT', 'Machine Learning Engineer', 212200, 'USD', 212200, 'US', 100, 'US', 'M')\n",
      "(2023, 'SE', 'FT', 'Data Scientist', 195000, 'USD', 195000, 'US', 0, 'US', 'M')\n",
      "(2023, 'SE', 'FT', 'Data Scientist', 160000, 'USD', 160000, 'US', 0, 'US', 'M')\n",
      "(2023, 'SE', 'FT', 'Analytics Engineer', 230000, 'USD', 230000, 'US', 0, 'US', 'M')\n",
      "(2023, 'SE', 'FT', 'Analytics Engineer', 143200, 'USD', 143200, 'US', 0, 'US', 'M')\n",
      "(2023, 'MI', 'FT', 'Business Data Analyst', 105000, 'USD', 105000, 'US', 50, 'US', 'L')\n",
      "(2023, 'MI', 'FT', 'Applied Data Scientist', 1700000, 'INR', 20670, 'IN', 100, 'IN', 'L')\n",
      "(2023, 'SE', 'FT', 'Data Engineer', 145000, 'USD', 145000, 'US', 0, 'US', 'M')\n",
      "(2023, 'SE', 'FT', 'Data Engineer', 115000, 'USD', 115000, 'US', 0, 'US', 'M')\n",
      "(2023, 'SE', 'FT', 'Data Analyst', 168400, 'USD', 168400, 'US', 0, 'US', 'M')\n",
      "(2023, 'SE', 'FT', 'Data Analyst', 105200, 'USD', 105200, 'US', 0, 'US', 'M')\n",
      "(2023, 'SE', 'FT', 'Applied Scientist', 309400, 'USD', 309400, 'US', 0, 'US', 'L')\n",
      "(2023, 'SE', 'FT', 'Applied Scientist', 159100, 'USD', 159100, 'US', 0, 'US', 'L')\n",
      "(2023, 'SE', 'FT', 'Machine Learning Engineer', 190000, 'USD', 190000, 'US', 0, 'US', 'M')\n",
      "(2023, 'SE', 'FT', 'Machine Learning Engineer', 150000, 'USD', 150000, 'US', 0, 'US', 'M')\n",
      "(2023, 'MI', 'FT', 'Data Engineer', 162500, 'USD', 162500, 'US', 0, 'US', 'M')\n",
      "(2023, 'MI', 'FT', 'Data Engineer', 130000, 'USD', 130000, 'US', 0, 'US', 'M')\n",
      "(2023, 'SE', 'FT', 'Analytics Engineer', 150000, 'USD', 150000, 'US', 100, 'US', 'M')\n",
      "(2023, 'SE', 'FT', 'Analytics Engineer', 120000, 'USD', 120000, 'US', 100, 'US', 'M')\n",
      "(2023, 'SE', 'FT', 'Data Engineer', 145000, 'USD', 145000, 'US', 0, 'US', 'M')\n",
      "(2023, 'SE', 'FT', 'Data Engineer', 120000, 'USD', 120000, 'US', 0, 'US', 'M')\n",
      "(2023, 'SE', 'FT', 'Applied Scientist', 222200, 'USD', 222200, 'US', 0, 'US', 'L')\n",
      "(2023, 'SE', 'FT', 'Applied Scientist', 136000, 'USD', 136000, 'US', 0, 'US', 'L')\n",
      "(2023, 'SE', 'FT', 'Data Engineer', 241000, 'USD', 241000, 'US', 0, 'US', 'M')\n",
      "(2023, 'SE', 'FT', 'Data Engineer', 155000, 'USD', 155000, 'US', 0, 'US', 'M')\n",
      "(2023, 'SE', 'FT', 'Data Engineer', 220000, 'USD', 220000, 'US', 100, 'US', 'M')\n",
      "(2023, 'SE', 'FT', 'Data Engineer', 190000, 'USD', 190000, 'US', 100, 'US', 'M')\n",
      "(2023, 'SE', 'FT', 'Data Engineer', 160000, 'USD', 160000, 'US', 0, 'US', 'M')\n",
      "(2023, 'SE', 'FT', 'Data Engineer', 140000, 'USD', 140000, 'US', 0, 'US', 'M')\n",
      "(2023, 'MI', 'FT', 'Machine Learning Engineer', 300000, 'USD', 300000, 'US', 0, 'US', 'M')\n",
      "(2023, 'MI', 'FT', 'Machine Learning Engineer', 250000, 'USD', 250000, 'US', 0, 'US', 'M')\n",
      "(2023, 'SE', 'FT', 'Data Scientist', 228000, 'USD', 228000, 'US', 0, 'US', 'M')\n",
      "(2023, 'SE', 'FT', 'Data Scientist', 186000, 'USD', 186000, 'US', 0, 'US', 'M')\n",
      "(2023, 'SE', 'FT', 'Data Scientist', 190000, 'USD', 190000, 'US', 0, 'US', 'M')\n",
      "(2023, 'SE', 'FT', 'Data Scientist', 170000, 'USD', 170000, 'US', 0, 'US', 'M')\n",
      "(2023, 'MI', 'FT', 'Research Engineer', 230000, 'USD', 230000, 'US', 0, 'US', 'M')\n",
      "(2023, 'MI', 'FT', 'Research Engineer', 200000, 'USD', 200000, 'US', 0, 'US', 'M')\n",
      "(2023, 'SE', 'FT', 'Data Architect', 180000, 'USD', 180000, 'US', 100, 'US', 'M')\n",
      "(2023, 'SE', 'FT', 'Data Architect', 115000, 'USD', 115000, 'US', 100, 'US', 'M')\n",
      "(2023, 'SE', 'FT', 'Data Architect', 200000, 'USD', 200000, 'US', 100, 'US', 'M')\n",
      "(2023, 'SE', 'FT', 'Data Architect', 115000, 'USD', 115000, 'US', 100, 'US', 'M')\n",
      "(2023, 'EX', 'FT', 'Data Engineer', 220000, 'USD', 220000, 'US', 0, 'US', 'M')\n",
      "(2023, 'EX', 'FT', 'Data Engineer', 205000, 'USD', 205000, 'US', 0, 'US', 'M')\n",
      "(2023, 'MI', 'FT', 'Data Engineer', 180000, 'USD', 180000, 'US', 0, 'US', 'M')\n",
      "(2023, 'MI', 'FT', 'Data Engineer', 130000, 'USD', 130000, 'US', 0, 'US', 'M')\n",
      "(2023, 'SE', 'FT', 'Data Engineer', 200000, 'USD', 200000, 'US', 100, 'US', 'M')\n",
      "(2023, 'SE', 'FT', 'Data Engineer', 150000, 'USD', 150000, 'US', 100, 'US', 'M')\n",
      "(2023, 'SE', 'FT', 'Computer Vision Engineer', 215000, 'USD', 215000, 'US', 0, 'US', 'M')\n",
      "(2023, 'SE', 'FT', 'Computer Vision Engineer', 170000, 'USD', 170000, 'US', 0, 'US', 'M')\n",
      "(2023, 'SE', 'FT', 'Machine Learning Engineer', 247500, 'USD', 247500, 'US', 0, 'US', 'M')\n",
      "(2023, 'SE', 'FT', 'Machine Learning Engineer', 172200, 'USD', 172200, 'US', 0, 'US', 'M')\n",
      "(2023, 'SE', 'FT', 'Data Scientist', 224000, 'USD', 224000, 'CA', 0, 'CA', 'M')\n",
      "(2023, 'SE', 'FT', 'Data Scientist', 176000, 'USD', 176000, 'CA', 0, 'CA', 'M')\n",
      "(2023, 'SE', 'FT', 'Data Analyst', 120000, 'USD', 120000, 'US', 100, 'US', 'M')\n",
      "(2023, 'EN', 'FT', 'Data Engineer', 1400000, 'INR', 17022, 'IN', 100, 'IN', 'L')\n",
      "(2023, 'SE', 'FT', 'Data Analyst', 140000, 'USD', 140000, 'US', 0, 'US', 'M')\n",
      "(2023, 'SE', 'FT', 'Data Analyst', 120000, 'USD', 120000, 'US', 0, 'US', 'M')\n",
      "(2023, 'SE', 'FT', 'Data Engineer', 128000, 'USD', 128000, 'US', 0, 'US', 'M')\n",
      "(2023, 'SE', 'FT', 'Data Engineer', 145000, 'USD', 145000, 'US', 0, 'US', 'M')\n",
      "(2023, 'SE', 'FT', 'Data Engineer', 115000, 'USD', 115000, 'US', 0, 'US', 'M')\n",
      "(2023, 'SE', 'FT', 'Data Engineer', 185000, 'USD', 185000, 'US', 0, 'US', 'M')\n",
      "(2023, 'SE', 'FT', 'Data Engineer', 140000, 'USD', 140000, 'US', 0, 'US', 'M')\n",
      "(2023, 'EX', 'FT', 'Head of Data', 329500, 'USD', 329500, 'US', 0, 'US', 'M')\n",
      "(2023, 'EX', 'FT', 'Head of Data', 269600, 'USD', 269600, 'US', 0, 'US', 'M')\n",
      "(2023, 'SE', 'FT', 'Data Scientist', 250000, 'USD', 250000, 'US', 0, 'US', 'M')\n",
      "(2023, 'SE', 'FT', 'Data Scientist', 162500, 'USD', 162500, 'US', 0, 'US', 'M')\n",
      "(2023, 'MI', 'FT', 'AI Developer', 200000, 'USD', 200000, 'US', 100, 'US', 'M')\n",
      "(2023, 'SE', 'FT', 'Data Engineer', 145000, 'USD', 145000, 'US', 0, 'US', 'M')\n",
      "(2023, 'EX', 'FT', 'Data Engineer', 145000, 'USD', 145000, 'US', 0, 'US', 'M')\n",
      "(2023, 'EX', 'FT', 'Data Engineer', 115000, 'USD', 115000, 'US', 0, 'US', 'M')\n",
      "(2023, 'SE', 'FT', 'Data Scientist', 203500, 'USD', 203500, 'US', 0, 'US', 'M')\n",
      "(2023, 'SE', 'FT', 'Data Scientist', 152000, 'USD', 152000, 'US', 0, 'US', 'M')\n",
      "(2023, 'SE', 'FT', 'Data Scientist', 239000, 'USD', 239000, 'US', 0, 'US', 'L')\n",
      "(2023, 'SE', 'FT', 'Data Scientist', 122900, 'USD', 122900, 'US', 0, 'US', 'L')\n",
      "(2023, 'SE', 'FT', 'Data Scientist', 237000, 'USD', 237000, 'US', 0, 'US', 'M')\n",
      "(2023, 'SE', 'FT', 'Data Scientist', 145000, 'USD', 145000, 'US', 0, 'US', 'M')\n",
      "(2023, 'SE', 'FT', 'Data Science Manager', 191765, 'USD', 191765, 'US', 0, 'US', 'M')\n",
      "(2023, 'SE', 'FT', 'Data Science Manager', 134236, 'USD', 134236, 'US', 0, 'US', 'M')\n",
      "(2023, 'SE', 'FT', 'Analytics Engineer', 190000, 'USD', 190000, 'US', 100, 'US', 'M')\n",
      "(2023, 'SE', 'FT', 'Analytics Engineer', 112000, 'USD', 112000, 'US', 100, 'US', 'M')\n",
      "(2023, 'SE', 'FT', 'Data Analyst', 135000, 'USD', 135000, 'US', 0, 'US', 'M')\n",
      "(2023, 'SE', 'FT', 'Data Analyst', 105500, 'USD', 105500, 'US', 0, 'US', 'M')\n",
      "(2023, 'SE', 'FT', 'Research Engineer', 293000, 'USD', 293000, 'US', 0, 'US', 'M')\n",
      "(2023, 'SE', 'FT', 'Research Engineer', 185000, 'USD', 185000, 'US', 0, 'US', 'M')\n",
      "(2023, 'SE', 'FT', 'Data Engineer', 220000, 'USD', 220000, 'US', 100, 'US', 'M')\n",
      "(2023, 'SE', 'FT', 'Data Engineer', 160000, 'USD', 160000, 'US', 100, 'US', 'M')\n",
      "(2023, 'SE', 'FT', 'Data Scientist', 175000, 'USD', 175000, 'US', 100, 'US', 'M')\n",
      "(2023, 'SE', 'FT', 'Data Scientist', 145000, 'USD', 145000, 'US', 100, 'US', 'M')\n",
      "(2023, 'SE', 'FT', 'Data Analyst', 200000, 'USD', 200000, 'US', 0, 'US', 'M')\n",
      "(2023, 'SE', 'FT', 'Data Analyst', 148500, 'USD', 148500, 'US', 0, 'US', 'M')\n",
      "(2023, 'SE', 'FT', 'Data Engineer', 240500, 'USD', 240500, 'US', 0, 'US', 'L')\n",
      "(2023, 'SE', 'FT', 'Data Engineer', 123700, 'USD', 123700, 'US', 0, 'US', 'L')\n",
      "(2023, 'SE', 'FT', 'Analytics Engineer', 152900, 'USD', 152900, 'US', 100, 'US', 'M')\n",
      "(2023, 'SE', 'FT', 'Analytics Engineer', 117100, 'USD', 117100, 'US', 100, 'US', 'M')\n",
      "(2023, 'SE', 'FT', 'Analytics Engineer', 173000, 'USD', 173000, 'US', 100, 'US', 'M')\n",
      "(2023, 'SE', 'FT', 'Analytics Engineer', 113000, 'USD', 113000, 'US', 100, 'US', 'M')\n",
      "(2023, 'SE', 'FT', 'Applied Scientist', 260000, 'USD', 260000, 'US', 0, 'US', 'L')\n",
      "(2023, 'SE', 'FT', 'Applied Scientist', 136000, 'USD', 136000, 'US', 0, 'US', 'L')\n",
      "(2023, 'EX', 'FT', 'Data Engineer', 175000, 'USD', 175000, 'US', 0, 'US', 'M')\n",
      "(2023, 'EX', 'FT', 'Data Engineer', 110000, 'USD', 110000, 'US', 0, 'US', 'M')\n",
      "(2023, 'SE', 'FT', 'Applied Scientist', 260000, 'USD', 260000, 'US', 0, 'US', 'L')\n",
      "(2023, 'SE', 'FT', 'Applied Scientist', 136000, 'USD', 136000, 'US', 0, 'US', 'L')\n",
      "(2023, 'SE', 'FT', 'Research Scientist', 130000, 'USD', 130000, 'US', 100, 'US', 'M')\n",
      "(2023, 'SE', 'FT', 'Research Scientist', 110000, 'USD', 110000, 'US', 100, 'US', 'M')\n",
      "(2023, 'SE', 'FT', 'Applied Scientist', 205000, 'USD', 205000, 'US', 100, 'US', 'M')\n",
      "(2023, 'SE', 'FT', 'Applied Scientist', 184000, 'USD', 184000, 'US', 100, 'US', 'M')\n",
      "(2023, 'SE', 'FT', 'Data Analyst', 149500, 'USD', 149500, 'US', 100, 'US', 'M')\n",
      "(2023, 'SE', 'FT', 'Data Analyst', 127075, 'USD', 127075, 'US', 100, 'US', 'M')\n",
      "(2023, 'SE', 'FT', 'Data Scientist', 195000, 'USD', 195000, 'US', 0, 'US', 'M')\n",
      "(2023, 'SE', 'FT', 'Data Scientist', 160000, 'USD', 160000, 'US', 0, 'US', 'M')\n",
      "(2023, 'SE', 'FT', 'Data Engineer', 219535, 'USD', 219535, 'US', 100, 'US', 'M')\n",
      "(2023, 'SE', 'FT', 'Data Engineer', 146115, 'USD', 146115, 'US', 100, 'US', 'M')\n",
      "(2023, 'SE', 'FT', 'Data Scientist', 170000, 'USD', 170000, 'US', 0, 'US', 'M')\n",
      "(2023, 'SE', 'FT', 'Data Scientist', 135000, 'USD', 135000, 'US', 0, 'US', 'M')\n",
      "(2023, 'SE', 'FT', 'Data Scientist', 175000, 'USD', 175000, 'US', 100, 'US', 'M')\n",
      "(2023, 'SE', 'FT', 'Data Scientist', 145000, 'USD', 145000, 'US', 100, 'US', 'M')\n",
      "(2023, 'SE', 'FT', 'Data Scientist', 199000, 'USD', 199000, 'US', 0, 'US', 'M')\n",
      "(2023, 'SE', 'FT', 'Data Scientist', 162000, 'USD', 162000, 'US', 0, 'US', 'M')\n",
      "(2023, 'SE', 'FT', 'Applied Scientist', 222200, 'USD', 222200, 'US', 0, 'US', 'L')\n",
      "(2023, 'SE', 'FT', 'Applied Scientist', 136000, 'USD', 136000, 'US', 0, 'US', 'L')\n",
      "(2023, 'EX', 'FT', 'Analytics Engineer', 221000, 'USD', 221000, 'US', 100, 'US', 'M')\n",
      "(2023, 'EX', 'FT', 'Analytics Engineer', 153000, 'USD', 153000, 'US', 100, 'US', 'M')\n",
      "(2023, 'SE', 'FT', 'Data Analyst', 187000, 'USD', 187000, 'US', 0, 'US', 'M')\n",
      "(2023, 'SE', 'FT', 'Data Analyst', 128000, 'USD', 128000, 'US', 0, 'US', 'M')\n",
      "(2023, 'SE', 'FT', 'Research Scientist', 210000, 'USD', 210000, 'US', 0, 'US', 'M')\n",
      "(2023, 'SE', 'FT', 'Research Scientist', 136000, 'USD', 136000, 'US', 0, 'US', 'M')\n",
      "(2023, 'SE', 'FT', 'Data Scientist', 175000, 'USD', 175000, 'US', 100, 'US', 'M')\n",
      "(2023, 'SE', 'FT', 'Data Engineer', 179000, 'USD', 179000, 'US', 0, 'US', 'M')\n",
      "(2023, 'SE', 'FT', 'Data Engineer', 109000, 'USD', 109000, 'US', 0, 'US', 'M')\n",
      "(2023, 'SE', 'FT', 'Data Scientist', 245000, 'USD', 245000, 'US', 0, 'US', 'M')\n",
      "(2023, 'SE', 'FT', 'Data Scientist', 180000, 'USD', 180000, 'US', 0, 'US', 'M')\n",
      "(2023, 'SE', 'FT', 'Data Analyst', 142000, 'USD', 142000, 'US', 100, 'US', 'M')\n",
      "(2023, 'SE', 'FT', 'Data Manager', 198800, 'USD', 198800, 'US', 0, 'US', 'M')\n",
      "(2023, 'SE', 'FT', 'Data Manager', 105200, 'USD', 105200, 'US', 0, 'US', 'M')\n",
      "(2023, 'SE', 'FT', 'Data Analyst', 125000, 'USD', 125000, 'US', 100, 'US', 'M')\n",
      "(2023, 'SE', 'FT', 'Data Analyst', 112000, 'USD', 112000, 'US', 100, 'US', 'M')\n",
      "(2023, 'SE', 'FT', 'Data Scientist', 210000, 'USD', 210000, 'US', 0, 'US', 'M')\n",
      "(2023, 'SE', 'FT', 'Data Scientist', 155000, 'USD', 155000, 'US', 0, 'US', 'M')\n",
      "(2023, 'SE', 'FT', 'Data Manager', 115000, 'USD', 115000, 'US', 100, 'US', 'M')\n",
      "(2023, 'SE', 'FT', 'Data Scientist', 165000, 'USD', 165000, 'US', 0, 'US', 'M')\n",
      "(2023, 'SE', 'FT', 'Data Scientist', 140000, 'USD', 140000, 'US', 0, 'US', 'M')\n",
      "(2023, 'SE', 'FT', 'Data Analyst', 139000, 'USD', 139000, 'US', 0, 'US', 'M')\n",
      "(2023, 'SE', 'FT', 'Data Analyst', 106000, 'USD', 106000, 'US', 0, 'US', 'M')\n",
      "(2022, 'SE', 'FT', 'AI Developer', 275000, 'USD', 275000, 'CA', 0, 'CA', 'S')\n",
      "(2023, 'MI', 'FT', 'Machine Learning Engineer', 280700, 'USD', 280700, 'US', 100, 'US', 'M')\n",
      "(2023, 'MI', 'FT', 'Machine Learning Engineer', 150450, 'USD', 150450, 'US', 100, 'US', 'M')\n",
      "(2023, 'SE', 'FT', 'Data Architect', 250500, 'USD', 250500, 'US', 0, 'US', 'M')\n",
      "(2023, 'SE', 'FT', 'Data Architect', 159500, 'USD', 159500, 'US', 0, 'US', 'M')\n",
      "(2023, 'SE', 'FT', 'Data Engineer', 145000, 'USD', 145000, 'US', 0, 'US', 'M')\n",
      "(2023, 'SE', 'FT', 'Data Engineer', 115000, 'USD', 115000, 'US', 0, 'US', 'M')\n",
      "(2023, 'SE', 'FT', 'Data Analyst', 140000, 'USD', 140000, 'US', 0, 'US', 'M')\n",
      "(2023, 'SE', 'FT', 'Data Analyst', 120000, 'USD', 120000, 'US', 0, 'US', 'M')\n",
      "(2023, 'EN', 'FT', 'Data Scientist', 130001, 'USD', 130001, 'US', 100, 'US', 'M')\n",
      "(2023, 'SE', 'FT', 'Data Analyst', 175000, 'USD', 175000, 'CA', 100, 'CA', 'M')\n",
      "(2023, 'SE', 'FT', 'Data Analyst', 135000, 'USD', 135000, 'CA', 100, 'CA', 'M')\n",
      "(2023, 'SE', 'FT', 'Machine Learning Engineer', 257000, 'USD', 257000, 'US', 0, 'US', 'M')\n",
      "(2023, 'SE', 'FT', 'Machine Learning Engineer', 147000, 'USD', 147000, 'US', 0, 'US', 'M')\n",
      "(2023, 'SE', 'FT', 'Data Engineer', 222000, 'USD', 222000, 'US', 100, 'US', 'M')\n",
      "(2023, 'SE', 'FT', 'Data Engineer', 175000, 'USD', 175000, 'US', 100, 'US', 'M')\n",
      "(2023, 'SE', 'FT', 'Data Scientist', 203000, 'USD', 203000, 'US', 100, 'US', 'M')\n",
      "(2023, 'SE', 'FT', 'Data Scientist', 133200, 'USD', 133200, 'US', 100, 'US', 'M')\n",
      "(2023, 'EN', 'FT', 'Applied Scientist', 213660, 'USD', 213660, 'US', 0, 'US', 'L')\n",
      "(2023, 'EN', 'FT', 'Applied Scientist', 130760, 'USD', 130760, 'US', 0, 'US', 'L')\n",
      "(2023, 'SE', 'FT', 'Data Engineer', 221000, 'USD', 221000, 'US', 0, 'US', 'M')\n",
      "(2023, 'SE', 'FT', 'Data Engineer', 147000, 'USD', 147000, 'US', 0, 'US', 'M')\n",
      "(2023, 'SE', 'FT', 'Data Scientist', 185900, 'USD', 185900, 'US', 0, 'US', 'M')\n",
      "(2023, 'SE', 'FT', 'Data Scientist', 129300, 'USD', 129300, 'US', 0, 'US', 'M')\n",
      "(2023, 'SE', 'FT', 'Data Scientist', 238000, 'USD', 238000, 'US', 100, 'US', 'M')\n",
      "(2023, 'SE', 'FT', 'Data Scientist', 156000, 'USD', 156000, 'US', 100, 'US', 'M')\n",
      "(2023, 'SE', 'FT', 'Machine Learning Engineer', 304000, 'USD', 304000, 'US', 100, 'US', 'M')\n",
      "(2023, 'SE', 'FT', 'Machine Learning Engineer', 199000, 'USD', 199000, 'US', 100, 'US', 'M')\n",
      "(2023, 'SE', 'FT', 'Data Engineer', 150000, 'USD', 150000, 'US', 0, 'US', 'M')\n",
      "(2023, 'SE', 'FT', 'Data Engineer', 130000, 'USD', 130000, 'US', 0, 'US', 'M')\n",
      "(2023, 'SE', 'FT', 'Data Scientist', 140000, 'USD', 140000, 'US', 100, 'US', 'M')\n",
      "(2023, 'SE', 'FT', 'Data Scientist', 110000, 'USD', 110000, 'US', 100, 'US', 'M')\n",
      "(2023, 'MI', 'FT', 'Research Scientist', 161200, 'GBP', 195895, 'GB', 0, 'GB', 'M')\n",
      "(2023, 'SE', 'FT', 'Data Engineer', 240000, 'USD', 240000, 'US', 0, 'US', 'M')\n",
      "(2023, 'SE', 'FT', 'Data Engineer', 183600, 'USD', 183600, 'US', 0, 'US', 'M')\n",
      "(2023, 'MI', 'FT', 'Data Specialist', 130000, 'USD', 130000, 'US', 0, 'US', 'M')\n",
      "(2023, 'SE', 'FT', 'Data Engineer', 250000, 'USD', 250000, 'US', 0, 'US', 'M')\n",
      "(2023, 'SE', 'FT', 'Data Engineer', 150000, 'USD', 150000, 'US', 0, 'US', 'M')\n",
      "(2023, 'SE', 'FT', 'Data Analytics Manager', 160000, 'USD', 160000, 'US', 100, 'US', 'M')\n",
      "(2023, 'SE', 'FT', 'Data Analytics Manager', 120000, 'USD', 120000, 'US', 100, 'US', 'M')\n",
      "(2023, 'SE', 'FT', 'Machine Learning Engineer', 289076, 'USD', 289076, 'US', 0, 'US', 'M')\n",
      "(2023, 'SE', 'FT', 'Machine Learning Engineer', 202353, 'USD', 202353, 'US', 0, 'US', 'M')\n",
      "(2023, 'SE', 'FT', 'Data Engineer', 145000, 'USD', 145000, 'US', 0, 'US', 'M')\n",
      "(2023, 'SE', 'FT', 'Data Engineer', 120000, 'USD', 120000, 'US', 0, 'US', 'M')\n",
      "(2023, 'SE', 'FT', 'Data Analyst', 155000, 'USD', 155000, 'US', 0, 'US', 'M')\n",
      "(2023, 'SE', 'FT', 'Data Analyst', 106000, 'USD', 106000, 'US', 0, 'US', 'M')\n",
      "(2023, 'SE', 'FT', 'Data Engineer', 200000, 'USD', 200000, 'US', 0, 'US', 'M')\n",
      "(2023, 'SE', 'FT', 'Data Engineer', 160000, 'USD', 160000, 'US', 0, 'US', 'M')\n",
      "(2023, 'SE', 'FT', 'Data Scientist', 157750, 'USD', 157750, 'US', 100, 'US', 'M')\n",
      "(2023, 'SE', 'FT', 'Data Scientist', 104650, 'USD', 104650, 'US', 100, 'US', 'M')\n",
      "(2023, 'MI', 'FT', 'Data Scientist', 180000, 'USD', 180000, 'US', 100, 'US', 'M')\n",
      "(2023, 'MI', 'FT', 'Data Scientist', 140000, 'USD', 140000, 'US', 100, 'US', 'M')\n",
      "(2023, 'EX', 'FT', 'Data Scientist', 200000, 'USD', 200000, 'US', 0, 'US', 'M')\n",
      "(2023, 'EX', 'FT', 'Data Scientist', 145000, 'USD', 145000, 'US', 0, 'US', 'M')\n",
      "(2023, 'MI', 'FT', 'Data Engineer', 125000, 'USD', 125000, 'US', 0, 'US', 'M')\n",
      "(2023, 'SE', 'FT', 'Data Analyst', 105000, 'USD', 105000, 'US', 100, 'US', 'M')\n",
      "(2023, 'SE', 'FT', 'Analytics Engineer', 179820, 'USD', 179820, 'US', 0, 'US', 'M')\n",
      "(2023, 'SE', 'FT', 'Analytics Engineer', 143860, 'USD', 143860, 'US', 0, 'US', 'M')\n",
      "(2023, 'SE', 'FT', 'Data Analyst', 135000, 'USD', 135000, 'US', 0, 'US', 'M')\n",
      "(2023, 'SE', 'FT', 'Data Analyst', 105500, 'USD', 105500, 'US', 0, 'US', 'M')\n",
      "(2023, 'EN', 'FT', 'Research Engineer', 155000, 'USD', 155000, 'US', 0, 'US', 'M')\n",
      "(2023, 'EN', 'FT', 'Research Engineer', 125000, 'USD', 125000, 'US', 0, 'US', 'M')\n",
      "(2023, 'SE', 'FT', 'Machine Learning Engineer', 241000, 'USD', 241000, 'US', 0, 'US', 'M')\n",
      "(2023, 'SE', 'FT', 'Machine Learning Engineer', 181000, 'USD', 181000, 'US', 0, 'US', 'M')\n",
      "(2023, 'SE', 'FT', 'Data Scientist', 252000, 'USD', 252000, 'US', 0, 'US', 'M')\n",
      "(2023, 'SE', 'FT', 'Data Scientist', 154000, 'USD', 154000, 'US', 0, 'US', 'M')\n",
      "(2023, 'EX', 'FT', 'Data Architect', 180000, 'USD', 180000, 'US', 0, 'US', 'M')\n",
      "(2023, 'EX', 'FT', 'Data Architect', 155000, 'USD', 155000, 'US', 0, 'US', 'M')\n",
      "(2023, 'SE', 'FT', 'Data Scientist', 191765, 'USD', 191765, 'US', 0, 'US', 'M')\n",
      "(2023, 'SE', 'FT', 'Data Scientist', 134236, 'USD', 134236, 'US', 0, 'US', 'M')\n",
      "(2023, 'SE', 'FT', 'Data Scientist', 175000, 'USD', 175000, 'US', 100, 'US', 'M')\n",
      "(2023, 'SE', 'FT', 'Data Scientist', 145000, 'USD', 145000, 'US', 100, 'US', 'M')\n",
      "(2023, 'SE', 'FT', 'Data Scientist', 237000, 'USD', 237000, 'US', 100, 'US', 'M')\n",
      "(2023, 'SE', 'FT', 'Data Scientist', 145000, 'USD', 145000, 'US', 100, 'US', 'M')\n",
      "(2023, 'EN', 'FT', 'Research Engineer', 155000, 'USD', 155000, 'US', 0, 'US', 'M')\n",
      "(2023, 'EN', 'FT', 'Research Engineer', 125000, 'USD', 125000, 'US', 0, 'US', 'M')\n",
      "(2023, 'SE', 'FT', 'Data Engineer', 146000, 'USD', 146000, 'US', 0, 'US', 'M')\n",
      "(2023, 'SE', 'FT', 'Machine Learning Engineer', 170000, 'USD', 170000, 'US', 0, 'US', 'M')\n",
      "(2023, 'SE', 'FT', 'Machine Learning Engineer', 130000, 'USD', 130000, 'US', 0, 'US', 'M')\n",
      "(2023, 'SE', 'FT', 'Data Analyst', 208450, 'USD', 208450, 'US', 100, 'US', 'M')\n",
      "(2023, 'SE', 'FT', 'Data Analyst', 170550, 'USD', 170550, 'US', 100, 'US', 'M')\n",
      "(2023, 'SE', 'FT', 'Machine Learning Engineer', 125000, 'USD', 125000, 'US', 0, 'US', 'M')\n",
      "(2023, 'MI', 'FT', 'Data Manager', 135000, 'USD', 135000, 'US', 0, 'US', 'M')\n",
      "(2023, 'MI', 'FT', 'Data Manager', 120000, 'USD', 120000, 'US', 0, 'US', 'M')\n",
      "(2023, 'SE', 'FT', 'Data Scientist', 200000, 'USD', 200000, 'US', 100, 'US', 'M')\n",
      "(2023, 'SE', 'FT', 'Data Scientist', 170000, 'USD', 170000, 'US', 100, 'US', 'M')\n",
      "(2023, 'SE', 'FT', 'Data Scientist', 171250, 'USD', 171250, 'IE', 0, 'IE', 'M')\n",
      "(2023, 'SE', 'FT', 'Data Scientist', 113750, 'USD', 113750, 'IE', 0, 'IE', 'M')\n",
      "(2023, 'SE', 'FT', 'Applied Scientist', 222200, 'USD', 222200, 'US', 0, 'US', 'L')\n",
      "(2023, 'SE', 'FT', 'Applied Scientist', 136000, 'USD', 136000, 'US', 0, 'US', 'L')\n",
      "(2023, 'SE', 'FT', 'Applied Scientist', 260000, 'USD', 260000, 'US', 0, 'US', 'L')\n",
      "(2023, 'SE', 'FT', 'Applied Scientist', 136000, 'USD', 136000, 'US', 0, 'US', 'L')\n",
      "(2023, 'SE', 'FT', 'Data Analyst', 153600, 'USD', 153600, 'US', 0, 'US', 'M')\n",
      "(2023, 'SE', 'FT', 'Data Analyst', 100500, 'USD', 100500, 'US', 0, 'US', 'M')\n",
      "(2023, 'SE', 'FT', 'Applied Scientist', 205000, 'USD', 205000, 'US', 100, 'US', 'M')\n",
      "(2023, 'SE', 'FT', 'Applied Scientist', 184000, 'USD', 184000, 'US', 100, 'US', 'M')\n",
      "(2023, 'SE', 'FT', 'Machine Learning Engineer', 115000, 'USD', 115000, 'CA', 100, 'CA', 'M')\n",
      "(2023, 'MI', 'FT', 'Data Analyst', 182500, 'USD', 182500, 'US', 0, 'US', 'M')\n",
      "(2023, 'MI', 'FT', 'Data Analyst', 121500, 'USD', 121500, 'US', 0, 'US', 'M')\n",
      "(2023, 'SE', 'FT', 'Data Engineer', 203100, 'USD', 203100, 'US', 0, 'US', 'M')\n",
      "(2023, 'SE', 'FT', 'Data Engineer', 114500, 'USD', 114500, 'US', 0, 'US', 'M')\n",
      "(2023, 'SE', 'FT', 'Data Engineer', 252000, 'USD', 252000, 'US', 0, 'US', 'M')\n",
      "(2023, 'SE', 'FT', 'Data Engineer', 129000, 'USD', 129000, 'US', 0, 'US', 'M')\n",
      "(2023, 'SE', 'FT', 'Data Engineer', 160000, 'USD', 160000, 'US', 100, 'US', 'M')\n",
      "(2023, 'SE', 'FT', 'Data Engineer', 130000, 'USD', 130000, 'US', 100, 'US', 'M')\n",
      "(2023, 'SE', 'FT', 'Data Scientist', 258000, 'USD', 258000, 'CA', 0, 'CA', 'M')\n",
      "(2023, 'SE', 'FT', 'Data Scientist', 190000, 'USD', 190000, 'CA', 0, 'CA', 'M')\n",
      "(2023, 'SE', 'FT', 'Data Scientist', 170000, 'USD', 170000, 'US', 0, 'US', 'M')\n",
      "(2023, 'SE', 'FT', 'Data Scientist', 135000, 'USD', 135000, 'US', 0, 'US', 'M')\n",
      "(2023, 'MI', 'FT', 'Data Architect', 167500, 'USD', 167500, 'US', 0, 'US', 'M')\n",
      "(2023, 'MI', 'FT', 'Data Architect', 106500, 'USD', 106500, 'US', 0, 'US', 'M')\n",
      "(2023, 'SE', 'FT', 'Data Scientist', 195000, 'USD', 195000, 'US', 0, 'US', 'M')\n",
      "(2023, 'SE', 'FT', 'Data Scientist', 160000, 'USD', 160000, 'US', 0, 'US', 'M')\n",
      "(2023, 'MI', 'FT', 'Data Engineer', 146000, 'USD', 146000, 'US', 0, 'US', 'M')\n",
      "(2023, 'EX', 'FT', 'Data Engineer', 286000, 'USD', 286000, 'US', 100, 'US', 'M')\n",
      "(2023, 'EX', 'FT', 'Data Engineer', 207000, 'USD', 207000, 'US', 100, 'US', 'M')\n",
      "(2023, 'SE', 'FT', 'Data Engineer', 223250, 'USD', 223250, 'US', 0, 'US', 'M')\n",
      "(2023, 'SE', 'FT', 'Data Engineer', 178600, 'USD', 178600, 'US', 0, 'US', 'M')\n",
      "(2023, 'EX', 'FT', 'Director of Data Science', 353200, 'USD', 353200, 'US', 0, 'US', 'M')\n",
      "(2023, 'EX', 'FT', 'Director of Data Science', 249300, 'USD', 249300, 'US', 0, 'US', 'M')\n",
      "(2023, 'MI', 'FT', 'Machine Learning Scientist', 230000, 'USD', 230000, 'US', 0, 'US', 'M')\n",
      "(2023, 'MI', 'FT', 'Machine Learning Scientist', 220000, 'USD', 220000, 'US', 0, 'US', 'M')\n",
      "(2023, 'SE', 'FT', 'Data Scientist', 297300, 'USD', 297300, 'US', 100, 'US', 'M')\n",
      "(2023, 'SE', 'FT', 'Data Scientist', 198200, 'USD', 198200, 'US', 100, 'US', 'M')\n",
      "(2023, 'MI', 'FT', 'Research Scientist', 210000, 'USD', 210000, 'US', 100, 'US', 'M')\n",
      "(2023, 'MI', 'FT', 'Research Scientist', 151800, 'USD', 151800, 'US', 100, 'US', 'M')\n",
      "(2023, 'SE', 'FT', 'Data Scientist', 200000, 'USD', 200000, 'US', 100, 'US', 'M')\n",
      "(2023, 'SE', 'FT', 'Data Scientist', 170000, 'USD', 170000, 'US', 100, 'US', 'M')\n",
      "(2023, 'SE', 'FT', 'Data Scientist', 317070, 'USD', 317070, 'US', 0, 'US', 'M')\n",
      "(2023, 'SE', 'FT', 'Data Scientist', 170730, 'USD', 170730, 'US', 0, 'US', 'M')\n",
      "(2023, 'SE', 'FT', 'Data Engineer', 128000, 'USD', 128000, 'US', 0, 'US', 'M')\n",
      "(2023, 'SE', 'FT', 'AI Developer', 108000, 'USD', 108000, 'UA', 0, 'UA', 'M')\n",
      "(2023, 'MI', 'FT', 'MLOps Engineer', 134000, 'USD', 134000, 'US', 100, 'US', 'M')\n",
      "(2023, 'MI', 'FT', 'MLOps Engineer', 124000, 'USD', 124000, 'US', 100, 'US', 'M')\n",
      "(2023, 'SE', 'FT', 'Data Engineer', 171250, 'USD', 171250, 'US', 0, 'US', 'M')\n",
      "(2023, 'SE', 'FT', 'Data Engineer', 113750, 'USD', 113750, 'US', 0, 'US', 'M')\n",
      "(2023, 'SE', 'FT', 'Data Engineer', 165000, 'USD', 165000, 'US', 0, 'US', 'M')\n",
      "(2023, 'SE', 'FT', 'Data Engineer', 132300, 'USD', 132300, 'US', 0, 'US', 'M')\n",
      "(2023, 'SE', 'FT', 'Data Scientist', 225000, 'USD', 225000, 'US', 0, 'US', 'M')\n",
      "(2023, 'SE', 'FT', 'Data Scientist', 175000, 'USD', 175000, 'US', 0, 'US', 'M')\n",
      "(2023, 'SE', 'FT', 'Data Engineer', 230000, 'USD', 230000, 'US', 0, 'US', 'M')\n",
      "(2023, 'SE', 'FT', 'Data Engineer', 124500, 'USD', 124500, 'US', 0, 'US', 'M')\n",
      "(2023, 'SE', 'FT', 'Machine Learning Engineer', 247500, 'USD', 247500, 'US', 0, 'US', 'M')\n",
      "(2023, 'SE', 'FT', 'Machine Learning Engineer', 172200, 'USD', 172200, 'US', 0, 'US', 'M')\n",
      "(2023, 'SE', 'FT', 'Data Analyst', 175000, 'USD', 175000, 'US', 0, 'US', 'M')\n",
      "(2023, 'SE', 'FT', 'Data Analyst', 145000, 'USD', 145000, 'US', 0, 'US', 'M')\n",
      "(2023, 'SE', 'FT', 'Data Analyst', 148700, 'USD', 148700, 'US', 0, 'US', 'M')\n",
      "(2023, 'SE', 'FT', 'Data Analyst', 125600, 'USD', 125600, 'US', 0, 'US', 'M')\n",
      "(2023, 'SE', 'FT', 'Data Engineer', 145000, 'USD', 145000, 'US', 0, 'US', 'M')\n",
      "(2023, 'SE', 'FT', 'Data Engineer', 115000, 'USD', 115000, 'US', 0, 'US', 'M')\n",
      "(2023, 'SE', 'FT', 'Research Scientist', 200000, 'USD', 200000, 'US', 0, 'US', 'M')\n",
      "(2023, 'SE', 'FT', 'Research Scientist', 150000, 'USD', 150000, 'US', 0, 'US', 'M')\n",
      "(2023, 'EN', 'FT', 'Research Engineer', 160000, 'USD', 160000, 'US', 0, 'US', 'M')\n",
      "(2023, 'EN', 'FT', 'Research Engineer', 120000, 'USD', 120000, 'US', 0, 'US', 'M')\n",
      "(2023, 'SE', 'FT', 'Data Analyst', 185000, 'USD', 185000, 'US', 100, 'US', 'M')\n",
      "(2023, 'SE', 'FT', 'Data Analyst', 120250, 'USD', 120250, 'US', 100, 'US', 'M')\n",
      "(2023, 'SE', 'FT', 'Data Scientist', 275300, 'USD', 275300, 'US', 100, 'US', 'M')\n",
      "(2023, 'SE', 'FT', 'Data Scientist', 183000, 'USD', 183000, 'US', 100, 'US', 'M')\n",
      "(2023, 'SE', 'FT', 'Data Architect', 170000, 'USD', 170000, 'US', 100, 'US', 'M')\n",
      "(2023, 'SE', 'FT', 'Data Architect', 125000, 'USD', 125000, 'US', 100, 'US', 'M')\n",
      "(2023, 'MI', 'FT', 'Data Architect', 167500, 'USD', 167500, 'US', 0, 'US', 'M')\n",
      "(2023, 'MI', 'FT', 'Data Architect', 106500, 'USD', 106500, 'US', 0, 'US', 'M')\n",
      "(2023, 'SE', 'FT', 'Research Scientist', 250000, 'USD', 250000, 'US', 0, 'US', 'M')\n",
      "(2023, 'SE', 'FT', 'Research Scientist', 200000, 'USD', 200000, 'US', 0, 'US', 'M')\n",
      "(2023, 'MI', 'FT', 'Machine Learning Engineer', 135000, 'USD', 135000, 'US', 50, 'US', 'L')\n",
      "(2023, 'SE', 'FT', 'AI Scientist', 1500000, 'ILS', 423834, 'IL', 0, 'IL', 'L')\n",
      "(2023, 'SE', 'FT', 'Machine Learning Engineer', 216000, 'USD', 216000, 'US', 100, 'US', 'M')\n",
      "(2023, 'SE', 'FT', 'Machine Learning Engineer', 184000, 'USD', 184000, 'US', 100, 'US', 'M')\n",
      "(2023, 'SE', 'FT', 'Data Engineer', 180000, 'USD', 180000, 'US', 100, 'US', 'M')\n",
      "(2023, 'SE', 'FT', 'Data Engineer', 165000, 'USD', 165000, 'US', 100, 'US', 'M')\n",
      "(2023, 'SE', 'FT', 'Data Scientist', 185900, 'USD', 185900, 'US', 0, 'US', 'M')\n",
      "(2023, 'SE', 'FT', 'Data Scientist', 129300, 'USD', 129300, 'US', 0, 'US', 'M')\n",
      "(2023, 'SE', 'FT', 'Data Engineer', 145000, 'USD', 145000, 'US', 0, 'US', 'M')\n",
      "(2023, 'SE', 'FT', 'Data Engineer', 120000, 'USD', 120000, 'US', 0, 'US', 'M')\n",
      "(2023, 'MI', 'FT', 'Data Engineer', 143865, 'USD', 143865, 'US', 0, 'US', 'M')\n",
      "(2023, 'MI', 'FT', 'Data Engineer', 115092, 'USD', 115092, 'US', 0, 'US', 'M')\n",
      "(2023, 'MI', 'FT', 'Machine Learning Engineer', 130000, 'USD', 130000, 'US', 0, 'US', 'M')\n",
      "(2023, 'SE', 'FT', 'Data Scientist', 173000, 'USD', 173000, 'US', 100, 'US', 'M')\n",
      "(2023, 'SE', 'FT', 'Data Scientist', 132000, 'USD', 132000, 'US', 100, 'US', 'M')\n",
      "(2023, 'SE', 'FT', 'Data Analyst', 208049, 'USD', 208049, 'US', 0, 'US', 'M')\n",
      "(2023, 'SE', 'FT', 'Data Analyst', 128500, 'USD', 128500, 'US', 0, 'US', 'M')\n",
      "(2023, 'SE', 'FT', 'Analytics Engineer', 179820, 'USD', 179820, 'US', 0, 'US', 'M')\n",
      "(2023, 'SE', 'FT', 'Analytics Engineer', 143860, 'USD', 143860, 'US', 0, 'US', 'M')\n",
      "(2023, 'SE', 'FT', 'Data Engineer', 167500, 'USD', 167500, 'US', 0, 'US', 'M')\n",
      "(2023, 'SE', 'FT', 'Data Engineer', 106500, 'USD', 106500, 'US', 0, 'US', 'M')\n",
      "(2023, 'SE', 'FT', 'Data Scientist', 275300, 'USD', 275300, 'US', 100, 'US', 'M')\n",
      "(2023, 'SE', 'FT', 'Data Scientist', 183500, 'USD', 183500, 'US', 100, 'US', 'M')\n",
      "(2023, 'MI', 'FT', 'Data Engineer', 149600, 'USD', 149600, 'US', 0, 'US', 'M')\n",
      "(2023, 'MI', 'FT', 'Data Engineer', 102000, 'USD', 102000, 'US', 0, 'US', 'M')\n",
      "(2023, 'EX', 'FT', 'Data Scientist', 145000, 'USD', 145000, 'US', 0, 'US', 'M')\n",
      "(2023, 'SE', 'FT', 'Data Analyst', 190000, 'USD', 190000, 'US', 100, 'US', 'M')\n",
      "(2023, 'SE', 'FT', 'Data Analyst', 153600, 'USD', 153600, 'US', 0, 'US', 'M')\n",
      "(2023, 'SE', 'FT', 'Data Analyst', 106800, 'USD', 106800, 'US', 0, 'US', 'M')\n",
      "(2023, 'MI', 'FT', 'Data Analyst', 128000, 'USD', 128000, 'US', 0, 'US', 'M')\n",
      "(2023, 'MI', 'FT', 'Data Engineer', 151000, 'USD', 151000, 'US', 0, 'US', 'M')\n",
      "(2023, 'MI', 'FT', 'Data Engineer', 140000, 'USD', 140000, 'US', 0, 'US', 'M')\n",
      "(2023, 'SE', 'FT', 'Data Scientist', 275300, 'USD', 275300, 'US', 100, 'US', 'M')\n",
      "(2023, 'SE', 'FT', 'Data Scientist', 183500, 'USD', 183500, 'US', 100, 'US', 'M')\n",
      "(2023, 'SE', 'FT', 'Machine Learning Scientist', 220000, 'USD', 220000, 'US', 0, 'US', 'M')\n",
      "(2023, 'SE', 'FT', 'Machine Learning Scientist', 170000, 'USD', 170000, 'US', 0, 'US', 'M')\n",
      "(2023, 'SE', 'FT', 'Data Analyst', 135000, 'USD', 135000, 'US', 0, 'US', 'M')\n",
      "(2023, 'SE', 'FT', 'Data Analyst', 105500, 'USD', 105500, 'US', 0, 'US', 'M')\n",
      "(2023, 'SE', 'FT', 'Data Engineer', 160000, 'USD', 160000, 'CA', 100, 'CA', 'M')\n",
      "(2023, 'SE', 'FT', 'Data Engineer', 145000, 'USD', 145000, 'CA', 100, 'CA', 'M')\n",
      "(2023, 'MI', 'FT', 'Data Analyst', 154000, 'USD', 154000, 'US', 0, 'US', 'M')\n",
      "(2023, 'MI', 'FT', 'Data Analyst', 143000, 'USD', 143000, 'US', 0, 'US', 'M')\n",
      "(2023, 'EN', 'FT', 'Data Scientist', 190000, 'USD', 190000, 'US', 0, 'US', 'M')\n",
      "(2023, 'EN', 'FT', 'Data Scientist', 120000, 'USD', 120000, 'US', 0, 'US', 'M')\n",
      "(2023, 'SE', 'FT', 'Data Engineer', 150000, 'USD', 150000, 'US', 0, 'US', 'M')\n",
      "(2023, 'SE', 'FT', 'Data Engineer', 111000, 'USD', 111000, 'US', 0, 'US', 'M')\n",
      "(2023, 'EX', 'FT', 'Data Engineer', 265000, 'USD', 265000, 'US', 0, 'US', 'M')\n",
      "(2023, 'EX', 'FT', 'Data Engineer', 235000, 'USD', 235000, 'US', 0, 'US', 'M')\n",
      "(2023, 'EN', 'FT', 'Data Scientist', 112000, 'CHF', 121093, 'CH', 50, 'CH', 'L')\n",
      "(2023, 'SE', 'FT', 'Data Engineer', 160000, 'USD', 160000, 'US', 100, 'US', 'M')\n",
      "(2023, 'SE', 'FT', 'Data Engineer', 130000, 'USD', 130000, 'US', 100, 'US', 'M')\n",
      "(2023, 'SE', 'FT', 'Data Engineer', 252000, 'USD', 252000, 'US', 0, 'US', 'M')\n",
      "(2023, 'SE', 'FT', 'Data Engineer', 129000, 'USD', 129000, 'US', 0, 'US', 'M')\n",
      "(2022, 'SE', 'FT', 'Lead Data Scientist', 164000, 'EUR', 172309, 'IE', 100, 'IE', 'L')\n",
      "(2023, 'SE', 'FT', 'Data Scientist', 201036, 'USD', 201036, 'US', 0, 'US', 'M')\n",
      "(2023, 'SE', 'FT', 'Data Scientist', 134024, 'USD', 134024, 'US', 0, 'US', 'M')\n",
      "(2023, 'SE', 'FT', 'Data Analyst', 165000, 'USD', 165000, 'US', 100, 'US', 'M')\n",
      "(2023, 'SE', 'FT', 'Data Analyst', 140000, 'USD', 140000, 'US', 100, 'US', 'M')\n",
      "(2023, 'SE', 'FT', 'Data Scientist', 172000, 'USD', 172000, 'US', 0, 'US', 'M')\n",
      "(2023, 'SE', 'FT', 'Data Scientist', 115000, 'USD', 115000, 'US', 0, 'US', 'M')\n",
      "(2023, 'EN', 'FT', 'Data Engineer', 125000, 'USD', 125000, 'US', 0, 'US', 'M')\n",
      "(2023, 'SE', 'FT', 'Data Engineer', 163800, 'USD', 163800, 'US', 0, 'US', 'M')\n",
      "(2023, 'SE', 'FT', 'Data Engineer', 126000, 'USD', 126000, 'US', 0, 'US', 'M')\n",
      "(2023, 'SE', 'FT', 'Data Scientist', 237000, 'USD', 237000, 'US', 100, 'US', 'M')\n",
      "(2023, 'SE', 'FT', 'Data Scientist', 145000, 'USD', 145000, 'US', 100, 'US', 'M')\n",
      "(2023, 'SE', 'FT', 'Data Engineer', 139500, 'USD', 139500, 'US', 0, 'US', 'M')\n",
      "(2023, 'SE', 'FT', 'Data Engineer', 109400, 'USD', 109400, 'US', 0, 'US', 'M')\n",
      "(2023, 'SE', 'FT', 'Data Scientist', 258000, 'USD', 258000, 'CA', 0, 'CA', 'M')\n",
      "(2023, 'SE', 'FT', 'Data Scientist', 190000, 'USD', 190000, 'CA', 0, 'CA', 'M')\n",
      "(2023, 'MI', 'FT', 'Data Engineer', 145000, 'USD', 145000, 'US', 0, 'US', 'M')\n",
      "(2023, 'MI', 'FT', 'Data Engineer', 120000, 'USD', 120000, 'US', 0, 'US', 'M')\n",
      "(2023, 'SE', 'FT', 'Data Engineer', 205600, 'USD', 205600, 'US', 0, 'US', 'L')\n",
      "(2023, 'SE', 'FT', 'Data Engineer', 105700, 'USD', 105700, 'US', 0, 'US', 'L')\n",
      "(2023, 'SE', 'FT', 'Data Engineer', 252000, 'USD', 252000, 'US', 0, 'US', 'M')\n",
      "(2023, 'SE', 'FT', 'Data Engineer', 129000, 'USD', 129000, 'US', 0, 'US', 'M')\n",
      "(2023, 'SE', 'FT', 'Data Scientist', 239748, 'USD', 239748, 'US', 0, 'US', 'M')\n",
      "(2023, 'SE', 'FT', 'Data Scientist', 159832, 'USD', 159832, 'US', 0, 'US', 'M')\n",
      "(2023, 'SE', 'FT', 'Data Scientist', 186300, 'USD', 186300, 'US', 100, 'US', 'M')\n",
      "(2023, 'SE', 'FT', 'Data Scientist', 102500, 'USD', 102500, 'US', 100, 'US', 'M')\n",
      "(2023, 'SE', 'FT', 'Data Engineer', 165000, 'USD', 165000, 'US', 0, 'US', 'M')\n",
      "(2023, 'SE', 'FT', 'Data Engineer', 132300, 'USD', 132300, 'US', 0, 'US', 'M')\n",
      "(2023, 'SE', 'FT', 'Data Scientist', 190000, 'USD', 190000, 'US', 0, 'US', 'M')\n",
      "(2023, 'SE', 'FT', 'Data Scientist', 126000, 'USD', 126000, 'US', 0, 'US', 'M')\n",
      "(2023, 'SE', 'FT', 'Data Architect', 149040, 'USD', 149040, 'US', 100, 'US', 'M')\n",
      "(2023, 'SE', 'FT', 'Data Architect', 113900, 'USD', 113900, 'US', 100, 'US', 'M')\n",
      "(2023, 'SE', 'FT', 'Data Engineer', 153600, 'USD', 153600, 'US', 100, 'US', 'M')\n",
      "(2023, 'SE', 'FT', 'Data Engineer', 106800, 'USD', 106800, 'US', 100, 'US', 'M')\n",
      "(2023, 'SE', 'FT', 'Data Engineer', 172600, 'USD', 172600, 'US', 100, 'US', 'M')\n",
      "(2023, 'SE', 'FT', 'Data Engineer', 107900, 'USD', 107900, 'US', 100, 'US', 'M')\n",
      "(2023, 'SE', 'FT', 'Data Analyst', 180180, 'USD', 180180, 'US', 0, 'US', 'M')\n",
      "(2023, 'SE', 'FT', 'Data Analyst', 106020, 'USD', 106020, 'US', 0, 'US', 'M')\n",
      "(2023, 'SE', 'FT', 'Data Architect', 376080, 'USD', 376080, 'US', 100, 'US', 'M')\n",
      "(2023, 'SE', 'FT', 'Data Architect', 213120, 'USD', 213120, 'US', 100, 'US', 'M')\n",
      "(2023, 'SE', 'FT', 'Data Analyst', 153600, 'USD', 153600, 'US', 0, 'US', 'M')\n",
      "(2023, 'SE', 'FT', 'Data Analyst', 100500, 'USD', 100500, 'US', 0, 'US', 'M')\n",
      "(2023, 'SE', 'FT', 'Data Analyst', 206500, 'USD', 206500, 'US', 100, 'US', 'M')\n",
      "(2023, 'SE', 'FT', 'Data Analyst', 121600, 'USD', 121600, 'US', 100, 'US', 'M')\n",
      "(2023, 'SE', 'FT', 'Data Engineer', 260000, 'USD', 260000, 'US', 0, 'US', 'M')\n",
      "(2023, 'SE', 'FT', 'Data Engineer', 225000, 'USD', 225000, 'US', 0, 'US', 'M')\n",
      "(2023, 'EX', 'FT', 'Data Engineer', 194500, 'USD', 194500, 'US', 0, 'US', 'M')\n",
      "(2023, 'EX', 'FT', 'Data Engineer', 115500, 'USD', 115500, 'US', 0, 'US', 'M')\n",
      "(2023, 'SE', 'FT', 'Cloud Database Engineer', 170000, 'USD', 170000, 'US', 100, 'US', 'L')\n",
      "(2023, 'SE', 'FT', 'Data Engineer', 275000, 'USD', 275000, 'US', 0, 'US', 'M')\n",
      "(2023, 'SE', 'FT', 'Data Engineer', 160000, 'USD', 160000, 'US', 0, 'US', 'M')\n",
      "(2023, 'SE', 'FT', 'Data Analyst', 115934, 'USD', 115934, 'US', 100, 'US', 'M')\n",
      "(2023, 'SE', 'FT', 'Data Scientist', 175000, 'USD', 175000, 'US', 0, 'US', 'M')\n",
      "(2023, 'SE', 'FT', 'Data Scientist', 120000, 'USD', 120000, 'US', 0, 'US', 'M')\n",
      "(2023, 'SE', 'FT', 'Machine Learning Engineer', 150000, 'USD', 150000, 'US', 100, 'US', 'M')\n",
      "(2023, 'SE', 'FT', 'Machine Learning Engineer', 120000, 'USD', 120000, 'US', 100, 'US', 'M')\n",
      "(2023, 'SE', 'FT', 'Research Engineer', 200000, 'USD', 200000, 'US', 0, 'US', 'M')\n",
      "(2023, 'SE', 'FT', 'Research Engineer', 175000, 'USD', 175000, 'US', 0, 'US', 'M')\n",
      "(2023, 'MI', 'FT', 'Data Analyst', 206000, 'USD', 206000, 'US', 0, 'US', 'M')\n",
      "(2023, 'MI', 'FT', 'Data Analyst', 130000, 'USD', 130000, 'US', 0, 'US', 'M')\n",
      "(2023, 'SE', 'FT', 'Data Architect', 138000, 'USD', 138000, 'GB', 100, 'GB', 'M')\n",
      "(2023, 'SE', 'FT', 'Data Analyst', 110000, 'USD', 110000, 'US', 100, 'US', 'M')\n",
      "(2023, 'SE', 'FT', 'Analytics Engineer', 130000, 'USD', 130000, 'US', 0, 'US', 'M')\n",
      "(2023, 'MI', 'FT', 'Data Analyst', 160000, 'USD', 160000, 'US', 0, 'US', 'M')\n",
      "(2023, 'MI', 'FT', 'Data Analyst', 112000, 'USD', 112000, 'US', 0, 'US', 'M')\n",
      "(2023, 'MI', 'FT', 'Data Engineer', 162500, 'USD', 162500, 'US', 0, 'US', 'M')\n",
      "(2023, 'MI', 'FT', 'Data Engineer', 130000, 'USD', 130000, 'US', 0, 'US', 'M')\n",
      "(2023, 'SE', 'FT', 'Data Science Manager', 299500, 'USD', 299500, 'US', 0, 'US', 'M')\n",
      "(2023, 'SE', 'FT', 'Data Science Manager', 245100, 'USD', 245100, 'US', 0, 'US', 'M')\n",
      "(2023, 'MI', 'FT', 'Data Scientist', 145000, 'USD', 145000, 'US', 0, 'US', 'M')\n",
      "(2023, 'SE', 'FT', 'Data Engineer', 147100, 'USD', 147100, 'US', 0, 'US', 'M')\n",
      "(2023, 'EN', 'FT', 'Data Engineer', 115100, 'USD', 115100, 'US', 0, 'US', 'M')\n",
      "(2023, 'SE', 'FT', 'Data Engineer', 168400, 'USD', 168400, 'US', 0, 'US', 'M')\n",
      "(2023, 'SE', 'FT', 'Data Engineer', 105200, 'USD', 105200, 'US', 0, 'US', 'M')\n",
      "(2023, 'SE', 'FT', 'Data Scientist', 210000, 'USD', 210000, 'US', 0, 'US', 'M')\n",
      "(2023, 'SE', 'FT', 'Data Scientist', 160000, 'USD', 160000, 'US', 0, 'US', 'M')\n",
      "(2023, 'MI', 'FT', 'Data Scientist', 145000, 'USD', 145000, 'US', 0, 'US', 'M')\n",
      "(2023, 'SE', 'FT', 'Applied Scientist', 222200, 'USD', 222200, 'US', 0, 'US', 'L')\n",
      "(2023, 'SE', 'FT', 'Applied Scientist', 136000, 'USD', 136000, 'US', 0, 'US', 'L')\n",
      "(2023, 'EX', 'FT', 'Data Scientist', 200000, 'USD', 200000, 'US', 0, 'US', 'M')\n",
      "(2023, 'EX', 'FT', 'Data Scientist', 145000, 'USD', 145000, 'US', 0, 'US', 'M')\n",
      "(2023, 'MI', 'FT', 'Data Engineer', 140000, 'USD', 140000, 'US', 0, 'US', 'M')\n",
      "(2023, 'SE', 'FT', 'Data Analyst', 185000, 'USD', 185000, 'US', 100, 'US', 'M')\n",
      "(2023, 'SE', 'FT', 'Data Analyst', 120250, 'USD', 120250, 'US', 100, 'US', 'M')\n",
      "(2023, 'MI', 'FT', 'Financial Data Analyst', 130000, 'USD', 130000, 'US', 100, 'US', 'L')\n",
      "(2023, 'SE', 'FT', 'Data Scientist', 205000, 'USD', 205000, 'US', 0, 'US', 'M')\n",
      "(2023, 'SE', 'FT', 'Data Scientist', 140000, 'USD', 140000, 'US', 0, 'US', 'M')\n",
      "(2023, 'SE', 'FT', 'Data Scientist', 297300, 'USD', 297300, 'US', 100, 'US', 'M')\n",
      "(2023, 'SE', 'FT', 'Data Scientist', 198200, 'USD', 198200, 'US', 100, 'US', 'M')\n",
      "(2023, 'SE', 'FT', 'Research Scientist', 141288, 'USD', 141288, 'US', 0, 'US', 'M')\n",
      "(2023, 'SE', 'FT', 'Data Infrastructure Engineer', 184000, 'USD', 184000, 'US', 100, 'US', 'M')\n",
      "(2023, 'SE', 'FT', 'Data Infrastructure Engineer', 143000, 'USD', 143000, 'US', 100, 'US', 'M')\n",
      "(2023, 'SE', 'FT', 'Analytics Engineer', 275300, 'USD', 275300, 'US', 100, 'US', 'M')\n",
      "(2023, 'SE', 'FT', 'Analytics Engineer', 183500, 'USD', 183500, 'US', 100, 'US', 'M')\n",
      "(2023, 'MI', 'FT', 'ML Engineer', 160000, 'USD', 160000, 'US', 0, 'US', 'M')\n",
      "(2023, 'MI', 'FT', 'ML Engineer', 147000, 'USD', 147000, 'US', 0, 'US', 'M')\n",
      "(2023, 'SE', 'FT', 'Data Architect', 149040, 'USD', 149040, 'US', 100, 'US', 'M')\n",
      "(2023, 'SE', 'FT', 'Data Architect', 113900, 'USD', 113900, 'US', 100, 'US', 'M')\n",
      "(2023, 'SE', 'FT', 'Data Analyst', 180180, 'USD', 180180, 'US', 0, 'US', 'M')\n",
      "(2023, 'SE', 'FT', 'Data Analyst', 106020, 'USD', 106020, 'US', 0, 'US', 'M')\n",
      "(2023, 'MI', 'FT', 'Data Scientist', 1400000, 'INR', 17022, 'IN', 100, 'IN', 'L')\n",
      "(2023, 'MI', 'FT', 'Lead Data Analyst', 1500000, 'INR', 18238, 'IN', 50, 'IN', 'L')\n",
      "(2023, 'MI', 'FT', 'Machine Learning Engineer', 250000, 'USD', 250000, 'US', 0, 'US', 'M')\n",
      "(2023, 'MI', 'FT', 'Machine Learning Engineer', 150000, 'USD', 150000, 'US', 0, 'US', 'M')\n",
      "(2023, 'SE', 'FT', 'Data Engineer', 139500, 'USD', 139500, 'US', 0, 'US', 'M')\n",
      "(2023, 'SE', 'FT', 'Data Engineer', 109400, 'USD', 109400, 'US', 0, 'US', 'M')\n",
      "(2023, 'SE', 'FT', 'Data Scientist', 105000, 'USD', 105000, 'US', 0, 'US', 'M')\n",
      "(2023, 'EX', 'FT', 'Data Engineer', 210914, 'USD', 210914, 'US', 100, 'US', 'M')\n",
      "(2023, 'EX', 'FT', 'Data Engineer', 116704, 'USD', 116704, 'US', 100, 'US', 'M')\n",
      "(2023, 'EN', 'FT', 'Research Scientist', 150000, 'USD', 150000, 'US', 0, 'US', 'M')\n",
      "(2023, 'SE', 'FT', 'Data Engineer', 146000, 'USD', 146000, 'US', 0, 'US', 'M')\n",
      "(2023, 'MI', 'FT', 'Analytics Engineer', 185700, 'USD', 185700, 'US', 0, 'US', 'M')\n",
      "(2023, 'MI', 'FT', 'Analytics Engineer', 165000, 'USD', 165000, 'US', 0, 'US', 'M')\n",
      "(2023, 'SE', 'FT', 'Data Engineer', 160000, 'USD', 160000, 'US', 100, 'US', 'M')\n",
      "(2023, 'SE', 'FT', 'Data Engineer', 130000, 'USD', 130000, 'US', 100, 'US', 'M')\n",
      "(2023, 'SE', 'FT', 'Data Analyst', 169000, 'USD', 169000, 'US', 0, 'US', 'M')\n",
      "(2023, 'SE', 'FT', 'Data Analyst', 110600, 'USD', 110600, 'US', 0, 'US', 'M')\n",
      "(2023, 'SE', 'FT', 'Data Operations Engineer', 193000, 'USD', 193000, 'US', 100, 'US', 'M')\n",
      "(2023, 'SE', 'FT', 'Data Operations Engineer', 136850, 'USD', 136850, 'US', 100, 'US', 'M')\n",
      "(2023, 'SE', 'FT', 'Machine Learning Engineer', 139500, 'USD', 139500, 'US', 0, 'US', 'M')\n",
      "(2023, 'SE', 'FT', 'Machine Learning Engineer', 109400, 'USD', 109400, 'US', 0, 'US', 'M')\n",
      "(2023, 'SE', 'FT', 'Data Engineer', 276000, 'USD', 276000, 'US', 100, 'US', 'M')\n",
      "(2023, 'SE', 'FT', 'Data Engineer', 178500, 'USD', 178500, 'US', 100, 'US', 'M')\n",
      "(2023, 'SE', 'FT', 'Machine Learning Engineer', 161000, 'GBP', 195652, 'GB', 0, 'GB', 'M')\n",
      "(2023, 'SE', 'FT', 'Data Engineer', 112700, 'GBP', 136956, 'GB', 0, 'GB', 'M')\n",
      "(2023, 'SE', 'FT', 'Data Engineer', 252000, 'USD', 252000, 'US', 0, 'US', 'M')\n",
      "(2023, 'SE', 'FT', 'Data Engineer', 129000, 'USD', 129000, 'US', 0, 'US', 'M')\n",
      "(2022, 'SE', 'FT', 'BI Developer', 130000, 'USD', 130000, 'US', 100, 'US', 'L')\n",
      "(2021, 'MI', 'FT', 'Data Science Lead', 150000, 'USD', 150000, 'US', 100, 'US', 'M')\n",
      "(2023, 'SE', 'FT', 'Data Engineer', 163800, 'USD', 163800, 'US', 0, 'US', 'M')\n",
      "(2023, 'SE', 'FT', 'Data Engineer', 126000, 'USD', 126000, 'US', 0, 'US', 'M')\n",
      "(2023, 'SE', 'FT', 'ML Engineer', 260000, 'USD', 260000, 'CA', 100, 'CA', 'M')\n",
      "(2023, 'SE', 'FT', 'ML Engineer', 110000, 'USD', 110000, 'CA', 100, 'CA', 'M')\n",
      "(2023, 'SE', 'FT', 'Analytics Engineer', 170000, 'USD', 170000, 'US', 100, 'US', 'M')\n",
      "(2023, 'SE', 'FT', 'Analytics Engineer', 130000, 'USD', 130000, 'US', 100, 'US', 'M')\n",
      "(2023, 'SE', 'FT', 'Machine Learning Engineer', 247500, 'USD', 247500, 'US', 0, 'US', 'M')\n",
      "(2023, 'SE', 'FT', 'Machine Learning Engineer', 172200, 'USD', 172200, 'US', 0, 'US', 'M')\n",
      "(2023, 'SE', 'FT', 'Data Scientist', 239748, 'USD', 239748, 'US', 0, 'US', 'M')\n",
      "(2023, 'SE', 'FT', 'Data Scientist', 159832, 'USD', 159832, 'US', 0, 'US', 'M')\n",
      "(2023, 'SE', 'FT', 'Machine Learning Engineer', 163800, 'USD', 163800, 'US', 0, 'US', 'M')\n",
      "(2023, 'SE', 'FT', 'Machine Learning Engineer', 126000, 'USD', 126000, 'US', 0, 'US', 'M')\n",
      "(2023, 'MI', 'FT', 'Data Scientist', 128750, 'USD', 128750, 'US', 0, 'US', 'M')\n",
      "(2023, 'MI', 'FT', 'Data Scientist', 106250, 'USD', 106250, 'US', 0, 'US', 'M')\n",
      "(2023, 'SE', 'FT', 'Data Engineer', 252000, 'USD', 252000, 'US', 0, 'US', 'M')\n",
      "(2023, 'SE', 'FT', 'Data Engineer', 129000, 'USD', 129000, 'US', 0, 'US', 'M')\n",
      "(2023, 'SE', 'FT', 'Data Science Manager', 299500, 'USD', 299500, 'US', 0, 'US', 'M')\n",
      "(2023, 'SE', 'FT', 'Data Science Manager', 245100, 'USD', 245100, 'US', 0, 'US', 'M')\n",
      "(2023, 'MI', 'FT', 'Data Analytics Manager', 155000, 'USD', 155000, 'US', 0, 'US', 'M')\n",
      "(2023, 'MI', 'FT', 'Data Analytics Manager', 140000, 'USD', 140000, 'US', 0, 'US', 'M')\n",
      "(2023, 'EX', 'FT', 'Data Engineer', 167500, 'USD', 167500, 'US', 0, 'US', 'M')\n",
      "(2023, 'EX', 'FT', 'Data Engineer', 106500, 'USD', 106500, 'US', 0, 'US', 'M')\n",
      "(2023, 'SE', 'FT', 'Data Architect', 188500, 'USD', 188500, 'US', 100, 'US', 'M')\n",
      "(2023, 'SE', 'FT', 'Data Architect', 117000, 'USD', 117000, 'US', 100, 'US', 'M')\n",
      "(2023, 'SE', 'FT', 'Data Analyst', 250000, 'USD', 250000, 'US', 100, 'US', 'M')\n",
      "(2023, 'SE', 'FT', 'Data Analyst', 138000, 'USD', 138000, 'US', 100, 'US', 'M')\n",
      "(2023, 'MI', 'FT', 'Data Analyst', 130000, 'USD', 130000, 'CA', 100, 'CA', 'M')\n",
      "(2023, 'SE', 'FT', 'Deep Learning Researcher', 115000, 'EUR', 123405, 'DE', 0, 'DE', 'L')\n",
      "(2023, 'SE', 'FT', 'Data Engineer', 140000, 'USD', 140000, 'US', 0, 'US', 'M')\n",
      "(2023, 'SE', 'FT', 'Data Engineer', 120000, 'USD', 120000, 'US', 0, 'US', 'M')\n",
      "(2023, 'SE', 'FT', 'BI Analyst', 160000, 'USD', 160000, 'US', 0, 'US', 'M')\n",
      "(2023, 'SE', 'FT', 'BI Analyst', 135000, 'USD', 135000, 'US', 0, 'US', 'M')\n",
      "(2023, 'MI', 'FT', 'Data Science Manager', 104500, 'USD', 104500, 'US', 0, 'US', 'M')\n",
      "(2023, 'SE', 'FT', 'Data Engineer', 153600, 'USD', 153600, 'US', 100, 'US', 'M')\n",
      "(2023, 'SE', 'FT', 'Data Engineer', 106800, 'USD', 106800, 'US', 100, 'US', 'M')\n",
      "(2023, 'EN', 'FT', 'Data Engineer', 125000, 'USD', 125000, 'US', 0, 'US', 'M')\n",
      "(2023, 'MI', 'FT', 'Research Scientist', 185000, 'USD', 185000, 'US', 100, 'US', 'M')\n",
      "(2023, 'MI', 'FT', 'Research Scientist', 125000, 'USD', 125000, 'US', 100, 'US', 'M')\n",
      "(2023, 'SE', 'FT', 'Data Analyst', 127000, 'USD', 127000, 'US', 100, 'US', 'M')\n",
      "(2023, 'SE', 'FT', 'Data Scientist', 210550, 'USD', 210550, 'US', 0, 'US', 'M')\n",
      "(2023, 'SE', 'FT', 'Data Scientist', 153300, 'USD', 153300, 'US', 0, 'US', 'M')\n",
      "(2023, 'MI', 'FT', 'Data Scientist', 200000, 'USD', 200000, 'US', 100, 'US', 'M')\n",
      "(2023, 'MI', 'FT', 'Data Scientist', 150000, 'USD', 150000, 'US', 100, 'US', 'M')\n",
      "(2023, 'SE', 'FT', 'Data Analyst', 161500, 'USD', 161500, 'US', 100, 'US', 'M')\n",
      "(2023, 'SE', 'FT', 'Data Analyst', 119500, 'USD', 119500, 'US', 100, 'US', 'M')\n",
      "(2023, 'SE', 'FT', 'Data Analyst', 175000, 'USD', 175000, 'US', 0, 'US', 'M')\n",
      "(2023, 'SE', 'FT', 'Data Analyst', 145000, 'USD', 145000, 'US', 0, 'US', 'M')\n",
      "(2023, 'SE', 'FT', 'Data Scientist', 175000, 'USD', 175000, 'US', 0, 'US', 'M')\n",
      "(2023, 'SE', 'FT', 'Data Scientist', 148750, 'USD', 148750, 'US', 0, 'US', 'M')\n",
      "(2023, 'SE', 'FT', 'Data Analytics Specialist', 105000, 'USD', 105000, 'US', 0, 'US', 'M')\n",
      "(2023, 'SE', 'FT', 'Research Scientist', 215000, 'USD', 215000, 'US', 0, 'US', 'M')\n",
      "(2023, 'SE', 'FT', 'Research Scientist', 146300, 'USD', 146300, 'US', 0, 'US', 'M')\n",
      "(2023, 'EN', 'FT', 'AI Developer', 200000, 'EUR', 214618, 'DE', 100, 'DE', 'L')\n",
      "(2023, 'SE', 'FT', 'Machine Learning Engineer', 153400, 'USD', 153400, 'US', 0, 'US', 'M')\n",
      "(2023, 'SE', 'FT', 'Machine Learning Engineer', 122700, 'USD', 122700, 'US', 0, 'US', 'M')\n",
      "(2023, 'MI', 'FT', 'Data Engineer', 260000, 'USD', 260000, 'US', 0, 'US', 'M')\n",
      "(2023, 'MI', 'FT', 'Data Engineer', 175000, 'USD', 175000, 'US', 0, 'US', 'M')\n",
      "(2023, 'SE', 'FT', 'Data Scientist', 186300, 'USD', 186300, 'US', 100, 'US', 'M')\n",
      "(2023, 'SE', 'FT', 'Data Scientist', 123900, 'USD', 123900, 'US', 100, 'US', 'M')\n",
      "(2023, 'MI', 'FT', 'Research Scientist', 340000, 'USD', 340000, 'US', 100, 'US', 'M')\n",
      "(2023, 'MI', 'FT', 'Research Scientist', 150000, 'USD', 150000, 'US', 100, 'US', 'M')\n",
      "(2023, 'SE', 'FT', 'Machine Learning Engineer', 153400, 'USD', 153400, 'US', 0, 'US', 'M')\n",
      "(2023, 'SE', 'FT', 'Machine Learning Engineer', 122700, 'USD', 122700, 'US', 0, 'US', 'M')\n",
      "(2023, 'MI', 'FT', 'Data Engineer', 250000, 'USD', 250000, 'US', 0, 'US', 'M')\n",
      "(2023, 'MI', 'FT', 'Data Engineer', 175000, 'USD', 175000, 'US', 0, 'US', 'M')\n",
      "(2023, 'SE', 'FT', 'Data Analyst', 185900, 'USD', 185900, 'US', 0, 'US', 'M')\n",
      "(2023, 'SE', 'FT', 'Data Analyst', 121700, 'USD', 121700, 'US', 0, 'US', 'M')\n",
      "(2023, 'SE', 'FT', 'Data Analyst', 153600, 'USD', 153600, 'US', 0, 'US', 'M')\n",
      "(2023, 'SE', 'FT', 'Data Analyst', 106800, 'USD', 106800, 'US', 0, 'US', 'M')\n",
      "(2023, 'SE', 'FT', 'Machine Learning Engineer', 247500, 'USD', 247500, 'US', 0, 'US', 'M')\n",
      "(2023, 'SE', 'FT', 'Machine Learning Engineer', 172200, 'USD', 172200, 'US', 0, 'US', 'M')\n",
      "(2023, 'EX', 'FT', 'Data Engineer', 310000, 'USD', 310000, 'US', 100, 'US', 'M')\n",
      "(2023, 'EX', 'FT', 'Data Engineer', 239000, 'USD', 239000, 'US', 100, 'US', 'M')\n",
      "(2023, 'SE', 'FT', 'Data Analyst', 125000, 'USD', 125000, 'US', 0, 'US', 'M')\n",
      "(2023, 'SE', 'FT', 'Data Analyst', 110000, 'USD', 110000, 'US', 0, 'US', 'M')\n",
      "(2023, 'EN', 'FT', 'Data Analyst', 150000, 'USD', 150000, 'US', 0, 'US', 'M')\n",
      "(2023, 'SE', 'FT', 'Data Scientist', 149076, 'USD', 149076, 'US', 0, 'US', 'M')\n",
      "(2023, 'MI', 'FT', 'Data Engineer', 146000, 'USD', 146000, 'US', 0, 'US', 'M')\n",
      "(2023, 'SE', 'FT', 'Machine Learning Engineer', 139500, 'USD', 139500, 'US', 0, 'US', 'M')\n",
      "(2023, 'SE', 'FT', 'Machine Learning Engineer', 109400, 'USD', 109400, 'US', 0, 'US', 'M')\n",
      "(2023, 'SE', 'FT', 'Data Engineer', 139500, 'USD', 139500, 'US', 0, 'US', 'M')\n",
      "(2023, 'SE', 'FT', 'Data Engineer', 109400, 'USD', 109400, 'US', 0, 'US', 'M')\n",
      "(2023, 'MI', 'FT', 'Data Engineer', 149600, 'USD', 149600, 'US', 0, 'US', 'M')\n",
      "(2023, 'MI', 'FT', 'Data Engineer', 102000, 'USD', 102000, 'US', 0, 'US', 'M')\n",
      "(2023, 'SE', 'FT', 'Data Engineer', 252000, 'USD', 252000, 'US', 0, 'US', 'M')\n",
      "(2023, 'SE', 'FT', 'Data Engineer', 129000, 'USD', 129000, 'US', 0, 'US', 'M')\n",
      "(2023, 'SE', 'FT', 'Data Analyst', 185900, 'USD', 185900, 'US', 0, 'US', 'M')\n",
      "(2023, 'SE', 'FT', 'Data Analyst', 121700, 'USD', 121700, 'US', 0, 'US', 'M')\n",
      "(2023, 'EN', 'FT', 'Research Scientist', 150000, 'USD', 150000, 'US', 0, 'US', 'M')\n",
      "(2023, 'MI', 'FT', 'Data Engineer', 145000, 'USD', 145000, 'US', 0, 'US', 'M')\n",
      "(2023, 'MI', 'FT', 'Data Engineer', 125000, 'USD', 125000, 'US', 0, 'US', 'M')\n",
      "(2023, 'MI', 'FT', 'Data Scientist', 150000, 'USD', 150000, 'US', 100, 'US', 'M')\n",
      "(2023, 'SE', 'FT', 'Data Scientist', 201000, 'USD', 201000, 'US', 0, 'US', 'M')\n",
      "(2023, 'SE', 'FT', 'Data Scientist', 122000, 'USD', 122000, 'US', 0, 'US', 'M')\n",
      "(2023, 'SE', 'FT', 'Data Engineer', 252000, 'USD', 252000, 'US', 0, 'US', 'M')\n",
      "(2023, 'SE', 'FT', 'Data Engineer', 129000, 'USD', 129000, 'US', 0, 'US', 'M')\n",
      "(2023, 'SE', 'FT', 'Data Analyst', 120000, 'USD', 120000, 'US', 100, 'US', 'M')\n",
      "(2023, 'MI', 'FT', 'Data Scientist', 116990, 'USD', 116990, 'US', 100, 'US', 'M')\n",
      "(2023, 'SE', 'FT', 'Data Scientist', 185900, 'USD', 185900, 'US', 0, 'US', 'M')\n",
      "(2023, 'SE', 'FT', 'Data Scientist', 129300, 'USD', 129300, 'US', 0, 'US', 'M')\n",
      "(2023, 'MI', 'FT', 'Machine Learning Scientist', 200000, 'USD', 200000, 'US', 0, 'US', 'S')\n",
      "(2023, 'MI', 'FT', 'Machine Learning Scientist', 125000, 'USD', 125000, 'US', 0, 'US', 'S')\n",
      "(2023, 'SE', 'FT', 'Data Scientist', 201000, 'USD', 201000, 'US', 0, 'US', 'M')\n",
      "(2023, 'SE', 'FT', 'Data Scientist', 122000, 'USD', 122000, 'US', 0, 'US', 'M')\n",
      "(2023, 'SE', 'FT', 'Machine Learning Engineer', 204500, 'USD', 204500, 'US', 0, 'US', 'M')\n",
      "(2023, 'SE', 'FT', 'Machine Learning Engineer', 142200, 'USD', 142200, 'US', 0, 'US', 'M')\n",
      "(2023, 'SE', 'FT', 'Data Manager', 155000, 'USD', 155000, 'US', 0, 'US', 'M')\n",
      "(2023, 'SE', 'FT', 'Data Manager', 140000, 'USD', 140000, 'US', 0, 'US', 'M')\n",
      "(2023, 'MI', 'FT', 'Machine Learning Infrastructure Engineer', 205920, 'USD', 205920, 'US', 0, 'US', 'M')\n",
      "(2023, 'MI', 'FT', 'Machine Learning Infrastructure Engineer', 171600, 'USD', 171600, 'US', 0, 'US', 'M')\n",
      "(2023, 'SE', 'FT', 'Data Engineer', 121500, 'USD', 121500, 'US', 100, 'US', 'M')\n",
      "(2023, 'MI', 'FT', 'Data Engineer', 154000, 'USD', 154000, 'US', 0, 'US', 'M')\n",
      "(2023, 'MI', 'FT', 'Data Engineer', 116000, 'USD', 116000, 'US', 0, 'US', 'M')\n",
      "(2023, 'SE', 'FT', 'Data Scientist', 190000, 'USD', 190000, 'US', 0, 'US', 'M')\n",
      "(2023, 'SE', 'FT', 'Data Scientist', 136000, 'USD', 136000, 'US', 0, 'US', 'M')\n",
      "(2023, 'SE', 'FT', 'Data Analyst', 180000, 'USD', 180000, 'US', 0, 'US', 'M')\n",
      "(2023, 'SE', 'FT', 'Data Analyst', 110000, 'USD', 110000, 'US', 0, 'US', 'M')\n",
      "(2023, 'SE', 'FT', 'Data Scientist', 275300, 'USD', 275300, 'US', 100, 'US', 'M')\n",
      "(2023, 'SE', 'FT', 'Data Scientist', 183000, 'USD', 183000, 'US', 100, 'US', 'M')\n",
      "(2023, 'SE', 'FT', 'Data Engineer', 170000, 'USD', 170000, 'US', 0, 'US', 'M')\n",
      "(2023, 'SE', 'FT', 'Data Engineer', 140000, 'USD', 140000, 'US', 0, 'US', 'M')\n",
      "(2023, 'SE', 'FT', 'Data Engineer', 154000, 'USD', 154000, 'US', 0, 'US', 'M')\n",
      "(2023, 'SE', 'FT', 'Data Engineer', 116000, 'USD', 116000, 'US', 0, 'US', 'M')\n",
      "(2023, 'SE', 'FT', 'Data Engineer', 160000, 'USD', 160000, 'US', 100, 'US', 'M')\n",
      "(2023, 'SE', 'FT', 'Data Engineer', 130000, 'USD', 130000, 'US', 100, 'US', 'M')\n",
      "(2023, 'MI', 'FT', 'Data Engineer', 200000, 'USD', 200000, 'US', 0, 'US', 'M')\n",
      "(2023, 'MI', 'FT', 'Data Engineer', 120000, 'USD', 120000, 'US', 0, 'US', 'M')\n",
      "(2023, 'SE', 'FT', 'Data Scientist', 175000, 'USD', 175000, 'US', 100, 'US', 'M')\n",
      "(2023, 'SE', 'FT', 'Data Scientist', 160000, 'USD', 160000, 'US', 100, 'US', 'M')\n",
      "(2023, 'MI', 'FT', 'Data Engineer', 105000, 'GBP', 127599, 'GB', 0, 'GB', 'M')\n",
      "(2023, 'SE', 'FT', 'Data Engineer', 153600, 'USD', 153600, 'US', 0, 'US', 'M')\n",
      "(2023, 'SE', 'FT', 'Data Engineer', 106800, 'USD', 106800, 'US', 0, 'US', 'M')\n",
      "(2023, 'SE', 'FT', 'Data Scientist', 225000, 'USD', 225000, 'US', 0, 'US', 'M')\n",
      "(2023, 'SE', 'FT', 'Data Scientist', 156400, 'USD', 156400, 'US', 0, 'US', 'M')\n",
      "(2023, 'SE', 'FT', 'Analytics Engineer', 150000, 'USD', 150000, 'US', 0, 'US', 'M')\n",
      "(2023, 'SE', 'FT', 'Analytics Engineer', 120000, 'USD', 120000, 'US', 0, 'US', 'M')\n",
      "(2023, 'SE', 'FT', 'Machine Learning Engineer', 163800, 'USD', 163800, 'US', 0, 'US', 'M')\n",
      "(2023, 'SE', 'FT', 'Machine Learning Engineer', 126000, 'USD', 126000, 'US', 0, 'US', 'M')\n",
      "(2023, 'SE', 'FT', 'Data Analyst', 145000, 'USD', 145000, 'US', 100, 'US', 'M')\n",
      "(2023, 'SE', 'FT', 'Machine Learning Engineer', 204500, 'USD', 204500, 'US', 0, 'US', 'M')\n",
      "(2023, 'SE', 'FT', 'Machine Learning Engineer', 142200, 'USD', 142200, 'US', 0, 'US', 'M')\n",
      "(2023, 'SE', 'FT', 'Data Engineer', 167500, 'USD', 167500, 'US', 0, 'US', 'M')\n",
      "(2023, 'SE', 'FT', 'Data Engineer', 106500, 'USD', 106500, 'US', 0, 'US', 'M')\n",
      "(2023, 'SE', 'FT', 'Data Engineer', 163800, 'USD', 163800, 'US', 0, 'US', 'M')\n",
      "(2023, 'SE', 'FT', 'Data Engineer', 126000, 'USD', 126000, 'US', 0, 'US', 'M')\n",
      "(2023, 'MI', 'FT', 'Data Analytics Manager', 155000, 'USD', 155000, 'US', 0, 'US', 'M')\n",
      "(2023, 'MI', 'FT', 'Data Analytics Manager', 140000, 'USD', 140000, 'US', 0, 'US', 'M')\n",
      "(2023, 'SE', 'FT', 'Research Scientist', 250000, 'USD', 250000, 'US', 0, 'US', 'M')\n",
      "(2023, 'SE', 'FT', 'Research Scientist', 200000, 'USD', 200000, 'US', 0, 'US', 'M')\n",
      "(2023, 'SE', 'FT', 'Data Scientist', 260000, 'USD', 260000, 'US', 0, 'US', 'M')\n",
      "(2023, 'SE', 'FT', 'Data Scientist', 186000, 'USD', 186000, 'US', 0, 'US', 'M')\n",
      "(2023, 'SE', 'FT', 'Data Engineer', 160000, 'USD', 160000, 'US', 100, 'US', 'M')\n",
      "(2023, 'SE', 'FT', 'Data Engineer', 130000, 'USD', 130000, 'US', 100, 'US', 'M')\n",
      "(2023, 'SE', 'FT', 'Research Scientist', 200000, 'USD', 200000, 'US', 0, 'US', 'M')\n",
      "(2023, 'SE', 'FT', 'Research Scientist', 150000, 'USD', 150000, 'US', 0, 'US', 'M')\n",
      "(2023, 'SE', 'FT', 'Data Scientist', 150000, 'USD', 150000, 'US', 0, 'US', 'M')\n",
      "(2023, 'SE', 'FT', 'Data Scientist', 120000, 'USD', 120000, 'US', 0, 'US', 'M')\n",
      "(2023, 'MI', 'FT', 'Research Scientist', 185000, 'USD', 185000, 'US', 0, 'US', 'M')\n",
      "(2023, 'MI', 'FT', 'Research Scientist', 125000, 'USD', 125000, 'US', 0, 'US', 'M')\n",
      "(2022, 'EX', 'FT', 'Data Science Manager', 106000, 'USD', 106000, 'UZ', 0, 'RU', 'L')\n",
      "(2023, 'SE', 'FT', 'Data Analyst', 175000, 'USD', 175000, 'US', 100, 'US', 'M')\n",
      "(2023, 'SE', 'FT', 'Data Analyst', 130000, 'USD', 130000, 'US', 100, 'US', 'M')\n",
      "(2023, 'SE', 'FT', 'Data Analyst', 122000, 'USD', 122000, 'US', 100, 'US', 'M')\n",
      "(2023, 'SE', 'FT', 'Data Science Manager', 150000, 'USD', 150000, 'MX', 100, 'MX', 'M')\n",
      "(2023, 'SE', 'FT', 'Data Analyst', 165000, 'USD', 165000, 'US', 100, 'US', 'M')\n",
      "(2023, 'SE', 'FT', 'Data Analyst', 112000, 'USD', 112000, 'US', 100, 'US', 'M')\n",
      "(2023, 'EN', 'FT', 'Computer Vision Engineer', 220000, 'USD', 220000, 'US', 0, 'US', 'M')\n",
      "(2023, 'SE', 'FT', 'Machine Learning Engineer', 204500, 'USD', 204500, 'US', 0, 'US', 'M')\n",
      "(2023, 'SE', 'FT', 'Machine Learning Engineer', 142200, 'USD', 142200, 'US', 0, 'US', 'M')\n",
      "(2023, 'SE', 'FT', 'Data Analyst', 1300000, 'INR', 15806, 'IN', 100, 'IN', 'S')\n",
      "(2023, 'MI', 'FT', 'Machine Learning Engineer', 200000, 'USD', 200000, 'US', 0, 'US', 'M')\n",
      "(2023, 'MI', 'FT', 'Machine Learning Engineer', 175000, 'USD', 175000, 'US', 0, 'US', 'M')\n",
      "(2023, 'SE', 'FT', 'Data Engineer', 185900, 'USD', 185900, 'US', 0, 'US', 'M')\n",
      "(2023, 'SE', 'FT', 'Data Engineer', 129300, 'USD', 129300, 'US', 0, 'US', 'M')\n",
      "(2023, 'SE', 'FT', 'Data Analyst', 185900, 'USD', 185900, 'US', 0, 'US', 'M')\n",
      "(2023, 'SE', 'FT', 'Data Analyst', 121700, 'USD', 121700, 'US', 0, 'US', 'M')\n",
      "(2023, 'SE', 'FT', 'Machine Learning Engineer', 204500, 'USD', 204500, 'US', 0, 'US', 'M')\n",
      "(2023, 'SE', 'FT', 'Machine Learning Engineer', 142200, 'USD', 142200, 'US', 0, 'US', 'M')\n",
      "(2023, 'SE', 'FT', 'Data Science Consultant', 1000000, 'THB', 29453, 'TH', 50, 'TH', 'M')\n",
      "(2023, 'SE', 'FT', 'Data Analyst', 180180, 'USD', 180180, 'US', 0, 'US', 'M')\n",
      "(2023, 'SE', 'FT', 'Data Analyst', 106020, 'USD', 106020, 'US', 0, 'US', 'M')\n",
      "(2023, 'SE', 'FT', 'Data Scientist', 136000, 'USD', 136000, 'US', 100, 'US', 'M')\n",
      "(2023, 'SE', 'FT', 'Data Scientist', 104000, 'USD', 104000, 'US', 100, 'US', 'M')\n",
      "(2023, 'SE', 'FT', 'Data Analyst', 125000, 'USD', 125000, 'US', 0, 'US', 'M')\n",
      "(2023, 'SE', 'FT', 'Data Analyst', 110000, 'USD', 110000, 'US', 0, 'US', 'M')\n",
      "(2023, 'SE', 'FT', 'Machine Learning Engineer', 153400, 'USD', 153400, 'US', 0, 'US', 'M')\n",
      "(2023, 'SE', 'FT', 'Machine Learning Engineer', 122700, 'USD', 122700, 'US', 0, 'US', 'M')\n",
      "(2023, 'EX', 'FT', 'Data Engineer', 310000, 'USD', 310000, 'US', 100, 'US', 'M')\n",
      "(2023, 'EX', 'FT', 'Data Engineer', 239000, 'USD', 239000, 'US', 100, 'US', 'M')\n",
      "(2023, 'SE', 'FT', 'Data Analyst', 152380, 'USD', 152380, 'US', 0, 'US', 'M')\n",
      "(2023, 'SE', 'FT', 'Data Analyst', 121904, 'USD', 121904, 'US', 0, 'US', 'M')\n",
      "(2023, 'SE', 'FT', 'Data Scientist', 185900, 'USD', 185900, 'US', 0, 'US', 'M')\n",
      "(2023, 'SE', 'FT', 'Data Scientist', 129300, 'USD', 129300, 'US', 0, 'US', 'M')\n",
      "(2023, 'SE', 'FT', 'Machine Learning Engineer', 247500, 'USD', 247500, 'US', 0, 'US', 'M')\n",
      "(2023, 'SE', 'FT', 'Machine Learning Engineer', 172200, 'USD', 172200, 'US', 0, 'US', 'M')\n",
      "(2023, 'SE', 'FT', 'Data Architect', 168400, 'USD', 168400, 'US', 0, 'US', 'M')\n",
      "(2023, 'SE', 'FT', 'Data Architect', 105200, 'USD', 105200, 'US', 0, 'US', 'M')\n",
      "(2023, 'SE', 'FT', 'Machine Learning Engineer', 128280, 'USD', 128280, 'US', 0, 'US', 'M')\n",
      "(2023, 'SE', 'FT', 'Machine Learning Engineer', 106900, 'USD', 106900, 'US', 0, 'US', 'M')\n",
      "(2022, 'SE', 'FT', 'Lead Data Scientist', 192000, 'USD', 192000, 'US', 100, 'US', 'L')\n",
      "(2023, 'MI', 'FT', 'Data Engineer', 140000, 'USD', 140000, 'US', 0, 'US', 'M')\n",
      "(2023, 'SE', 'FT', 'Machine Learning Engineer', 275000, 'USD', 275000, 'DE', 0, 'DE', 'M')\n",
      "(2023, 'SE', 'FT', 'Machine Learning Engineer', 174000, 'USD', 174000, 'DE', 0, 'DE', 'M')\n",
      "(2023, 'SE', 'FT', 'Data Engineer', 139500, 'USD', 139500, 'US', 0, 'US', 'M')\n",
      "(2023, 'SE', 'FT', 'Data Engineer', 109400, 'USD', 109400, 'US', 0, 'US', 'M')\n",
      "(2023, 'SE', 'FT', 'Machine Learning Engineer', 139500, 'USD', 139500, 'US', 0, 'US', 'M')\n",
      "(2023, 'SE', 'FT', 'Machine Learning Engineer', 109400, 'USD', 109400, 'US', 0, 'US', 'M')\n",
      "(2023, 'SE', 'FT', 'Data Analyst', 170500, 'USD', 170500, 'US', 100, 'US', 'M')\n",
      "(2023, 'EX', 'FT', 'Head of Data Science', 131899, 'GBP', 160288, 'GB', 0, 'GB', 'M')\n",
      "(2023, 'EX', 'FT', 'Head of Data Science', 104891, 'GBP', 127467, 'GB', 0, 'GB', 'M')\n",
      "(2023, 'SE', 'FT', 'Data Engineer', 124740, 'USD', 124740, 'US', 0, 'US', 'M')\n",
      "(2023, 'SE', 'FT', 'Data Engineer', 153600, 'USD', 153600, 'US', 0, 'US', 'M')\n",
      "(2023, 'SE', 'FT', 'Data Engineer', 106800, 'USD', 106800, 'US', 0, 'US', 'M')\n",
      "(2023, 'SE', 'FT', 'Data Analyst', 179975, 'USD', 179975, 'US', 100, 'US', 'M')\n",
      "(2023, 'SE', 'FT', 'Data Engineer', 120000, 'USD', 120000, 'US', 0, 'US', 'M')\n",
      "(2023, 'SE', 'FT', 'Data Scientist', 149076, 'USD', 149076, 'US', 0, 'US', 'M')\n",
      "(2023, 'SE', 'FT', 'Data Analyst', 169000, 'USD', 169000, 'US', 0, 'US', 'M')\n",
      "(2023, 'SE', 'FT', 'Data Analyst', 110600, 'USD', 110600, 'US', 0, 'US', 'M')\n",
      "(2023, 'SE', 'FT', 'Data Science Manager', 175000, 'USD', 175000, 'US', 0, 'US', 'M')\n",
      "(2023, 'SE', 'FT', 'Data Science Manager', 120000, 'USD', 120000, 'US', 0, 'US', 'M')\n",
      "(2023, 'SE', 'FT', 'Data Analyst', 230000, 'USD', 230000, 'US', 0, 'US', 'M')\n",
      "(2023, 'SE', 'FT', 'Data Analyst', 180000, 'USD', 180000, 'US', 0, 'US', 'M')\n",
      "(2023, 'SE', 'FT', 'Data Analyst', 153600, 'USD', 153600, 'US', 0, 'US', 'M')\n",
      "(2023, 'SE', 'FT', 'Data Analyst', 106800, 'USD', 106800, 'US', 0, 'US', 'M')\n",
      "(2023, 'SE', 'FT', 'Data Manager', 140000, 'USD', 140000, 'US', 0, 'US', 'M')\n",
      "(2023, 'SE', 'FT', 'Data Manager', 120000, 'USD', 120000, 'US', 0, 'US', 'M')\n",
      "(2023, 'SE', 'FT', 'Machine Learning Infrastructure Engineer', 205920, 'USD', 205920, 'US', 0, 'US', 'M')\n",
      "(2023, 'SE', 'FT', 'Machine Learning Infrastructure Engineer', 171600, 'USD', 171600, 'US', 0, 'US', 'M')\n",
      "(2023, 'SE', 'FT', 'Data Analyst', 165000, 'USD', 165000, 'US', 100, 'US', 'M')\n",
      "(2023, 'SE', 'FT', 'Data Analyst', 125000, 'USD', 125000, 'US', 100, 'US', 'M')\n",
      "(2023, 'SE', 'FT', 'Data Engineer', 265000, 'USD', 265000, 'US', 0, 'US', 'M')\n",
      "(2023, 'SE', 'FT', 'Data Engineer', 185000, 'USD', 185000, 'US', 0, 'US', 'M')\n",
      "(2023, 'MI', 'FT', 'Applied Machine Learning Engineer', 130000, 'USD', 130000, 'US', 0, 'US', 'M')\n",
      "(2022, 'EN', 'FT', 'Data Scientist', 168000, 'USD', 168000, 'US', 100, 'US', 'M')\n",
      "(2023, 'SE', 'FT', 'Data Scientist', 147100, 'USD', 147100, 'US', 0, 'US', 'M')\n",
      "(2023, 'SE', 'FT', 'Data Engineer', 167580, 'USD', 167580, 'US', 0, 'US', 'M')\n",
      "(2023, 'SE', 'FT', 'Data Engineer', 202000, 'USD', 202000, 'US', 100, 'US', 'M')\n",
      "(2023, 'SE', 'FT', 'Data Engineer', 135000, 'USD', 135000, 'US', 100, 'US', 'M')\n",
      "(2023, 'SE', 'FT', 'Data Engineer', 163800, 'USD', 163800, 'US', 0, 'US', 'M')\n",
      "(2023, 'SE', 'FT', 'Data Engineer', 126000, 'USD', 126000, 'US', 0, 'US', 'M')\n",
      "(2023, 'SE', 'FT', 'Machine Learning Engineer', 163800, 'USD', 163800, 'US', 0, 'US', 'M')\n",
      "(2023, 'SE', 'FT', 'Machine Learning Engineer', 126000, 'USD', 126000, 'US', 0, 'US', 'M')\n",
      "(2023, 'SE', 'FT', 'Data Engineer', 104000, 'USD', 104000, 'US', 100, 'US', 'M')\n",
      "(2023, 'SE', 'FT', 'Research Engineer', 230000, 'USD', 230000, 'US', 0, 'US', 'M')\n",
      "(2023, 'SE', 'FT', 'Research Engineer', 148000, 'USD', 148000, 'US', 0, 'US', 'M')\n",
      "(2023, 'SE', 'FT', 'Machine Learning Engineer', 269000, 'USD', 269000, 'CA', 100, 'CA', 'M')\n",
      "(2023, 'SE', 'FT', 'Machine Learning Engineer', 158000, 'USD', 158000, 'CA', 100, 'CA', 'M')\n",
      "(2023, 'SE', 'FT', 'Analytics Engineer', 197000, 'USD', 197000, 'US', 0, 'US', 'M')\n",
      "(2023, 'SE', 'FT', 'Analytics Engineer', 106000, 'USD', 106000, 'US', 0, 'US', 'M')\n",
      "(2023, 'MI', 'FT', 'Deep Learning Engineer', 150000, 'USD', 150000, 'US', 100, 'US', 'M')\n",
      "(2023, 'SE', 'FT', 'Data Engineer', 290000, 'USD', 290000, 'US', 100, 'US', 'M')\n",
      "(2023, 'SE', 'FT', 'Data Engineer', 210000, 'USD', 210000, 'US', 100, 'US', 'M')\n",
      "(2023, 'SE', 'FT', 'Data Engineer', 192000, 'USD', 192000, 'US', 0, 'US', 'M')\n",
      "(2023, 'SE', 'FT', 'Data Engineer', 172800, 'USD', 172800, 'US', 0, 'US', 'M')\n",
      "(2023, 'SE', 'FT', 'Data Scientist', 300240, 'USD', 300240, 'US', 0, 'US', 'M')\n",
      "(2023, 'SE', 'FT', 'Data Scientist', 200160, 'USD', 200160, 'US', 0, 'US', 'M')\n",
      "(2023, 'SE', 'FT', 'Data Scientist', 300240, 'USD', 300240, 'US', 0, 'US', 'M')\n",
      "(2023, 'SE', 'FT', 'Data Scientist', 200160, 'USD', 200160, 'US', 0, 'US', 'M')\n",
      "(2023, 'SE', 'FT', 'Analytics Engineer', 175000, 'USD', 175000, 'US', 0, 'US', 'M')\n",
      "(2023, 'SE', 'FT', 'Analytics Engineer', 140000, 'USD', 140000, 'US', 0, 'US', 'M')\n",
      "(2023, 'SE', 'FT', 'Data Manager', 169000, 'USD', 169000, 'US', 0, 'US', 'M')\n",
      "(2023, 'SE', 'FT', 'Data Scientist', 370000, 'USD', 370000, 'US', 0, 'US', 'M')\n",
      "(2023, 'SE', 'FT', 'Data Scientist', 245000, 'USD', 245000, 'US', 0, 'US', 'M')\n",
      "(2023, 'SE', 'FT', 'Data Analyst', 110000, 'USD', 110000, 'US', 100, 'US', 'S')\n",
      "(2023, 'SE', 'FT', 'Data Engineer', 137500, 'USD', 137500, 'US', 100, 'US', 'M')\n",
      "(2023, 'SE', 'FT', 'Machine Learning Engineer', 323300, 'USD', 323300, 'US', 0, 'US', 'M')\n",
      "(2023, 'SE', 'FT', 'Machine Learning Engineer', 184700, 'USD', 184700, 'US', 0, 'US', 'M')\n",
      "(2023, 'SE', 'FT', 'Machine Learning Engineer', 186000, 'USD', 186000, 'US', 100, 'US', 'M')\n",
      "(2023, 'SE', 'FT', 'Machine Learning Engineer', 153088, 'USD', 153088, 'US', 100, 'US', 'M')\n",
      "(2023, 'MI', 'FT', 'Data Infrastructure Engineer', 190000, 'USD', 190000, 'US', 100, 'US', 'M')\n",
      "(2023, 'MI', 'FT', 'Data Infrastructure Engineer', 160000, 'USD', 160000, 'US', 100, 'US', 'M')\n",
      "(2023, 'SE', 'FT', 'Machine Learning Engineer', 200000, 'USD', 200000, 'US', 100, 'US', 'M')\n",
      "(2023, 'SE', 'FT', 'Machine Learning Engineer', 150000, 'USD', 150000, 'US', 100, 'US', 'M')\n",
      "(2023, 'MI', 'FT', 'Data Infrastructure Engineer', 190000, 'USD', 190000, 'US', 0, 'US', 'M')\n",
      "(2023, 'MI', 'FT', 'Data Infrastructure Engineer', 183310, 'USD', 183310, 'US', 0, 'US', 'M')\n",
      "(2023, 'SE', 'FT', 'Machine Learning Engineer', 240000, 'USD', 240000, 'US', 100, 'US', 'M')\n",
      "(2023, 'SE', 'FT', 'Machine Learning Engineer', 180000, 'USD', 180000, 'US', 100, 'US', 'M')\n",
      "(2023, 'SE', 'FT', 'Machine Learning Engineer', 200000, 'USD', 200000, 'US', 100, 'US', 'M')\n",
      "(2023, 'SE', 'FT', 'Machine Learning Engineer', 150000, 'USD', 150000, 'US', 100, 'US', 'M')\n",
      "(2023, 'SE', 'FT', 'Data Science Manager', 299500, 'USD', 299500, 'US', 0, 'US', 'M')\n",
      "(2023, 'SE', 'FT', 'Data Science Manager', 245100, 'USD', 245100, 'US', 0, 'US', 'M')\n",
      "(2023, 'SE', 'FT', 'Data Engineer', 144000, 'USD', 144000, 'US', 100, 'US', 'M')\n",
      "(2023, 'MI', 'FT', 'Machine Learning Engineer', 148500, 'USD', 148500, 'US', 0, 'US', 'M')\n",
      "(2023, 'MI', 'FT', 'Machine Learning Engineer', 126277, 'USD', 126277, 'US', 0, 'US', 'M')\n",
      "(2023, 'SE', 'FT', 'Data Architect', 228000, 'USD', 228000, 'US', 0, 'US', 'M')\n",
      "(2023, 'SE', 'FT', 'Data Architect', 120000, 'USD', 120000, 'US', 0, 'US', 'M')\n",
      "(2023, 'SE', 'FT', 'Machine Learning Software Engineer', 180000, 'USD', 180000, 'US', 0, 'US', 'M')\n",
      "(2023, 'SE', 'FT', 'Data Scientist', 126500, 'USD', 126500, 'US', 0, 'US', 'M')\n",
      "(2023, 'SE', 'FT', 'Data Engineer', 180000, 'USD', 180000, 'US', 0, 'US', 'M')\n",
      "(2023, 'SE', 'FT', 'Data Engineer', 160000, 'USD', 160000, 'US', 0, 'US', 'M')\n",
      "(2023, 'SE', 'FT', 'Machine Learning Software Engineer', 272000, 'USD', 272000, 'US', 0, 'US', 'M')\n",
      "(2023, 'SE', 'FT', 'Machine Learning Software Engineer', 170000, 'USD', 170000, 'US', 0, 'US', 'M')\n",
      "(2023, 'SE', 'FT', 'Data Engineer', 259000, 'USD', 259000, 'US', 100, 'US', 'M')\n",
      "(2023, 'SE', 'FT', 'Data Engineer', 146000, 'USD', 146000, 'US', 100, 'US', 'M')\n",
      "(2023, 'SE', 'FT', 'Data Engineer', 200000, 'USD', 200000, 'US', 0, 'US', 'M')\n",
      "(2023, 'SE', 'FT', 'Data Engineer', 160000, 'USD', 160000, 'US', 0, 'US', 'M')\n",
      "(2023, 'EX', 'FT', 'Data Engineer', 310000, 'USD', 310000, 'US', 100, 'US', 'M')\n",
      "(2023, 'EX', 'FT', 'Data Engineer', 239000, 'USD', 239000, 'US', 100, 'US', 'M')\n",
      "(2023, 'SE', 'FT', 'Data Analyst', 142000, 'USD', 142000, 'US', 100, 'US', 'M')\n",
      "(2023, 'SE', 'FT', 'Data Scientist', 155000, 'USD', 155000, 'US', 0, 'US', 'M')\n",
      "(2023, 'SE', 'FT', 'Data Scientist', 139500, 'USD', 139500, 'US', 0, 'US', 'M')\n",
      "(2023, 'MI', 'FT', 'Data Engineer', 140000, 'USD', 140000, 'US', 100, 'US', 'M')\n",
      "(2023, 'MI', 'FT', 'Data Engineer', 120000, 'USD', 120000, 'US', 100, 'US', 'M')\n",
      "(2023, 'SE', 'FT', 'Data Engineer', 259000, 'USD', 259000, 'US', 100, 'US', 'M')\n",
      "(2023, 'SE', 'FT', 'Data Engineer', 146000, 'USD', 146000, 'US', 100, 'US', 'M')\n",
      "(2023, 'EN', 'FT', 'Data Scientist', 101400, 'BRL', 19522, 'BR', 100, 'BR', 'L')\n",
      "(2023, 'SE', 'FT', 'Data Science Lead', 247500, 'USD', 247500, 'US', 0, 'US', 'M')\n",
      "(2023, 'SE', 'FT', 'Data Science Lead', 172200, 'USD', 172200, 'US', 0, 'US', 'M')\n",
      "(2023, 'SE', 'FT', 'Data Scientist', 225000, 'USD', 225000, 'US', 0, 'US', 'M')\n",
      "(2023, 'SE', 'FT', 'Data Scientist', 156400, 'USD', 156400, 'US', 0, 'US', 'M')\n",
      "(2023, 'SE', 'FT', 'Data Engineer', 139500, 'USD', 139500, 'US', 0, 'US', 'M')\n",
      "(2023, 'SE', 'FT', 'Data Engineer', 109400, 'USD', 109400, 'US', 0, 'US', 'M')\n",
      "(2023, 'MI', 'FT', 'Data Engineer', 125000, 'USD', 125000, 'US', 0, 'US', 'M')\n",
      "(2023, 'SE', 'FT', 'Data Scientist', 185900, 'USD', 185900, 'US', 0, 'US', 'M')\n",
      "(2023, 'SE', 'FT', 'Data Scientist', 129300, 'USD', 129300, 'US', 0, 'US', 'M')\n",
      "(2023, 'SE', 'FT', 'Machine Learning Engineer', 139500, 'USD', 139500, 'US', 0, 'US', 'M')\n",
      "(2023, 'SE', 'FT', 'Machine Learning Engineer', 109400, 'USD', 109400, 'US', 0, 'US', 'M')\n",
      "(2023, 'SE', 'FT', 'Data Analyst', 120000, 'USD', 120000, 'US', 100, 'US', 'M')\n",
      "(2023, 'SE', 'FT', 'Data Analyst', 169000, 'USD', 169000, 'US', 0, 'US', 'M')\n",
      "(2023, 'SE', 'FT', 'Data Analyst', 110600, 'USD', 110600, 'US', 0, 'US', 'M')\n",
      "(2023, 'SE', 'FT', 'Machine Learning Engineer', 288000, 'USD', 288000, 'US', 100, 'US', 'M')\n",
      "(2023, 'SE', 'FT', 'Machine Learning Engineer', 140000, 'USD', 140000, 'US', 100, 'US', 'M')\n",
      "(2023, 'SE', 'FT', 'Machine Learning Engineer', 288000, 'USD', 288000, 'US', 100, 'US', 'M')\n",
      "(2023, 'SE', 'FT', 'Machine Learning Engineer', 140000, 'USD', 140000, 'US', 100, 'US', 'M')\n",
      "(2023, 'MI', 'FT', 'Data Engineer', 120000, 'USD', 120000, 'US', 0, 'US', 'M')\n",
      "(2023, 'SE', 'FT', 'Data Scientist', 215050, 'USD', 215050, 'US', 100, 'US', 'M')\n",
      "(2023, 'SE', 'FT', 'Data Scientist', 156400, 'USD', 156400, 'US', 100, 'US', 'M')\n",
      "(2023, 'SE', 'FT', 'Data Architect', 198000, 'USD', 198000, 'US', 100, 'US', 'M')\n",
      "(2023, 'SE', 'FT', 'Data Architect', 114000, 'USD', 114000, 'US', 100, 'US', 'M')\n",
      "(2023, 'SE', 'FT', 'Machine Learning Engineer', 204500, 'USD', 204500, 'US', 0, 'US', 'M')\n",
      "(2023, 'SE', 'FT', 'Machine Learning Engineer', 142200, 'USD', 142200, 'US', 0, 'US', 'M')\n",
      "(2023, 'SE', 'FT', 'Data Scientist', 209300, 'USD', 209300, 'US', 100, 'US', 'M')\n",
      "(2023, 'SE', 'FT', 'Data Scientist', 182200, 'USD', 182200, 'US', 100, 'US', 'M')\n",
      "(2023, 'SE', 'FT', 'Data Manager', 140000, 'USD', 140000, 'US', 0, 'US', 'M')\n",
      "(2023, 'SE', 'FT', 'Data Manager', 120000, 'USD', 120000, 'US', 0, 'US', 'M')\n",
      "(2023, 'EN', 'FT', 'Research Engineer', 120000, 'USD', 120000, 'GB', 100, 'GB', 'M')\n",
      "(2023, 'SE', 'FT', 'Machine Learning Engineer', 147100, 'USD', 147100, 'US', 0, 'US', 'M')\n",
      "(2023, 'SE', 'FT', 'Data Engineer', 230000, 'USD', 230000, 'US', 0, 'US', 'M')\n",
      "(2023, 'SE', 'FT', 'Data Engineer', 170000, 'USD', 170000, 'US', 0, 'US', 'M')\n",
      "(2023, 'SE', 'FT', 'Data Analyst', 227000, 'USD', 227000, 'US', 0, 'US', 'M')\n",
      "(2023, 'SE', 'FT', 'Data Analyst', 108000, 'USD', 108000, 'US', 0, 'US', 'M')\n",
      "(2023, 'SE', 'FT', 'Data Engineer', 180000, 'USD', 180000, 'US', 100, 'US', 'M')\n",
      "(2023, 'SE', 'FT', 'Data Engineer', 160000, 'USD', 160000, 'US', 100, 'US', 'M')\n",
      "(2023, 'SE', 'FT', 'Data Architect', 180000, 'USD', 180000, 'US', 100, 'US', 'M')\n",
      "(2023, 'SE', 'FT', 'Data Architect', 160000, 'USD', 160000, 'US', 100, 'US', 'M')\n",
      "(2023, 'SE', 'FT', 'Data Engineer', 180000, 'USD', 180000, 'US', 0, 'US', 'M')\n",
      "(2023, 'SE', 'FT', 'Data Engineer', 130000, 'USD', 130000, 'US', 0, 'US', 'M')\n",
      "(2023, 'SE', 'FT', 'Data Engineer', 226700, 'USD', 226700, 'US', 0, 'US', 'M')\n",
      "(2023, 'SE', 'FT', 'Data Engineer', 133300, 'USD', 133300, 'US', 0, 'US', 'M')\n",
      "(2023, 'SE', 'FT', 'Data Engineer', 252000, 'USD', 252000, 'US', 0, 'US', 'M')\n",
      "(2023, 'SE', 'FT', 'Data Engineer', 129000, 'USD', 129000, 'US', 0, 'US', 'M')\n",
      "(2023, 'SE', 'FT', 'Big Data Architect', 124999, 'GBP', 151902, 'GB', 100, 'GB', 'L')\n",
      "(2023, 'EN', 'FT', 'Data Scientist', 800000, 'INR', 9727, 'IN', 0, 'IN', 'L')\n",
      "(2023, 'SE', 'FT', 'Data Engineer', 250000, 'USD', 250000, 'US', 100, 'US', 'M')\n",
      "(2023, 'SE', 'FT', 'Data Engineer', 162500, 'USD', 162500, 'US', 100, 'US', 'M')\n",
      "(2023, 'SE', 'FT', 'Data Analyst', 153600, 'USD', 153600, 'US', 0, 'US', 'M')\n",
      "(2023, 'SE', 'FT', 'Data Analyst', 106800, 'USD', 106800, 'US', 0, 'US', 'M')\n",
      "(2023, 'MI', 'FT', 'Data Analyst', 165000, 'USD', 165000, 'US', 0, 'US', 'M')\n",
      "(2023, 'MI', 'FT', 'Data Analyst', 124000, 'USD', 124000, 'US', 0, 'US', 'M')\n",
      "(2023, 'SE', 'FT', 'Data Analyst', 115934, 'USD', 115934, 'US', 100, 'US', 'M')\n",
      "(2023, 'SE', 'FT', 'Data Engineer', 167580, 'USD', 167580, 'US', 0, 'US', 'M')\n",
      "(2023, 'SE', 'FT', 'Data Engineer', 250000, 'USD', 250000, 'US', 100, 'US', 'M')\n",
      "(2023, 'SE', 'FT', 'Research Scientist', 253750, 'USD', 253750, 'ES', 0, 'ES', 'M')\n",
      "(2023, 'SE', 'FT', 'Research Scientist', 169200, 'USD', 169200, 'ES', 0, 'ES', 'M')\n",
      "(2023, 'SE', 'FT', 'Research Scientist', 253750, 'USD', 253750, 'ES', 0, 'ES', 'M')\n",
      "(2023, 'SE', 'FT', 'Research Scientist', 169200, 'USD', 169200, 'ES', 0, 'ES', 'M')\n",
      "(2023, 'MI', 'FT', 'Data Scientist', 170000, 'USD', 170000, 'US', 0, 'US', 'M')\n",
      "(2023, 'MI', 'FT', 'Data Scientist', 120000, 'USD', 120000, 'US', 0, 'US', 'M')\n",
      "(2023, 'SE', 'FT', 'Data Engineer', 124740, 'USD', 124740, 'US', 0, 'US', 'M')\n",
      "(2023, 'SE', 'FT', 'Data Engineer', 213580, 'USD', 213580, 'US', 100, 'US', 'M')\n",
      "(2023, 'SE', 'FT', 'Data Engineer', 163625, 'USD', 163625, 'US', 100, 'US', 'M')\n",
      "(2022, 'SE', 'FT', 'Machine Learning Software Engineer', 375000, 'USD', 375000, 'US', 100, 'US', 'M')\n",
      "(2023, 'MI', 'FT', 'Product Data Analyst', 1350000, 'INR', 16414, 'IN', 100, 'IN', 'L')\n",
      "(2023, 'SE', 'FT', 'Machine Learning Engineer', 220000, 'USD', 220000, 'US', 0, 'US', 'M')\n",
      "(2023, 'SE', 'FT', 'Machine Learning Engineer', 170000, 'USD', 170000, 'US', 0, 'US', 'M')\n",
      "(2023, 'EX', 'FT', 'Data Engineer', 235000, 'USD', 235000, 'US', 0, 'US', 'M')\n",
      "(2023, 'EX', 'FT', 'Data Engineer', 210000, 'USD', 210000, 'US', 0, 'US', 'M')\n",
      "(2023, 'SE', 'FT', 'Data Architect', 180000, 'USD', 180000, 'US', 100, 'US', 'M')\n",
      "(2023, 'SE', 'FT', 'Data Architect', 115000, 'USD', 115000, 'US', 100, 'US', 'M')\n",
      "(2023, 'SE', 'FT', 'Data Architect', 200000, 'USD', 200000, 'US', 100, 'US', 'M')\n",
      "(2023, 'SE', 'FT', 'Data Architect', 115000, 'USD', 115000, 'US', 100, 'US', 'M')\n",
      "(2023, 'SE', 'FT', 'Data Science Manager', 231250, 'USD', 231250, 'US', 100, 'US', 'M')\n",
      "(2023, 'SE', 'FT', 'Data Science Manager', 138750, 'USD', 138750, 'US', 100, 'US', 'M')\n",
      "(2023, 'SE', 'FT', 'Machine Learning Engineer', 284310, 'USD', 284310, 'US', 0, 'US', 'M')\n",
      "(2023, 'SE', 'FT', 'Machine Learning Engineer', 153090, 'USD', 153090, 'US', 0, 'US', 'M')\n",
      "(2023, 'SE', 'FT', 'Data Engineer', 160000, 'USD', 160000, 'US', 100, 'US', 'M')\n",
      "(2023, 'MI', 'FT', 'Data Analyst', 125000, 'USD', 125000, 'US', 0, 'US', 'M')\n",
      "(2023, 'MI', 'FT', 'Data Analyst', 105000, 'USD', 105000, 'US', 0, 'US', 'M')\n",
      "(2023, 'SE', 'FT', 'Data Science Lead', 225900, 'USD', 225900, 'US', 0, 'US', 'M')\n",
      "(2023, 'SE', 'FT', 'Data Science Lead', 156400, 'USD', 156400, 'US', 0, 'US', 'M')\n",
      "(2023, 'SE', 'FT', 'Data Engineer', 250000, 'USD', 250000, 'US', 100, 'US', 'M')\n",
      "(2023, 'SE', 'FT', 'Data Engineer', 162500, 'USD', 162500, 'US', 100, 'US', 'M')\n",
      "(2023, 'SE', 'FT', 'Machine Learning Engineer', 318300, 'USD', 318300, 'US', 100, 'US', 'M')\n",
      "(2023, 'SE', 'FT', 'Machine Learning Engineer', 188800, 'USD', 188800, 'US', 100, 'US', 'M')\n",
      "(2023, 'SE', 'FT', 'Data Analyst', 385000, 'USD', 385000, 'US', 0, 'US', 'M')\n",
      "(2023, 'MI', 'FT', 'Data Analyst', 110000, 'USD', 110000, 'US', 100, 'US', 'M')\n",
      "(2023, 'SE', 'FT', 'Data Scientist', 145000, 'USD', 145000, 'US', 100, 'US', 'M')\n",
      "(2023, 'SE', 'FT', 'Data Scientist', 135000, 'USD', 135000, 'US', 100, 'US', 'M')\n",
      "(2023, 'SE', 'FT', 'Data Analyst', 180180, 'USD', 180180, 'US', 0, 'US', 'M')\n",
      "(2023, 'SE', 'FT', 'Data Analyst', 106020, 'USD', 106020, 'US', 0, 'US', 'M')\n",
      "(2023, 'SE', 'FT', 'Data Engineer', 241871, 'USD', 241871, 'US', 0, 'US', 'M')\n",
      "(2023, 'SE', 'FT', 'Data Engineer', 133832, 'USD', 133832, 'US', 0, 'US', 'M')\n",
      "(2023, 'SE', 'FT', 'Data Scientist', 170000, 'USD', 170000, 'US', 100, 'US', 'M')\n",
      "(2023, 'EX', 'FT', 'Data Engineer', 210914, 'USD', 210914, 'US', 100, 'US', 'M')\n",
      "(2023, 'EX', 'FT', 'Data Engineer', 116704, 'USD', 116704, 'US', 100, 'US', 'M')\n",
      "(2023, 'SE', 'FT', 'Data Analyst', 192500, 'USD', 192500, 'US', 100, 'US', 'M')\n",
      "(2023, 'SE', 'FT', 'Data Analyst', 140000, 'USD', 140000, 'US', 100, 'US', 'M')\n",
      "(2023, 'SE', 'FT', 'Data Scientist', 149076, 'USD', 149076, 'US', 0, 'US', 'M')\n",
      "(2023, 'SE', 'FT', 'Data Scientist', 175000, 'USD', 175000, 'US', 0, 'US', 'M')\n",
      "(2023, 'SE', 'FT', 'Data Scientist', 148750, 'USD', 148750, 'US', 0, 'US', 'M')\n",
      "(2023, 'SE', 'FT', 'Research Scientist', 370000, 'USD', 370000, 'US', 0, 'US', 'M')\n",
      "(2023, 'SE', 'FT', 'Research Scientist', 200000, 'USD', 200000, 'US', 0, 'US', 'M')\n",
      "(2023, 'SE', 'FT', 'Data Scientist', 235000, 'USD', 235000, 'US', 100, 'US', 'M')\n",
      "(2023, 'SE', 'FT', 'Data Scientist', 185000, 'USD', 185000, 'US', 100, 'US', 'M')\n",
      "(2023, 'SE', 'FT', 'Data Scientist', 216100, 'USD', 216100, 'US', 0, 'US', 'M')\n",
      "(2023, 'SE', 'FT', 'Data Scientist', 140800, 'USD', 140800, 'US', 0, 'US', 'M')\n",
      "(2023, 'MI', 'FT', 'Machine Learning Engineer', 120000, 'GBP', 145828, 'GB', 0, 'GB', 'M')\n",
      "(2023, 'EN', 'FT', 'Data Scientist', 110000, 'USD', 110000, 'US', 50, 'US', 'S')\n",
      "(2023, 'SE', 'FT', 'Data Engineer', 128000, 'USD', 128000, 'US', 0, 'US', 'M')\n",
      "(2023, 'EX', 'FT', 'Data Engineer', 284000, 'USD', 284000, 'US', 100, 'US', 'M')\n",
      "(2023, 'EX', 'FT', 'Data Engineer', 236000, 'USD', 236000, 'US', 100, 'US', 'M')\n",
      "(2023, 'SE', 'FT', 'Research Scientist', 248100, 'USD', 248100, 'CA', 0, 'CA', 'M')\n",
      "(2023, 'SE', 'FT', 'Research Scientist', 145900, 'USD', 145900, 'CA', 0, 'CA', 'M')\n",
      "(2023, 'SE', 'FT', 'Research Engineer', 155850, 'USD', 155850, 'US', 0, 'US', 'M')\n",
      "(2023, 'SE', 'FT', 'Research Engineer', 102544, 'USD', 102544, 'US', 0, 'US', 'M')\n",
      "(2023, 'MI', 'FT', 'Data Scientist', 151410, 'USD', 151410, 'US', 100, 'US', 'M')\n",
      "(2023, 'MI', 'FT', 'Data Scientist', 115360, 'USD', 115360, 'US', 100, 'US', 'M')\n",
      "(2023, 'SE', 'FT', 'Director of Data Science', 170000, 'CAD', 125686, 'CA', 50, 'CA', 'M')\n",
      "(2023, 'EN', 'FT', 'Data Scientist', 1050000, 'INR', 12767, 'IN', 50, 'IN', 'L')\n",
      "(2023, 'SE', 'FT', 'Data Scientist', 250000, 'USD', 250000, 'US', 0, 'US', 'M')\n",
      "(2023, 'SE', 'FT', 'Data Scientist', 162500, 'USD', 162500, 'US', 0, 'US', 'M')\n",
      "(2023, 'SE', 'FT', 'Data Scientist', 185000, 'USD', 185000, 'GB', 0, 'GB', 'M')\n",
      "(2023, 'SE', 'FT', 'Data Scientist', 120250, 'USD', 120250, 'GB', 0, 'GB', 'M')\n",
      "(2022, 'EN', 'FT', 'Data Scientist', 180000, 'USD', 180000, 'US', 100, 'US', 'M')\n",
      "(2023, 'SE', 'FT', 'BI Developer', 135000, 'USD', 135000, 'US', 100, 'US', 'M')\n",
      "(2023, 'EX', 'FT', 'Data Analytics Manager', 155000, 'USD', 155000, 'US', 0, 'US', 'M')\n",
      "(2023, 'EX', 'FT', 'Data Analytics Manager', 140000, 'USD', 140000, 'US', 0, 'US', 'M')\n",
      "(2023, 'SE', 'FT', 'Machine Learning Engineer', 204500, 'USD', 204500, 'US', 0, 'US', 'M')\n",
      "(2023, 'SE', 'FT', 'Machine Learning Engineer', 142200, 'USD', 142200, 'US', 0, 'US', 'M')\n",
      "(2023, 'SE', 'FT', 'Data Engineer', 226700, 'USD', 226700, 'US', 0, 'US', 'M')\n",
      "(2023, 'SE', 'FT', 'Data Engineer', 133300, 'USD', 133300, 'US', 0, 'US', 'M')\n",
      "(2023, 'SE', 'FT', 'Data Scientist', 225000, 'USD', 225000, 'US', 100, 'US', 'M')\n",
      "(2023, 'SE', 'FT', 'Data Scientist', 156400, 'USD', 156400, 'US', 100, 'US', 'M')\n",
      "(2023, 'SE', 'FT', 'Data Engineer', 163800, 'USD', 163800, 'US', 0, 'US', 'M')\n",
      "(2023, 'SE', 'FT', 'Data Engineer', 126000, 'USD', 126000, 'US', 0, 'US', 'M')\n",
      "(2023, 'SE', 'FT', 'Machine Learning Engineer', 163800, 'USD', 163800, 'US', 0, 'US', 'M')\n",
      "(2023, 'SE', 'FT', 'Machine Learning Engineer', 126000, 'USD', 126000, 'US', 0, 'US', 'M')\n",
      "(2023, 'SE', 'FT', 'ML Engineer', 220000, 'USD', 220000, 'US', 0, 'US', 'M')\n",
      "(2023, 'SE', 'FT', 'ML Engineer', 150000, 'USD', 150000, 'US', 0, 'US', 'M')\n",
      "(2023, 'SE', 'FT', 'Data Engineer', 145000, 'USD', 145000, 'US', 0, 'US', 'M')\n",
      "(2023, 'SE', 'FT', 'Data Engineer', 115000, 'USD', 115000, 'US', 0, 'US', 'M')\n",
      "(2023, 'SE', 'FT', 'Data Analytics Manager', 204500, 'USD', 204500, 'US', 0, 'US', 'M')\n",
      "(2023, 'SE', 'FT', 'Data Analytics Manager', 138900, 'USD', 138900, 'US', 0, 'US', 'M')\n",
      "(2023, 'MI', 'FT', 'Data Engineer', 162500, 'USD', 162500, 'US', 0, 'US', 'M')\n",
      "(2023, 'MI', 'FT', 'Data Engineer', 130000, 'USD', 130000, 'US', 0, 'US', 'M')\n",
      "(2023, 'SE', 'FT', 'Data Engineer', 150000, 'USD', 150000, 'US', 100, 'US', 'M')\n",
      "(2023, 'SE', 'FT', 'Data Engineer', 107000, 'USD', 107000, 'US', 100, 'US', 'M')\n",
      "(2023, 'EX', 'FT', 'Data Engineer', 175000, 'USD', 175000, 'US', 0, 'US', 'M')\n",
      "(2023, 'EX', 'FT', 'Data Engineer', 110000, 'USD', 110000, 'US', 0, 'US', 'M')\n",
      "(2023, 'SE', 'FT', 'Data Engineer', 226700, 'USD', 226700, 'US', 0, 'US', 'M')\n",
      "(2023, 'SE', 'FT', 'Data Engineer', 133300, 'USD', 133300, 'US', 0, 'US', 'M')\n",
      "(2023, 'SE', 'FT', 'Data Engineer', 252000, 'USD', 252000, 'US', 0, 'US', 'M')\n",
      "(2023, 'SE', 'FT', 'Data Engineer', 129000, 'USD', 129000, 'US', 0, 'US', 'M')\n",
      "(2023, 'SE', 'FT', 'Machine Learning Engineer', 150000, 'USD', 150000, 'US', 0, 'US', 'M')\n",
      "(2023, 'SE', 'FT', 'Machine Learning Engineer', 125000, 'USD', 125000, 'US', 0, 'US', 'M')\n",
      "(2023, 'SE', 'FT', 'Data Engineer', 252000, 'USD', 252000, 'US', 0, 'US', 'M')\n",
      "(2023, 'SE', 'FT', 'Data Engineer', 129000, 'USD', 129000, 'US', 0, 'US', 'M')\n",
      "(2023, 'SE', 'FT', 'Data Scientist', 225000, 'USD', 225000, 'US', 0, 'US', 'M')\n",
      "(2023, 'SE', 'FT', 'Data Scientist', 156400, 'USD', 156400, 'US', 0, 'US', 'M')\n",
      "(2023, 'MI', 'FT', 'Machine Learning Engineer', 110000, 'USD', 110000, 'US', 100, 'US', 'L')\n",
      "(2023, 'SE', 'FT', 'Data Engineer', 265000, 'USD', 265000, 'US', 100, 'US', 'M')\n",
      "(2023, 'SE', 'FT', 'Data Engineer', 182750, 'USD', 182750, 'US', 100, 'US', 'M')\n",
      "(2023, 'MI', 'FT', 'Data Analyst', 130000, 'USD', 130000, 'US', 0, 'US', 'M')\n",
      "(2023, 'SE', 'FT', 'Data Analyst', 153600, 'USD', 153600, 'US', 0, 'US', 'M')\n",
      "(2023, 'SE', 'FT', 'Data Analyst', 106800, 'USD', 106800, 'US', 0, 'US', 'M')\n",
      "(2023, 'SE', 'FT', 'Data Engineer', 137500, 'USD', 137500, 'US', 0, 'US', 'M')\n",
      "(2023, 'EX', 'FT', 'Head of Data Science', 314100, 'USD', 314100, 'US', 0, 'US', 'M')\n",
      "(2023, 'EX', 'FT', 'Head of Data Science', 195800, 'USD', 195800, 'US', 0, 'US', 'M')\n",
      "(2023, 'SE', 'FT', 'Applied Scientist', 205000, 'USD', 205000, 'US', 0, 'US', 'M')\n",
      "(2023, 'SE', 'FT', 'Applied Scientist', 180000, 'USD', 180000, 'US', 0, 'US', 'M')\n",
      "(2023, 'SE', 'FT', 'Data Scientist', 165000, 'USD', 165000, 'US', 100, 'US', 'M')\n",
      "(2023, 'SE', 'FT', 'Data Scientist', 144000, 'USD', 144000, 'US', 100, 'US', 'M')\n",
      "(2023, 'EN', 'FT', 'BI Developer', 160000, 'USD', 160000, 'US', 0, 'US', 'M')\n",
      "(2023, 'EX', 'FT', 'Data Engineer', 200000, 'USD', 200000, 'US', 0, 'US', 'M')\n",
      "(2023, 'EX', 'FT', 'Data Engineer', 145000, 'USD', 145000, 'US', 0, 'US', 'M')\n",
      "(2023, 'MI', 'FT', 'Data Analyst', 150000, 'USD', 150000, 'US', 0, 'US', 'M')\n",
      "(2023, 'SE', 'FT', 'Data Manager', 199000, 'USD', 199000, 'US', 0, 'US', 'M')\n",
      "(2023, 'SE', 'FT', 'Data Manager', 112000, 'USD', 112000, 'US', 0, 'US', 'M')\n",
      "(2023, 'SE', 'FT', 'Data Scientist', 105000, 'USD', 105000, 'US', 0, 'US', 'M')\n",
      "(2023, 'EN', 'FT', 'Big Data Engineer', 130000, 'USD', 130000, 'SE', 100, 'SE', 'S')\n",
      "(2023, 'SE', 'FT', 'Data Analyst', 180180, 'USD', 180180, 'US', 0, 'US', 'M')\n",
      "(2023, 'SE', 'FT', 'Data Analyst', 106020, 'USD', 106020, 'US', 0, 'US', 'M')\n",
      "(2023, 'EN', 'FT', 'Data Engineer', 160000, 'USD', 160000, 'US', 0, 'US', 'M')\n",
      "(2023, 'EN', 'FT', 'Data Engineer', 135000, 'USD', 135000, 'US', 0, 'US', 'M')\n",
      "(2023, 'SE', 'FT', 'Data Scientist', 183000, 'USD', 183000, 'US', 0, 'US', 'M')\n",
      "(2023, 'SE', 'FT', 'Data Scientist', 134000, 'USD', 134000, 'US', 0, 'US', 'M')\n",
      "(2023, 'SE', 'FT', 'Machine Learning Engineer', 220000, 'USD', 220000, 'US', 0, 'US', 'M')\n",
      "(2023, 'SE', 'FT', 'Machine Learning Engineer', 150000, 'USD', 150000, 'US', 0, 'US', 'M')\n",
      "(2023, 'SE', 'FT', 'Applied Scientist', 350000, 'USD', 350000, 'US', 0, 'US', 'L')\n",
      "(2023, 'SE', 'FT', 'Applied Scientist', 262500, 'USD', 262500, 'US', 0, 'US', 'L')\n",
      "(2023, 'SE', 'FT', 'Data Analyst', 122000, 'USD', 122000, 'US', 0, 'US', 'M')\n",
      "(2023, 'SE', 'FT', 'Machine Learning Engineer', 276000, 'USD', 276000, 'US', 0, 'US', 'M')\n",
      "(2023, 'SE', 'FT', 'Machine Learning Engineer', 184000, 'USD', 184000, 'US', 0, 'US', 'M')\n",
      "(2023, 'EX', 'FT', 'Data Engineer', 310000, 'USD', 310000, 'US', 100, 'US', 'M')\n",
      "(2023, 'EX', 'FT', 'Data Engineer', 239000, 'USD', 239000, 'US', 100, 'US', 'M')\n",
      "(2023, 'SE', 'FT', 'Data Scientist', 225000, 'USD', 225000, 'US', 100, 'US', 'M')\n",
      "(2023, 'SE', 'FT', 'Data Scientist', 156400, 'USD', 156400, 'US', 100, 'US', 'M')\n",
      "(2023, 'MI', 'FT', 'Machine Learning Engineer', 180000, 'USD', 180000, 'US', 100, 'US', 'M')\n",
      "(2023, 'MI', 'FT', 'Machine Learning Engineer', 150000, 'USD', 150000, 'US', 100, 'US', 'M')\n",
      "(2023, 'SE', 'FT', 'Data Scientist', 228000, 'USD', 228000, 'US', 0, 'US', 'M')\n",
      "(2023, 'SE', 'FT', 'Data Scientist', 152000, 'USD', 152000, 'US', 0, 'US', 'M')\n",
      "(2023, 'SE', 'FT', 'Data Scientist', 209450, 'USD', 209450, 'US', 100, 'US', 'M')\n",
      "(2023, 'SE', 'FT', 'Data Scientist', 158677, 'USD', 158677, 'US', 100, 'US', 'M')\n",
      "(2023, 'SE', 'FT', 'Data Analyst', 175000, 'USD', 175000, 'US', 0, 'US', 'M')\n",
      "(2023, 'SE', 'FT', 'Data Analyst', 145000, 'USD', 145000, 'US', 0, 'US', 'M')\n",
      "(2023, 'SE', 'FT', 'Data Engineer', 240000, 'USD', 240000, 'US', 0, 'US', 'M')\n",
      "(2023, 'SE', 'FT', 'Data Engineer', 170000, 'USD', 170000, 'US', 0, 'US', 'M')\n",
      "(2023, 'MI', 'FT', 'Data Analyst', 103200, 'USD', 103200, 'US', 0, 'US', 'M')\n",
      "(2022, 'MI', 'FT', 'Data Scientist', 155000, 'USD', 155000, 'US', 100, 'US', 'L')\n",
      "(2023, 'SE', 'FT', 'Data Scientist', 237000, 'USD', 237000, 'US', 100, 'US', 'M')\n",
      "(2023, 'SE', 'FT', 'Data Scientist', 145000, 'USD', 145000, 'US', 100, 'US', 'M')\n",
      "(2023, 'SE', 'FT', 'Data Scientist', 240000, 'USD', 240000, 'US', 100, 'US', 'M')\n",
      "(2023, 'SE', 'FT', 'Data Scientist', 139000, 'USD', 139000, 'US', 100, 'US', 'M')\n",
      "(2023, 'SE', 'FT', 'Data Architect', 174500, 'USD', 174500, 'US', 0, 'US', 'M')\n",
      "(2023, 'SE', 'FT', 'Data Architect', 113000, 'USD', 113000, 'US', 0, 'US', 'M')\n",
      "(2023, 'SE', 'FT', 'Data Analyst', 130000, 'USD', 130000, 'US', 100, 'US', 'M')\n",
      "(2023, 'SE', 'FT', 'Data Analyst', 160000, 'USD', 160000, 'US', 100, 'US', 'M')\n",
      "(2023, 'SE', 'FT', 'Data Analyst', 108000, 'USD', 108000, 'US', 100, 'US', 'M')\n",
      "(2023, 'SE', 'FT', 'Data Engineer', 165000, 'USD', 165000, 'US', 100, 'US', 'M')\n",
      "(2023, 'SE', 'FT', 'Data Engineer', 107250, 'USD', 107250, 'US', 100, 'US', 'M')\n",
      "(2023, 'SE', 'FT', 'Data Engineer', 300000, 'USD', 300000, 'US', 0, 'US', 'M')\n",
      "(2023, 'SE', 'FT', 'Data Engineer', 119000, 'USD', 119000, 'US', 0, 'US', 'M')\n",
      "(2023, 'SE', 'FT', 'Data Scientist', 285800, 'USD', 285800, 'US', 100, 'US', 'M')\n",
      "(2023, 'SE', 'FT', 'Data Scientist', 154600, 'USD', 154600, 'US', 100, 'US', 'M')\n",
      "(2023, 'MI', 'FT', 'Head of Data Science', 5000000, 'INR', 60795, 'IN', 50, 'IN', 'L')\n",
      "(2023, 'MI', 'FT', 'Data Science Manager', 220000, 'USD', 220000, 'US', 0, 'US', 'M')\n",
      "(2023, 'MI', 'FT', 'Data Science Manager', 195000, 'USD', 195000, 'US', 0, 'US', 'M')\n",
      "(2023, 'SE', 'FT', 'Data Manager', 168400, 'USD', 168400, 'US', 0, 'US', 'M')\n",
      "(2023, 'SE', 'FT', 'Data Manager', 105200, 'USD', 105200, 'US', 0, 'US', 'M')\n",
      "(2023, 'MI', 'FT', 'Data Analyst', 206000, 'USD', 206000, 'US', 0, 'US', 'M')\n",
      "(2023, 'MI', 'FT', 'Data Analyst', 160000, 'USD', 160000, 'US', 0, 'US', 'M')\n",
      "(2023, 'SE', 'FT', 'Analytics Engineer', 200000, 'USD', 200000, 'US', 100, 'US', 'M')\n",
      "(2023, 'SE', 'FT', 'Analytics Engineer', 175000, 'USD', 175000, 'US', 100, 'US', 'M')\n",
      "(2023, 'SE', 'FT', 'Analytics Engineer', 231250, 'USD', 231250, 'US', 100, 'US', 'M')\n",
      "(2023, 'SE', 'FT', 'Analytics Engineer', 138750, 'USD', 138750, 'US', 100, 'US', 'M')\n",
      "(2023, 'SE', 'FT', 'Data Engineer', 153000, 'USD', 153000, 'CA', 100, 'CA', 'M')\n",
      "(2023, 'SE', 'FT', 'Data Engineer', 240500, 'USD', 240500, 'US', 0, 'US', 'L')\n",
      "(2023, 'SE', 'FT', 'Data Engineer', 123700, 'USD', 123700, 'US', 0, 'US', 'L')\n",
      "(2023, 'SE', 'FT', 'Data Engineer', 160000, 'USD', 160000, 'US', 100, 'US', 'M')\n",
      "(2023, 'EN', 'FT', 'Data Scientist', 124234, 'USD', 124234, 'US', 0, 'US', 'M')\n",
      "(2023, 'MI', 'FT', 'Data Analyst', 109000, 'USD', 109000, 'US', 0, 'US', 'M')\n",
      "(2023, 'SE', 'FT', 'Data Scientist', 275300, 'USD', 275300, 'US', 100, 'US', 'M')\n",
      "(2023, 'SE', 'FT', 'Data Scientist', 183500, 'USD', 183500, 'US', 100, 'US', 'M')\n",
      "(2023, 'SE', 'FT', 'Data Scientist', 275300, 'USD', 275300, 'US', 100, 'US', 'M')\n",
      "(2023, 'SE', 'FT', 'Data Scientist', 183500, 'USD', 183500, 'US', 100, 'US', 'M')\n",
      "(2023, 'SE', 'FT', 'Data Analyst', 160000, 'USD', 160000, 'US', 100, 'US', 'M')\n",
      "(2023, 'SE', 'FT', 'Data Analyst', 125600, 'USD', 125600, 'US', 100, 'US', 'M')\n",
      "(2023, 'SE', 'FT', 'Data Engineer', 170000, 'USD', 170000, 'US', 0, 'US', 'M')\n",
      "(2023, 'SE', 'FT', 'Data Engineer', 120000, 'USD', 120000, 'US', 0, 'US', 'M')\n",
      "(2023, 'SE', 'FT', 'Data Engineer', 225000, 'USD', 225000, 'US', 0, 'US', 'M')\n",
      "(2023, 'SE', 'FT', 'Data Engineer', 140000, 'USD', 140000, 'US', 0, 'US', 'M')\n",
      "(2023, 'SE', 'FT', 'Data Analyst', 141290, 'USD', 141290, 'US', 0, 'US', 'M')\n",
      "(2023, 'SE', 'FT', 'Data Scientist', 150000, 'USD', 150000, 'US', 0, 'US', 'M')\n",
      "(2023, 'SE', 'FT', 'Data Scientist', 120000, 'USD', 120000, 'US', 0, 'US', 'M')\n",
      "(2023, 'SE', 'FT', 'Data Engineer', 220000, 'USD', 220000, 'US', 0, 'US', 'M')\n",
      "(2023, 'SE', 'FT', 'Data Engineer', 160000, 'USD', 160000, 'US', 0, 'US', 'M')\n",
      "(2023, 'SE', 'FT', 'Data Engineer', 205600, 'USD', 205600, 'US', 100, 'US', 'M')\n",
      "(2023, 'SE', 'FT', 'Data Engineer', 107500, 'USD', 107500, 'US', 100, 'US', 'M')\n",
      "(2023, 'MI', 'FT', 'Data Engineer', 120000, 'USD', 120000, 'US', 0, 'US', 'M')\n",
      "(2023, 'SE', 'FT', 'Data Engineer', 185900, 'USD', 185900, 'US', 0, 'US', 'M')\n",
      "(2023, 'SE', 'FT', 'Data Engineer', 129300, 'USD', 129300, 'US', 0, 'US', 'M')\n",
      "(2023, 'SE', 'FT', 'Data Engineer', 160000, 'USD', 160000, 'US', 100, 'US', 'M')\n",
      "(2023, 'SE', 'FT', 'Data Engineer', 130000, 'USD', 130000, 'US', 100, 'US', 'M')\n",
      "(2023, 'EN', 'FT', 'Data Scientist', 1060000, 'INR', 12888, 'IN', 50, 'IN', 'S')\n",
      "(2023, 'MI', 'FT', 'Data Engineer', 250000, 'USD', 250000, 'US', 0, 'US', 'M')\n",
      "(2023, 'MI', 'FT', 'Data Engineer', 175000, 'USD', 175000, 'US', 0, 'US', 'M')\n",
      "(2023, 'SE', 'FT', 'Data Scientist', 136000, 'USD', 136000, 'US', 100, 'US', 'M')\n",
      "(2023, 'SE', 'FT', 'Data Scientist', 104000, 'USD', 104000, 'US', 100, 'US', 'M')\n",
      "(2023, 'SE', 'FT', 'Data Scientist', 110000, 'USD', 110000, 'US', 100, 'US', 'M')\n",
      "(2023, 'SE', 'FT', 'BI Analyst', 125000, 'USD', 125000, 'US', 0, 'US', 'M')\n",
      "(2023, 'SE', 'FT', 'BI Analyst', 110000, 'USD', 110000, 'US', 0, 'US', 'M')\n",
      "(2023, 'SE', 'FT', 'ML Engineer', 200000, 'USD', 200000, 'US', 0, 'US', 'M')\n",
      "(2023, 'SE', 'FT', 'ML Engineer', 135000, 'USD', 135000, 'US', 0, 'US', 'M')\n",
      "(2023, 'EN', 'FT', 'AI Developer', 120000, 'USD', 120000, 'BA', 50, 'BA', 'S')\n",
      "(2023, 'SE', 'FT', 'Data Engineer', 130000, 'USD', 130000, 'US', 0, 'US', 'M')\n",
      "(2023, 'SE', 'FT', 'Data Engineer', 252000, 'USD', 252000, 'US', 0, 'US', 'M')\n",
      "(2023, 'SE', 'FT', 'Data Engineer', 129000, 'USD', 129000, 'US', 0, 'US', 'M')\n",
      "(2023, 'MI', 'FT', 'Data Analyst', 150000, 'USD', 150000, 'US', 0, 'US', 'M')\n",
      "(2023, 'SE', 'FT', 'Data Engineer', 226700, 'USD', 226700, 'US', 0, 'US', 'M')\n",
      "(2023, 'SE', 'FT', 'Data Engineer', 133300, 'USD', 133300, 'US', 0, 'US', 'M')\n",
      "(2023, 'SE', 'FT', 'Data Scientist', 190000, 'USD', 190000, 'US', 0, 'US', 'M')\n",
      "(2023, 'SE', 'FT', 'Data Scientist', 165000, 'USD', 165000, 'US', 0, 'US', 'M')\n",
      "(2023, 'SE', 'FT', 'Data Engineer', 170000, 'USD', 170000, 'US', 100, 'US', 'M')\n",
      "(2023, 'SE', 'FT', 'Data Engineer', 150000, 'USD', 150000, 'US', 100, 'US', 'M')\n",
      "(2023, 'MI', 'FT', 'Data Engineer', 150000, 'USD', 150000, 'US', 0, 'US', 'M')\n",
      "(2023, 'MI', 'FT', 'Data Engineer', 130000, 'USD', 130000, 'US', 0, 'US', 'M')\n",
      "(2023, 'SE', 'FT', 'Data Scientist', 225000, 'USD', 225000, 'US', 0, 'US', 'M')\n",
      "(2023, 'SE', 'FT', 'Data Scientist', 156400, 'USD', 156400, 'US', 0, 'US', 'M')\n",
      "(2023, 'SE', 'FT', 'Computer Vision Engineer', 200000, 'USD', 200000, 'US', 100, 'US', 'S')\n",
      "(2023, 'MI', 'FT', 'Data Analytics Lead', 1440000, 'INR', 17509, 'IN', 50, 'SG', 'M')\n",
      "(2023, 'SE', 'FT', 'Data Scientist', 257000, 'USD', 257000, 'US', 0, 'US', 'M')\n",
      "(2023, 'SE', 'FT', 'Data Scientist', 134000, 'USD', 134000, 'US', 0, 'US', 'M')\n",
      "(2023, 'SE', 'FT', 'Data Engineer', 205600, 'USD', 205600, 'US', 0, 'US', 'L')\n",
      "(2023, 'SE', 'FT', 'Data Engineer', 105700, 'USD', 105700, 'US', 0, 'US', 'L')\n",
      "(2023, 'SE', 'FT', 'BI Developer', 140000, 'USD', 140000, 'US', 100, 'US', 'M')\n",
      "(2023, 'SE', 'FT', 'BI Developer', 110000, 'USD', 110000, 'US', 100, 'US', 'M')\n",
      "(2023, 'SE', 'FT', 'Data Science Manager', 299500, 'USD', 299500, 'US', 0, 'US', 'M')\n",
      "(2023, 'SE', 'FT', 'Data Science Manager', 245100, 'USD', 245100, 'US', 0, 'US', 'M')\n",
      "(2023, 'SE', 'FT', 'Research Scientist', 210000, 'USD', 210000, 'US', 0, 'US', 'M')\n",
      "(2023, 'SE', 'FT', 'Research Scientist', 151800, 'USD', 151800, 'US', 0, 'US', 'M')\n",
      "(2023, 'EN', 'FT', 'Data Engineer', 160000, 'USD', 160000, 'US', 0, 'US', 'M')\n",
      "(2023, 'EN', 'FT', 'Data Engineer', 135000, 'USD', 135000, 'US', 0, 'US', 'M')\n",
      "(2023, 'MI', 'FT', 'Data Engineer', 120000, 'USD', 120000, 'US', 100, 'US', 'M')\n",
      "(2023, 'SE', 'FT', 'Data Engineer', 250000, 'USD', 250000, 'US', 100, 'US', 'M')\n",
      "(2023, 'SE', 'FT', 'Data Scientist', 237000, 'USD', 237000, 'US', 100, 'US', 'M')\n",
      "(2023, 'SE', 'FT', 'Data Scientist', 145000, 'USD', 145000, 'US', 100, 'US', 'M')\n",
      "(2023, 'SE', 'FT', 'Data Scientist', 130000, 'USD', 130000, 'US', 100, 'US', 'M')\n",
      "(2023, 'MI', 'FT', 'Data Analyst', 120000, 'USD', 120000, 'US', 100, 'US', 'M')\n",
      "(2023, 'SE', 'FT', 'Data Architect', 174500, 'USD', 174500, 'US', 0, 'US', 'M')\n",
      "(2023, 'SE', 'FT', 'Data Architect', 113000, 'USD', 113000, 'US', 0, 'US', 'M')\n",
      "(2023, 'MI', 'FT', 'Data Scientist', 183310, 'USD', 183310, 'US', 0, 'US', 'M')\n",
      "(2023, 'MI', 'FT', 'Data Scientist', 183310, 'USD', 183310, 'US', 0, 'US', 'M')\n",
      "(2023, 'SE', 'FT', 'Data Analyst', 145000, 'USD', 145000, 'US', 100, 'US', 'M')\n",
      "(2023, 'SE', 'FT', 'Data Analyst', 102500, 'USD', 102500, 'US', 100, 'US', 'M')\n",
      "(2023, 'SE', 'FT', 'Data Scientist', 210000, 'USD', 210000, 'US', 0, 'US', 'M')\n",
      "(2023, 'SE', 'FT', 'Data Scientist', 185000, 'USD', 185000, 'US', 0, 'US', 'M')\n",
      "(2023, 'SE', 'FT', 'Data Architect', 174500, 'USD', 174500, 'US', 0, 'US', 'M')\n",
      "(2023, 'SE', 'FT', 'Data Architect', 113000, 'USD', 113000, 'US', 0, 'US', 'M')\n",
      "(2023, 'SE', 'FT', 'Data Science Consultant', 122000, 'USD', 122000, 'US', 0, 'US', 'M')\n",
      "(2023, 'SE', 'FT', 'Data Scientist', 220000, 'USD', 220000, 'US', 0, 'US', 'M')\n",
      "(2023, 'SE', 'FT', 'Data Scientist', 146000, 'USD', 146000, 'US', 0, 'US', 'M')\n",
      "(2023, 'SE', 'FT', 'Data Engineer', 300000, 'USD', 300000, 'US', 0, 'US', 'M')\n",
      "(2023, 'SE', 'FT', 'Data Engineer', 130000, 'USD', 130000, 'US', 0, 'US', 'M')\n",
      "(2023, 'MI', 'FT', 'Data Scientist', 840000, 'THB', 24740, 'TH', 50, 'TH', 'L')\n",
      "(2022, 'MI', 'FT', 'Computer Vision Engineer', 1250000, 'INR', 15897, 'IN', 100, 'IN', 'M')\n",
      "(2023, 'SE', 'FT', 'Data Science Consultant', 145000, 'USD', 145000, 'US', 0, 'US', 'M')\n",
      "(2023, 'SE', 'FT', 'Data Science Consultant', 128000, 'USD', 128000, 'US', 0, 'US', 'M')\n",
      "(2023, 'SE', 'FT', 'Data Scientist', 182000, 'USD', 182000, 'US', 0, 'US', 'M')\n",
      "(2023, 'SE', 'FT', 'Data Scientist', 140000, 'USD', 140000, 'US', 0, 'US', 'M')\n",
      "(2023, 'SE', 'FT', 'Data Engineer', 122000, 'USD', 122000, 'US', 0, 'US', 'M')\n",
      "(2023, 'EX', 'FT', 'Data Scientist', 300000, 'USD', 300000, 'US', 0, 'US', 'M')\n",
      "(2023, 'EX', 'FT', 'Data Scientist', 200000, 'USD', 200000, 'US', 0, 'US', 'M')\n",
      "(2023, 'MI', 'FT', 'Data Analyst', 135000, 'USD', 135000, 'US', 0, 'US', 'M')\n",
      "(2023, 'MI', 'FT', 'Data Analyst', 105500, 'USD', 105500, 'US', 0, 'US', 'M')\n",
      "(2023, 'SE', 'FT', 'Data Engineer', 252000, 'USD', 252000, 'US', 0, 'US', 'M')\n",
      "(2023, 'SE', 'FT', 'Data Engineer', 129000, 'USD', 129000, 'US', 0, 'US', 'M')\n",
      "(2022, 'MI', 'FT', 'Data Scientist', 110000, 'USD', 110000, 'US', 100, 'US', 'L')\n",
      "(2023, 'SE', 'FT', 'Data Scientist', 136000, 'USD', 136000, 'US', 100, 'US', 'M')\n",
      "(2023, 'SE', 'FT', 'Data Scientist', 104000, 'USD', 104000, 'US', 100, 'US', 'M')\n",
      "(2023, 'SE', 'FT', 'Data Scientist', 168000, 'USD', 168000, 'US', 100, 'US', 'M')\n",
      "(2023, 'SE', 'FT', 'Data Scientist', 130000, 'USD', 130000, 'US', 100, 'US', 'M')\n",
      "(2023, 'MI', 'FT', 'Data Engineer', 120000, 'USD', 120000, 'US', 0, 'US', 'M')\n",
      "(2023, 'SE', 'FT', 'Data Scientist', 153400, 'USD', 153400, 'US', 0, 'US', 'M')\n",
      "(2023, 'SE', 'FT', 'Data Scientist', 122700, 'USD', 122700, 'US', 0, 'US', 'M')\n",
      "(2023, 'SE', 'FT', 'Data Scientist', 185000, 'USD', 185000, 'US', 0, 'US', 'M')\n",
      "(2023, 'SE', 'FT', 'Data Scientist', 160000, 'USD', 160000, 'US', 0, 'US', 'M')\n",
      "(2023, 'SE', 'FT', 'Data Scientist', 205000, 'USD', 205000, 'US', 100, 'US', 'M')\n",
      "(2023, 'SE', 'FT', 'Data Scientist', 185000, 'USD', 185000, 'US', 100, 'US', 'M')\n",
      "(2023, 'SE', 'FT', 'Machine Learning Engineer', 204500, 'USD', 204500, 'US', 0, 'US', 'M')\n",
      "(2023, 'SE', 'FT', 'Machine Learning Engineer', 142200, 'USD', 142200, 'US', 0, 'US', 'M')\n",
      "(2023, 'MI', 'FT', 'Machine Learning Engineer', 145000, 'USD', 145000, 'US', 0, 'US', 'M')\n",
      "(2023, 'SE', 'FT', 'ML Engineer', 234100, 'USD', 234100, 'US', 100, 'US', 'M')\n",
      "(2023, 'SE', 'FT', 'ML Engineer', 203500, 'USD', 203500, 'US', 100, 'US', 'M')\n",
      "(2023, 'SE', 'FT', 'Data Scientist', 223800, 'USD', 223800, 'US', 0, 'US', 'M')\n",
      "(2023, 'SE', 'FT', 'Data Scientist', 172100, 'USD', 172100, 'US', 0, 'US', 'M')\n",
      "(2023, 'SE', 'FT', 'Data Scientist', 180000, 'USD', 180000, 'US', 0, 'US', 'M')\n",
      "(2023, 'SE', 'FT', 'Data Scientist', 150000, 'USD', 150000, 'US', 0, 'US', 'M')\n",
      "(2023, 'SE', 'FT', 'Data Engineer', 232200, 'USD', 232200, 'US', 100, 'US', 'M')\n",
      "(2023, 'SE', 'FT', 'Data Engineer', 167200, 'USD', 167200, 'US', 100, 'US', 'M')\n",
      "(2023, 'SE', 'FT', 'BI Developer', 197000, 'USD', 197000, 'US', 0, 'US', 'M')\n",
      "(2023, 'SE', 'FT', 'BI Developer', 106000, 'USD', 106000, 'US', 0, 'US', 'M')\n",
      "(2023, 'SE', 'FT', 'Research Scientist', 180000, 'USD', 180000, 'US', 0, 'US', 'M')\n",
      "(2023, 'SE', 'FT', 'Research Scientist', 145000, 'USD', 145000, 'US', 0, 'US', 'M')\n",
      "(2023, 'SE', 'FT', 'Data Lead', 225000, 'USD', 225000, 'US', 0, 'US', 'M')\n",
      "(2023, 'SE', 'FT', 'Data Lead', 200000, 'USD', 200000, 'US', 0, 'US', 'M')\n",
      "(2023, 'SE', 'FT', 'Data Engineer', 170000, 'USD', 170000, 'US', 100, 'US', 'M')\n",
      "(2023, 'SE', 'FT', 'Data Engineer', 114000, 'USD', 114000, 'US', 100, 'US', 'M')\n",
      "(2023, 'SE', 'FT', 'Data Engineer', 291500, 'USD', 291500, 'US', 0, 'US', 'M')\n",
      "(2023, 'SE', 'FT', 'Data Engineer', 180000, 'USD', 180000, 'US', 0, 'US', 'M')\n",
      "(2023, 'EX', 'FT', 'Data Engineer', 196200, 'USD', 196200, 'US', 0, 'US', 'M')\n",
      "(2023, 'EX', 'FT', 'Data Engineer', 150900, 'USD', 150900, 'US', 0, 'US', 'M')\n",
      "(2023, 'SE', 'FT', 'Data Scientist', 168400, 'USD', 168400, 'US', 0, 'US', 'M')\n",
      "(2023, 'SE', 'FT', 'Data Scientist', 105200, 'USD', 105200, 'US', 0, 'US', 'M')\n",
      "(2023, 'MI', 'FT', 'Data Analyst', 116000, 'USD', 116000, 'US', 0, 'US', 'M')\n",
      "(2023, 'SE', 'FT', 'Analytics Engineer', 207000, 'USD', 207000, 'US', 0, 'US', 'M')\n",
      "(2023, 'SE', 'FT', 'Analytics Engineer', 167000, 'USD', 167000, 'US', 0, 'US', 'M')\n",
      "(2023, 'SE', 'FT', 'Machine Learning Engineer', 145000, 'USD', 145000, 'US', 0, 'US', 'M')\n",
      "(2023, 'SE', 'FT', 'Machine Learning Engineer', 135000, 'USD', 135000, 'US', 0, 'US', 'M')\n",
      "(2023, 'MI', 'FT', 'Data Engineer', 105000, 'USD', 105000, 'US', 0, 'US', 'M')\n",
      "(2023, 'SE', 'FT', 'Data Architect', 180000, 'USD', 180000, 'US', 100, 'US', 'M')\n",
      "(2023, 'SE', 'FT', 'Data Architect', 115000, 'USD', 115000, 'US', 100, 'US', 'M')\n",
      "(2023, 'SE', 'FT', 'Data Engineer', 133800, 'USD', 133800, 'US', 100, 'US', 'M')\n",
      "(2023, 'MI', 'FT', 'Data Analyst', 120000, 'USD', 120000, 'US', 0, 'US', 'M')\n",
      "(2023, 'SE', 'FT', 'Data Science Engineer', 140000, 'USD', 140000, 'US', 0, 'US', 'M')\n",
      "(2023, 'SE', 'FT', 'Research Scientist', 150000, 'USD', 150000, 'US', 0, 'US', 'M')\n",
      "(2023, 'SE', 'FT', 'Research Scientist', 120000, 'USD', 120000, 'US', 0, 'US', 'M')\n",
      "(2023, 'SE', 'FT', 'Cloud Database Engineer', 140000, 'USD', 140000, 'US', 100, 'US', 'M')\n",
      "(2023, 'SE', 'FT', 'Cloud Database Engineer', 115000, 'USD', 115000, 'US', 100, 'US', 'M')\n",
      "(2023, 'SE', 'FT', 'Data Science Manager', 297300, 'USD', 297300, 'US', 100, 'US', 'M')\n",
      "(2023, 'SE', 'FT', 'Data Science Manager', 198200, 'USD', 198200, 'US', 100, 'US', 'M')\n",
      "(2023, 'SE', 'FT', 'Data Scientist', 297300, 'USD', 297300, 'US', 100, 'US', 'M')\n",
      "(2023, 'SE', 'FT', 'Data Scientist', 198200, 'USD', 198200, 'US', 100, 'US', 'M')\n",
      "(2023, 'SE', 'FT', 'Data Engineer', 202000, 'USD', 202000, 'US', 100, 'US', 'M')\n",
      "(2023, 'SE', 'FT', 'Data Engineer', 135000, 'USD', 135000, 'US', 100, 'US', 'M')\n",
      "(2023, 'SE', 'FT', 'Data Scientist', 110000, 'USD', 110000, 'US', 100, 'US', 'M')\n",
      "(2023, 'MI', 'FT', 'Machine Learning Engineer', 219000, 'USD', 219000, 'US', 50, 'US', 'L')\n",
      "(2023, 'SE', 'FT', 'Applied Scientist', 230000, 'USD', 230000, 'US', 100, 'US', 'M')\n",
      "(2023, 'SE', 'FT', 'Applied Scientist', 196000, 'USD', 196000, 'US', 100, 'US', 'M')\n",
      "(2023, 'SE', 'FT', 'BI Developer', 140000, 'USD', 140000, 'US', 100, 'US', 'M')\n",
      "(2023, 'SE', 'FT', 'BI Developer', 110000, 'USD', 110000, 'US', 100, 'US', 'M')\n",
      "(2023, 'MI', 'FT', 'Data Analyst', 150000, 'USD', 150000, 'US', 0, 'US', 'M')\n",
      "(2023, 'SE', 'FT', 'Data Engineer', 160000, 'USD', 160000, 'US', 0, 'US', 'M')\n",
      "(2023, 'SE', 'FT', 'Data Engineer', 110000, 'USD', 110000, 'US', 0, 'US', 'M')\n",
      "(2023, 'SE', 'FT', 'Data Scientist', 185900, 'USD', 185900, 'US', 0, 'US', 'M')\n",
      "(2023, 'SE', 'FT', 'Data Scientist', 129300, 'USD', 129300, 'US', 0, 'US', 'M')\n",
      "(2023, 'SE', 'FT', 'Applied Scientist', 126100, 'USD', 126100, 'US', 0, 'US', 'L')\n",
      "(2023, 'SE', 'FT', 'Data Engineer', 170000, 'USD', 170000, 'US', 100, 'US', 'M')\n",
      "(2023, 'SE', 'FT', 'Data Engineer', 150000, 'USD', 150000, 'US', 100, 'US', 'M')\n",
      "(2023, 'MI', 'FT', 'Machine Learning Engineer', 175000, 'USD', 175000, 'US', 100, 'US', 'M')\n",
      "(2023, 'MI', 'FT', 'Machine Learning Engineer', 140000, 'USD', 140000, 'US', 100, 'US', 'M')\n",
      "(2023, 'SE', 'FT', 'Data Analyst', 240500, 'USD', 240500, 'US', 0, 'US', 'M')\n",
      "(2023, 'SE', 'FT', 'Data Analyst', 137500, 'USD', 137500, 'US', 0, 'US', 'M')\n",
      "(2023, 'MI', 'FT', 'Data Scientist', 187500, 'USD', 187500, 'US', 0, 'US', 'M')\n",
      "(2023, 'MI', 'FT', 'Data Scientist', 165000, 'USD', 165000, 'US', 0, 'US', 'M')\n",
      "(2023, 'SE', 'FT', 'Research Scientist', 210000, 'USD', 210000, 'US', 0, 'US', 'M')\n",
      "(2023, 'SE', 'FT', 'Research Scientist', 165750, 'USD', 165750, 'US', 0, 'US', 'M')\n",
      "(2023, 'SE', 'FT', 'Machine Learning Scientist', 225000, 'USD', 225000, 'US', 100, 'US', 'M')\n",
      "(2023, 'SE', 'FT', 'Machine Learning Scientist', 165750, 'USD', 165750, 'US', 100, 'US', 'M')\n",
      "(2023, 'SE', 'FT', 'Data Scientist', 135000, 'USD', 135000, 'US', 100, 'US', 'M')\n",
      "(2023, 'SE', 'FT', 'Data Scientist', 115000, 'USD', 115000, 'US', 100, 'US', 'M')\n",
      "(2023, 'SE', 'FT', 'NLP Engineer', 275000, 'USD', 275000, 'US', 0, 'US', 'M')\n",
      "(2023, 'SE', 'FT', 'NLP Engineer', 175000, 'USD', 175000, 'US', 0, 'US', 'M')\n",
      "(2023, 'SE', 'FT', 'Data Scientist', 170000, 'USD', 170000, 'US', 100, 'US', 'M')\n",
      "(2023, 'SE', 'FT', 'Data Scientist', 140000, 'USD', 140000, 'US', 100, 'US', 'M')\n",
      "(2023, 'SE', 'FT', 'Data Engineer', 175308, 'USD', 175308, 'US', 0, 'US', 'M')\n",
      "(2023, 'SE', 'FT', 'Data Engineer', 100706, 'USD', 100706, 'US', 0, 'US', 'M')\n",
      "(2023, 'SE', 'FT', 'NLP Engineer', 235000, 'USD', 235000, 'US', 0, 'US', 'M')\n",
      "(2023, 'SE', 'FT', 'NLP Engineer', 135000, 'USD', 135000, 'US', 0, 'US', 'M')\n",
      "(2023, 'SE', 'FT', 'Data Engineer', 310000, 'USD', 310000, 'US', 0, 'US', 'M')\n",
      "(2023, 'SE', 'FT', 'Data Engineer', 229000, 'USD', 229000, 'US', 0, 'US', 'M')\n",
      "(2023, 'SE', 'FT', 'ML Engineer', 289076, 'USD', 289076, 'US', 0, 'US', 'M')\n",
      "(2023, 'SE', 'FT', 'ML Engineer', 202353, 'USD', 202353, 'US', 0, 'US', 'M')\n",
      "(2023, 'MI', 'FT', 'Research Engineer', 120000, 'USD', 120000, 'US', 100, 'US', 'M')\n",
      "(2023, 'SE', 'FT', 'Data Engineer', 226700, 'USD', 226700, 'US', 0, 'US', 'M')\n",
      "(2023, 'SE', 'FT', 'Data Engineer', 133300, 'USD', 133300, 'US', 0, 'US', 'M')\n",
      "(2023, 'SE', 'FT', 'Data Analyst', 125000, 'USD', 125000, 'US', 0, 'US', 'M')\n",
      "(2023, 'SE', 'FT', 'Data Analyst', 130000, 'USD', 130000, 'US', 100, 'US', 'M')\n",
      "(2023, 'MI', 'FT', 'Data Engineer', 120000, 'USD', 120000, 'US', 0, 'US', 'M')\n",
      "(2021, 'SE', 'FT', 'Data Scientist', 4000000, 'INR', 54094, 'IN', 100, 'IN', 'L')\n",
      "(2022, 'MI', 'FT', 'Business Data Analyst', 1440000, 'INR', 18314, 'IN', 50, 'IN', 'L')\n",
      "(2023, 'SE', 'FT', 'Data Engineer', 231250, 'USD', 231250, 'US', 100, 'US', 'M')\n",
      "(2023, 'SE', 'FT', 'Data Engineer', 138750, 'USD', 138750, 'US', 100, 'US', 'M')\n",
      "(2023, 'SE', 'FT', 'Data Engineer', 199000, 'USD', 199000, 'US', 0, 'US', 'M')\n",
      "(2023, 'SE', 'FT', 'Data Engineer', 162000, 'USD', 162000, 'US', 0, 'US', 'M')\n",
      "(2023, 'EN', 'FT', 'Data Engineer', 160000, 'USD', 160000, 'US', 0, 'US', 'M')\n",
      "(2023, 'EN', 'FT', 'Data Engineer', 135000, 'USD', 135000, 'US', 0, 'US', 'M')\n",
      "(2023, 'SE', 'FT', 'Research Scientist', 200000, 'USD', 200000, 'US', 0, 'US', 'M')\n",
      "(2023, 'SE', 'FT', 'Research Scientist', 150000, 'USD', 150000, 'US', 0, 'US', 'M')\n",
      "(2023, 'EN', 'FT', 'Research Engineer', 160000, 'USD', 160000, 'US', 0, 'US', 'M')\n",
      "(2023, 'EN', 'FT', 'Research Engineer', 120000, 'USD', 120000, 'US', 0, 'US', 'M')\n",
      "(2023, 'SE', 'FT', 'Research Scientist', 250000, 'USD', 250000, 'US', 0, 'US', 'M')\n",
      "(2023, 'SE', 'FT', 'Research Scientist', 200000, 'USD', 200000, 'US', 0, 'US', 'M')\n",
      "(2023, 'EN', 'FT', 'Deep Learning Engineer', 150000, 'USD', 150000, 'US', 0, 'US', 'M')\n",
      "(2023, 'EN', 'FT', 'Deep Learning Engineer', 120000, 'USD', 120000, 'US', 0, 'US', 'M')\n",
      "(2023, 'SE', 'FT', 'Research Engineer', 150000, 'USD', 150000, 'US', 0, 'US', 'M')\n",
      "(2022, 'SE', 'FT', 'Data Analytics Manager', 133000, 'USD', 133000, 'NL', 0, 'NL', 'L')\n",
      "(2023, 'SE', 'FT', 'Data Scientist', 272550, 'USD', 272550, 'US', 0, 'US', 'M')\n",
      "(2023, 'SE', 'FT', 'Data Scientist', 198200, 'USD', 198200, 'US', 0, 'US', 'M')\n",
      "(2023, 'SE', 'FT', 'Data Scientist', 182000, 'USD', 182000, 'US', 0, 'US', 'M')\n",
      "(2023, 'SE', 'FT', 'Data Scientist', 140000, 'USD', 140000, 'US', 0, 'US', 'M')\n",
      "(2023, 'SE', 'FT', 'Data Engineer', 200000, 'USD', 200000, 'US', 0, 'US', 'M')\n",
      "(2023, 'SE', 'FT', 'Data Engineer', 160000, 'USD', 160000, 'US', 0, 'US', 'M')\n",
      "(2023, 'SE', 'FT', 'Machine Learning Engineer', 204500, 'USD', 204500, 'US', 0, 'US', 'M')\n",
      "(2023, 'SE', 'FT', 'Machine Learning Engineer', 142200, 'USD', 142200, 'US', 0, 'US', 'M')\n",
      "(2023, 'MI', 'FT', 'Data Scientist', 120000, 'USD', 120000, 'US', 0, 'US', 'M')\n",
      "(2023, 'MI', 'FT', 'Data Scientist', 105000, 'USD', 105000, 'US', 0, 'US', 'M')\n",
      "(2023, 'SE', 'FT', 'Data Engineer', 187500, 'USD', 187500, 'US', 100, 'US', 'M')\n",
      "(2023, 'SE', 'FT', 'Data Engineer', 175000, 'USD', 175000, 'US', 100, 'US', 'M')\n",
      "(2023, 'SE', 'FT', 'Machine Learning Engineer', 204500, 'USD', 204500, 'US', 0, 'US', 'M')\n",
      "(2023, 'SE', 'FT', 'Machine Learning Engineer', 142200, 'USD', 142200, 'US', 0, 'US', 'M')\n",
      "(2023, 'SE', 'FT', 'Data Analyst', 155000, 'USD', 155000, 'US', 100, 'US', 'M')\n",
      "(2023, 'SE', 'FT', 'Computer Vision Engineer', 235000, 'USD', 235000, 'US', 0, 'US', 'M')\n",
      "(2023, 'SE', 'FT', 'Computer Vision Engineer', 185000, 'USD', 185000, 'US', 0, 'US', 'M')\n",
      "(2023, 'SE', 'FT', 'Data Architect', 174500, 'USD', 174500, 'US', 0, 'US', 'M')\n",
      "(2023, 'SE', 'FT', 'Data Architect', 113000, 'USD', 113000, 'US', 0, 'US', 'M')\n",
      "(2023, 'SE', 'FT', 'Data Scientist', 143100, 'USD', 143100, 'CA', 0, 'CA', 'M')\n",
      "(2023, 'SE', 'FT', 'Data Scientist', 113000, 'USD', 113000, 'CA', 0, 'CA', 'M')\n",
      "(2023, 'SE', 'FT', 'Applied Scientist', 184000, 'USD', 184000, 'US', 100, 'US', 'M')\n",
      "(2023, 'SE', 'FT', 'Applied Scientist', 142000, 'USD', 142000, 'US', 100, 'US', 'M')\n",
      "(2023, 'SE', 'FT', 'Data Scientist', 140000, 'USD', 140000, 'US', 0, 'US', 'M')\n",
      "(2023, 'SE', 'FT', 'Data Scientist', 120000, 'USD', 120000, 'US', 0, 'US', 'M')\n",
      "(2023, 'SE', 'FT', 'Data Architect', 174500, 'USD', 174500, 'US', 0, 'US', 'M')\n",
      "(2023, 'SE', 'FT', 'Data Architect', 113000, 'USD', 113000, 'US', 0, 'US', 'M')\n",
      "(2023, 'SE', 'FT', 'Data Scientist', 180560, 'USD', 180560, 'US', 0, 'US', 'M')\n",
      "(2023, 'SE', 'FT', 'Data Scientist', 115440, 'USD', 115440, 'US', 0, 'US', 'M')\n",
      "(2023, 'SE', 'FT', 'Data Scientist', 140000, 'USD', 140000, 'US', 0, 'US', 'M')\n",
      "(2023, 'SE', 'FT', 'Data Scientist', 120000, 'USD', 120000, 'US', 0, 'US', 'M')\n",
      "(2023, 'SE', 'FT', 'Research Scientist', 248100, 'USD', 248100, 'US', 0, 'US', 'M')\n",
      "(2023, 'SE', 'FT', 'Research Scientist', 145900, 'USD', 145900, 'US', 0, 'US', 'M')\n",
      "(2023, 'SE', 'FT', 'Data Scientist', 120000, 'USD', 120000, 'CA', 0, 'CA', 'M')\n",
      "(2023, 'SE', 'FT', 'Data Scientist', 110000, 'USD', 110000, 'CA', 0, 'CA', 'M')\n",
      "(2023, 'SE', 'FT', 'Data Engineer', 291500, 'USD', 291500, 'US', 0, 'US', 'M')\n",
      "(2023, 'SE', 'FT', 'Data Engineer', 180000, 'USD', 180000, 'US', 0, 'US', 'M')\n",
      "(2023, 'SE', 'FT', 'Data Engineer', 161800, 'USD', 161800, 'US', 0, 'US', 'M')\n",
      "(2023, 'SE', 'FT', 'Data Engineer', 141600, 'USD', 141600, 'US', 0, 'US', 'M')\n",
      "(2023, 'SE', 'FT', 'Data Engineer', 166000, 'USD', 166000, 'US', 100, 'US', 'M')\n",
      "(2023, 'SE', 'FT', 'Data Engineer', 128000, 'USD', 128000, 'US', 100, 'US', 'M')\n",
      "(2023, 'SE', 'FT', 'Data Architect', 170000, 'USD', 170000, 'US', 100, 'US', 'M')\n",
      "(2023, 'SE', 'FT', 'Data Architect', 110000, 'USD', 110000, 'US', 100, 'US', 'M')\n",
      "(2023, 'SE', 'FT', 'Data Engineer', 160000, 'USD', 160000, 'US', 100, 'US', 'M')\n",
      "(2023, 'SE', 'FT', 'Data Engineer', 236000, 'USD', 236000, 'US', 100, 'US', 'M')\n",
      "(2023, 'SE', 'FT', 'Data Engineer', 182000, 'USD', 182000, 'US', 100, 'US', 'M')\n",
      "(2022, 'MI', 'FT', 'Data Analyst', 1125000, 'INR', 14307, 'IN', 100, 'IN', 'L')\n",
      "(2022, 'EN', 'FT', 'Data Scientist', 130000, 'USD', 130000, 'US', 0, 'US', 'M')\n",
      "(2023, 'MI', 'FT', 'Data Analyst', 150000, 'USD', 150000, 'US', 0, 'US', 'M')\n",
      "(2023, 'SE', 'FT', 'Machine Learning Engineer', 261500, 'USD', 261500, 'US', 0, 'US', 'L')\n",
      "(2023, 'SE', 'FT', 'Machine Learning Engineer', 134500, 'USD', 134500, 'US', 0, 'US', 'L')\n",
      "(2022, 'MI', 'FT', 'Data Scientist', 1100000, 'INR', 13989, 'IN', 100, 'IN', 'L')\n",
      "(2023, 'MI', 'FT', 'Data Scientist', 130000, 'USD', 130000, 'US', 0, 'US', 'M')\n",
      "(2023, 'EN', 'FT', 'Data Engineer', 160000, 'USD', 160000, 'US', 0, 'US', 'M')\n",
      "(2023, 'EN', 'FT', 'Data Engineer', 135000, 'USD', 135000, 'US', 0, 'US', 'M')\n",
      "(2022, 'SE', 'FT', 'Manager Data Management', 125000, 'USD', 125000, 'US', 100, 'US', 'L')\n",
      "(2022, 'SE', 'FT', 'Data Engineer', 175000, 'USD', 175000, 'US', 0, 'US', 'M')\n",
      "(2022, 'SE', 'FT', 'Data Engineer', 155000, 'USD', 155000, 'US', 0, 'US', 'M')\n",
      "(2022, 'SE', 'FT', 'Data Engineer', 153600, 'USD', 153600, 'US', 0, 'US', 'M')\n",
      "(2022, 'SE', 'FT', 'Data Engineer', 106800, 'USD', 106800, 'US', 0, 'US', 'M')\n",
      "(2022, 'SE', 'FT', 'Data Scientist', 150000, 'USD', 150000, 'US', 0, 'US', 'M')\n",
      "(2022, 'SE', 'FT', 'Data Scientist', 140000, 'USD', 140000, 'US', 0, 'US', 'M')\n",
      "(2022, 'SE', 'FT', 'Data Science Consultant', 122000, 'USD', 122000, 'US', 0, 'US', 'M')\n",
      "(2022, 'SE', 'FT', 'Data Engineer', 170000, 'USD', 170000, 'US', 0, 'US', 'M')\n",
      "(2022, 'SE', 'FT', 'Data Engineer', 130000, 'USD', 130000, 'US', 0, 'US', 'M')\n",
      "(2022, 'SE', 'FT', 'Data Science Consultant', 145000, 'USD', 145000, 'US', 0, 'US', 'M')\n",
      "(2022, 'SE', 'FT', 'Data Science Consultant', 128000, 'USD', 128000, 'US', 0, 'US', 'M')\n",
      "(2022, 'SE', 'FT', 'Data Engineer', 145000, 'USD', 145000, 'US', 0, 'US', 'M')\n",
      "(2022, 'SE', 'FT', 'Data Engineer', 175000, 'USD', 175000, 'US', 0, 'US', 'M')\n",
      "(2022, 'SE', 'FT', 'Data Engineer', 120000, 'USD', 120000, 'US', 0, 'US', 'M')\n",
      "(2022, 'SE', 'FT', 'Data Engineer', 145000, 'USD', 145000, 'US', 0, 'US', 'M')\n",
      "(2022, 'SE', 'FT', 'Data Engineer', 115000, 'USD', 115000, 'US', 0, 'US', 'M')\n",
      "(2022, 'SE', 'FT', 'Applied Machine Learning Scientist', 150000, 'USD', 150000, 'US', 100, 'US', 'M')\n",
      "(2022, 'MI', 'FT', 'Data Analyst', 150000, 'USD', 150000, 'US', 0, 'US', 'M')\n",
      "(2022, 'MI', 'FT', 'Data Scientist', 150000, 'USD', 150000, 'US', 100, 'US', 'M')\n",
      "(2022, 'MI', 'FT', 'Data Scientist', 127500, 'USD', 127500, 'US', 100, 'US', 'M')\n",
      "(2022, 'SE', 'FT', 'Data Scientist', 126500, 'USD', 126500, 'US', 100, 'US', 'M')\n",
      "(2022, 'MI', 'FT', 'Data Engineer', 260000, 'USD', 260000, 'US', 0, 'US', 'M')\n",
      "(2022, 'MI', 'FT', 'Data Engineer', 175000, 'USD', 175000, 'US', 0, 'US', 'M')\n",
      "(2022, 'SE', 'FT', 'Data Engineer', 250000, 'USD', 250000, 'US', 100, 'US', 'M')\n",
      "(2022, 'SE', 'FT', 'Machine Learning Engineer', 210000, 'USD', 210000, 'US', 100, 'US', 'M')\n",
      "(2022, 'SE', 'FT', 'Machine Learning Engineer', 160000, 'USD', 160000, 'US', 100, 'US', 'M')\n",
      "(2022, 'SE', 'FT', 'Data Scientist', 272550, 'USD', 272550, 'US', 100, 'US', 'M')\n",
      "(2022, 'SE', 'FT', 'Data Scientist', 198200, 'USD', 198200, 'US', 100, 'US', 'M')\n",
      "(2022, 'SE', 'FT', 'Data Scientist', 220000, 'USD', 220000, 'US', 0, 'US', 'M')\n",
      "(2022, 'SE', 'FT', 'Data Scientist', 146000, 'USD', 146000, 'US', 0, 'US', 'M')\n",
      "(2022, 'MI', 'FT', 'Data Analyst', 150000, 'USD', 150000, 'US', 0, 'US', 'M')\n",
      "(2022, 'SE', 'FT', 'Machine Learning Software Engineer', 248400, 'USD', 248400, 'CA', 100, 'CA', 'M')\n",
      "(2022, 'SE', 'FT', 'Machine Learning Software Engineer', 183600, 'USD', 183600, 'CA', 100, 'CA', 'M')\n",
      "(2022, 'MI', 'FT', 'Data Engineer', 150000, 'USD', 150000, 'US', 100, 'US', 'M')\n",
      "(2022, 'MI', 'FT', 'Data Engineer', 150000, 'USD', 150000, 'US', 100, 'US', 'M')\n",
      "(2022, 'SE', 'FT', 'Lead Data Scientist', 4460000, 'INR', 56723, 'IN', 0, 'IN', 'L')\n",
      "(2022, 'MI', 'FT', 'Data Engineer', 120000, 'USD', 120000, 'US', 0, 'US', 'M')\n",
      "(2022, 'EN', 'FT', 'Data Engineer', 160000, 'USD', 160000, 'US', 0, 'US', 'M')\n",
      "(2022, 'EN', 'FT', 'Data Engineer', 135000, 'USD', 135000, 'US', 0, 'US', 'M')\n",
      "(2022, 'SE', 'FT', 'Data Engineer', 216000, 'USD', 216000, 'US', 100, 'US', 'M')\n",
      "(2022, 'SE', 'FT', 'Data Engineer', 144000, 'USD', 144000, 'US', 100, 'US', 'M')\n",
      "(2022, 'SE', 'FT', 'Data Analyst', 149000, 'USD', 149000, 'US', 100, 'US', 'M')\n",
      "(2022, 'SE', 'FT', 'Data Analyst', 119000, 'USD', 119000, 'US', 100, 'US', 'M')\n",
      "(2022, 'SE', 'FT', 'Data Scientist', 140000, 'USD', 140000, 'US', 0, 'US', 'M')\n",
      "(2022, 'SE', 'FT', 'Data Scientist', 120000, 'USD', 120000, 'US', 0, 'US', 'M')\n",
      "(2022, 'MI', 'FT', 'Data Scientist', 150000, 'USD', 150000, 'US', 0, 'US', 'M')\n",
      "(2022, 'MI', 'FT', 'Data Scientist', 110000, 'USD', 110000, 'US', 0, 'US', 'M')\n",
      "(2022, 'SE', 'FT', 'Machine Learning Engineer', 246000, 'USD', 246000, 'US', 100, 'US', 'M')\n",
      "(2022, 'SE', 'FT', 'Machine Learning Engineer', 201000, 'USD', 201000, 'US', 100, 'US', 'M')\n",
      "(2022, 'SE', 'FT', 'Data Scientist', 190000, 'USD', 190000, 'US', 0, 'US', 'M')\n",
      "(2022, 'SE', 'FT', 'Data Scientist', 155000, 'USD', 155000, 'US', 0, 'US', 'M')\n",
      "(2022, 'SE', 'FT', 'ML Engineer', 235000, 'USD', 235000, 'US', 100, 'US', 'M')\n",
      "(2022, 'SE', 'FT', 'ML Engineer', 185000, 'USD', 185000, 'US', 100, 'US', 'M')\n",
      "(2022, 'SE', 'FT', 'Cloud Database Engineer', 190000, 'USD', 190000, 'US', 100, 'US', 'M')\n",
      "(2022, 'SE', 'FT', 'Cloud Database Engineer', 160000, 'USD', 160000, 'US', 100, 'US', 'M')\n",
      "(2022, 'MI', 'FT', 'Data Engineer', 130000, 'USD', 130000, 'US', 0, 'US', 'M')\n",
      "(2022, 'MI', 'FT', 'Data Engineer', 115000, 'USD', 115000, 'US', 0, 'US', 'M')\n",
      "(2022, 'MI', 'FT', 'Data Engineer', 105000, 'USD', 105000, 'US', 0, 'US', 'M')\n",
      "(2022, 'SE', 'FT', 'Machine Learning Engineer', 204500, 'USD', 204500, 'US', 0, 'US', 'M')\n",
      "(2022, 'SE', 'FT', 'Machine Learning Engineer', 142200, 'USD', 142200, 'US', 0, 'US', 'M')\n",
      "(2022, 'SE', 'FT', 'Machine Learning Engineer', 192000, 'USD', 192000, 'US', 100, 'US', 'M')\n",
      "(2022, 'SE', 'FT', 'Machine Learning Engineer', 164000, 'USD', 164000, 'US', 100, 'US', 'M')\n",
      "(2022, 'SE', 'FT', 'Data Engineer', 185900, 'USD', 185900, 'US', 0, 'US', 'M')\n",
      "(2022, 'SE', 'FT', 'Data Engineer', 129300, 'USD', 129300, 'US', 0, 'US', 'M')\n",
      "(2022, 'SE', 'FT', 'Data Engineer', 130000, 'USD', 130000, 'US', 0, 'US', 'M')\n",
      "(2022, 'SE', 'FT', 'Data Science Manager', 175000, 'USD', 175000, 'US', 0, 'US', 'M')\n",
      "(2022, 'SE', 'FT', 'Data Science Manager', 120000, 'USD', 120000, 'US', 0, 'US', 'M')\n",
      "(2022, 'SE', 'FT', 'Data Engineer', 167500, 'USD', 167500, 'US', 0, 'US', 'M')\n",
      "(2022, 'SE', 'FT', 'Data Engineer', 106500, 'USD', 106500, 'US', 0, 'US', 'M')\n",
      "(2022, 'SE', 'FT', 'Applied Scientist', 184000, 'USD', 184000, 'US', 100, 'US', 'M')\n",
      "(2022, 'SE', 'FT', 'Applied Scientist', 142000, 'USD', 142000, 'US', 100, 'US', 'M')\n",
      "(2022, 'MI', 'FT', 'Data Scientist', 145000, 'USD', 145000, 'US', 0, 'US', 'M')\n",
      "(2022, 'MI', 'FT', 'Data Scientist', 2500000, 'INR', 31795, 'IN', 100, 'US', 'M')\n",
      "(2022, 'MI', 'FT', 'NLP Engineer', 198000, 'PLN', 44365, 'PL', 100, 'PL', 'S')\n",
      "(2022, 'SE', 'FT', 'Data Engineer', 175000, 'USD', 175000, 'US', 0, 'US', 'M')\n",
      "(2022, 'SE', 'FT', 'Data Engineer', 120000, 'USD', 120000, 'US', 0, 'US', 'M')\n",
      "(2022, 'SE', 'FT', 'Data Engineer', 175000, 'USD', 175000, 'US', 0, 'US', 'M')\n",
      "(2022, 'SE', 'FT', 'Data Engineer', 120000, 'USD', 120000, 'US', 0, 'US', 'M')\n",
      "(2022, 'EX', 'FT', 'Data Engineer', 200000, 'USD', 200000, 'US', 0, 'US', 'M')\n",
      "(2022, 'EX', 'FT', 'Data Engineer', 145000, 'USD', 145000, 'US', 0, 'US', 'M')\n",
      "(2022, 'SE', 'FT', 'Data Engineer', 145000, 'USD', 145000, 'US', 0, 'US', 'M')\n",
      "(2022, 'SE', 'FT', 'Applied Scientist', 192000, 'USD', 192000, 'US', 100, 'US', 'M')\n",
      "(2022, 'SE', 'FT', 'Applied Scientist', 164000, 'USD', 164000, 'US', 100, 'US', 'M')\n",
      "(2022, 'EX', 'FT', 'Data Engineer', 310000, 'USD', 310000, 'US', 100, 'US', 'M')\n",
      "(2022, 'EX', 'FT', 'Data Engineer', 239000, 'USD', 239000, 'US', 100, 'US', 'M')\n",
      "(2022, 'SE', 'FT', 'Data Analyst', 120000, 'USD', 120000, 'US', 0, 'US', 'M')\n",
      "(2022, 'SE', 'FT', 'Machine Learning Engineer', 145000, 'USD', 145000, 'US', 0, 'US', 'M')\n",
      "(2022, 'SE', 'FT', 'Machine Learning Engineer', 135000, 'USD', 135000, 'US', 0, 'US', 'M')\n",
      "(2022, 'MI', 'FT', 'Data Engineer', 160000, 'USD', 160000, 'US', 100, 'US', 'M')\n",
      "(2022, 'MI', 'FT', 'Data Engineer', 120000, 'USD', 120000, 'US', 100, 'US', 'M')\n",
      "(2022, 'SE', 'FT', 'Data Scientist', 190000, 'USD', 190000, 'US', 0, 'US', 'M')\n",
      "(2022, 'SE', 'FT', 'Data Scientist', 150000, 'USD', 150000, 'US', 0, 'US', 'M')\n",
      "(2022, 'MI', 'FT', 'Data Engineer', 2800000, 'INR', 35610, 'IN', 50, 'IN', 'L')\n",
      "(2022, 'SE', 'FT', 'AI Scientist', 125000, 'USD', 125000, 'CO', 100, 'CO', 'L')\n",
      "(2022, 'SE', 'FT', 'Data Engineer', 120000, 'USD', 120000, 'US', 0, 'US', 'M')\n",
      "(2022, 'MI', 'FT', 'Data Analyst', 150000, 'USD', 150000, 'US', 0, 'US', 'M')\n",
      "(2022, 'SE', 'FT', 'Data Analyst', 115934, 'USD', 115934, 'US', 100, 'US', 'M')\n",
      "(2022, 'SE', 'FT', 'Data Scientist', 175000, 'USD', 175000, 'US', 100, 'US', 'M')\n",
      "(2022, 'SE', 'FT', 'Data Scientist', 140000, 'USD', 140000, 'US', 100, 'US', 'M')\n",
      "(2022, 'SE', 'FT', 'Data Engineer', 120000, 'USD', 120000, 'US', 0, 'US', 'M')\n",
      "(2022, 'SE', 'FT', 'Research Engineer', 249500, 'USD', 249500, 'US', 0, 'US', 'M')\n",
      "(2022, 'SE', 'FT', 'Research Engineer', 149850, 'USD', 149850, 'US', 0, 'US', 'M')\n",
      "(2022, 'MI', 'FT', 'Analytics Engineer', 122500, 'USD', 122500, 'US', 100, 'US', 'M')\n",
      "(2022, 'SE', 'FT', 'Data Scientist', 249500, 'USD', 249500, 'US', 0, 'US', 'M')\n",
      "(2022, 'SE', 'FT', 'Data Scientist', 149850, 'USD', 149850, 'US', 0, 'US', 'M')\n",
      "(2022, 'SE', 'FT', 'Research Scientist', 249500, 'USD', 249500, 'US', 0, 'US', 'M')\n",
      "(2022, 'SE', 'FT', 'Research Scientist', 149850, 'USD', 149850, 'US', 0, 'US', 'M')\n",
      "(2022, 'SE', 'FT', 'Data Engineer', 190000, 'USD', 190000, 'US', 100, 'US', 'M')\n",
      "(2022, 'SE', 'FT', 'Data Engineer', 120000, 'USD', 120000, 'US', 100, 'US', 'M')\n",
      "(2022, 'SE', 'FT', 'Data Analyst', 127000, 'USD', 127000, 'US', 100, 'US', 'M')\n",
      "(2022, 'SE', 'FT', 'Data Analyst', 104000, 'USD', 104000, 'US', 100, 'US', 'M')\n",
      "(2022, 'SE', 'FT', 'Data Scientist', 210000, 'USD', 210000, 'US', 100, 'US', 'M')\n",
      "(2022, 'SE', 'FT', 'Data Scientist', 150000, 'USD', 150000, 'US', 100, 'US', 'M')\n",
      "(2022, 'SE', 'FT', 'Machine Learning Engineer', 210000, 'USD', 210000, 'US', 100, 'US', 'M')\n",
      "(2022, 'SE', 'FT', 'Machine Learning Engineer', 150000, 'USD', 150000, 'US', 100, 'US', 'M')\n",
      "(2022, 'SE', 'FT', 'Data Engineer', 210000, 'USD', 210000, 'US', 100, 'US', 'M')\n",
      "(2022, 'SE', 'FT', 'Data Engineer', 130000, 'USD', 130000, 'US', 100, 'US', 'M')\n",
      "(2022, 'SE', 'FT', 'Data Scientist', 182750, 'USD', 182750, 'US', 100, 'US', 'M')\n",
      "(2022, 'SE', 'FT', 'Data Scientist', 161500, 'USD', 161500, 'US', 100, 'US', 'M')\n",
      "(2022, 'MI', 'FT', 'Data Analyst', 102640, 'USD', 102640, 'US', 100, 'US', 'M')\n",
      "(2022, 'SE', 'FT', 'Research Scientist', 210000, 'USD', 210000, 'US', 100, 'US', 'M')\n",
      "(2022, 'SE', 'FT', 'Research Scientist', 150000, 'USD', 150000, 'US', 100, 'US', 'M')\n",
      "(2022, 'SE', 'FT', 'Data Engineer', 198800, 'USD', 198800, 'US', 0, 'US', 'M')\n",
      "(2022, 'SE', 'FT', 'Data Engineer', 122600, 'USD', 122600, 'US', 0, 'US', 'M')\n",
      "(2022, 'MI', 'FT', 'Data Engineer', 130000, 'USD', 130000, 'US', 100, 'US', 'M')\n",
      "(2022, 'SE', 'FT', 'Data Scientist', 136000, 'USD', 136000, 'US', 100, 'US', 'M')\n",
      "(2022, 'SE', 'FT', 'Data Scientist', 104000, 'USD', 104000, 'US', 100, 'US', 'M')\n",
      "(2022, 'SE', 'FT', 'Data Analyst', 150000, 'USD', 150000, 'US', 100, 'US', 'M')\n",
      "(2022, 'EN', 'FT', 'Data Engineer', 160000, 'USD', 160000, 'US', 0, 'US', 'M')\n",
      "(2022, 'EN', 'FT', 'Data Engineer', 135000, 'USD', 135000, 'US', 0, 'US', 'M')\n",
      "(2022, 'SE', 'FT', 'Data Engineer', 216000, 'USD', 216000, 'US', 100, 'US', 'M')\n",
      "(2022, 'SE', 'FT', 'Data Engineer', 144000, 'USD', 144000, 'US', 100, 'US', 'M')\n",
      "(2022, 'EX', 'FT', 'Data Scientist', 159000, 'USD', 159000, 'US', 100, 'US', 'M')\n",
      "(2022, 'EX', 'FT', 'Data Scientist', 130000, 'USD', 130000, 'US', 100, 'US', 'M')\n",
      "(2022, 'SE', 'FT', 'Data Analyst', 115934, 'USD', 115934, 'US', 100, 'US', 'M')\n",
      "(2022, 'SE', 'FT', 'Data Engineer', 215000, 'USD', 215000, 'US', 100, 'US', 'M')\n",
      "(2022, 'SE', 'FT', 'Data Engineer', 150000, 'USD', 150000, 'US', 100, 'US', 'M')\n",
      "(2022, 'SE', 'FT', 'Machine Learning Engineer', 246000, 'USD', 246000, 'US', 100, 'US', 'M')\n",
      "(2022, 'SE', 'FT', 'Machine Learning Engineer', 201000, 'USD', 201000, 'US', 100, 'US', 'M')\n",
      "(2022, 'MI', 'FT', 'Data Engineer', 187000, 'USD', 187000, 'US', 100, 'US', 'M')\n",
      "(2022, 'MI', 'FT', 'Data Engineer', 153000, 'USD', 153000, 'US', 100, 'US', 'M')\n",
      "(2022, 'SE', 'FT', 'Machine Learning Engineer', 255000, 'USD', 255000, 'MX', 100, 'MX', 'M')\n",
      "(2022, 'SE', 'FT', 'Machine Learning Engineer', 185000, 'USD', 185000, 'MX', 100, 'MX', 'M')\n",
      "(2022, 'MI', 'FT', 'Data Analyst', 350000, 'GBP', 430967, 'GB', 0, 'GB', 'M')\n",
      "(2022, 'SE', 'FT', 'Data Analyst', 169000, 'USD', 169000, 'US', 0, 'US', 'M')\n",
      "(2022, 'SE', 'FT', 'Data Analyst', 110600, 'USD', 110600, 'US', 0, 'US', 'M')\n",
      "(2022, 'SE', 'FT', 'BI Developer', 140000, 'USD', 140000, 'US', 100, 'US', 'M')\n",
      "(2022, 'SE', 'FT', 'BI Developer', 120000, 'USD', 120000, 'US', 100, 'US', 'M')\n",
      "(2022, 'MI', 'FT', 'MLOps Engineer', 134000, 'USD', 134000, 'US', 100, 'US', 'M')\n",
      "(2022, 'MI', 'FT', 'MLOps Engineer', 124000, 'USD', 124000, 'US', 100, 'US', 'M')\n",
      "(2022, 'SE', 'FT', 'Data Analyst', 166700, 'USD', 166700, 'US', 0, 'US', 'M')\n",
      "(2022, 'SE', 'FT', 'Data Analyst', 119000, 'USD', 119000, 'US', 0, 'US', 'M')\n",
      "(2022, 'EN', 'FT', 'Data Scientist', 124234, 'USD', 124234, 'US', 0, 'US', 'M')\n",
      "(2021, 'MI', 'FT', 'Data Analyst', 1250000, 'INR', 16904, 'IN', 50, 'IN', 'L')\n",
      "(2022, 'EN', 'FT', 'AI Scientist', 200000, 'USD', 200000, 'CA', 50, 'CA', 'L')\n",
      "(2022, 'SE', 'FT', 'Data Engineer', 220000, 'USD', 220000, 'US', 100, 'US', 'M')\n",
      "(2022, 'SE', 'FT', 'Data Engineer', 146000, 'USD', 146000, 'US', 100, 'US', 'M')\n",
      "(2022, 'SE', 'FT', 'Data Specialist', 110000, 'USD', 110000, 'US', 0, 'US', 'M')\n",
      "(2022, 'SE', 'FT', 'Data Engineer', 120000, 'USD', 120000, 'US', 0, 'US', 'M')\n",
      "(2022, 'MI', 'FT', 'Data Analyst', 150000, 'USD', 150000, 'US', 0, 'US', 'M')\n",
      "(2022, 'SE', 'FT', 'Data Architect', 190000, 'USD', 190000, 'US', 100, 'US', 'M')\n",
      "(2022, 'SE', 'FT', 'Data Architect', 135000, 'USD', 135000, 'US', 100, 'US', 'M')\n",
      "(2022, 'SE', 'FT', 'Data Scientist', 128000, 'USD', 128000, 'US', 0, 'US', 'M')\n",
      "(2022, 'SE', 'FT', 'Data Scientist', 173000, 'USD', 173000, 'US', 100, 'US', 'M')\n",
      "(2022, 'SE', 'FT', 'Data Scientist', 110000, 'USD', 110000, 'US', 100, 'US', 'M')\n",
      "(2022, 'SE', 'FT', 'Machine Learning Engineer', 192000, 'USD', 192000, 'US', 0, 'US', 'M')\n",
      "(2022, 'SE', 'FT', 'Machine Learning Engineer', 120000, 'USD', 120000, 'US', 0, 'US', 'M')\n",
      "(2022, 'SE', 'FT', 'Data Analyst', 115934, 'USD', 115934, 'US', 100, 'US', 'M')\n",
      "(2022, 'SE', 'FT', 'Data Analyst', 120000, 'USD', 120000, 'US', 0, 'US', 'M')\n",
      "(2022, 'SE', 'FT', 'Principal Machine Learning Engineer', 190000, 'USD', 190000, 'US', 100, 'US', 'L')\n",
      "(2022, 'SE', 'FT', 'Data Engineer', 194000, 'USD', 194000, 'US', 100, 'US', 'M')\n",
      "(2022, 'SE', 'FT', 'Data Engineer', 129400, 'USD', 129400, 'US', 100, 'US', 'M')\n",
      "(2022, 'SE', 'FT', 'Data Analyst', 201000, 'USD', 201000, 'US', 100, 'US', 'M')\n",
      "(2022, 'SE', 'FT', 'Data Scientist', 165000, 'USD', 165000, 'US', 0, 'US', 'M')\n",
      "(2022, 'SE', 'FT', 'Data Scientist', 125000, 'USD', 125000, 'US', 0, 'US', 'M')\n",
      "(2022, 'SE', 'FT', 'Applied Scientist', 230000, 'USD', 230000, 'US', 100, 'US', 'M')\n",
      "(2022, 'SE', 'FT', 'Applied Scientist', 196000, 'USD', 196000, 'US', 100, 'US', 'M')\n",
      "(2022, 'MI', 'FT', 'Machine Learning Engineer', 130000, 'USD', 130000, 'US', 0, 'US', 'M')\n",
      "(2022, 'MI', 'FT', 'Machine Learning Researcher', 150000, 'USD', 150000, 'US', 100, 'US', 'M')\n",
      "(2022, 'MI', 'FT', 'Machine Learning Engineer', 230000, 'USD', 230000, 'US', 0, 'US', 'M')\n",
      "(2022, 'MI', 'FT', 'Machine Learning Engineer', 150000, 'USD', 150000, 'US', 0, 'US', 'M')\n",
      "(2022, 'SE', 'FT', 'Data Engineer', 153600, 'USD', 153600, 'US', 0, 'US', 'M')\n",
      "(2022, 'SE', 'FT', 'Data Engineer', 106800, 'USD', 106800, 'US', 0, 'US', 'M')\n",
      "(2022, 'MI', 'FT', 'Machine Learning Researcher', 130000, 'USD', 130000, 'US', 100, 'US', 'M')\n",
      "(2022, 'SE', 'FT', 'Data Engineer', 216000, 'USD', 216000, 'US', 100, 'US', 'M')\n",
      "(2022, 'SE', 'FT', 'Data Engineer', 144000, 'USD', 144000, 'US', 100, 'US', 'M')\n",
      "(2022, 'MI', 'FT', 'Data Scientist', 180000, 'USD', 180000, 'US', 0, 'US', 'M')\n",
      "(2022, 'MI', 'FT', 'Data Scientist', 120000, 'USD', 120000, 'US', 0, 'US', 'M')\n",
      "(2022, 'EN', 'FT', 'Data Engineer', 160000, 'USD', 160000, 'US', 0, 'US', 'M')\n",
      "(2022, 'EN', 'FT', 'Data Engineer', 135000, 'USD', 135000, 'US', 0, 'US', 'M')\n",
      "(2022, 'SE', 'FT', 'Data Analyst', 192500, 'USD', 192500, 'US', 100, 'US', 'M')\n",
      "(2022, 'SE', 'FT', 'Data Analyst', 140000, 'USD', 140000, 'US', 100, 'US', 'M')\n",
      "(2022, 'SE', 'FT', 'Data Engineer', 152500, 'USD', 152500, 'US', 0, 'US', 'M')\n",
      "(2022, 'SE', 'FT', 'Data Engineer', 130000, 'USD', 130000, 'US', 0, 'US', 'M')\n",
      "(2022, 'SE', 'FT', 'Data Engineer', 178750, 'USD', 178750, 'US', 0, 'US', 'M')\n",
      "(2022, 'SE', 'FT', 'Data Engineer', 160000, 'USD', 160000, 'US', 0, 'US', 'M')\n",
      "(2022, 'MI', 'FT', 'Machine Learning Scientist', 165000, 'USD', 165000, 'US', 0, 'US', 'M')\n",
      "(2022, 'MI', 'FT', 'Machine Learning Scientist', 135000, 'USD', 135000, 'US', 0, 'US', 'M')\n",
      "(2022, 'SE', 'FT', 'Analytics Engineer', 170000, 'USD', 170000, 'US', 100, 'US', 'M')\n",
      "(2022, 'SE', 'FT', 'Analytics Engineer', 125000, 'USD', 125000, 'US', 100, 'US', 'M')\n",
      "(2022, 'SE', 'FT', 'Data Engineer', 105000, 'USD', 105000, 'US', 0, 'US', 'M')\n",
      "(2022, 'SE', 'FT', 'Data Scientist', 130000, 'USD', 130000, 'US', 0, 'US', 'M')\n",
      "(2022, 'SE', 'FT', 'Data Scientist', 203500, 'USD', 203500, 'US', 0, 'US', 'M')\n",
      "(2022, 'SE', 'FT', 'Data Scientist', 152000, 'USD', 152000, 'US', 0, 'US', 'M')\n",
      "(2022, 'SE', 'FT', 'Data Engineer', 197430, 'USD', 197430, 'US', 100, 'US', 'M')\n",
      "(2022, 'SE', 'FT', 'Data Engineer', 134760, 'USD', 134760, 'US', 100, 'US', 'M')\n",
      "(2022, 'MI', 'FT', 'Data Scientist', 120000, 'USD', 120000, 'US', 100, 'US', 'M')\n",
      "(2022, 'SE', 'FT', 'Data Engineer', 197000, 'USD', 197000, 'US', 0, 'US', 'M')\n",
      "(2022, 'SE', 'FT', 'Data Engineer', 220000, 'USD', 220000, 'US', 100, 'US', 'M')\n",
      "(2022, 'SE', 'FT', 'Data Engineer', 162000, 'USD', 162000, 'US', 100, 'US', 'M')\n",
      "(2022, 'MI', 'FT', 'Data Engineer', 105120, 'EUR', 110446, 'LT', 0, 'LT', 'M')\n",
      "(2022, 'SE', 'FT', 'Data Architect', 149040, 'USD', 149040, 'US', 100, 'US', 'M')\n",
      "(2022, 'SE', 'FT', 'Data Architect', 113900, 'USD', 113900, 'US', 100, 'US', 'M')\n",
      "(2021, 'SE', 'FT', 'Data Analyst', 115000, 'USD', 115000, 'US', 100, 'US', 'S')\n",
      "(2022, 'SE', 'FT', 'Data Analyst', 171000, 'USD', 171000, 'US', 100, 'AU', 'L')\n",
      "(2022, 'SE', 'FT', 'Data Engineer', 120000, 'USD', 120000, 'US', 0, 'US', 'M')\n",
      "(2022, 'SE', 'FT', 'Data Specialist', 110000, 'USD', 110000, 'US', 0, 'US', 'M')\n",
      "(2022, 'SE', 'FT', 'Data Scientist', 185900, 'USD', 185900, 'US', 0, 'US', 'M')\n",
      "(2022, 'SE', 'FT', 'Data Scientist', 129300, 'USD', 129300, 'US', 0, 'US', 'M')\n",
      "(2022, 'MI', 'FT', 'Data Analyst', 150000, 'USD', 150000, 'US', 0, 'US', 'M')\n",
      "(2022, 'SE', 'FT', 'Data Engineer', 230000, 'USD', 230000, 'US', 100, 'US', 'M')\n",
      "(2022, 'SE', 'FT', 'Data Engineer', 154600, 'USD', 154600, 'US', 100, 'US', 'M')\n",
      "(2022, 'SE', 'FT', 'Machine Learning Engineer', 204500, 'USD', 204500, 'US', 0, 'US', 'M')\n",
      "(2022, 'SE', 'FT', 'Machine Learning Engineer', 142200, 'USD', 142200, 'US', 0, 'US', 'M')\n",
      "(2022, 'MI', 'FT', 'Data Engineer', 160000, 'USD', 160000, 'US', 100, 'US', 'M')\n",
      "(2022, 'SE', 'FT', 'Data Engineer', 213000, 'USD', 213000, 'US', 0, 'US', 'M')\n",
      "(2022, 'SE', 'FT', 'Data Engineer', 152000, 'USD', 152000, 'US', 0, 'US', 'M')\n",
      "(2022, 'SE', 'FT', 'Data Scientist', 140000, 'USD', 140000, 'US', 100, 'US', 'M')\n",
      "(2022, 'SE', 'FT', 'Data Scientist', 120000, 'USD', 120000, 'US', 100, 'US', 'M')\n",
      "(2022, 'SE', 'FT', 'Data Scientist', 110000, 'USD', 110000, 'US', 0, 'US', 'M')\n",
      "(2022, 'SE', 'FT', 'Machine Learning Software Engineer', 227200, 'USD', 227200, 'CA', 100, 'CA', 'M')\n",
      "(2022, 'SE', 'FT', 'Machine Learning Software Engineer', 168000, 'USD', 168000, 'CA', 100, 'CA', 'M')\n",
      "(2022, 'SE', 'FT', 'ML Engineer', 243000, 'USD', 243000, 'US', 100, 'US', 'M')\n",
      "(2022, 'SE', 'FT', 'ML Engineer', 183000, 'USD', 183000, 'US', 100, 'US', 'M')\n",
      "(2022, 'SE', 'FT', 'Data Engineer', 175000, 'USD', 175000, 'US', 0, 'US', 'M')\n",
      "(2022, 'SE', 'FT', 'Data Engineer', 150000, 'USD', 150000, 'US', 0, 'US', 'M')\n",
      "(2022, 'MI', 'FT', 'Data Scientist', 130000, 'USD', 130000, 'US', 100, 'US', 'M')\n",
      "(2022, 'MI', 'FT', 'Data Analyst', 165000, 'USD', 165000, 'US', 0, 'US', 'M')\n",
      "(2022, 'MI', 'FT', 'Data Analyst', 124000, 'USD', 124000, 'US', 0, 'US', 'M')\n",
      "(2022, 'SE', 'FT', 'Data Engineer', 178000, 'USD', 178000, 'CA', 0, 'CA', 'M')\n",
      "(2022, 'SE', 'FT', 'Data Engineer', 132000, 'USD', 132000, 'CA', 0, 'CA', 'M')\n",
      "(2022, 'SE', 'FT', 'Data Engineer', 300000, 'USD', 300000, 'US', 0, 'US', 'M')\n",
      "(2022, 'SE', 'FT', 'Data Engineer', 130000, 'USD', 130000, 'US', 0, 'US', 'M')\n",
      "(2022, 'SE', 'FT', 'Data Analyst', 169000, 'USD', 169000, 'US', 0, 'US', 'M')\n",
      "(2022, 'SE', 'FT', 'Data Analyst', 110600, 'USD', 110600, 'US', 0, 'US', 'M')\n",
      "(2022, 'SE', 'FT', 'Data Analyst', 116000, 'USD', 116000, 'US', 100, 'US', 'M')\n",
      "(2022, 'SE', 'FT', 'Data Analyst', 105000, 'USD', 105000, 'US', 0, 'US', 'M')\n",
      "(2022, 'MI', 'FT', 'Machine Learning Researcher', 137000, 'CAD', 105236, 'CA', 50, 'CA', 'L')\n",
      "(2022, 'SE', 'FT', 'Data Engineer', 194000, 'USD', 194000, 'US', 100, 'US', 'M')\n",
      "(2022, 'SE', 'FT', 'Data Engineer', 129400, 'USD', 129400, 'US', 100, 'US', 'M')\n",
      "(2022, 'SE', 'FT', 'Data Architect', 190000, 'USD', 190000, 'US', 100, 'US', 'M')\n",
      "(2022, 'SE', 'FT', 'Data Architect', 135000, 'USD', 135000, 'US', 100, 'US', 'M')\n",
      "(2022, 'EN', 'FT', 'Machine Learning Engineer', 189750, 'USD', 189750, 'US', 0, 'US', 'M')\n",
      "(2022, 'EN', 'FT', 'Machine Learning Engineer', 140250, 'USD', 140250, 'US', 0, 'US', 'M')\n",
      "(2022, 'SE', 'FT', 'Data Analyst', 130000, 'USD', 130000, 'US', 0, 'US', 'M')\n",
      "(2022, 'MI', 'FT', 'Data Analyst', 160000, 'USD', 160000, 'US', 0, 'US', 'M')\n",
      "(2022, 'MI', 'FT', 'Data Analyst', 109000, 'USD', 109000, 'US', 0, 'US', 'M')\n",
      "(2022, 'SE', 'FT', 'Research Engineer', 250000, 'USD', 250000, 'US', 0, 'US', 'M')\n",
      "(2022, 'SE', 'FT', 'Research Engineer', 150000, 'USD', 150000, 'US', 0, 'US', 'M')\n",
      "(2022, 'MI', 'FT', 'Data Analyst', 206000, 'USD', 206000, 'US', 0, 'US', 'M')\n",
      "(2022, 'MI', 'FT', 'Data Analyst', 160000, 'USD', 160000, 'US', 0, 'US', 'M')\n",
      "(2022, 'SE', 'FT', 'Data Engineer', 135000, 'USD', 135000, 'US', 0, 'US', 'M')\n",
      "(2022, 'SE', 'FT', 'Data Engineer', 120000, 'USD', 120000, 'US', 0, 'US', 'M')\n",
      "(2022, 'SE', 'FT', 'Machine Learning Engineer', 110000, 'EUR', 115573, 'FR', 100, 'FR', 'M')\n",
      "(2022, 'EN', 'FT', 'Data Engineer', 160000, 'USD', 160000, 'US', 0, 'US', 'M')\n",
      "(2022, 'EN', 'FT', 'Data Engineer', 135000, 'USD', 135000, 'US', 0, 'US', 'M')\n",
      "(2022, 'MI', 'FT', 'Data Analyst', 150000, 'USD', 150000, 'US', 0, 'US', 'M')\n",
      "(2022, 'MI', 'FT', 'Data Engineer', 120000, 'USD', 120000, 'US', 0, 'US', 'M')\n",
      "(2022, 'SE', 'FT', 'Data Engineer', 191200, 'USD', 191200, 'US', 0, 'US', 'M')\n",
      "(2022, 'SE', 'FT', 'Data Engineer', 130000, 'USD', 130000, 'US', 0, 'US', 'M')\n",
      "(2022, 'SE', 'FT', 'Data Engineer', 191200, 'USD', 191200, 'US', 0, 'US', 'M')\n",
      "(2022, 'SE', 'FT', 'Data Engineer', 130000, 'USD', 130000, 'US', 0, 'US', 'M')\n",
      "(2022, 'SE', 'FT', 'Data Engineer', 230000, 'USD', 230000, 'US', 0, 'US', 'L')\n",
      "(2022, 'SE', 'FT', 'Data Engineer', 154600, 'USD', 154600, 'US', 0, 'US', 'L')\n",
      "(2022, 'SE', 'FT', 'Data Engineer', 120000, 'USD', 120000, 'US', 0, 'US', 'M')\n",
      "(2022, 'SE', 'FT', 'Data Scientist', 140000, 'USD', 140000, 'US', 0, 'US', 'M')\n",
      "(2022, 'SE', 'FT', 'Data Scientist', 120000, 'USD', 120000, 'US', 0, 'US', 'M')\n",
      "(2022, 'SE', 'FT', 'Data Analyst', 169000, 'USD', 169000, 'US', 0, 'US', 'M')\n",
      "(2022, 'SE', 'FT', 'Data Analyst', 110600, 'USD', 110600, 'US', 0, 'US', 'M')\n",
      "(2022, 'SE', 'FT', 'Data Engineer', 185900, 'USD', 185900, 'US', 0, 'US', 'M')\n",
      "(2022, 'SE', 'FT', 'Data Engineer', 129300, 'USD', 129300, 'US', 0, 'US', 'M')\n",
      "(2022, 'SE', 'FT', 'Analytics Engineer', 135000, 'USD', 135000, 'US', 0, 'US', 'M')\n",
      "(2022, 'SE', 'FT', 'Analytics Engineer', 110000, 'USD', 110000, 'US', 0, 'US', 'M')\n",
      "(2022, 'MI', 'FT', 'Data Analytics Manager', 155000, 'USD', 155000, 'US', 0, 'US', 'M')\n",
      "(2022, 'MI', 'FT', 'Data Analytics Manager', 140000, 'USD', 140000, 'US', 0, 'US', 'M')\n",
      "(2022, 'SE', 'FT', 'Data Engineer', 205000, 'USD', 205000, 'US', 100, 'US', 'M')\n",
      "(2022, 'SE', 'FT', 'Data Engineer', 150000, 'USD', 150000, 'US', 100, 'US', 'M')\n",
      "(2022, 'SE', 'FT', 'Data Engineer', 179500, 'USD', 179500, 'US', 0, 'US', 'M')\n",
      "(2022, 'SE', 'FT', 'Data Engineer', 134000, 'USD', 134000, 'US', 0, 'US', 'M')\n",
      "(2022, 'MI', 'FT', 'Data Scientist', 180000, 'USD', 180000, 'US', 0, 'US', 'M')\n",
      "(2022, 'MI', 'FT', 'Data Scientist', 120000, 'USD', 120000, 'US', 0, 'US', 'M')\n",
      "(2022, 'SE', 'FT', 'Data Scientist', 185900, 'USD', 185900, 'US', 0, 'US', 'M')\n",
      "(2022, 'SE', 'FT', 'Data Scientist', 129300, 'USD', 129300, 'US', 0, 'US', 'M')\n",
      "(2022, 'SE', 'FT', 'Data Scientist', 175000, 'USD', 175000, 'US', 100, 'US', 'M')\n",
      "(2022, 'SE', 'FT', 'Data Scientist', 145000, 'USD', 145000, 'US', 100, 'US', 'M')\n",
      "(2022, 'SE', 'FT', 'Data Architect', 235000, 'USD', 235000, 'US', 100, 'US', 'M')\n",
      "(2022, 'SE', 'FT', 'Data Architect', 175000, 'USD', 175000, 'US', 100, 'US', 'M')\n",
      "(2022, 'MI', 'FT', 'Data Engineer', 160000, 'USD', 160000, 'US', 100, 'US', 'M')\n",
      "(2022, 'SE', 'FT', 'Data Engineer', 145000, 'USD', 145000, 'US', 0, 'US', 'M')\n",
      "(2022, 'SE', 'FT', 'Data Engineer', 115000, 'USD', 115000, 'US', 0, 'US', 'M')\n",
      "(2022, 'MI', 'FT', 'Data Specialist', 165000, 'USD', 165000, 'US', 0, 'US', 'M')\n",
      "(2022, 'MI', 'FT', 'Data Specialist', 135000, 'USD', 135000, 'US', 0, 'US', 'M')\n",
      "(2022, 'SE', 'FT', 'Data Engineer', 168400, 'USD', 168400, 'US', 0, 'US', 'M')\n",
      "(2022, 'SE', 'FT', 'Data Engineer', 105200, 'USD', 105200, 'US', 0, 'US', 'M')\n",
      "(2022, 'SE', 'FT', 'Data Engineer', 200000, 'USD', 200000, 'US', 0, 'US', 'M')\n",
      "(2022, 'SE', 'FT', 'Data Engineer', 160000, 'USD', 160000, 'US', 0, 'US', 'M')\n",
      "(2022, 'SE', 'FT', 'Data Scientist', 198800, 'USD', 198800, 'US', 0, 'US', 'M')\n",
      "(2022, 'SE', 'FT', 'Data Scientist', 122600, 'USD', 122600, 'US', 0, 'US', 'M')\n",
      "(2022, 'SE', 'FT', 'Data Analyst', 130000, 'USD', 130000, 'US', 0, 'US', 'M')\n",
      "(2022, 'SE', 'FT', 'Data Engineer', 125000, 'USD', 125000, 'US', 100, 'US', 'M')\n",
      "(2022, 'SE', 'FT', 'Data Engineer', 110000, 'USD', 110000, 'US', 100, 'US', 'M')\n",
      "(2022, 'MI', 'FT', 'Data Analyst', 165000, 'USD', 165000, 'US', 0, 'US', 'M')\n",
      "(2022, 'MI', 'FT', 'Data Analyst', 124000, 'USD', 124000, 'US', 0, 'US', 'M')\n",
      "(2022, 'SE', 'FT', 'Data Scientist', 148000, 'USD', 148000, 'US', 100, 'US', 'M')\n",
      "(2022, 'SE', 'FT', 'Data Scientist', 107000, 'USD', 107000, 'US', 100, 'US', 'M')\n",
      "(2022, 'MI', 'FT', 'Data Analyst', 150000, 'USD', 150000, 'US', 0, 'US', 'M')\n",
      "(2022, 'EN', 'FT', 'Data Engineer', 160000, 'USD', 160000, 'US', 0, 'US', 'M')\n",
      "(2022, 'EN', 'FT', 'Data Engineer', 135000, 'USD', 135000, 'US', 0, 'US', 'M')\n",
      "(2022, 'MI', 'FT', 'Data Engineer', 120000, 'USD', 120000, 'US', 0, 'US', 'M')\n",
      "(2022, 'SE', 'FT', 'Data Engineer', 153600, 'USD', 153600, 'US', 0, 'US', 'M')\n",
      "(2022, 'SE', 'FT', 'Data Engineer', 106800, 'USD', 106800, 'US', 0, 'US', 'M')\n",
      "(2022, 'MI', 'FT', 'Data Engineer', 120000, 'USD', 120000, 'US', 0, 'US', 'M')\n",
      "(2022, 'EX', 'FT', 'Data Engineer', 310000, 'USD', 310000, 'US', 100, 'US', 'M')\n",
      "(2022, 'EX', 'FT', 'Data Engineer', 239000, 'USD', 239000, 'US', 100, 'US', 'M')\n",
      "(2022, 'SE', 'FT', 'Data Science Manager', 299500, 'USD', 299500, 'US', 0, 'US', 'M')\n",
      "(2022, 'SE', 'FT', 'Data Science Manager', 245100, 'USD', 245100, 'US', 0, 'US', 'M')\n",
      "(2022, 'SE', 'FT', 'Data Scientist', 168000, 'USD', 168000, 'US', 100, 'US', 'M')\n",
      "(2022, 'SE', 'FT', 'Data Scientist', 130000, 'USD', 130000, 'US', 100, 'US', 'M')\n",
      "(2022, 'SE', 'FT', 'Data Scientist', 136000, 'USD', 136000, 'US', 100, 'US', 'M')\n",
      "(2022, 'SE', 'FT', 'Data Scientist', 104000, 'USD', 104000, 'US', 100, 'US', 'M')\n",
      "(2022, 'MI', 'FT', 'Data Engineer', 161000, 'USD', 161000, 'US', 100, 'US', 'M')\n",
      "(2022, 'MI', 'FT', 'Data Engineer', 118000, 'USD', 118000, 'US', 100, 'US', 'M')\n",
      "(2022, 'SE', 'FT', 'Applied Scientist', 205000, 'USD', 205000, 'US', 100, 'US', 'M')\n",
      "(2022, 'SE', 'FT', 'Applied Scientist', 184000, 'USD', 184000, 'US', 100, 'US', 'M')\n",
      "(2022, 'SE', 'FT', 'Data Scientist', 185900, 'USD', 185900, 'US', 0, 'US', 'M')\n",
      "(2022, 'SE', 'FT', 'Data Scientist', 129300, 'USD', 129300, 'US', 0, 'US', 'M')\n",
      "(2022, 'SE', 'FT', 'Data Science Manager', 247500, 'USD', 247500, 'US', 0, 'US', 'M')\n",
      "(2022, 'SE', 'FT', 'Data Science Manager', 172200, 'USD', 172200, 'US', 0, 'US', 'M')\n",
      "(2022, 'SE', 'FT', 'Data Analyst', 177000, 'USD', 177000, 'US', 0, 'US', 'M')\n",
      "(2022, 'SE', 'FT', 'Data Analyst', 131000, 'USD', 131000, 'US', 0, 'US', 'M')\n",
      "(2022, 'SE', 'FT', 'Applied Scientist', 205000, 'USD', 205000, 'US', 100, 'US', 'M')\n",
      "(2022, 'SE', 'FT', 'Applied Scientist', 184000, 'USD', 184000, 'US', 100, 'US', 'M')\n",
      "(2022, 'SE', 'FT', 'Data Engineer', 146000, 'USD', 146000, 'US', 0, 'US', 'M')\n",
      "(2022, 'SE', 'FT', 'Data Engineer', 102000, 'USD', 102000, 'US', 0, 'US', 'M')\n",
      "(2022, 'SE', 'FT', 'Data Analyst', 169000, 'USD', 169000, 'US', 0, 'US', 'M')\n",
      "(2022, 'SE', 'FT', 'Data Analyst', 110600, 'USD', 110600, 'US', 0, 'US', 'M')\n",
      "(2022, 'SE', 'FT', 'Applied Scientist', 230000, 'USD', 230000, 'US', 100, 'US', 'M')\n",
      "(2022, 'SE', 'FT', 'Applied Scientist', 196000, 'USD', 196000, 'US', 100, 'US', 'M')\n",
      "(2022, 'SE', 'FT', 'Data Engineer', 135000, 'USD', 135000, 'US', 0, 'US', 'M')\n",
      "(2022, 'SE', 'FT', 'Data Engineer', 135000, 'USD', 135000, 'US', 0, 'US', 'M')\n",
      "(2022, 'MI', 'FT', 'Data Engineer', 175000, 'USD', 175000, 'US', 100, 'US', 'M')\n",
      "(2022, 'MI', 'FT', 'Data Engineer', 135000, 'USD', 135000, 'US', 100, 'US', 'M')\n",
      "(2022, 'SE', 'FT', 'Data Engineer', 231250, 'USD', 231250, 'US', 100, 'US', 'M')\n",
      "(2022, 'SE', 'FT', 'Data Engineer', 138750, 'USD', 138750, 'US', 100, 'US', 'M')\n",
      "(2022, 'SE', 'FT', 'Analytics Engineer', 193750, 'USD', 193750, 'US', 100, 'US', 'M')\n",
      "(2022, 'SE', 'FT', 'Analytics Engineer', 116250, 'USD', 116250, 'US', 100, 'US', 'M')\n",
      "(2022, 'SE', 'FT', 'Data Engineer', 231250, 'USD', 231250, 'US', 100, 'US', 'M')\n",
      "(2022, 'SE', 'FT', 'Data Engineer', 138750, 'USD', 138750, 'US', 100, 'US', 'M')\n",
      "(2022, 'SE', 'FT', 'Analytics Engineer', 231250, 'USD', 231250, 'US', 100, 'US', 'M')\n",
      "(2022, 'SE', 'FT', 'Analytics Engineer', 138750, 'USD', 138750, 'US', 100, 'US', 'M')\n",
      "(2022, 'SE', 'FT', 'Analytics Engineer', 231250, 'USD', 231250, 'US', 100, 'US', 'M')\n",
      "(2022, 'SE', 'FT', 'Analytics Engineer', 138750, 'USD', 138750, 'US', 100, 'US', 'M')\n",
      "(2022, 'SE', 'FT', 'Data Engineer', 193750, 'USD', 193750, 'US', 100, 'US', 'M')\n",
      "(2022, 'SE', 'FT', 'Data Engineer', 116250, 'USD', 116250, 'US', 100, 'US', 'M')\n",
      "(2022, 'SE', 'FT', 'Data Scientist', 208000, 'USD', 208000, 'US', 100, 'US', 'M')\n",
      "(2022, 'SE', 'FT', 'Data Scientist', 127000, 'USD', 127000, 'US', 100, 'US', 'M')\n",
      "(2022, 'SE', 'FT', 'Research Scientist', 300000, 'USD', 300000, 'US', 100, 'US', 'M')\n",
      "(2022, 'SE', 'FT', 'Research Scientist', 196000, 'USD', 196000, 'US', 100, 'US', 'M')\n",
      "(2022, 'SE', 'FT', 'Machine Learning Engineer', 204500, 'USD', 204500, 'US', 0, 'US', 'M')\n",
      "(2022, 'SE', 'FT', 'Machine Learning Engineer', 142200, 'USD', 142200, 'US', 0, 'US', 'M')\n",
      "(2022, 'SE', 'FT', 'Data Engineer', 185900, 'USD', 185900, 'US', 0, 'US', 'M')\n",
      "(2022, 'SE', 'FT', 'Data Engineer', 129300, 'USD', 129300, 'US', 0, 'US', 'M')\n",
      "(2022, 'SE', 'FT', 'Machine Learning Engineer', 204500, 'USD', 204500, 'US', 0, 'US', 'M')\n",
      "(2022, 'SE', 'FT', 'Machine Learning Engineer', 142200, 'USD', 142200, 'US', 0, 'US', 'M')\n",
      "(2022, 'SE', 'FT', 'Data Scientist', 205000, 'USD', 205000, 'US', 100, 'US', 'M')\n",
      "(2022, 'SE', 'FT', 'Data Scientist', 185000, 'USD', 185000, 'US', 100, 'US', 'M')\n",
      "(2022, 'SE', 'FT', 'Data Scientist', 185900, 'USD', 185900, 'US', 0, 'US', 'M')\n",
      "(2022, 'SE', 'FT', 'Data Scientist', 129300, 'USD', 129300, 'US', 0, 'US', 'M')\n",
      "(2022, 'SE', 'FT', 'Machine Learning Engineer', 247500, 'USD', 247500, 'US', 0, 'US', 'M')\n",
      "(2022, 'SE', 'FT', 'Machine Learning Engineer', 172200, 'USD', 172200, 'US', 0, 'US', 'M')\n",
      "(2022, 'EN', 'FT', 'Data Engineer', 160000, 'USD', 160000, 'US', 0, 'US', 'M')\n",
      "(2022, 'EN', 'FT', 'Data Engineer', 135000, 'USD', 135000, 'US', 0, 'US', 'M')\n",
      "(2022, 'MI', 'FT', 'Data Analyst', 150000, 'USD', 150000, 'US', 0, 'US', 'M')\n",
      "(2022, 'SE', 'FT', 'Data Analyst', 110000, 'USD', 110000, 'US', 0, 'US', 'M')\n",
      "(2022, 'SE', 'FT', 'Data Scientist', 185900, 'USD', 185900, 'US', 0, 'US', 'M')\n",
      "(2022, 'SE', 'FT', 'Data Scientist', 129300, 'USD', 129300, 'US', 0, 'US', 'M')\n",
      "(2022, 'SE', 'FT', 'Applied Scientist', 205000, 'USD', 205000, 'US', 100, 'US', 'M')\n",
      "(2022, 'SE', 'FT', 'Applied Scientist', 184000, 'USD', 184000, 'US', 100, 'US', 'M')\n",
      "(2022, 'EN', 'FT', 'Data Scientist', 6600000, 'HUF', 17684, 'HU', 100, 'HU', 'M')\n",
      "(2022, 'SE', 'FT', 'Data Science Tech Lead', 375000, 'USD', 375000, 'US', 50, 'US', 'L')\n",
      "(2022, 'SE', 'FT', 'Data Engineer', 191200, 'USD', 191200, 'US', 0, 'US', 'M')\n",
      "(2022, 'SE', 'FT', 'Data Engineer', 130000, 'USD', 130000, 'US', 0, 'US', 'M')\n",
      "(2022, 'SE', 'FT', 'Data Scientist', 225000, 'USD', 225000, 'US', 0, 'US', 'M')\n",
      "(2022, 'SE', 'FT', 'Data Scientist', 156400, 'USD', 156400, 'US', 0, 'US', 'M')\n",
      "(2022, 'SE', 'FT', 'Data Analyst', 169000, 'USD', 169000, 'US', 0, 'US', 'M')\n",
      "(2022, 'SE', 'FT', 'Data Analyst', 110600, 'USD', 110600, 'US', 0, 'US', 'M')\n",
      "(2022, 'SE', 'FT', 'Machine Learning Engineer', 204500, 'USD', 204500, 'US', 0, 'US', 'M')\n",
      "(2022, 'SE', 'FT', 'Machine Learning Engineer', 142200, 'USD', 142200, 'US', 0, 'US', 'M')\n",
      "(2022, 'SE', 'FT', 'Data Scientist', 185900, 'USD', 185900, 'US', 0, 'US', 'M')\n",
      "(2022, 'SE', 'FT', 'Data Scientist', 129300, 'USD', 129300, 'US', 0, 'US', 'M')\n",
      "(2022, 'SE', 'FT', 'Data Scientist', 140700, 'USD', 140700, 'US', 0, 'US', 'M')\n",
      "(2022, 'SE', 'FT', 'Data Scientist', 350000, 'USD', 350000, 'US', 100, 'US', 'M')\n",
      "(2022, 'SE', 'FT', 'Data Scientist', 135000, 'USD', 135000, 'US', 100, 'US', 'M')\n",
      "(2022, 'SE', 'FT', 'Data Analyst', 115934, 'USD', 115934, 'US', 100, 'US', 'M')\n",
      "(2022, 'SE', 'FT', 'Machine Learning Engineer', 201000, 'USD', 201000, 'US', 0, 'US', 'M')\n",
      "(2022, 'SE', 'FT', 'Machine Learning Engineer', 119000, 'USD', 119000, 'US', 0, 'US', 'M')\n",
      "(2022, 'SE', 'FT', 'Data Engineer', 175000, 'USD', 175000, 'US', 100, 'US', 'M')\n",
      "(2022, 'SE', 'FT', 'Data Engineer', 150000, 'USD', 150000, 'US', 100, 'US', 'M')\n",
      "(2022, 'SE', 'FT', 'Data Analyst', 154560, 'USD', 154560, 'US', 0, 'US', 'M')\n",
      "(2022, 'SE', 'FT', 'Data Analyst', 123648, 'USD', 123648, 'US', 0, 'US', 'M')\n",
      "(2022, 'SE', 'FT', 'Data Analyst', 130000, 'USD', 130000, 'US', 0, 'US', 'M')\n",
      "(2022, 'MI', 'FT', 'Data Engineer', 170000, 'USD', 170000, 'US', 0, 'US', 'M')\n",
      "(2022, 'MI', 'FT', 'Data Engineer', 145000, 'USD', 145000, 'US', 0, 'US', 'M')\n",
      "(2022, 'SE', 'FT', 'Data Engineer', 135000, 'USD', 135000, 'US', 100, 'US', 'M')\n",
      "(2022, 'SE', 'FT', 'Data Scientist', 247500, 'USD', 247500, 'US', 0, 'US', 'M')\n",
      "(2022, 'SE', 'FT', 'Data Scientist', 172200, 'USD', 172200, 'US', 0, 'US', 'M')\n",
      "(2022, 'SE', 'FT', 'Data Scientist', 177500, 'USD', 177500, 'US', 100, 'US', 'M')\n",
      "(2022, 'SE', 'FT', 'Data Scientist', 134000, 'USD', 134000, 'US', 100, 'US', 'M')\n",
      "(2022, 'SE', 'FT', 'Data Scientist', 185900, 'USD', 185900, 'US', 0, 'US', 'M')\n",
      "(2022, 'SE', 'FT', 'Data Scientist', 129300, 'USD', 129300, 'US', 0, 'US', 'M')\n",
      "(2022, 'SE', 'FT', 'Data Architect', 192564, 'USD', 192564, 'US', 100, 'US', 'M')\n",
      "(2022, 'SE', 'FT', 'Data Architect', 144854, 'USD', 144854, 'US', 100, 'US', 'M')\n",
      "(2022, 'SE', 'FT', 'Data Analyst', 130000, 'USD', 130000, 'US', 0, 'US', 'M')\n",
      "(2022, 'SE', 'FT', 'Data Analyst', 105000, 'USD', 105000, 'US', 0, 'US', 'M')\n",
      "(2022, 'SE', 'FT', 'Data Engineer', 179305, 'USD', 179305, 'US', 100, 'US', 'M')\n",
      "(2022, 'SE', 'FT', 'Data Engineer', 142127, 'USD', 142127, 'US', 100, 'US', 'M')\n",
      "(2022, 'SE', 'FT', 'Data Engineer', 315000, 'USD', 315000, 'US', 100, 'US', 'M')\n",
      "(2022, 'SE', 'FT', 'Data Engineer', 225000, 'USD', 225000, 'US', 100, 'US', 'M')\n",
      "(2022, 'SE', 'FT', 'Data Scientist', 243900, 'USD', 243900, 'US', 100, 'US', 'M')\n",
      "(2022, 'SE', 'FT', 'Data Scientist', 156600, 'USD', 156600, 'US', 100, 'US', 'M')\n",
      "(2022, 'MI', 'FT', 'Data Analyst', 206000, 'USD', 206000, 'US', 0, 'US', 'M')\n",
      "(2022, 'MI', 'FT', 'Data Analyst', 160000, 'USD', 160000, 'US', 0, 'US', 'M')\n",
      "(2022, 'MI', 'FT', 'Data Analyst', 109000, 'USD', 109000, 'US', 0, 'US', 'M')\n",
      "(2022, 'MI', 'FT', 'Data Analyst', 160000, 'USD', 160000, 'US', 0, 'US', 'M')\n",
      "(2022, 'MI', 'FT', 'Data Analyst', 109000, 'USD', 109000, 'US', 0, 'US', 'M')\n",
      "(2022, 'SE', 'FT', 'Data Engineer', 182500, 'USD', 182500, 'US', 100, 'US', 'M')\n",
      "(2022, 'SE', 'FT', 'Data Engineer', 128500, 'USD', 128500, 'US', 100, 'US', 'M')\n",
      "(2022, 'MI', 'FT', 'Data Engineer', 160000, 'USD', 160000, 'US', 100, 'US', 'M')\n",
      "(2022, 'SE', 'FT', 'Data Analyst', 127000, 'USD', 127000, 'US', 100, 'US', 'M')\n",
      "(2022, 'SE', 'FT', 'Data Analyst', 110000, 'USD', 110000, 'US', 100, 'US', 'M')\n",
      "(2022, 'SE', 'FT', 'Data Architect', 210000, 'USD', 210000, 'US', 100, 'US', 'M')\n",
      "(2022, 'SE', 'FT', 'Data Architect', 136000, 'USD', 136000, 'US', 100, 'US', 'M')\n",
      "(2022, 'SE', 'FT', 'Data Engineer', 170000, 'USD', 170000, 'US', 100, 'US', 'M')\n",
      "(2022, 'SE', 'FT', 'Data Engineer', 140000, 'USD', 140000, 'US', 100, 'US', 'M')\n",
      "(2022, 'SE', 'FT', 'Data Engineer', 247500, 'USD', 247500, 'US', 0, 'US', 'M')\n",
      "(2022, 'SE', 'FT', 'Data Engineer', 172200, 'USD', 172200, 'US', 0, 'US', 'M')\n",
      "(2022, 'SE', 'FT', 'Data Engineer', 225000, 'USD', 225000, 'US', 0, 'US', 'M')\n",
      "(2022, 'SE', 'FT', 'Data Engineer', 184100, 'USD', 184100, 'US', 0, 'US', 'M')\n",
      "(2022, 'MI', 'FT', 'Machine Learning Engineer', 130000, 'USD', 130000, 'US', 0, 'US', 'M')\n",
      "(2022, 'MI', 'FT', 'Data Scientist', 120000, 'USD', 120000, 'US', 100, 'US', 'M')\n",
      "(2022, 'SE', 'FT', 'Data Engineer', 161000, 'USD', 161000, 'US', 100, 'US', 'M')\n",
      "(2022, 'SE', 'FT', 'Data Engineer', 110000, 'USD', 110000, 'US', 100, 'US', 'M')\n",
      "(2022, 'SE', 'FT', 'Data Scientist', 136000, 'USD', 136000, 'US', 100, 'US', 'M')\n",
      "(2022, 'SE', 'FT', 'Data Scientist', 104000, 'USD', 104000, 'US', 100, 'US', 'M')\n",
      "(2022, 'EX', 'FT', 'Head of Data', 205000, 'USD', 205000, 'US', 0, 'US', 'M')\n",
      "(2022, 'EX', 'FT', 'Head of Data', 160000, 'USD', 160000, 'US', 0, 'US', 'M')\n",
      "(2022, 'SE', 'FT', 'Data Analyst', 169000, 'USD', 169000, 'US', 0, 'US', 'M')\n",
      "(2022, 'SE', 'FT', 'Data Analyst', 110600, 'USD', 110600, 'US', 0, 'US', 'M')\n",
      "(2022, 'SE', 'FT', 'Data Engineer', 160000, 'USD', 160000, 'US', 0, 'US', 'M')\n",
      "(2022, 'SE', 'FT', 'Data Engineer', 130000, 'USD', 130000, 'US', 0, 'US', 'M')\n",
      "(2022, 'SE', 'FT', 'Data Scientist', 245000, 'USD', 245000, 'US', 0, 'US', 'M')\n",
      "(2022, 'SE', 'FT', 'Data Scientist', 180000, 'USD', 180000, 'US', 0, 'US', 'M')\n",
      "(2022, 'SE', 'FT', 'Data Engineer', 135000, 'USD', 135000, 'US', 0, 'US', 'M')\n",
      "(2022, 'SE', 'FT', 'Data Engineer', 220000, 'USD', 220000, 'US', 0, 'US', 'M')\n",
      "(2022, 'SE', 'FT', 'Data Engineer', 150000, 'USD', 150000, 'US', 0, 'US', 'M')\n",
      "(2022, 'SE', 'FT', 'Data Scientist', 198440, 'USD', 198440, 'US', 0, 'US', 'L')\n",
      "(2022, 'SE', 'FT', 'Data Scientist', 144000, 'USD', 144000, 'US', 0, 'US', 'L')\n",
      "(2022, 'SE', 'FT', 'Data Engineer', 240000, 'USD', 240000, 'US', 0, 'US', 'M')\n",
      "(2022, 'SE', 'FT', 'Data Engineer', 170000, 'USD', 170000, 'US', 0, 'US', 'M')\n",
      "(2022, 'SE', 'FT', 'Data Scientist', 198440, 'USD', 198440, 'US', 0, 'US', 'M')\n",
      "(2022, 'SE', 'FT', 'Data Scientist', 144000, 'USD', 144000, 'US', 0, 'US', 'M')\n",
      "(2022, 'MI', 'FT', 'Data Analyst', 150000, 'USD', 150000, 'US', 100, 'US', 'M')\n",
      "(2022, 'SE', 'FT', 'Data Analyst', 120000, 'USD', 120000, 'US', 0, 'US', 'M')\n",
      "(2022, 'SE', 'FT', 'Machine Learning Engineer', 187200, 'USD', 187200, 'CA', 100, 'CA', 'M')\n",
      "(2022, 'SE', 'FT', 'Machine Learning Engineer', 116100, 'USD', 116100, 'CA', 100, 'CA', 'M')\n",
      "(2022, 'SE', 'FT', 'Data Analyst', 150000, 'USD', 150000, 'US', 0, 'US', 'M')\n",
      "(2022, 'SE', 'FT', 'Data Analyst', 127000, 'USD', 127000, 'US', 0, 'US', 'M')\n",
      "(2022, 'SE', 'FT', 'Data Engineer', 275000, 'USD', 275000, 'US', 100, 'US', 'M')\n",
      "(2022, 'SE', 'FT', 'Data Engineer', 166000, 'USD', 166000, 'US', 100, 'US', 'M')\n",
      "(2022, 'SE', 'FT', 'Data Scientist', 159699, 'USD', 159699, 'US', 0, 'US', 'M')\n",
      "(2022, 'SE', 'FT', 'Data Scientist', 138938, 'USD', 138938, 'US', 0, 'US', 'M')\n",
      "(2022, 'SE', 'FT', 'Data Analyst', 166700, 'USD', 166700, 'US', 0, 'US', 'M')\n",
      "(2022, 'SE', 'FT', 'Data Analyst', 119000, 'USD', 119000, 'US', 0, 'US', 'M')\n",
      "(2022, 'SE', 'FT', 'Data Analyst', 130000, 'USD', 130000, 'US', 0, 'US', 'M')\n",
      "(2022, 'SE', 'FT', 'Data Engineer', 236000, 'USD', 236000, 'US', 100, 'US', 'M')\n",
      "(2022, 'SE', 'FT', 'Data Engineer', 182000, 'USD', 182000, 'US', 100, 'US', 'M')\n",
      "(2022, 'SE', 'FT', 'Data Scientist', 180000, 'USD', 180000, 'US', 100, 'US', 'M')\n",
      "(2022, 'SE', 'FT', 'Data Scientist', 140000, 'USD', 140000, 'US', 100, 'US', 'M')\n",
      "(2022, 'SE', 'FT', 'Data Scientist', 225000, 'USD', 225000, 'US', 0, 'US', 'M')\n",
      "(2022, 'SE', 'FT', 'Data Scientist', 156400, 'USD', 156400, 'US', 0, 'US', 'M')\n",
      "(2022, 'SE', 'FT', 'Data Analyst', 135000, 'USD', 135000, 'US', 100, 'US', 'M')\n",
      "(2022, 'SE', 'FT', 'Machine Learning Engineer', 204500, 'USD', 204500, 'US', 0, 'US', 'M')\n",
      "(2022, 'SE', 'FT', 'Machine Learning Engineer', 142200, 'USD', 142200, 'US', 0, 'US', 'M')\n",
      "(2022, 'MI', 'FT', 'Research Engineer', 240000, 'USD', 240000, 'US', 100, 'US', 'M')\n",
      "(2022, 'EN', 'PT', 'Data Analyst', 125404, 'USD', 125404, 'CN', 50, 'US', 'S')\n",
      "(2022, 'SE', 'FT', 'Data Engineer', 300000, 'USD', 300000, 'US', 0, 'US', 'M')\n",
      "(2022, 'SE', 'FT', 'Data Engineer', 130000, 'USD', 130000, 'US', 0, 'US', 'M')\n",
      "(2022, 'SE', 'FT', 'Data Engineer', 195000, 'USD', 195000, 'US', 100, 'US', 'M')\n",
      "(2022, 'SE', 'FT', 'Data Engineer', 175000, 'USD', 175000, 'US', 100, 'US', 'M')\n",
      "(2022, 'SE', 'FT', 'Data Engineer', 155000, 'USD', 155000, 'US', 0, 'US', 'M')\n",
      "(2022, 'SE', 'FT', 'Data Engineer', 110000, 'USD', 110000, 'US', 0, 'US', 'M')\n",
      "(2022, 'SE', 'FT', 'Data Operations Analyst', 123000, 'USD', 123000, 'US', 0, 'US', 'M')\n",
      "(2022, 'SE', 'FT', 'Data Engineer', 170000, 'USD', 170000, 'US', 0, 'US', 'M')\n",
      "(2022, 'SE', 'FT', 'Data Engineer', 150000, 'USD', 150000, 'US', 0, 'US', 'M')\n",
      "(2022, 'MI', 'FT', 'ML Engineer', 180000, 'USD', 180000, 'US', 100, 'US', 'M')\n",
      "(2022, 'SE', 'FT', 'Data Engineer', 200000, 'USD', 200000, 'US', 0, 'US', 'M')\n",
      "(2022, 'SE', 'FT', 'Data Engineer', 160000, 'USD', 160000, 'US', 0, 'US', 'M')\n",
      "(2022, 'SE', 'FT', 'Machine Learning Engineer', 210000, 'USD', 210000, 'US', 100, 'US', 'M')\n",
      "(2022, 'SE', 'FT', 'Machine Learning Engineer', 180000, 'USD', 180000, 'US', 100, 'US', 'M')\n",
      "(2022, 'SE', 'FT', 'Data Engineer', 260000, 'USD', 260000, 'US', 0, 'US', 'M')\n",
      "(2022, 'SE', 'FT', 'Data Engineer', 180000, 'USD', 180000, 'US', 0, 'US', 'M')\n",
      "(2022, 'EX', 'FT', 'Analytics Engineer', 210000, 'USD', 210000, 'US', 100, 'US', 'M')\n",
      "(2022, 'EX', 'FT', 'Analytics Engineer', 157000, 'USD', 157000, 'US', 100, 'US', 'M')\n",
      "(2022, 'EN', 'FT', 'Data Scientist', 180000, 'USD', 180000, 'US', 100, 'US', 'M')\n",
      "(2022, 'SE', 'FT', 'Data Architect', 128000, 'USD', 128000, 'US', 0, 'US', 'M')\n",
      "(2022, 'SE', 'FT', 'Data Operations Engineer', 105000, 'USD', 105000, 'US', 0, 'US', 'M')\n",
      "(2022, 'SE', 'FT', 'Data Scientist', 175000, 'USD', 175000, 'US', 0, 'US', 'M')\n",
      "(2022, 'SE', 'FT', 'Data Scientist', 122500, 'USD', 122500, 'US', 0, 'US', 'M')\n",
      "(2022, 'SE', 'FT', 'Data Engineer', 171000, 'USD', 171000, 'US', 0, 'US', 'M')\n",
      "(2022, 'SE', 'FT', 'Data Engineer', 117000, 'USD', 117000, 'US', 0, 'US', 'M')\n",
      "(2022, 'SE', 'FT', 'Data Scientist', 202800, 'USD', 202800, 'US', 0, 'US', 'L')\n",
      "(2022, 'SE', 'FT', 'Data Scientist', 104300, 'USD', 104300, 'US', 0, 'US', 'L')\n",
      "(2022, 'SE', 'FT', 'Data Engineer', 197000, 'USD', 197000, 'US', 0, 'US', 'M')\n",
      "(2022, 'SE', 'FT', 'Data Engineer', 160000, 'USD', 160000, 'US', 0, 'US', 'M')\n",
      "(2022, 'SE', 'FT', 'Data Engineer', 110000, 'USD', 110000, 'US', 0, 'US', 'M')\n",
      "(2022, 'SE', 'FT', 'Data Scientist', 185900, 'USD', 185900, 'US', 0, 'US', 'M')\n",
      "(2022, 'SE', 'FT', 'Data Scientist', 129300, 'USD', 129300, 'US', 0, 'US', 'M')\n",
      "(2022, 'SE', 'FT', 'Data Engineer', 170000, 'USD', 170000, 'US', 0, 'US', 'M')\n",
      "(2022, 'SE', 'FT', 'Data Engineer', 130000, 'USD', 130000, 'US', 0, 'US', 'M')\n",
      "(2022, 'SE', 'FT', 'Data Analyst', 150000, 'USD', 150000, 'US', 0, 'US', 'M')\n",
      "(2022, 'SE', 'FT', 'Data Architect', 345600, 'USD', 345600, 'US', 0, 'US', 'M')\n",
      "(2022, 'SE', 'FT', 'Data Architect', 230400, 'USD', 230400, 'US', 0, 'US', 'M')\n",
      "(2022, 'SE', 'FT', 'Data Engineer', 145000, 'USD', 145000, 'US', 0, 'US', 'M')\n",
      "(2022, 'SE', 'FT', 'Data Engineer', 115000, 'USD', 115000, 'US', 0, 'US', 'M')\n",
      "(2022, 'SE', 'FT', 'Data Analyst', 175950, 'USD', 175950, 'US', 100, 'US', 'M')\n",
      "(2022, 'SE', 'FT', 'Data Analyst', 130050, 'USD', 130050, 'US', 100, 'US', 'M')\n",
      "(2022, 'SE', 'FT', 'Data Engineer', 205600, 'USD', 205600, 'US', 0, 'US', 'L')\n",
      "(2022, 'SE', 'FT', 'Data Engineer', 105700, 'USD', 105700, 'US', 0, 'US', 'L')\n",
      "(2022, 'SE', 'FT', 'Data Analyst', 236600, 'USD', 236600, 'US', 100, 'US', 'M')\n",
      "(2022, 'SE', 'FT', 'Marketing Data Analyst', 200000, 'USD', 200000, 'GB', 100, 'GB', 'S')\n",
      "(2022, 'SE', 'FT', 'Data Science Lead', 165000, 'USD', 165000, 'US', 50, 'US', 'S')\n",
      "(2022, 'SE', 'FT', 'Data Engineer', 185900, 'USD', 185900, 'US', 0, 'US', 'M')\n",
      "(2022, 'SE', 'FT', 'Data Engineer', 129300, 'USD', 129300, 'US', 0, 'US', 'M')\n",
      "(2022, 'SE', 'FT', 'Data Analyst', 169000, 'USD', 169000, 'US', 0, 'US', 'M')\n",
      "(2022, 'SE', 'FT', 'Data Analyst', 110600, 'USD', 110600, 'US', 0, 'US', 'M')\n",
      "(2021, 'EN', 'FT', 'Power BI Developer', 400000, 'INR', 5409, 'IN', 50, 'IN', 'L')\n",
      "(2022, 'SE', 'FT', 'Data Engineer', 225000, 'USD', 225000, 'US', 0, 'US', 'M')\n",
      "(2022, 'SE', 'FT', 'Data Engineer', 184100, 'USD', 184100, 'US', 0, 'US', 'M')\n",
      "(2022, 'SE', 'FT', 'Data Scientist', 185900, 'USD', 185900, 'US', 0, 'US', 'M')\n",
      "(2022, 'SE', 'FT', 'Data Scientist', 129300, 'USD', 129300, 'US', 0, 'US', 'M')\n",
      "(2022, 'SE', 'FT', 'Data Scientist', 225000, 'USD', 225000, 'US', 0, 'US', 'M')\n",
      "(2022, 'SE', 'FT', 'Data Scientist', 156400, 'USD', 156400, 'US', 0, 'US', 'M')\n",
      "(2022, 'SE', 'FT', 'Data Scientist', 185900, 'USD', 185900, 'US', 0, 'US', 'M')\n",
      "(2022, 'SE', 'FT', 'Data Scientist', 129300, 'USD', 129300, 'US', 0, 'US', 'M')\n",
      "(2022, 'EN', 'FT', 'Machine Learning Engineer', 108000, 'USD', 108000, 'US', 0, 'US', 'S')\n",
      "(2022, 'SE', 'FT', 'Data Scientist', 155000, 'USD', 155000, 'US', 100, 'US', 'M')\n",
      "(2022, 'SE', 'FT', 'Data Scientist', 155000, 'USD', 155000, 'US', 100, 'US', 'M')\n",
      "(2022, 'SE', 'FT', 'Data Scientist', 153600, 'USD', 153600, 'US', 100, 'US', 'M')\n",
      "(2022, 'SE', 'FT', 'Data Scientist', 106800, 'USD', 106800, 'US', 100, 'US', 'M')\n",
      "(2022, 'SE', 'FT', 'Data Scientist', 185000, 'USD', 185000, 'US', 100, 'US', 'M')\n",
      "(2022, 'SE', 'FT', 'Data Engineer', 185900, 'USD', 185900, 'US', 0, 'US', 'M')\n",
      "(2022, 'SE', 'FT', 'Data Engineer', 129300, 'USD', 129300, 'US', 0, 'US', 'M')\n",
      "(2022, 'SE', 'FT', 'Data Scientist', 155000, 'USD', 155000, 'US', 100, 'US', 'M')\n",
      "(2022, 'SE', 'FT', 'Data Scientist', 168000, 'USD', 168000, 'US', 100, 'US', 'M')\n",
      "(2022, 'SE', 'FT', 'Data Scientist', 130000, 'USD', 130000, 'US', 100, 'US', 'M')\n",
      "(2022, 'SE', 'FT', 'Data Scientist', 123400, 'USD', 123400, 'US', 0, 'US', 'M')\n",
      "(2022, 'SE', 'FT', 'Data Scientist', 120000, 'USD', 120000, 'US', 100, 'US', 'S')\n",
      "(2022, 'SE', 'FT', 'Data Scientist', 185900, 'USD', 185900, 'US', 0, 'US', 'M')\n",
      "(2022, 'SE', 'FT', 'Data Scientist', 129300, 'USD', 129300, 'US', 0, 'US', 'M')\n",
      "(2022, 'SE', 'FT', 'Data Engineer', 191200, 'USD', 191200, 'US', 0, 'US', 'M')\n",
      "(2022, 'SE', 'FT', 'Data Engineer', 130000, 'USD', 130000, 'US', 0, 'US', 'M')\n",
      "(2022, 'SE', 'FT', 'Data Analyst', 169000, 'USD', 169000, 'US', 0, 'US', 'M')\n",
      "(2022, 'SE', 'FT', 'Data Analyst', 110600, 'USD', 110600, 'US', 0, 'US', 'M')\n",
      "(2022, 'SE', 'FT', 'Analytics Engineer', 150000, 'USD', 150000, 'US', 0, 'US', 'M')\n",
      "(2022, 'SE', 'FT', 'Analytics Engineer', 120000, 'USD', 120000, 'US', 0, 'US', 'M')\n",
      "(2022, 'SE', 'FT', 'Data Science Consultant', 139000, 'USD', 139000, 'US', 0, 'US', 'M')\n",
      "(2022, 'SE', 'FT', 'Data Science Consultant', 122000, 'USD', 122000, 'US', 0, 'US', 'M')\n",
      "(2022, 'SE', 'FT', 'Data Scientist', 185900, 'USD', 185900, 'US', 0, 'US', 'M')\n",
      "(2022, 'SE', 'FT', 'Data Scientist', 129300, 'USD', 129300, 'US', 0, 'US', 'M')\n",
      "(2022, 'SE', 'FT', 'Data Analyst', 139600, 'USD', 139600, 'US', 0, 'US', 'M')\n",
      "(2022, 'SE', 'FT', 'Data Engineer', 185000, 'USD', 185000, 'US', 100, 'US', 'M')\n",
      "(2022, 'SE', 'FT', 'Data Engineer', 185900, 'USD', 185900, 'US', 0, 'US', 'M')\n",
      "(2022, 'SE', 'FT', 'Data Engineer', 129300, 'USD', 129300, 'US', 0, 'US', 'M')\n",
      "(2022, 'SE', 'FT', 'Data Scientist', 225000, 'USD', 225000, 'US', 0, 'US', 'M')\n",
      "(2022, 'SE', 'FT', 'Data Scientist', 156400, 'USD', 156400, 'US', 0, 'US', 'M')\n",
      "(2022, 'SE', 'FT', 'Data Scientist', 200000, 'USD', 200000, 'US', 100, 'US', 'M')\n",
      "(2022, 'SE', 'FT', 'Data Scientist', 175000, 'USD', 175000, 'US', 100, 'US', 'M')\n",
      "(2022, 'SE', 'FT', 'Data Engineer', 185900, 'USD', 185900, 'US', 0, 'US', 'M')\n",
      "(2022, 'SE', 'FT', 'Data Engineer', 129300, 'USD', 129300, 'US', 0, 'US', 'M')\n",
      "(2022, 'MI', 'FT', 'ML Engineer', 148500, 'USD', 148500, 'US', 100, 'US', 'L')\n",
      "(2022, 'SE', 'FT', 'Data Analyst', 115000, 'USD', 115000, 'US', 100, 'US', 'M')\n",
      "(2022, 'SE', 'FT', 'Data Architect', 225000, 'USD', 225000, 'US', 100, 'US', 'M')\n",
      "(2022, 'SE', 'FT', 'Data Scientist', 185000, 'USD', 185000, 'US', 100, 'US', 'M')\n",
      "(2022, 'MI', 'FT', 'Data Manager', 134000, 'USD', 134000, 'US', 0, 'US', 'M')\n",
      "(2022, 'MI', 'FT', 'Data Analyst', 105000, 'USD', 105000, 'US', 0, 'US', 'M')\n",
      "(2022, 'SE', 'FT', 'Big Data Engineer', 210000, 'CAD', 161311, 'CA', 50, 'CA', 'M')\n",
      "(2022, 'MI', 'FT', 'Data Scientist', 144200, 'USD', 144200, 'US', 100, 'US', 'M')\n",
      "(2022, 'MI', 'FT', 'Data Scientist', 115360, 'USD', 115360, 'US', 100, 'US', 'M')\n",
      "(2022, 'MI', 'FT', 'Data Scientist', 120000, 'AUD', 83171, 'AU', 0, 'AU', 'L')\n",
      "(2022, 'SE', 'FT', 'Principal Data Architect', 3000000, 'INR', 38154, 'IN', 100, 'IN', 'L')\n",
      "(2022, 'SE', 'FT', 'Data Engineer', 170000, 'USD', 170000, 'US', 100, 'US', 'M')\n",
      "(2022, 'SE', 'FT', 'Data Engineer', 150000, 'USD', 150000, 'US', 100, 'US', 'M')\n",
      "(2022, 'SE', 'FT', 'Data Architect', 180000, 'USD', 180000, 'US', 100, 'US', 'M')\n",
      "(2022, 'SE', 'FT', 'Data Architect', 160000, 'USD', 160000, 'US', 100, 'US', 'M')\n",
      "(2022, 'MI', 'FT', 'Data Scientist', 108000, 'USD', 108000, 'US', 50, 'US', 'L')\n",
      "(2022, 'SE', 'FT', 'Machine Learning Manager', 200000, 'USD', 200000, 'US', 100, 'US', 'M')\n",
      "(2022, 'SE', 'FT', 'Machine Learning Manager', 150000, 'USD', 150000, 'US', 100, 'US', 'M')\n",
      "(2022, 'EX', 'FT', 'Data Manager', 164000, 'CAD', 125976, 'CA', 50, 'CA', 'L')\n",
      "(2022, 'SE', 'FT', 'Data Engineer', 188700, 'USD', 188700, 'US', 100, 'US', 'M')\n",
      "(2022, 'SE', 'FT', 'Data Engineer', 160395, 'USD', 160395, 'US', 100, 'US', 'M')\n",
      "(2022, 'SE', 'FT', 'Data Analyst', 115934, 'USD', 115934, 'US', 100, 'US', 'M')\n",
      "(2022, 'SE', 'FT', 'Data Engineer', 300000, 'USD', 300000, 'US', 0, 'US', 'M')\n",
      "(2022, 'SE', 'FT', 'Data Engineer', 225000, 'USD', 225000, 'US', 0, 'US', 'M')\n",
      "(2022, 'SE', 'FT', 'Data Scientist', 198440, 'USD', 198440, 'US', 100, 'US', 'M')\n",
      "(2022, 'SE', 'FT', 'Data Scientist', 144000, 'USD', 144000, 'US', 100, 'US', 'M')\n",
      "(2022, 'SE', 'FT', 'Applied Scientist', 191475, 'USD', 191475, 'US', 100, 'US', 'M')\n",
      "(2022, 'SE', 'FT', 'Applied Scientist', 141525, 'USD', 141525, 'US', 100, 'US', 'M')\n",
      "(2022, 'SE', 'FT', 'Lead Data Scientist', 156868, 'USD', 156868, 'US', 100, 'US', 'L')\n",
      "(2022, 'SE', 'FT', 'BI Analyst', 200000, 'USD', 200000, 'NG', 100, 'NG', 'S')\n",
      "(2022, 'SE', 'FT', 'Data Scientist', 198440, 'USD', 198440, 'US', 0, 'US', 'L')\n",
      "(2022, 'SE', 'FT', 'Data Scientist', 144000, 'USD', 144000, 'US', 0, 'US', 'L')\n",
      "(2022, 'MI', 'FT', 'NLP Engineer', 120000, 'CZK', 5132, 'CZ', 100, 'CZ', 'M')\n",
      "(2022, 'MI', 'FT', 'Research Scientist', 120000, 'EUR', 126080, 'DE', 0, 'DE', 'S')\n",
      "(2022, 'SE', 'FT', 'Data Engineer', 200000, 'USD', 200000, 'US', 100, 'US', 'M')\n",
      "(2022, 'SE', 'FT', 'Data Engineer', 180000, 'USD', 180000, 'US', 100, 'US', 'M')\n",
      "(2022, 'MI', 'FT', 'Analytics Engineer', 108000, 'USD', 108000, 'US', 100, 'US', 'M')\n",
      "(2022, 'SE', 'FT', 'Machine Learning Engineer', 210000, 'USD', 210000, 'US', 100, 'US', 'M')\n",
      "(2022, 'SE', 'FT', 'Machine Learning Engineer', 180000, 'USD', 180000, 'US', 100, 'US', 'M')\n",
      "(2022, 'SE', 'FT', 'Data Engineer', 165000, 'USD', 165000, 'US', 100, 'US', 'M')\n",
      "(2022, 'SE', 'FT', 'Data Engineer', 132000, 'USD', 132000, 'US', 100, 'US', 'M')\n",
      "(2022, 'SE', 'FT', 'Analytics Engineer', 130000, 'USD', 130000, 'US', 100, 'US', 'M')\n",
      "(2022, 'SE', 'FT', 'Analytics Engineer', 110000, 'USD', 110000, 'US', 100, 'US', 'M')\n",
      "(2022, 'MI', 'FT', 'Data Analytics Engineer', 135000, 'USD', 135000, 'US', 100, 'US', 'L')\n",
      "(2022, 'SE', 'FT', 'Data Engineer', 178800, 'USD', 178800, 'US', 100, 'US', 'L')\n",
      "(2022, 'SE', 'FT', 'Data Engineer', 132100, 'USD', 132100, 'US', 100, 'US', 'L')\n",
      "(2022, 'SE', 'FT', 'Machine Learning Engineer', 140000, 'USD', 140000, 'CA', 0, 'CA', 'M')\n",
      "(2022, 'SE', 'FT', 'Machine Learning Engineer', 110000, 'USD', 110000, 'CA', 0, 'CA', 'M')\n",
      "(2022, 'SE', 'FT', 'Data Engineer', 160000, 'USD', 160000, 'US', 100, 'US', 'M')\n",
      "(2022, 'SE', 'FT', 'ETL Developer', 250000, 'USD', 250000, 'US', 100, 'US', 'M')\n",
      "(2022, 'EX', 'FT', 'Data Engineer', 187200, 'USD', 187200, 'US', 100, 'US', 'M')\n",
      "(2022, 'EX', 'FT', 'Data Engineer', 116100, 'USD', 116100, 'US', 100, 'US', 'M')\n",
      "(2022, 'SE', 'FT', 'Data Engineer', 200000, 'USD', 200000, 'US', 100, 'US', 'M')\n",
      "(2022, 'SE', 'FT', 'Data Engineer', 145000, 'USD', 145000, 'US', 100, 'US', 'M')\n",
      "(2022, 'SE', 'FT', 'Data Engineer', 229998, 'USD', 229998, 'US', 0, 'US', 'L')\n",
      "(2022, 'SE', 'FT', 'Data Engineer', 154545, 'USD', 154545, 'US', 0, 'US', 'L')\n",
      "(2022, 'SE', 'FT', 'Data Scientist', 215000, 'USD', 215000, 'US', 0, 'US', 'L')\n",
      "(2022, 'SE', 'FT', 'Data Scientist', 159000, 'USD', 159000, 'US', 0, 'US', 'L')\n",
      "(2022, 'SE', 'FT', 'Data Engineer', 229998, 'USD', 229998, 'US', 0, 'US', 'L')\n",
      "(2022, 'SE', 'FT', 'Data Engineer', 154545, 'USD', 154545, 'US', 0, 'US', 'L')\n",
      "(2022, 'SE', 'FT', 'Data Scientist Lead', 183000, 'USD', 183000, 'US', 100, 'US', 'L')\n",
      "(2022, 'SE', 'FT', 'Data Scientist', 236900, 'USD', 236900, 'US', 100, 'US', 'L')\n",
      "(2022, 'SE', 'FT', 'Data Scientist', 159200, 'USD', 159200, 'US', 100, 'US', 'L')\n",
      "(2022, 'SE', 'FT', 'Data Science Manager', 243225, 'USD', 243225, 'US', 100, 'US', 'M')\n",
      "(2022, 'SE', 'FT', 'Data Science Manager', 179775, 'USD', 179775, 'US', 100, 'US', 'M')\n",
      "(2022, 'SE', 'FT', 'Data Engineer', 175000, 'USD', 175000, 'US', 100, 'US', 'M')\n",
      "(2022, 'SE', 'FT', 'Data Engineer', 150000, 'USD', 150000, 'US', 100, 'US', 'M')\n",
      "(2022, 'SE', 'FT', 'Machine Learning Engineer', 210000, 'USD', 210000, 'US', 100, 'US', 'M')\n",
      "(2022, 'SE', 'FT', 'Machine Learning Engineer', 180000, 'USD', 180000, 'US', 100, 'US', 'M')\n",
      "(2022, 'SE', 'FT', 'Data Scientist', 148000, 'USD', 148000, 'US', 100, 'US', 'M')\n",
      "(2022, 'SE', 'FT', 'Data Scientist', 128000, 'USD', 128000, 'US', 100, 'US', 'M')\n",
      "(2022, 'SE', 'FT', 'Data Architect', 190000, 'USD', 190000, 'US', 100, 'US', 'M')\n",
      "(2022, 'SE', 'FT', 'Data Architect', 135000, 'USD', 135000, 'US', 100, 'US', 'M')\n",
      "(2022, 'SE', 'FT', 'Analytics Engineer', 130000, 'USD', 130000, 'US', 100, 'US', 'M')\n",
      "(2022, 'SE', 'FT', 'Analytics Engineer', 110000, 'USD', 110000, 'US', 100, 'US', 'M')\n",
      "(2022, 'SE', 'FT', 'Data Scientist', 191475, 'USD', 191475, 'US', 100, 'US', 'M')\n",
      "(2022, 'SE', 'FT', 'Data Scientist', 141525, 'USD', 141525, 'US', 100, 'US', 'M')\n",
      "(2022, 'SE', 'FT', 'Data Engineer', 160000, 'USD', 160000, 'US', 100, 'US', 'M')\n",
      "(2022, 'SE', 'FT', 'Data Scientist', 218000, 'USD', 218000, 'US', 0, 'US', 'M')\n",
      "(2022, 'SE', 'FT', 'Data Scientist', 145300, 'USD', 145300, 'US', 0, 'US', 'M')\n",
      "(2022, 'SE', 'FT', 'ML Engineer', 195400, 'USD', 195400, 'US', 100, 'US', 'L')\n",
      "(2022, 'SE', 'FT', 'ML Engineer', 131300, 'USD', 131300, 'US', 100, 'US', 'L')\n",
      "(2022, 'EN', 'FT', 'Data Specialist', 105000, 'USD', 105000, 'CL', 100, 'US', 'L')\n",
      "(2022, 'SE', 'FT', 'Data Scientist', 191475, 'USD', 191475, 'US', 100, 'US', 'M')\n",
      "(2022, 'SE', 'FT', 'Data Scientist', 141525, 'USD', 141525, 'US', 100, 'US', 'M')\n",
      "(2022, 'SE', 'FT', 'Data Scientist', 207000, 'USD', 207000, 'US', 100, 'US', 'M')\n",
      "(2022, 'SE', 'FT', 'Data Scientist', 153000, 'USD', 153000, 'US', 100, 'US', 'M')\n",
      "(2022, 'SE', 'FT', 'Data Scientist', 191475, 'USD', 191475, 'US', 100, 'US', 'M')\n",
      "(2022, 'SE', 'FT', 'Data Scientist', 141525, 'USD', 141525, 'US', 100, 'US', 'M')\n",
      "(2022, 'SE', 'FT', 'Data Analyst', 110000, 'USD', 110000, 'US', 0, 'US', 'M')\n",
      "(2022, 'SE', 'FT', 'Data Scientist', 191475, 'USD', 191475, 'US', 100, 'US', 'M')\n",
      "(2022, 'SE', 'FT', 'Data Scientist', 141525, 'USD', 141525, 'US', 100, 'US', 'M')\n",
      "(2022, 'SE', 'FT', 'Data Scientist', 191475, 'USD', 191475, 'US', 100, 'US', 'M')\n",
      "(2022, 'SE', 'FT', 'Data Scientist', 141525, 'USD', 141525, 'US', 100, 'US', 'M')\n",
      "(2022, 'SE', 'FT', 'Data Scientist', 191475, 'USD', 191475, 'US', 100, 'US', 'M')\n",
      "(2022, 'SE', 'FT', 'Data Scientist', 141525, 'USD', 141525, 'US', 100, 'US', 'M')\n",
      "(2022, 'SE', 'FT', 'Machine Learning Engineer', 200000, 'USD', 200000, 'PR', 100, 'PR', 'M')\n",
      "(2022, 'SE', 'FT', 'Machine Learning Engineer', 135000, 'USD', 135000, 'PR', 100, 'PR', 'M')\n",
      "(2022, 'SE', 'FT', 'Data Scientist', 207000, 'USD', 207000, 'US', 100, 'US', 'M')\n",
      "(2022, 'SE', 'FT', 'Data Scientist', 153000, 'USD', 153000, 'US', 100, 'US', 'M')\n",
      "(2022, 'SE', 'FT', 'Data Scientist', 191475, 'USD', 191475, 'US', 100, 'US', 'M')\n",
      "(2022, 'SE', 'FT', 'Data Scientist', 141525, 'USD', 141525, 'US', 100, 'US', 'M')\n",
      "(2022, 'SE', 'FT', 'Data Scientist', 191475, 'USD', 191475, 'US', 100, 'US', 'M')\n",
      "(2022, 'SE', 'FT', 'Data Scientist', 141525, 'USD', 141525, 'US', 100, 'US', 'M')\n",
      "(2022, 'SE', 'FT', 'Data Scientist', 191475, 'USD', 191475, 'US', 100, 'US', 'M')\n",
      "(2022, 'SE', 'FT', 'Data Scientist', 141525, 'USD', 141525, 'US', 100, 'US', 'M')\n",
      "(2022, 'SE', 'FT', 'Data Engineer', 195700, 'USD', 195700, 'US', 0, 'US', 'M')\n",
      "(2022, 'SE', 'FT', 'Data Engineer', 130500, 'USD', 130500, 'US', 0, 'US', 'M')\n",
      "(2022, 'SE', 'FT', 'ML Engineer', 130000, 'USD', 130000, 'US', 100, 'US', 'M')\n",
      "(2022, 'SE', 'FT', 'Data Engineer', 141300, 'USD', 141300, 'US', 0, 'US', 'M')\n",
      "(2022, 'SE', 'FT', 'Data Engineer', 102100, 'USD', 102100, 'US', 0, 'US', 'M')\n",
      "(2022, 'MI', 'FT', 'Business Data Analyst', 150000, 'USD', 150000, 'US', 100, 'US', 'L')\n",
      "(2022, 'EN', 'FT', 'Data Scientist', 1800000, 'INR', 22892, 'IN', 50, 'IN', 'M')\n",
      "(2022, 'SE', 'FT', 'Data Analyst', 144000, 'USD', 144000, 'US', 100, 'US', 'M')\n",
      "(2022, 'SE', 'FT', 'Data Analyst', 113000, 'USD', 113000, 'US', 100, 'US', 'M')\n",
      "(2022, 'SE', 'FT', 'Data Architect', 195400, 'USD', 195400, 'US', 100, 'US', 'L')\n",
      "(2022, 'SE', 'FT', 'Data Architect', 131300, 'USD', 131300, 'US', 100, 'US', 'L')\n",
      "(2022, 'SE', 'FT', 'Machine Learning Engineer', 195400, 'USD', 195400, 'US', 100, 'US', 'L')\n",
      "(2022, 'SE', 'FT', 'Machine Learning Engineer', 131300, 'USD', 131300, 'US', 100, 'US', 'L')\n",
      "(2022, 'SE', 'FT', 'Data Architect', 195400, 'USD', 195400, 'US', 100, 'US', 'L')\n",
      "(2022, 'SE', 'FT', 'Data Architect', 131300, 'USD', 131300, 'US', 100, 'US', 'L')\n",
      "(2022, 'SE', 'FT', 'Data Architect', 190000, 'USD', 190000, 'US', 100, 'US', 'M')\n",
      "(2022, 'SE', 'FT', 'Data Architect', 135000, 'USD', 135000, 'US', 100, 'US', 'M')\n",
      "(2022, 'SE', 'FT', 'Data Engineer', 135000, 'USD', 135000, 'US', 100, 'US', 'M')\n",
      "(2022, 'EN', 'FT', 'BI Data Analyst', 633000, 'INR', 8050, 'IN', 100, 'IN', 'M')\n",
      "(2022, 'SE', 'FT', 'Data Engineer', 160000, 'USD', 160000, 'US', 100, 'US', 'M')\n",
      "(2022, 'SE', 'FT', 'Data Engineer', 178800, 'USD', 178800, 'US', 100, 'US', 'L')\n",
      "(2022, 'SE', 'FT', 'Data Engineer', 132100, 'USD', 132100, 'US', 100, 'US', 'L')\n",
      "(2022, 'SE', 'FT', 'Data Engineer', 140000, 'USD', 140000, 'US', 100, 'US', 'M')\n",
      "(2022, 'SE', 'FT', 'Data Engineer', 105000, 'USD', 105000, 'US', 100, 'US', 'M')\n",
      "(2022, 'SE', 'FT', 'Analytics Engineer', 190000, 'USD', 190000, 'US', 100, 'US', 'M')\n",
      "(2022, 'SE', 'FT', 'Analytics Engineer', 140000, 'USD', 140000, 'US', 100, 'US', 'M')\n",
      "(2022, 'SE', 'FT', 'Data Scientist', 180000, 'USD', 180000, 'US', 100, 'US', 'L')\n",
      "(2022, 'SE', 'FT', 'Data Scientist', 165000, 'USD', 165000, 'US', 100, 'US', 'L')\n",
      "(2022, 'SE', 'FT', 'Applied Machine Learning Scientist', 108000, 'USD', 108000, 'US', 0, 'US', 'L')\n",
      "(2022, 'SE', 'FT', 'Data Architect', 190000, 'USD', 190000, 'US', 100, 'US', 'M')\n",
      "(2022, 'SE', 'FT', 'Data Architect', 135000, 'USD', 135000, 'US', 100, 'US', 'M')\n",
      "(2022, 'SE', 'FT', 'Data Scientist', 179400, 'USD', 179400, 'US', 0, 'US', 'M')\n",
      "(2022, 'SE', 'FT', 'Data Scientist', 154000, 'USD', 154000, 'US', 0, 'US', 'M')\n",
      "(2022, 'SE', 'FT', 'Machine Learning Scientist', 193900, 'USD', 193900, 'US', 0, 'US', 'M')\n",
      "(2022, 'SE', 'FT', 'Machine Learning Scientist', 129300, 'USD', 129300, 'US', 0, 'US', 'M')\n",
      "(2022, 'EX', 'FT', 'Data Science Manager', 222640, 'USD', 222640, 'US', 0, 'US', 'M')\n",
      "(2022, 'EX', 'FT', 'Data Science Manager', 182160, 'USD', 182160, 'US', 0, 'US', 'M')\n",
      "(2022, 'MI', 'FT', 'Data Engineer', 150000, 'USD', 150000, 'US', 0, 'US', 'M')\n",
      "(2022, 'SE', 'FT', 'Analytics Engineer', 122500, 'USD', 122500, 'US', 100, 'US', 'M')\n",
      "(2022, 'EX', 'FT', 'Data Engineer', 297500, 'USD', 297500, 'US', 100, 'US', 'M')\n",
      "(2022, 'EX', 'FT', 'Data Engineer', 260000, 'USD', 260000, 'US', 100, 'US', 'M')\n",
      "(2022, 'SE', 'FT', 'Data Engineer', 193000, 'USD', 193000, 'ES', 100, 'US', 'M')\n",
      "(2022, 'SE', 'FT', 'Data Scientist', 136994, 'USD', 136994, 'US', 100, 'US', 'M')\n",
      "(2022, 'SE', 'FT', 'Data Scientist', 101570, 'USD', 101570, 'US', 100, 'US', 'M')\n",
      "(2022, 'SE', 'FT', 'ETL Developer', 250000, 'USD', 250000, 'US', 100, 'US', 'M')\n",
      "(2022, 'MI', 'FT', 'Data Manager', 134000, 'USD', 134000, 'US', 0, 'US', 'M')\n",
      "(2022, 'SE', 'FT', 'Data Scientist', 191475, 'USD', 191475, 'US', 100, 'US', 'M')\n",
      "(2022, 'SE', 'FT', 'Data Scientist', 141525, 'USD', 141525, 'US', 100, 'US', 'M')\n",
      "(2022, 'MI', 'FT', 'Data Analyst', 136000, 'USD', 136000, 'US', 100, 'US', 'M')\n",
      "(2022, 'MI', 'FT', 'Data Analyst', 112000, 'USD', 112000, 'US', 100, 'US', 'M')\n",
      "(2022, 'SE', 'FT', 'Data Scientist', 172000, 'USD', 172000, 'US', 100, 'US', 'M')\n",
      "(2022, 'SE', 'FT', 'Data Scientist', 140000, 'USD', 140000, 'US', 100, 'US', 'M')\n",
      "(2022, 'SE', 'FT', 'Data Engineer', 215000, 'USD', 215000, 'US', 0, 'US', 'M')\n",
      "(2022, 'SE', 'FT', 'Data Engineer', 164000, 'USD', 164000, 'US', 0, 'US', 'M')\n",
      "(2022, 'SE', 'FT', 'Data Engineer', 300000, 'USD', 300000, 'US', 0, 'US', 'M')\n",
      "(2022, 'SE', 'FT', 'Data Engineer', 130000, 'USD', 130000, 'US', 0, 'US', 'M')\n",
      "(2022, 'SE', 'FT', 'Data Engineer', 250000, 'USD', 250000, 'US', 100, 'US', 'M')\n",
      "(2022, 'SE', 'FT', 'Data Engineer', 180000, 'USD', 180000, 'US', 100, 'US', 'M')\n",
      "(2022, 'SE', 'FT', 'Data Engineer', 150000, 'USD', 150000, 'US', 100, 'US', 'M')\n",
      "(2022, 'SE', 'FT', 'Data Engineer', 250000, 'USD', 250000, 'US', 100, 'US', 'M')\n",
      "(2022, 'SE', 'FT', 'Data Scientist', 191475, 'USD', 191475, 'US', 100, 'US', 'M')\n",
      "(2022, 'SE', 'FT', 'Data Scientist', 141525, 'USD', 141525, 'US', 100, 'US', 'M')\n",
      "(2022, 'SE', 'FT', 'Applied Scientist', 212800, 'USD', 212800, 'US', 100, 'US', 'M')\n",
      "(2022, 'SE', 'FT', 'Applied Scientist', 142800, 'USD', 142800, 'US', 100, 'US', 'M')\n",
      "(2022, 'EN', 'FT', 'Data Analyst', 500000, 'INR', 6359, 'FR', 100, 'IN', 'L')\n",
      "(2022, 'SE', 'FT', 'Data Scientist', 151800, 'USD', 151800, 'US', 0, 'US', 'M')\n",
      "(2022, 'SE', 'FT', 'Data Scientist', 130240, 'USD', 130240, 'US', 0, 'US', 'M')\n",
      "(2022, 'SE', 'FT', 'Analytics Engineer', 165000, 'USD', 165000, 'US', 100, 'US', 'M')\n",
      "(2022, 'SE', 'FT', 'Analytics Engineer', 140250, 'USD', 140250, 'US', 100, 'US', 'M')\n",
      "(2022, 'SE', 'FT', 'Data Engineer', 135000, 'USD', 135000, 'US', 0, 'US', 'M')\n",
      "(2022, 'SE', 'FT', 'Data Engineer', 115000, 'USD', 115000, 'US', 0, 'US', 'M')\n",
      "(2022, 'SE', 'FT', 'Data Scientist', 179400, 'USD', 179400, 'US', 100, 'US', 'M')\n",
      "(2022, 'SE', 'FT', 'Data Scientist', 154000, 'USD', 154000, 'US', 100, 'US', 'M')\n",
      "(2022, 'SE', 'FT', 'Data Scientist', 191475, 'USD', 191475, 'US', 100, 'US', 'M')\n",
      "(2022, 'SE', 'FT', 'Data Scientist', 141525, 'USD', 141525, 'US', 100, 'US', 'M')\n",
      "(2022, 'SE', 'FT', 'Data Scientist', 191475, 'USD', 191475, 'US', 100, 'US', 'M')\n",
      "(2022, 'SE', 'FT', 'Data Scientist', 141525, 'USD', 141525, 'US', 100, 'US', 'M')\n",
      "(2022, 'SE', 'FT', 'Data Scientist', 191475, 'USD', 191475, 'US', 100, 'US', 'M')\n",
      "(2022, 'SE', 'FT', 'Data Scientist', 141525, 'USD', 141525, 'US', 100, 'US', 'M')\n",
      "(2022, 'SE', 'FT', 'Data Scientist', 191475, 'USD', 191475, 'US', 100, 'US', 'M')\n",
      "(2022, 'SE', 'FT', 'Data Scientist', 141525, 'USD', 141525, 'US', 100, 'US', 'M')\n",
      "(2022, 'SE', 'FT', 'Data Scientist', 191475, 'USD', 191475, 'US', 100, 'US', 'M')\n",
      "(2022, 'SE', 'FT', 'Data Scientist', 141525, 'USD', 141525, 'US', 100, 'US', 'M')\n",
      "(2022, 'SE', 'FT', 'Data Scientist', 191475, 'USD', 191475, 'US', 100, 'US', 'M')\n",
      "(2022, 'SE', 'FT', 'Data Scientist', 141525, 'USD', 141525, 'US', 100, 'US', 'M')\n",
      "(2022, 'SE', 'FT', 'Data Scientist', 191475, 'USD', 191475, 'US', 100, 'US', 'M')\n",
      "(2022, 'SE', 'FT', 'Data Scientist', 141525, 'USD', 141525, 'US', 100, 'US', 'M')\n",
      "(2022, 'SE', 'FT', 'Data Scientist', 191475, 'USD', 191475, 'US', 0, 'US', 'M')\n",
      "(2022, 'SE', 'FT', 'Data Scientist', 141525, 'USD', 141525, 'US', 0, 'US', 'M')\n",
      "(2022, 'SE', 'FT', 'Data Analyst', 115000, 'USD', 115000, 'US', 0, 'US', 'L')\n",
      "(2022, 'EX', 'FT', 'Machine Learning Scientist', 200000, 'USD', 200000, 'US', 100, 'US', 'S')\n",
      "(2022, 'EX', 'FT', 'Machine Learning Scientist', 180000, 'USD', 180000, 'US', 100, 'US', 'S')\n",
      "(2022, 'EX', 'FT', 'AI Scientist', 200000, 'USD', 200000, 'US', 100, 'US', 'S')\n",
      "(2022, 'SE', 'FT', 'Data Scientist', 204100, 'USD', 204100, 'US', 0, 'US', 'M')\n",
      "(2022, 'SE', 'FT', 'Data Scientist', 136100, 'USD', 136100, 'US', 0, 'US', 'M')\n",
      "(2022, 'SE', 'FT', 'Analytics Engineer', 250000, 'USD', 250000, 'US', 0, 'US', 'M')\n",
      "(2021, 'EN', 'PT', 'Computer Vision Software Engineer', 120000, 'DKK', 19073, 'DK', 50, 'DK', 'L')\n",
      "(2022, 'SE', 'FT', 'Data Scientist', 191475, 'USD', 191475, 'US', 100, 'US', 'M')\n",
      "(2022, 'SE', 'FT', 'Data Scientist', 141525, 'USD', 141525, 'US', 100, 'US', 'M')\n",
      "(2022, 'SE', 'FT', 'Data Scientist', 191475, 'USD', 191475, 'US', 100, 'US', 'M')\n",
      "(2022, 'SE', 'FT', 'Data Scientist', 141525, 'USD', 141525, 'US', 100, 'US', 'M')\n",
      "(2022, 'SE', 'FT', 'Data Scientist', 191475, 'USD', 191475, 'US', 100, 'US', 'M')\n",
      "(2022, 'SE', 'FT', 'Data Scientist', 141525, 'USD', 141525, 'US', 100, 'US', 'M')\n",
      "(2022, 'MI', 'FT', 'Data Analyst', 113000, 'USD', 113000, 'US', 0, 'US', 'L')\n",
      "(2022, 'SE', 'FT', 'Data Scientist', 170000, 'USD', 170000, 'US', 100, 'US', 'M')\n",
      "(2022, 'SE', 'FT', 'Data Scientist', 130000, 'USD', 130000, 'US', 100, 'US', 'M')\n",
      "(2022, 'MI', 'FT', 'Data Analytics Consultant', 113000, 'USD', 113000, 'US', 100, 'US', 'L')\n",
      "(2022, 'MI', 'FT', 'Product Data Analyst', 140000, 'USD', 140000, 'US', 100, 'US', 'M')\n",
      "(2022, 'SE', 'FT', 'Data Scientist', 175000, 'USD', 175000, 'US', 0, 'US', 'M')\n",
      "(2022, 'SE', 'FT', 'Data Scientist', 140000, 'USD', 140000, 'US', 0, 'US', 'M')\n",
      "(2022, 'SE', 'FT', 'Analytics Engineer', 250000, 'USD', 250000, 'US', 0, 'US', 'M')\n",
      "(2022, 'SE', 'FT', 'Data Scientist', 160000, 'USD', 160000, 'US', 0, 'US', 'L')\n",
      "(2022, 'SE', 'FT', 'Data Scientist', 119300, 'USD', 119300, 'US', 0, 'US', 'L')\n",
      "(2022, 'MI', 'FT', 'Research Scientist', 145000, 'USD', 145000, 'US', 50, 'US', 'L')\n",
      "(2022, 'SE', 'FT', 'Data Engineer', 105000, 'USD', 105000, 'US', 0, 'US', 'M')\n",
      "(2022, 'SE', 'FT', 'ETL Developer', 146200, 'USD', 146200, 'US', 100, 'US', 'M')\n",
      "(2022, 'SE', 'FT', 'ETL Developer', 124270, 'USD', 124270, 'US', 100, 'US', 'M')\n",
      "(2022, 'MI', 'FT', 'Data Scientist', 225000, 'USD', 225000, 'US', 0, 'US', 'M')\n",
      "(2022, 'MI', 'FT', 'Data Scientist', 160000, 'USD', 160000, 'US', 0, 'US', 'M')\n",
      "(2022, 'SE', 'FT', 'Data Engineer', 185800, 'USD', 185800, 'CA', 100, 'CA', 'M')\n",
      "(2022, 'SE', 'FT', 'Data Engineer', 137400, 'USD', 137400, 'CA', 100, 'CA', 'M')\n",
      "(2022, 'SE', 'FT', 'Analytics Engineer', 245000, 'USD', 245000, 'US', 0, 'US', 'M')\n",
      "(2022, 'SE', 'FT', 'Analytics Engineer', 180000, 'USD', 180000, 'US', 0, 'US', 'M')\n",
      "(2022, 'SE', 'FT', 'Analytics Engineer', 203500, 'USD', 203500, 'US', 0, 'US', 'M')\n",
      "(2022, 'SE', 'FT', 'Analytics Engineer', 152000, 'USD', 152000, 'US', 0, 'US', 'M')\n",
      "(2022, 'SE', 'FT', 'Data Engineer', 250000, 'USD', 250000, 'US', 0, 'US', 'M')\n",
      "(2022, 'SE', 'FT', 'Machine Learning Infrastructure Engineer', 186000, 'USD', 186000, 'US', 100, 'US', 'M')\n",
      "(2022, 'SE', 'FT', 'Machine Learning Infrastructure Engineer', 148800, 'USD', 148800, 'US', 100, 'US', 'M')\n",
      "(2022, 'SE', 'FT', 'Lead Machine Learning Engineer', 7500000, 'INR', 95386, 'IN', 50, 'IN', 'L')\n",
      "(2022, 'MI', 'FT', 'Machine Learning Engineer', 104000, 'GBP', 128058, 'GB', 50, 'GB', 'L')\n",
      "(2022, 'EN', 'PT', 'Data Scientist', 110000, 'USD', 110000, 'DO', 100, 'FR', 'M')\n",
      "(2022, 'MI', 'FT', 'Applied Machine Learning Scientist', 173000, 'USD', 173000, 'US', 50, 'US', 'M')\n",
      "(2022, 'SE', 'FT', 'Data Scientist', 203500, 'USD', 203500, 'US', 0, 'US', 'M')\n",
      "(2022, 'SE', 'FT', 'Data Scientist', 152000, 'USD', 152000, 'US', 0, 'US', 'M')\n",
      "(2022, 'SE', 'FT', 'Machine Learning Engineer', 186000, 'USD', 186000, 'US', 100, 'US', 'M')\n",
      "(2022, 'SE', 'FT', 'Machine Learning Engineer', 148800, 'USD', 148800, 'US', 100, 'US', 'M')\n",
      "(2022, 'MI', 'FT', 'Data Science Manager', 158000, 'USD', 158000, 'US', 100, 'US', 'M')\n",
      "(2022, 'MI', 'FT', 'Data Science Manager', 134000, 'USD', 134000, 'US', 100, 'US', 'M')\n",
      "(2022, 'SE', 'FT', 'Data Scientist', 170000, 'USD', 170000, 'US', 100, 'US', 'M')\n",
      "(2022, 'SE', 'FT', 'Data Scientist', 120000, 'USD', 120000, 'US', 100, 'US', 'M')\n",
      "(2022, 'EX', 'FT', 'Analytics Engineer', 200000, 'USD', 200000, 'US', 100, 'US', 'M')\n",
      "(2022, 'EX', 'FT', 'Analytics Engineer', 150000, 'USD', 150000, 'US', 100, 'US', 'M')\n",
      "(2022, 'SE', 'FT', 'Data Analyst', 216200, 'USD', 216200, 'US', 0, 'US', 'M')\n",
      "(2022, 'SE', 'FT', 'Data Analyst', 144100, 'USD', 144100, 'US', 0, 'US', 'M')\n",
      "(2022, 'MI', 'FT', 'Data Scientist', 110000, 'EUR', 115573, 'NL', 0, 'NL', 'M')\n",
      "(2022, 'SE', 'FT', 'ETL Developer', 250000, 'USD', 250000, 'US', 0, 'US', 'M')\n",
      "(2022, 'SE', 'FT', 'Data Engineer', 135000, 'USD', 135000, 'US', 100, 'US', 'M')\n",
      "(2022, 'SE', 'FT', 'Machine Learning Engineer', 135000, 'USD', 135000, 'US', 100, 'US', 'M')\n",
      "(2022, 'SE', 'FT', 'Data Science Manager', 206000, 'USD', 206000, 'US', 100, 'US', 'M')\n",
      "(2022, 'SE', 'FT', 'Data Science Manager', 175100, 'USD', 175100, 'US', 100, 'US', 'M')\n",
      "(2022, 'SE', 'FT', 'Machine Learning Engineer', 189650, 'USD', 189650, 'US', 0, 'US', 'M')\n",
      "(2022, 'SE', 'FT', 'Machine Learning Engineer', 164996, 'USD', 164996, 'US', 0, 'US', 'M')\n",
      "(2022, 'SE', 'FT', 'Data Architect', 149040, 'USD', 149040, 'US', 100, 'US', 'M')\n",
      "(2022, 'SE', 'FT', 'Data Architect', 113900, 'USD', 113900, 'US', 100, 'US', 'M')\n",
      "(2022, 'SE', 'FT', 'Data Engineer', 154000, 'USD', 154000, 'US', 100, 'US', 'M')\n",
      "(2022, 'SE', 'FT', 'Data Engineer', 126000, 'USD', 126000, 'US', 100, 'US', 'M')\n",
      "(2022, 'SE', 'FT', 'Machine Learning Engineer', 200000, 'USD', 200000, 'US', 100, 'US', 'L')\n",
      "(2022, 'SE', 'FT', 'Machine Learning Engineer', 150000, 'USD', 150000, 'US', 100, 'US', 'L')\n",
      "(2022, 'SE', 'FT', 'Data Engineer', 195700, 'USD', 195700, 'US', 0, 'US', 'M')\n",
      "(2022, 'SE', 'FT', 'Data Engineer', 130500, 'USD', 130500, 'US', 0, 'US', 'M')\n",
      "(2022, 'SE', 'FT', 'Analytics Engineer', 170000, 'USD', 170000, 'US', 100, 'US', 'M')\n",
      "(2022, 'SE', 'FT', 'Analytics Engineer', 135000, 'USD', 135000, 'US', 100, 'US', 'M')\n",
      "(2022, 'SE', 'FT', 'Data Analyst', 117000, 'USD', 117000, 'US', 100, 'US', 'M')\n",
      "(2022, 'SE', 'FT', 'Data Engineer', 200000, 'USD', 200000, 'PR', 100, 'PR', 'M')\n",
      "(2022, 'SE', 'FT', 'Data Engineer', 135000, 'USD', 135000, 'PR', 100, 'PR', 'M')\n",
      "(2022, 'SE', 'FT', 'Machine Learning Engineer', 193900, 'USD', 193900, 'US', 0, 'US', 'M')\n",
      "(2022, 'SE', 'FT', 'Machine Learning Engineer', 129300, 'USD', 129300, 'US', 0, 'US', 'M')\n",
      "(2022, 'SE', 'FT', 'Data Analyst', 175000, 'USD', 175000, 'US', 100, 'US', 'M')\n",
      "(2022, 'SE', 'FT', 'Data Analyst', 130000, 'USD', 130000, 'US', 100, 'US', 'M')\n",
      "(2022, 'SE', 'FT', 'Data Engineer', 188100, 'USD', 188100, 'US', 0, 'US', 'M')\n",
      "(2022, 'SE', 'FT', 'Data Engineer', 139860, 'USD', 139860, 'US', 0, 'US', 'M')\n",
      "(2022, 'SE', 'FT', 'Machine Learning Engineer', 248700, 'USD', 248700, 'US', 0, 'US', 'M')\n",
      "(2022, 'SE', 'FT', 'Machine Learning Engineer', 167100, 'USD', 167100, 'US', 0, 'US', 'M')\n",
      "(2022, 'MI', 'FT', 'Data Analyst', 450000, 'INR', 5723, 'IN', 100, 'IN', 'S')\n",
      "(2022, 'SE', 'FT', 'Data Scientist', 123400, 'USD', 123400, 'US', 0, 'US', 'M')\n",
      "(2022, 'SE', 'FT', 'Data Scientist', 245000, 'USD', 245000, 'US', 0, 'US', 'M')\n",
      "(2022, 'SE', 'FT', 'Data Scientist', 205000, 'USD', 205000, 'US', 0, 'US', 'M')\n",
      "(2022, 'SE', 'FT', 'Data Engineer', 141300, 'USD', 141300, 'US', 0, 'US', 'M')\n",
      "(2022, 'SE', 'FT', 'Data Engineer', 102100, 'USD', 102100, 'US', 0, 'US', 'M')\n",
      "(2022, 'SE', 'FT', 'Data Architect', 141300, 'USD', 141300, 'US', 0, 'US', 'M')\n",
      "(2022, 'SE', 'FT', 'Data Architect', 102100, 'USD', 102100, 'US', 0, 'US', 'M')\n",
      "(2022, 'SE', 'FT', 'Data Architect', 250000, 'USD', 250000, 'US', 0, 'US', 'M')\n",
      "(2022, 'SE', 'FT', 'Data Science Manager', 189500, 'USD', 189500, 'US', 100, 'US', 'L')\n",
      "(2022, 'SE', 'FT', 'Data Science Manager', 140100, 'USD', 140100, 'US', 100, 'US', 'L')\n",
      "(2022, 'SE', 'FT', 'Data Engineer', 177600, 'USD', 177600, 'US', 100, 'US', 'L')\n",
      "(2022, 'SE', 'FT', 'Data Engineer', 131300, 'USD', 131300, 'US', 100, 'US', 'L')\n",
      "(2022, 'SE', 'FT', 'Data Engineer', 250000, 'USD', 250000, 'US', 0, 'US', 'M')\n",
      "(2022, 'SE', 'FT', 'Machine Learning Engineer', 202900, 'USD', 202900, 'US', 100, 'US', 'L')\n",
      "(2022, 'SE', 'FT', 'Machine Learning Engineer', 131300, 'USD', 131300, 'US', 100, 'US', 'L')\n",
      "(2022, 'SE', 'FT', 'Data Engineer', 145000, 'USD', 145000, 'US', 100, 'US', 'M')\n",
      "(2022, 'SE', 'FT', 'Data Engineer', 115000, 'USD', 115000, 'US', 100, 'US', 'M')\n",
      "(2022, 'EN', 'FT', 'Machine Learning Engineer', 115000, 'USD', 115000, 'US', 50, 'US', 'L')\n",
      "(2022, 'MI', 'FT', 'Machine Learning Engineer', 193900, 'USD', 193900, 'US', 0, 'US', 'M')\n",
      "(2022, 'MI', 'FT', 'Machine Learning Engineer', 129300, 'USD', 129300, 'US', 0, 'US', 'M')\n",
      "(2022, 'SE', 'FT', 'Data Scientist', 180000, 'USD', 180000, 'US', 100, 'US', 'L')\n",
      "(2022, 'SE', 'FT', 'Data Scientist', 140000, 'USD', 140000, 'US', 100, 'US', 'L')\n",
      "(2022, 'MI', 'FT', 'Data Analyst', 216200, 'USD', 216200, 'US', 0, 'US', 'M')\n",
      "(2022, 'MI', 'FT', 'Data Analyst', 144100, 'USD', 144100, 'US', 0, 'US', 'M')\n",
      "(2022, 'SE', 'FT', 'Machine Learning Scientist', 216000, 'USD', 216000, 'US', 0, 'US', 'M')\n",
      "(2022, 'SE', 'FT', 'Machine Learning Scientist', 144000, 'USD', 144000, 'US', 0, 'US', 'M')\n",
      "(2022, 'EN', 'FT', 'Data Analyst', 150000, 'USD', 150000, 'US', 100, 'US', 'L')\n",
      "(2021, 'EN', 'FT', 'Machine Learning Research Engineer', 900000, 'INR', 12171, 'IN', 100, 'IN', 'M')\n",
      "(2022, 'MI', 'FT', 'Data Scientist', 4200000, 'INR', 53416, 'IN', 100, 'ID', 'L')\n",
      "(2021, 'SE', 'FT', 'Cloud Data Architect', 250000, 'USD', 250000, 'US', 50, 'US', 'L')\n",
      "(2022, 'MI', 'FT', 'Data Scientist', 107000, 'GBP', 131752, 'GB', 100, 'GB', 'M')\n",
      "(2022, 'EX', 'FT', 'Data Science Manager', 260500, 'USD', 260500, 'US', 0, 'US', 'M')\n",
      "(2022, 'EX', 'FT', 'Data Science Manager', 175100, 'USD', 175100, 'US', 0, 'US', 'M')\n",
      "(2022, 'SE', 'FT', 'Data Engineer', 210000, 'USD', 210000, 'US', 100, 'US', 'M')\n",
      "(2022, 'MI', 'FT', 'Data Analyst', 130000, 'USD', 130000, 'US', 100, 'US', 'M')\n",
      "(2022, 'MI', 'FL', 'Applied Machine Learning Scientist', 2400000, 'INR', 30523, 'IN', 100, 'IN', 'S')\n",
      "(2022, 'SE', 'FT', 'Data Engineer', 206699, 'USD', 206699, 'US', 0, 'US', 'M')\n",
      "(2022, 'MI', 'FT', 'Analytics Engineer', 200000, 'USD', 200000, 'US', 0, 'US', 'M')\n",
      "(2022, 'SE', 'FT', 'Data Engineer', 250000, 'USD', 250000, 'US', 0, 'US', 'M')\n",
      "(2022, 'SE', 'FT', 'Data Architect', 250000, 'USD', 250000, 'US', 0, 'US', 'M')\n",
      "(2022, 'SE', 'FT', 'Data Engineer', 250000, 'USD', 250000, 'US', 0, 'US', 'M')\n",
      "(2022, 'EN', 'FT', 'Analytics Engineer', 130000, 'USD', 130000, 'US', 50, 'US', 'L')\n",
      "(2022, 'SE', 'FT', 'Data Scientist', 160000, 'USD', 160000, 'US', 0, 'US', 'L')\n",
      "(2022, 'SE', 'FT', 'Data Specialist', 221300, 'USD', 221300, 'US', 100, 'US', 'L')\n",
      "(2022, 'SE', 'FT', 'Data Specialist', 148700, 'USD', 148700, 'US', 100, 'US', 'L')\n",
      "(2022, 'SE', 'FT', 'Data Science Manager', 249260, 'USD', 249260, 'US', 0, 'US', 'M')\n",
      "(2022, 'SE', 'FT', 'Data Science Manager', 185400, 'USD', 185400, 'US', 0, 'US', 'M')\n",
      "(2022, 'SE', 'FT', 'Data Engineer', 170000, 'USD', 170000, 'US', 100, 'US', 'M')\n",
      "(2022, 'SE', 'FT', 'Data Engineer', 130000, 'USD', 130000, 'US', 100, 'US', 'M')\n",
      "(2022, 'SE', 'FT', 'Data Analyst', 128875, 'USD', 128875, 'US', 100, 'US', 'M')\n",
      "(2022, 'SE', 'FT', 'Machine Learning Engineer', 180000, 'USD', 180000, 'US', 100, 'US', 'M')\n",
      "(2022, 'SE', 'FT', 'Data Analyst', 136260, 'USD', 136260, 'US', 100, 'US', 'M')\n",
      "(2022, 'SE', 'FT', 'Data Analyst', 109280, 'USD', 109280, 'US', 100, 'US', 'M')\n",
      "(2022, 'SE', 'FT', 'Data Scientist', 160000, 'USD', 160000, 'US', 100, 'US', 'L')\n",
      "(2022, 'SE', 'FT', 'Data Engineer', 200000, 'USD', 200000, 'US', 100, 'US', 'M')\n",
      "(2022, 'SE', 'FT', 'Data Engineer', 160000, 'USD', 160000, 'US', 100, 'US', 'M')\n",
      "(2022, 'MI', 'FT', 'Data Engineer', 110000, 'GBP', 135446, 'GB', 0, 'GB', 'M')\n",
      "(2022, 'SE', 'FT', 'Data Analyst', 117000, 'USD', 117000, 'US', 100, 'US', 'M')\n",
      "(2022, 'EN', 'FT', 'Data Engineer', 129000, 'USD', 129000, 'US', 100, 'US', 'L')\n",
      "(2020, 'EN', 'FT', 'Data Engineer', 1000000, 'INR', 13493, 'IN', 100, 'IN', 'L')\n",
      "(2020, 'EN', 'FT', 'Data Engineer', 1000000, 'INR', 13493, 'IN', 100, 'IN', 'L')\n",
      "(2022, 'SE', 'FT', 'Data Scientist', 160000, 'USD', 160000, 'US', 0, 'US', 'L')\n",
      "(2022, 'SE', 'FT', 'Data Scientist', 119300, 'USD', 119300, 'US', 0, 'US', 'L')\n",
      "(2022, 'MI', 'FT', 'AI Scientist', 200000, 'USD', 200000, 'US', 100, 'US', 'M')\n",
      "(2022, 'EN', 'FT', 'Machine Learning Developer', 180000, 'USD', 180000, 'US', 100, 'US', 'L')\n",
      "(2022, 'MI', 'FT', 'Data Scientist', 153000, 'USD', 153000, 'US', 100, 'US', 'L')\n",
      "(2022, 'SE', 'FT', 'Data Engineer', 210000, 'USD', 210000, 'US', 100, 'US', 'M')\n",
      "(2022, 'SE', 'FT', 'Data Analyst', 150075, 'USD', 150075, 'US', 100, 'US', 'M')\n",
      "(2022, 'SE', 'FT', 'Data Analyst', 110925, 'USD', 110925, 'US', 100, 'US', 'M')\n",
      "(2022, 'SE', 'FT', 'Data Scientist', 160000, 'USD', 160000, 'US', 100, 'US', 'L')\n",
      "(2022, 'SE', 'FT', 'Machine Learning Engineer', 202900, 'USD', 202900, 'US', 100, 'US', 'L')\n",
      "(2022, 'SE', 'FT', 'Machine Learning Engineer', 131300, 'USD', 131300, 'US', 100, 'US', 'L')\n",
      "(2022, 'SE', 'FT', 'Data Engineer', 175000, 'USD', 175000, 'US', 100, 'US', 'M')\n",
      "(2022, 'SE', 'FT', 'Data Engineer', 135000, 'USD', 135000, 'US', 100, 'US', 'M')\n",
      "(2022, 'SE', 'FT', 'Data Science Manager', 193000, 'AUD', 133766, 'AU', 100, 'AU', 'L')\n",
      "(2022, 'SE', 'FT', 'Data Scientist', 186000, 'USD', 186000, 'US', 0, 'US', 'M')\n",
      "(2022, 'SE', 'FT', 'Data Scientist', 148800, 'USD', 148800, 'US', 0, 'US', 'M')\n",
      "(2022, 'SE', 'FT', 'Data Analyst', 112900, 'USD', 112900, 'US', 0, 'US', 'M')\n",
      "(2022, 'SE', 'FT', 'ML Engineer', 240000, 'USD', 240000, 'US', 0, 'US', 'M')\n",
      "(2022, 'SE', 'FT', 'ML Engineer', 160000, 'USD', 160000, 'US', 0, 'US', 'M')\n",
      "(2022, 'SE', 'FT', 'Data Science Manager', 300000, 'USD', 300000, 'US', 100, 'US', 'M')\n",
      "(2022, 'SE', 'FT', 'Data Science Manager', 200000, 'USD', 200000, 'US', 100, 'US', 'M')\n",
      "(2022, 'MI', 'FT', 'AI Scientist', 200000, 'USD', 200000, 'IN', 100, 'US', 'L')\n",
      "(2022, 'MI', 'FT', 'AI Scientist', 120000, 'USD', 120000, 'US', 0, 'US', 'M')\n",
      "(2022, 'SE', 'FT', 'Data Analyst', 112900, 'USD', 112900, 'US', 100, 'US', 'M')\n",
      "(2022, 'SE', 'FT', 'Data Analytics Manager', 145000, 'USD', 145000, 'US', 100, 'US', 'M')\n",
      "(2022, 'SE', 'FT', 'Data Analytics Manager', 105400, 'USD', 105400, 'US', 100, 'US', 'M')\n",
      "(2022, 'SE', 'FT', 'Data Scientist', 215300, 'USD', 215300, 'US', 100, 'US', 'L')\n",
      "(2022, 'SE', 'FT', 'Data Scientist', 158200, 'USD', 158200, 'US', 100, 'US', 'L')\n",
      "(2022, 'SE', 'FT', 'Data Engineer', 209100, 'USD', 209100, 'US', 100, 'US', 'L')\n",
      "(2022, 'SE', 'FT', 'Data Engineer', 154600, 'USD', 154600, 'US', 100, 'US', 'L')\n",
      "(2022, 'SE', 'FT', 'Data Analyst', 115934, 'USD', 115934, 'US', 0, 'US', 'M')\n",
      "(2022, 'SE', 'FT', 'Data Engineer', 175000, 'USD', 175000, 'US', 100, 'US', 'M')\n",
      "(2022, 'SE', 'FT', 'Data Engineer', 155000, 'USD', 155000, 'US', 100, 'US', 'M')\n",
      "(2022, 'SE', 'FT', 'Data Analyst', 164000, 'USD', 164000, 'US', 0, 'US', 'M')\n",
      "(2022, 'SE', 'FT', 'Data Analyst', 132000, 'USD', 132000, 'US', 0, 'US', 'M')\n",
      "(2022, 'SE', 'FT', 'Data Scientist', 170000, 'USD', 170000, 'US', 100, 'US', 'M')\n",
      "(2022, 'SE', 'FT', 'Data Scientist', 123000, 'USD', 123000, 'US', 100, 'US', 'M')\n",
      "(2022, 'SE', 'FT', 'Machine Learning Engineer', 189650, 'USD', 189650, 'US', 0, 'US', 'M')\n",
      "(2022, 'SE', 'FT', 'Machine Learning Engineer', 164996, 'USD', 164996, 'US', 0, 'US', 'M')\n",
      "(2022, 'EX', 'FT', 'Lead Data Engineer', 150000, 'CAD', 115222, 'CA', 100, 'CA', 'S')\n",
      "(2022, 'SE', 'FT', 'Data Engineer', 165400, 'USD', 165400, 'US', 100, 'US', 'M')\n",
      "(2022, 'SE', 'FT', 'Data Engineer', 132320, 'USD', 132320, 'US', 100, 'US', 'M')\n",
      "(2022, 'SE', 'FT', 'Data Architect', 208775, 'USD', 208775, 'US', 100, 'US', 'M')\n",
      "(2022, 'SE', 'FT', 'Data Architect', 147800, 'USD', 147800, 'US', 100, 'US', 'M')\n",
      "(2022, 'SE', 'FT', 'Data Engineer', 136994, 'USD', 136994, 'US', 100, 'US', 'M')\n",
      "(2022, 'SE', 'FT', 'Data Engineer', 101570, 'USD', 101570, 'US', 100, 'US', 'M')\n",
      "(2022, 'SE', 'FT', 'Data Analyst', 128875, 'USD', 128875, 'US', 100, 'US', 'M')\n",
      "(2022, 'EX', 'FT', 'Head of Machine Learning', 6000000, 'INR', 76309, 'IN', 50, 'IN', 'L')\n",
      "(2022, 'SE', 'FT', 'Data Engineer', 183600, 'USD', 183600, 'US', 100, 'US', 'L')\n",
      "(2022, 'SE', 'FT', 'Data Engineer', 100800, 'USD', 100800, 'US', 100, 'US', 'L')\n",
      "(2022, 'SE', 'FT', 'Machine Learning Engineer', 189650, 'USD', 189650, 'US', 0, 'US', 'M')\n",
      "(2022, 'SE', 'FT', 'Machine Learning Engineer', 164996, 'USD', 164996, 'US', 0, 'US', 'M')\n",
      "(2022, 'SE', 'FT', 'Data Scientist', 215300, 'USD', 215300, 'US', 0, 'US', 'L')\n",
      "(2022, 'SE', 'FT', 'Data Scientist', 140400, 'USD', 140400, 'US', 0, 'US', 'L')\n",
      "(2022, 'SE', 'FT', 'Data Scientist', 260000, 'USD', 260000, 'US', 100, 'US', 'M')\n",
      "(2022, 'SE', 'FT', 'Data Scientist', 180000, 'USD', 180000, 'US', 100, 'US', 'M')\n",
      "(2022, 'MI', 'FT', 'Machine Learning Scientist', 160000, 'USD', 160000, 'US', 100, 'US', 'L')\n",
      "(2022, 'MI', 'FT', 'Machine Learning Scientist', 112300, 'USD', 112300, 'US', 100, 'US', 'L')\n",
      "(2022, 'MI', 'FT', 'Data Science Manager', 241000, 'USD', 241000, 'US', 100, 'US', 'M')\n",
      "(2022, 'MI', 'FT', 'Data Science Manager', 159000, 'USD', 159000, 'US', 100, 'US', 'M')\n",
      "(2022, 'SE', 'FT', 'Data Scientist', 180000, 'USD', 180000, 'US', 0, 'US', 'M')\n",
      "(2022, 'SE', 'FT', 'Data Engineer', 136000, 'USD', 136000, 'US', 0, 'US', 'M')\n",
      "(2022, 'SE', 'FT', 'Data Engineer', 108800, 'USD', 108800, 'US', 0, 'US', 'M')\n",
      "(2022, 'EX', 'FT', 'Data Engineer', 242000, 'USD', 242000, 'US', 100, 'US', 'M')\n",
      "(2022, 'EX', 'FT', 'Data Engineer', 200000, 'USD', 200000, 'US', 100, 'US', 'M')\n",
      "(2022, 'SE', 'FT', 'Data Scientist', 165220, 'USD', 165220, 'US', 100, 'US', 'M')\n",
      "(2022, 'SE', 'FT', 'Data Scientist', 120160, 'USD', 120160, 'US', 100, 'US', 'M')\n",
      "(2022, 'SE', 'FT', 'Data Analyst', 124190, 'USD', 124190, 'US', 100, 'US', 'M')\n",
      "(2022, 'SE', 'FT', 'Data Engineer', 181940, 'USD', 181940, 'US', 0, 'US', 'M')\n",
      "(2022, 'SE', 'FT', 'Data Engineer', 132320, 'USD', 132320, 'US', 0, 'US', 'M')\n",
      "(2022, 'SE', 'FT', 'Data Engineer', 220110, 'USD', 220110, 'US', 0, 'US', 'M')\n",
      "(2022, 'SE', 'FT', 'Data Engineer', 160080, 'USD', 160080, 'US', 0, 'US', 'M')\n",
      "(2022, 'SE', 'FT', 'Data Scientist', 180000, 'USD', 180000, 'US', 0, 'US', 'L')\n",
      "(2022, 'SE', 'FT', 'Data Scientist', 120000, 'USD', 120000, 'US', 0, 'US', 'L')\n",
      "(2022, 'MI', 'FT', 'Data Analyst', 126500, 'USD', 126500, 'US', 0, 'US', 'M')\n",
      "(2022, 'MI', 'FT', 'Data Analyst', 106260, 'USD', 106260, 'US', 0, 'US', 'M')\n",
      "(2022, 'SE', 'FT', 'Data Analyst', 116000, 'USD', 116000, 'US', 0, 'US', 'M')\n",
      "(2022, 'SE', 'FT', 'Data Analyst', 155000, 'USD', 155000, 'US', 100, 'US', 'M')\n",
      "(2022, 'SE', 'FT', 'Data Analyst', 120600, 'USD', 120600, 'US', 100, 'US', 'M')\n",
      "(2022, 'MI', 'FT', 'Data Scientist', 130000, 'USD', 130000, 'US', 0, 'US', 'M')\n",
      "(2022, 'MI', 'FT', 'Data Engineer', 170000, 'USD', 170000, 'US', 100, 'US', 'M')\n",
      "(2022, 'MI', 'FT', 'Data Engineer', 150000, 'USD', 150000, 'US', 100, 'US', 'M')\n",
      "(2022, 'SE', 'FT', 'Data Analyst', 102100, 'USD', 102100, 'US', 100, 'US', 'M')\n",
      "(2022, 'SE', 'FT', 'Data Scientist', 136620, 'USD', 136620, 'US', 100, 'US', 'M')\n",
      "(2022, 'SE', 'FT', 'Data Scientist', 146000, 'USD', 146000, 'US', 100, 'US', 'M')\n",
      "(2022, 'SE', 'FT', 'Data Scientist', 123000, 'USD', 123000, 'US', 100, 'US', 'M')\n",
      "(2022, 'EX', 'FT', 'Data Analyst', 130000, 'USD', 130000, 'US', 100, 'US', 'M')\n",
      "(2022, 'EX', 'FT', 'Data Analyst', 110000, 'USD', 110000, 'US', 100, 'US', 'M')\n",
      "(2022, 'SE', 'FT', 'Data Analyst', 170000, 'USD', 170000, 'US', 100, 'US', 'M')\n",
      "(2022, 'SE', 'FT', 'Data Analyst', 135000, 'USD', 135000, 'US', 100, 'US', 'M')\n",
      "(2022, 'SE', 'FT', 'Data Science Manager', 161342, 'USD', 161342, 'US', 100, 'US', 'M')\n",
      "(2022, 'SE', 'FT', 'Data Science Manager', 137141, 'USD', 137141, 'US', 100, 'US', 'M')\n",
      "(2022, 'SE', 'FT', 'Data Scientist', 167000, 'USD', 167000, 'US', 100, 'US', 'M')\n",
      "(2022, 'SE', 'FT', 'Data Scientist', 123000, 'USD', 123000, 'US', 100, 'US', 'M')\n",
      "(2022, 'SE', 'FT', 'Data Scientist', 211500, 'USD', 211500, 'US', 100, 'US', 'M')\n",
      "(2022, 'SE', 'FT', 'Data Scientist', 138600, 'USD', 138600, 'US', 100, 'US', 'M')\n",
      "(2022, 'SE', 'FT', 'Data Architect', 192400, 'USD', 192400, 'CA', 100, 'CA', 'M')\n",
      "(2022, 'SE', 'FT', 'Data Analyst', 130000, 'USD', 130000, 'CA', 100, 'CA', 'M')\n",
      "(2022, 'SE', 'FT', 'Data Analyst', 130000, 'USD', 130000, 'CA', 100, 'CA', 'M')\n",
      "(2022, 'SE', 'FT', 'Data Engineer', 160000, 'USD', 160000, 'US', 0, 'US', 'L')\n",
      "(2022, 'SE', 'FT', 'Data Engineer', 113000, 'USD', 113000, 'US', 0, 'US', 'L')\n",
      "(2022, 'SE', 'FT', 'Data Scientist', 150000, 'USD', 150000, 'US', 0, 'US', 'M')\n",
      "(2022, 'MI', 'FT', 'Data Analyst', 167000, 'USD', 167000, 'US', 100, 'US', 'M')\n",
      "(2022, 'MI', 'FT', 'Data Analyst', 115500, 'USD', 115500, 'US', 100, 'US', 'M')\n",
      "(2022, 'SE', 'FT', 'Data Analyst', 112900, 'USD', 112900, 'US', 100, 'US', 'M')\n",
      "(2022, 'SE', 'FT', 'Data Analyst', 112900, 'USD', 112900, 'US', 100, 'US', 'M')\n",
      "(2022, 'SE', 'FT', 'Data Engineer', 165400, 'USD', 165400, 'US', 100, 'US', 'M')\n",
      "(2022, 'SE', 'FT', 'Data Engineer', 132320, 'USD', 132320, 'US', 100, 'US', 'M')\n",
      "(2022, 'SE', 'FT', 'Data Engineer', 243900, 'USD', 243900, 'US', 100, 'US', 'M')\n",
      "(2022, 'SE', 'FT', 'Data Engineer', 156600, 'USD', 156600, 'US', 100, 'US', 'M')\n",
      "(2022, 'SE', 'FT', 'Data Analyst', 136600, 'USD', 136600, 'US', 100, 'US', 'M')\n",
      "(2022, 'SE', 'FT', 'Data Analyst', 109280, 'USD', 109280, 'US', 100, 'US', 'M')\n",
      "(2022, 'SE', 'FT', 'Data Engineer', 128875, 'USD', 128875, 'US', 100, 'US', 'M')\n",
      "(2022, 'EX', 'FT', 'Head of Data Science', 224000, 'USD', 224000, 'US', 100, 'US', 'M')\n",
      "(2022, 'EX', 'FT', 'Head of Data Science', 167875, 'USD', 167875, 'US', 100, 'US', 'M')\n",
      "(2022, 'EX', 'FT', 'Analytics Engineer', 175000, 'USD', 175000, 'US', 100, 'US', 'M')\n",
      "(2022, 'EX', 'FT', 'Analytics Engineer', 135000, 'USD', 135000, 'US', 100, 'US', 'M')\n",
      "(2022, 'SE', 'FT', 'Data Engineer', 209100, 'USD', 209100, 'US', 100, 'US', 'L')\n",
      "(2022, 'SE', 'FT', 'Data Engineer', 154600, 'USD', 154600, 'US', 100, 'US', 'L')\n",
      "(2022, 'SE', 'FT', 'Data Engineer', 180000, 'USD', 180000, 'US', 100, 'US', 'M')\n",
      "(2022, 'SE', 'FT', 'Data Engineer', 160000, 'USD', 160000, 'US', 100, 'US', 'M')\n",
      "(2022, 'SE', 'FT', 'Data Scientist', 205300, 'USD', 205300, 'US', 0, 'US', 'L')\n",
      "(2022, 'SE', 'FT', 'Data Scientist', 140400, 'USD', 140400, 'US', 0, 'US', 'L')\n",
      "(2022, 'SE', 'FT', 'Data Scientist', 176000, 'USD', 176000, 'US', 100, 'US', 'M')\n",
      "(2022, 'SE', 'FT', 'Data Scientist', 144000, 'USD', 144000, 'US', 100, 'US', 'M')\n",
      "(2022, 'SE', 'FT', 'Data Engineer', 200100, 'USD', 200100, 'US', 100, 'US', 'M')\n",
      "(2022, 'SE', 'FT', 'Data Engineer', 160000, 'USD', 160000, 'US', 100, 'US', 'M')\n",
      "(2022, 'SE', 'FT', 'Data Scientist', 205300, 'USD', 205300, 'US', 0, 'US', 'M')\n",
      "(2022, 'SE', 'FT', 'Data Scientist', 140400, 'USD', 140400, 'US', 0, 'US', 'M')\n",
      "(2022, 'SE', 'FT', 'Analytics Engineer', 205300, 'USD', 205300, 'US', 0, 'US', 'M')\n",
      "(2022, 'SE', 'FT', 'Analytics Engineer', 184700, 'USD', 184700, 'US', 0, 'US', 'M')\n",
      "(2022, 'SE', 'FT', 'Data Engineer', 175100, 'USD', 175100, 'US', 100, 'US', 'M')\n",
      "(2022, 'SE', 'FT', 'Data Engineer', 140250, 'USD', 140250, 'US', 100, 'US', 'M')\n",
      "(2022, 'SE', 'FT', 'Data Analyst', 116150, 'USD', 116150, 'US', 100, 'US', 'M')\n",
      "(2022, 'SE', 'FT', 'Data Engineer', 145000, 'USD', 145000, 'US', 100, 'US', 'M')\n",
      "(2022, 'SE', 'FT', 'Data Engineer', 130000, 'USD', 130000, 'US', 100, 'US', 'M')\n",
      "(2022, 'SE', 'FT', 'Data Analyst', 112900, 'USD', 112900, 'US', 100, 'US', 'M')\n",
      "(2022, 'SE', 'FT', 'Machine Learning Engineer', 214000, 'USD', 214000, 'US', 100, 'US', 'M')\n",
      "(2022, 'SE', 'FT', 'Machine Learning Engineer', 192600, 'USD', 192600, 'US', 100, 'US', 'M')\n",
      "(2022, 'SE', 'FT', 'Data Architect', 266400, 'USD', 266400, 'US', 100, 'US', 'M')\n",
      "(2022, 'SE', 'FT', 'Data Architect', 213120, 'USD', 213120, 'US', 100, 'US', 'M')\n",
      "(2022, 'SE', 'FT', 'Data Engineer', 155000, 'USD', 155000, 'US', 100, 'US', 'M')\n",
      "(2022, 'SE', 'FT', 'Data Engineer', 115000, 'USD', 115000, 'US', 100, 'US', 'M')\n",
      "(2022, 'MI', 'FT', 'Data Scientist', 141300, 'USD', 141300, 'US', 0, 'US', 'M')\n",
      "(2022, 'MI', 'FT', 'Data Scientist', 102100, 'USD', 102100, 'US', 0, 'US', 'M')\n",
      "(2022, 'SE', 'FT', 'Data Analyst', 115934, 'USD', 115934, 'US', 100, 'US', 'M')\n",
      "(2022, 'MI', 'FT', 'Data Engineer', 206699, 'USD', 206699, 'US', 0, 'US', 'M')\n",
      "(2022, 'SE', 'FT', 'Data Engineer', 130000, 'USD', 130000, 'US', 100, 'US', 'M')\n",
      "(2022, 'SE', 'FT', 'Data Engineer', 110500, 'USD', 110500, 'US', 100, 'US', 'M')\n",
      "(2022, 'SE', 'FT', 'Data Architect', 192564, 'USD', 192564, 'US', 100, 'US', 'M')\n",
      "(2022, 'SE', 'FT', 'Data Architect', 144854, 'USD', 144854, 'US', 100, 'US', 'M')\n",
      "(2022, 'SE', 'FT', 'Data Scientist', 230000, 'USD', 230000, 'US', 100, 'US', 'M')\n",
      "(2022, 'SE', 'FT', 'Data Scientist', 150000, 'USD', 150000, 'US', 100, 'US', 'M')\n",
      "(2022, 'SE', 'FT', 'Data Analytics Manager', 150260, 'USD', 150260, 'US', 100, 'US', 'M')\n",
      "(2022, 'SE', 'FT', 'Data Analytics Manager', 109280, 'USD', 109280, 'US', 100, 'US', 'M')\n",
      "(2022, 'SE', 'FT', 'Data Analyst', 170000, 'USD', 170000, 'US', 100, 'US', 'M')\n",
      "(2022, 'SE', 'FT', 'Data Analyst', 150000, 'USD', 150000, 'US', 100, 'US', 'M')\n",
      "(2022, 'MI', 'FT', 'Data Scientist', 160000, 'USD', 160000, 'US', 100, 'US', 'M')\n",
      "(2022, 'MI', 'FT', 'Data Scientist', 130000, 'USD', 130000, 'US', 100, 'US', 'M')\n",
      "(2022, 'SE', 'FT', 'Data Engineer', 154000, 'USD', 154000, 'US', 100, 'US', 'M')\n",
      "(2022, 'SE', 'FT', 'Data Engineer', 126000, 'USD', 126000, 'US', 100, 'US', 'M')\n",
      "(2022, 'SE', 'FT', 'Data Analyst', 129000, 'USD', 129000, 'US', 0, 'US', 'M')\n",
      "(2022, 'SE', 'FT', 'Data Scientist', 210000, 'USD', 210000, 'US', 100, 'US', 'M')\n",
      "(2022, 'SE', 'FT', 'Data Scientist', 140000, 'USD', 140000, 'US', 100, 'US', 'M')\n",
      "(2022, 'SE', 'FT', 'Data Scientist', 210000, 'USD', 210000, 'US', 100, 'US', 'M')\n",
      "(2022, 'SE', 'FT', 'Data Scientist', 140000, 'USD', 140000, 'US', 100, 'US', 'M')\n",
      "(2022, 'SE', 'FT', 'Data Scientist', 210000, 'USD', 210000, 'US', 100, 'US', 'M')\n",
      "(2022, 'SE', 'FT', 'Data Scientist', 140000, 'USD', 140000, 'US', 100, 'US', 'M')\n",
      "(2022, 'SE', 'FT', 'Data Scientist', 210000, 'USD', 210000, 'US', 100, 'US', 'M')\n",
      "(2022, 'SE', 'FT', 'Data Scientist', 140000, 'USD', 140000, 'US', 100, 'US', 'M')\n",
      "(2022, 'SE', 'FT', 'Data Analyst', 150075, 'USD', 150075, 'US', 100, 'US', 'M')\n",
      "(2022, 'SE', 'FT', 'Data Analyst', 110925, 'USD', 110925, 'US', 100, 'US', 'M')\n",
      "(2022, 'SE', 'FT', 'Data Analyst', 126500, 'USD', 126500, 'US', 100, 'US', 'M')\n",
      "(2022, 'SE', 'FT', 'Data Analyst', 106260, 'USD', 106260, 'US', 100, 'US', 'M')\n",
      "(2022, 'SE', 'FT', 'Data Engineer', 220110, 'USD', 220110, 'US', 100, 'US', 'M')\n",
      "(2022, 'SE', 'FT', 'Data Engineer', 160080, 'USD', 160080, 'US', 100, 'US', 'M')\n",
      "(2022, 'SE', 'FT', 'Data Analyst', 105000, 'USD', 105000, 'US', 100, 'US', 'M')\n",
      "(2022, 'SE', 'FT', 'Data Analyst', 170000, 'USD', 170000, 'US', 100, 'US', 'M')\n",
      "(2022, 'SE', 'FT', 'Data Analyst', 135000, 'USD', 135000, 'US', 100, 'US', 'M')\n",
      "(2022, 'SE', 'FT', 'Data Scientist', 230000, 'USD', 230000, 'US', 100, 'US', 'M')\n",
      "(2022, 'SE', 'FT', 'Data Scientist', 140000, 'USD', 140000, 'US', 100, 'US', 'M')\n",
      "(2022, 'MI', 'FT', 'Data Analyst', 135000, 'USD', 135000, 'US', 100, 'US', 'M')\n",
      "(2022, 'SE', 'FT', 'Data Scientist', 220000, 'USD', 220000, 'US', 100, 'US', 'M')\n",
      "(2022, 'SE', 'FT', 'Data Scientist', 140000, 'USD', 140000, 'US', 100, 'US', 'M')\n",
      "(2022, 'MI', 'FT', 'Data Scientist', 140000, 'GBP', 172386, 'GB', 0, 'GB', 'M')\n",
      "(2022, 'SE', 'FT', 'Machine Learning Engineer', 220000, 'USD', 220000, 'US', 100, 'US', 'M')\n",
      "(2022, 'SE', 'FT', 'Machine Learning Engineer', 120000, 'USD', 120000, 'US', 100, 'US', 'M')\n",
      "(2022, 'MI', 'FT', 'Data Scientist', 200000, 'USD', 200000, 'US', 100, 'US', 'M')\n",
      "(2022, 'MI', 'FT', 'Data Scientist', 120000, 'USD', 120000, 'US', 100, 'US', 'M')\n",
      "(2022, 'SE', 'FT', 'Machine Learning Engineer', 120000, 'USD', 120000, 'AE', 100, 'AE', 'S')\n",
      "(2022, 'EX', 'FT', 'Data Engineer', 324000, 'USD', 324000, 'US', 100, 'US', 'M')\n",
      "(2022, 'EX', 'FT', 'Data Engineer', 216000, 'USD', 216000, 'US', 100, 'US', 'M')\n",
      "(2022, 'SE', 'FT', 'Data Engineer', 210000, 'USD', 210000, 'US', 100, 'US', 'M')\n",
      "(2022, 'SE', 'FT', 'Data Scientist', 185100, 'USD', 185100, 'US', 100, 'US', 'M')\n",
      "(2022, 'SE', 'FT', 'Data Scientist', 104890, 'USD', 104890, 'US', 100, 'US', 'M')\n",
      "(2022, 'SE', 'FT', 'Data Engineer', 105000, 'USD', 105000, 'US', 100, 'US', 'M')\n",
      "(2020, 'SE', 'FT', 'Machine Learning Manager', 157000, 'CAD', 117104, 'CA', 50, 'CA', 'L')\n",
      "(2022, 'EX', 'FT', 'Director of Data Science', 250000, 'CAD', 192037, 'CA', 50, 'CA', 'L')\n",
      "(2022, 'MI', 'FT', 'Machine Learning Engineer', 120000, 'USD', 120000, 'US', 100, 'US', 'S')\n",
      "(2022, 'MI', 'FT', 'Business Data Analyst', 1400000, 'INR', 17805, 'IN', 100, 'IN', 'M')\n",
      "(2022, 'MI', 'FT', 'Data Scientist', 2400000, 'INR', 30523, 'IN', 100, 'IN', 'L')\n",
      "(2022, 'EN', 'FT', 'Data Scientist', 1400000, 'INR', 17805, 'IN', 100, 'IN', 'M')\n",
      "(2022, 'MI', 'FT', 'Applied Data Scientist', 157000, 'USD', 157000, 'US', 100, 'US', 'L')\n",
      "(2021, 'MI', 'FT', 'Data Scientist', 109000, 'USD', 109000, 'US', 50, 'US', 'L')\n",
      "(2022, 'SE', 'FT', 'Head of Data', 200000, 'USD', 200000, 'MY', 100, 'US', 'M')\n",
      "(2022, 'SE', 'FT', 'Data Engineer', 135000, 'USD', 135000, 'US', 100, 'US', 'M')\n",
      "(2022, 'SE', 'FT', 'Data Engineer', 115000, 'USD', 115000, 'US', 100, 'US', 'M')\n",
      "(2022, 'MI', 'FT', 'Machine Learning Engineer', 121000, 'AUD', 83864, 'AU', 100, 'AU', 'L')\n",
      "(2022, 'EN', 'FT', 'Data Scientist', 120000, 'AUD', 83171, 'AU', 50, 'AU', 'M')\n",
      "(2022, 'SE', 'FT', 'Data Scientist', 165000, 'USD', 165000, 'US', 100, 'US', 'M')\n",
      "(2022, 'MI', 'FT', 'Machine Learning Scientist', 153000, 'USD', 153000, 'US', 50, 'US', 'M')\n",
      "(2022, 'MI', 'FT', 'Data Scientist', 150000, 'PLN', 33609, 'PL', 100, 'PL', 'L')\n",
      "(2022, 'SE', 'FT', 'Data Science Manager', 152500, 'USD', 152500, 'US', 100, 'US', 'M')\n",
      "(2022, 'EN', 'FT', 'Research Scientist', 120000, 'USD', 120000, 'US', 100, 'US', 'L')\n",
      "(2022, 'MI', 'FT', 'Data Scientist', 135000, 'USD', 135000, 'US', 100, 'US', 'L')\n",
      "(2022, 'SE', 'FT', 'Data Analytics Lead', 405000, 'USD', 405000, 'US', 100, 'US', 'L')\n",
      "(2021, 'SE', 'FT', 'Data Engineer', 150000, 'USD', 150000, 'US', 0, 'US', 'L')\n",
      "(2021, 'SE', 'FT', 'Data Science Manager', 240000, 'USD', 240000, 'US', 0, 'US', 'L')\n",
      "(2021, 'MI', 'FT', 'Data Analyst', 135000, 'USD', 135000, 'US', 100, 'US', 'L')\n",
      "(2022, 'SE', 'FT', 'Applied Data Scientist', 380000, 'USD', 380000, 'US', 100, 'US', 'L')\n",
      "(2022, 'MI', 'FT', 'Data Scientist', 115000, 'CHF', 120402, 'CH', 0, 'CH', 'L')\n",
      "(2022, 'SE', 'FT', 'Applied Data Scientist', 177000, 'USD', 177000, 'US', 100, 'US', 'L')\n",
      "(2021, 'SE', 'FT', 'Principal Data Scientist', 220000, 'USD', 220000, 'US', 0, 'US', 'L')\n",
      "(2021, 'MI', 'FT', 'ML Engineer', 8500000, 'JPY', 77364, 'JP', 50, 'JP', 'S')\n",
      "(2021, 'MI', 'FT', 'ML Engineer', 7000000, 'JPY', 63711, 'JP', 50, 'JP', 'S')\n",
      "(2022, 'EN', 'FT', 'Computer Vision Software Engineer', 150000, 'USD', 150000, 'AU', 100, 'AU', 'S')\n",
      "(2022, 'SE', 'FT', 'Research Scientist', 144000, 'USD', 144000, 'US', 50, 'US', 'L')\n",
      "(2022, 'SE', 'FT', 'Principal Data Scientist', 148000, 'EUR', 155499, 'DE', 100, 'DE', 'M')\n",
      "(2021, 'SE', 'FT', 'Lead Data Scientist', 3000000, 'INR', 40570, 'IN', 50, 'IN', 'L')\n",
      "(2022, 'EN', 'FT', 'Data Engineer', 120000, 'USD', 120000, 'US', 100, 'US', 'M')\n",
      "(2022, 'EN', 'FT', 'Computer Vision Engineer', 125000, 'USD', 125000, 'US', 0, 'US', 'M')\n",
      "(2021, 'MI', 'FT', 'Data Scientist', 700000, 'INR', 9466, 'IN', 0, 'IN', 'S')\n",
      "(2021, 'SE', 'FT', 'Machine Learning Scientist', 120000, 'USD', 120000, 'US', 50, 'US', 'S')\n",
      "(2021, 'SE', 'FT', 'Principal Data Engineer', 200000, 'USD', 200000, 'US', 100, 'US', 'M')\n",
      "(2021, 'MI', 'FT', 'Data Engineer', 200000, 'USD', 200000, 'US', 100, 'US', 'L')\n",
      "(2021, 'MI', 'FT', 'Data Architect', 170000, 'USD', 170000, 'US', 100, 'US', 'L')\n",
      "(2021, 'MI', 'FT', 'Data Architect', 150000, 'USD', 150000, 'US', 100, 'US', 'L')\n",
      "(2021, 'EX', 'FT', 'Director of Data Science', 250000, 'USD', 250000, 'US', 0, 'US', 'L')\n",
      "(2021, 'EX', 'FT', 'Director of Data Science', 110000, 'EUR', 130026, 'DE', 50, 'DE', 'M')\n",
      "(2021, 'EX', 'FT', 'Head of Data', 230000, 'USD', 230000, 'RU', 50, 'RU', 'L')\n",
      "(2021, 'EN', 'FT', 'Machine Learning Engineer', 125000, 'USD', 125000, 'US', 100, 'US', 'S')\n",
      "(2021, 'SE', 'FT', 'Data Analytics Manager', 120000, 'USD', 120000, 'US', 100, 'US', 'M')\n",
      "(2020, 'MI', 'FT', 'Research Scientist', 450000, 'USD', 450000, 'US', 0, 'US', 'M')\n",
      "(2021, 'SE', 'FT', 'Data Science Engineer', 159500, 'CAD', 127221, 'CA', 50, 'CA', 'L')\n",
      "(2021, 'SE', 'FT', 'Data Science Manager', 144000, 'USD', 144000, 'US', 100, 'US', 'L')\n",
      "(2021, 'MI', 'FT', 'Data Scientist', 150000, 'USD', 150000, 'US', 100, 'US', 'M')\n",
      "(2020, 'MI', 'FT', 'Data Science Consultant', 103000, 'USD', 103000, 'US', 100, 'US', 'L')\n",
      "(2021, 'SE', 'FT', 'Data Engineer', 153000, 'USD', 153000, 'US', 100, 'US', 'L')\n",
      "(2021, 'MI', 'PT', '3D Computer Vision Researcher', 400000, 'INR', 5409, 'IN', 50, 'IN', 'M')\n",
      "(2021, 'MI', 'CT', 'ML Engineer', 270000, 'USD', 270000, 'US', 100, 'US', 'L')\n",
      "(2021, 'EX', 'FT', 'Director of Data Science', 130000, 'EUR', 153667, 'IT', 100, 'PL', 'L')\n",
      "(2021, 'MI', 'FT', 'Data Engineer', 110000, 'PLN', 28476, 'PL', 100, 'PL', 'L')\n",
      "(2021, 'MI', 'FT', 'Data Analytics Engineer', 110000, 'USD', 110000, 'US', 100, 'US', 'L')\n",
      "(2020, 'EN', 'FT', 'Machine Learning Engineer', 250000, 'USD', 250000, 'US', 50, 'US', 'L')\n",
      "(2020, 'EN', 'FT', 'Machine Learning Engineer', 138000, 'USD', 138000, 'US', 100, 'US', 'S')\n",
      "(2021, 'MI', 'FT', 'Data Engineer', 140000, 'USD', 140000, 'US', 100, 'US', 'L')\n",
      "(2021, 'SE', 'FT', 'Lead Data Analyst', 170000, 'USD', 170000, 'US', 100, 'US', 'L')\n",
      "(2021, 'EX', 'FT', 'Head of Data', 235000, 'USD', 235000, 'US', 100, 'US', 'L')\n",
      "(2021, 'EX', 'FT', 'BI Data Analyst', 150000, 'USD', 150000, 'IN', 100, 'US', 'L')\n",
      "(2021, 'EN', 'FT', 'Machine Learning Scientist', 225000, 'USD', 225000, 'US', 100, 'US', 'L')\n",
      "(2021, 'EN', 'FT', 'Data Engineer', 2250000, 'INR', 30428, 'IN', 100, 'IN', 'L')\n",
      "(2021, 'SE', 'FT', 'Data Engineer', 150000, 'USD', 150000, 'US', 100, 'US', 'M')\n",
      "(2021, 'SE', 'FT', 'Data Engineer', 115000, 'USD', 115000, 'US', 100, 'US', 'S')\n",
      "(2021, 'MI', 'FT', 'Research Scientist', 235000, 'CAD', 187442, 'CA', 100, 'CA', 'L')\n",
      "(2020, 'MI', 'FT', 'Data Engineer', 106000, 'USD', 106000, 'US', 100, 'US', 'L')\n",
      "(2021, 'MI', 'FT', 'BI Data Analyst', 11000000, 'HUF', 36259, 'HU', 50, 'US', 'L')\n",
      "(2021, 'SE', 'FT', 'Data Engineer', 150000, 'USD', 150000, 'US', 100, 'US', 'L')\n",
      "(2021, 'MI', 'FT', 'Cloud Data Engineer', 120000, 'SGD', 89294, 'SG', 50, 'SG', 'L')\n",
      "(2021, 'EN', 'FT', 'Data Scientist', 2200000, 'INR', 29751, 'IN', 50, 'IN', 'L')\n",
      "(2021, 'SE', 'FT', 'Lead Data Engineer', 276000, 'USD', 276000, 'US', 0, 'US', 'L')\n",
      "(2020, 'SE', 'FT', 'Data Engineer', 188000, 'USD', 188000, 'US', 100, 'US', 'L')\n",
      "(2021, 'SE', 'FT', 'Cloud Data Engineer', 160000, 'USD', 160000, 'BR', 100, 'US', 'S')\n",
      "(2020, 'MI', 'FT', 'Data Scientist', 105000, 'USD', 105000, 'US', 100, 'US', 'L')\n",
      "(2021, 'MI', 'FT', 'Data Engineer', 200000, 'USD', 200000, 'US', 100, 'US', 'L')\n",
      "(2021, 'SE', 'FT', 'Data Engineer', 174000, 'USD', 174000, 'US', 100, 'US', 'L')\n",
      "(2021, 'EN', 'FT', 'Data Scientist', 2100000, 'INR', 28399, 'IN', 100, 'IN', 'M')\n",
      "(2020, 'EN', 'FT', 'Data Analyst', 450000, 'INR', 6072, 'IN', 0, 'IN', 'S')\n",
      "(2020, 'SE', 'FT', 'Data Engineer', 720000, 'MXN', 33511, 'MX', 0, 'MX', 'S')\n",
      "(2021, 'SE', 'FT', 'Principal Data Analyst', 170000, 'USD', 170000, 'US', 100, 'US', 'M')\n",
      "(2021, 'MI', 'FT', 'Data Engineer', 108000, 'TRY', 12103, 'TR', 0, 'TR', 'M')\n",
      "(2021, 'SE', 'FT', 'Big Data Architect', 125000, 'CAD', 99703, 'CA', 50, 'CA', 'M')\n",
      "(2021, 'SE', 'FT', 'Data Scientist', 165000, 'USD', 165000, 'US', 100, 'US', 'L')\n",
      "(2021, 'SE', 'FT', 'Data Scientist', 130000, 'CAD', 103691, 'CA', 100, 'CA', 'L')\n",
      "(2021, 'EN', 'FT', 'Data Engineer', 1600000, 'INR', 21637, 'IN', 50, 'IN', 'M')\n",
      "(2020, 'MI', 'FT', 'Lead Data Scientist', 115000, 'USD', 115000, 'AE', 0, 'AE', 'L')\n",
      "(2020, 'SE', 'FT', 'Machine Learning Scientist', 260000, 'USD', 260000, 'JP', 0, 'JP', 'S')\n",
      "(2021, 'MI', 'FT', 'Head of Data Science', 110000, 'USD', 110000, 'US', 0, 'US', 'S')\n",
      "(2021, 'MI', 'FT', 'Data Architect', 180000, 'USD', 180000, 'US', 100, 'US', 'L')\n",
      "(2021, 'SE', 'FT', 'Data Analyst', 200000, 'USD', 200000, 'US', 100, 'US', 'L')\n",
      "(2021, 'SE', 'FT', 'Data Engineer', 200000, 'USD', 200000, 'US', 100, 'US', 'L')\n",
      "(2021, 'SE', 'FT', 'ML Engineer', 256000, 'USD', 256000, 'US', 100, 'US', 'S')\n",
      "(2021, 'MI', 'FT', 'Data Engineer', 110000, 'USD', 110000, 'US', 100, 'US', 'L')\n",
      "(2021, 'SE', 'FT', 'Machine Learning Engineer', 185000, 'USD', 185000, 'US', 50, 'US', 'L')\n",
      "(2021, 'MI', 'FT', 'Data Engineer', 112000, 'USD', 112000, 'US', 100, 'US', 'L')\n",
      "(2020, 'SE', 'FT', 'Machine Learning Engineer', 150000, 'USD', 150000, 'US', 50, 'US', 'L')\n",
      "(2021, 'SE', 'FT', 'Data Scientist', 180000, 'TRY', 20171, 'TR', 50, 'TR', 'L')\n",
      "(2021, 'SE', 'CT', 'Staff Data Scientist', 105000, 'USD', 105000, 'US', 100, 'US', 'M')\n",
      "(2021, 'MI', 'FT', 'Data Engineer', 250000, 'TRY', 28016, 'TR', 100, 'TR', 'M')\n",
      "(2021, 'MI', 'FT', 'Data Engineer', 111775, 'USD', 111775, 'US', 0, 'US', 'M')\n",
      "(2021, 'SE', 'FT', 'Lead Data Engineer', 160000, 'USD', 160000, 'PR', 50, 'US', 'S')\n",
      "(2021, 'SE', 'FT', 'Machine Learning Engineer', 4900000, 'INR', 66265, 'IN', 0, 'IN', 'L')\n",
      "(2021, 'MI', 'FT', 'Data Scientist', 1250000, 'INR', 16904, 'IN', 100, 'IN', 'S')\n",
      "(2020, 'SE', 'FT', 'Lead Data Scientist', 190000, 'USD', 190000, 'US', 100, 'US', 'S')\n",
      "(2021, 'EX', 'FT', 'Director of Data Science', 120000, 'EUR', 141846, 'DE', 0, 'DE', 'L')\n",
      "(2021, 'EN', 'FT', 'Big Data Engineer', 1200000, 'INR', 16228, 'IN', 100, 'IN', 'L')\n",
      "(2020, 'MI', 'FT', 'Data Scientist', 11000000, 'HUF', 35735, 'HU', 50, 'HU', 'L')\n",
      "(2021, 'SE', 'FT', 'Data Scientist', 135000, 'USD', 135000, 'US', 0, 'US', 'L')\n",
      "(2021, 'SE', 'FT', 'Data Science Manager', 4000000, 'INR', 54094, 'IN', 50, 'US', 'L')\n",
      "(2021, 'SE', 'FT', 'Machine Learning Engineer', 1799997, 'INR', 24342, 'IN', 100, 'IN', 'L')\n",
      "(2021, 'MI', 'FT', 'Data Scientist', 147000, 'USD', 147000, 'US', 50, 'US', 'L')\n",
      "(2021, 'SE', 'FT', 'Research Scientist', 120500, 'CAD', 96113, 'CA', 50, 'CA', 'L')\n",
      "(2021, 'SE', 'FT', 'Data Science Manager', 174000, 'USD', 174000, 'US', 100, 'US', 'L')\n",
      "(2020, 'MI', 'FT', 'Business Data Analyst', 135000, 'USD', 135000, 'US', 100, 'US', 'L')\n",
      "(2020, 'SE', 'FT', 'Lead Data Engineer', 125000, 'USD', 125000, 'NZ', 50, 'NZ', 'S')\n",
      "(2020, 'MI', 'FT', 'Data Scientist', 3000000, 'INR', 40481, 'IN', 0, 'IN', 'L')\n",
      "(2021, 'MI', 'FT', 'Big Data Engineer', 1672000, 'INR', 22611, 'IN', 0, 'IN', 'L')\n",
      "(2021, 'MI', 'FT', 'Data Scientist', 420000, 'INR', 5679, 'IN', 100, 'US', 'S')\n",
      "(2021, 'MI', 'FT', 'Data Scientist', 30400000, 'CLP', 40038, 'CL', 100, 'CL', 'L')\n",
      "(2021, 'SE', 'FT', 'Machine Learning Infrastructure Engineer', 195000, 'USD', 195000, 'US', 100, 'US', 'M')\n",
      "(2021, 'EX', 'CT', 'Principal Data Scientist', 416000, 'USD', 416000, 'US', 100, 'US', 'S')\n",
      "(2021, 'SE', 'FT', 'Machine Learning Scientist', 225000, 'USD', 225000, 'US', 100, 'CA', 'L')\n",
      "(2021, 'MI', 'FT', 'Data Scientist', 2500000, 'INR', 33808, 'IN', 0, 'IN', 'M')\n",
      "(2021, 'MI', 'FT', 'Machine Learning Engineer', 180000, 'PLN', 46597, 'PL', 100, 'PL', 'L')\n",
      "(2020, 'EN', 'FT', 'Data Engineer', 4450000, 'JPY', 41689, 'JP', 100, 'JP', 'S')\n",
      "(2020, 'EN', 'FT', 'Data Science Consultant', 423000, 'INR', 5707, 'IN', 50, 'IN', 'M')\n",
      "(2021, 'EN', 'PT', 'Computer Vision Engineer', 180000, 'DKK', 28609, 'DK', 50, 'DK', 'S')\n",
      "(2020, 'MI', 'FT', 'Product Data Analyst', 450000, 'INR', 6072, 'IN', 100, 'IN', 'L')\n",
      "(2021, 'SE', 'FT', 'Data Analytics Manager', 120000, 'USD', 120000, 'US', 0, 'US', 'L')\n",
      "(2020, 'EX', 'FT', 'Director of Data Science', 325000, 'USD', 325000, 'US', 100, 'US', 'L')\n",
      "(2021, 'SE', 'FT', 'Machine Learning Engineer', 200000, 'USD', 200000, 'US', 100, 'US', 'L')\n",
      "(2020, 'EN', 'FT', 'AI Scientist', 300000, 'DKK', 45896, 'DK', 50, 'DK', 'S')\n",
      "(2021, 'MI', 'FT', 'Data Scientist', 160000, 'USD', 160000, 'US', 100, 'US', 'L')\n",
      "(2021, 'SE', 'FT', 'Data Engineer', 165000, 'USD', 165000, 'US', 0, 'US', 'M')\n",
      "(2021, 'EN', 'FT', 'Big Data Engineer', 435000, 'INR', 5882, 'IN', 0, 'CH', 'L')\n",
      "(2021, 'SE', 'FT', 'Principal Data Engineer', 185000, 'USD', 185000, 'US', 100, 'US', 'L')\n",
      "(2020, 'MI', 'FT', 'Data Engineer', 110000, 'USD', 110000, 'US', 100, 'US', 'L')\n",
      "(2021, 'SE', 'FT', 'Data Analytics Manager', 140000, 'USD', 140000, 'US', 100, 'US', 'L')\n",
      "(2020, 'SE', 'FT', 'Data Scientist', 120000, 'USD', 120000, 'US', 50, 'US', 'L')\n",
      "(2021, 'SE', 'FT', 'Data Scientist', 110000, 'CAD', 87738, 'CA', 100, 'CA', 'S')\n",
      "(2021, 'SE', 'FT', 'Data Science Manager', 152000, 'USD', 152000, 'US', 100, 'FR', 'L')\n",
      "(2021, 'MI', 'FT', 'Data Scientist', 130000, 'USD', 130000, 'US', 50, 'US', 'L')\n",
      "(2021, 'SE', 'FT', 'Computer Vision Engineer', 102000, 'BRL', 18907, 'BR', 0, 'BR', 'M')\n",
      "(2021, 'SE', 'FT', 'Principal Data Scientist', 147000, 'EUR', 173762, 'DE', 100, 'DE', 'M')\n",
      "(2020, 'SE', 'FT', 'Principal Data Scientist', 130000, 'EUR', 148261, 'DE', 100, 'DE', 'M')\n",
      "(2021, 'EN', 'FT', 'AI Scientist', 1335000, 'INR', 18053, 'IN', 100, 'AS', 'S')\n",
      "(2021, 'MI', 'FT', 'Data Scientist', 115000, 'USD', 115000, 'US', 50, 'US', 'L')\n",
      "(2021, 'SE', 'FT', 'Principal Data Scientist', 235000, 'USD', 235000, 'US', 100, 'US', 'L')\n",
      "(2021, 'MI', 'FT', 'Lead Data Analyst', 1450000, 'INR', 19609, 'IN', 100, 'IN', 'L')\n",
      "(2020, 'SE', 'FT', 'Data Science Manager', 190200, 'USD', 190200, 'US', 100, 'US', 'M')\n",
      "(2020, 'MI', 'FT', 'Data Scientist', 118000, 'USD', 118000, 'US', 100, 'US', 'M')\n",
      "(2020, 'MI', 'FT', 'Data Scientist', 138350, 'USD', 138350, 'US', 100, 'US', 'M')\n",
      "(2020, 'MI', 'FT', 'Data Engineer', 130800, 'USD', 130800, 'ES', 100, 'US', 'M')\n",
      "(2021, 'SE', 'FT', 'Director of Data Science', 168000, 'USD', 168000, 'JP', 0, 'JP', 'S')\n",
      "(2021, 'MI', 'FT', 'Data Scientist', 160000, 'SGD', 119059, 'SG', 100, 'IL', 'M')\n",
      "(2021, 'MI', 'FT', 'Applied Machine Learning Scientist', 423000, 'USD', 423000, 'US', 50, 'US', 'L')\n",
      "(2021, 'SE', 'FT', 'Data Specialist', 165000, 'USD', 165000, 'US', 100, 'US', 'L')\n",
      "(2020, 'SE', 'FT', 'Data Scientist', 412000, 'USD', 412000, 'US', 100, 'US', 'L')\n",
      "(2021, 'MI', 'FT', 'Principal Data Scientist', 151000, 'USD', 151000, 'US', 100, 'US', 'L')\n",
      "(2020, 'EN', 'FT', 'Data Scientist', 105000, 'USD', 105000, 'US', 100, 'US', 'S')\n",
      "(2021, 'SE', 'FT', 'Data Science Manager', 7000000, 'INR', 94665, 'IN', 50, 'IN', 'L')\n"
     ]
    }
   ],
   "source": [
    "cursor.execute(\"SELECT * FROM salary WHERE salary>100000\")\n",
    "x=cursor.fetchall()\n",
    "for df in x:\n",
    "    print(df)"
   ]
  },
  {
   "cell_type": "code",
   "execution_count": 55,
   "id": "4b2d331c-d466-46a3-968c-9e16b1eaa2d4",
   "metadata": {},
   "outputs": [
    {
     "name": "stdout",
     "output_type": "stream",
     "text": [
      "('EN', 320)\n",
      "('EX', 114)\n",
      "('MI', 805)\n",
      "('SE', 2516)\n"
     ]
    }
   ],
   "source": [
    "cursor.execute(\"SELECT experience_level,COUNT(*) FROM salary GROUP BY experience_level\")\n",
    "x=cursor.fetchall()\n",
    "for df in x:\n",
    "    print(df)"
   ]
  },
  {
   "cell_type": "code",
   "execution_count": null,
   "id": "18d095e3-685f-44ef-a7bf-571acd399984",
   "metadata": {},
   "outputs": [],
   "source": []
  }
 ],
 "metadata": {
  "kernelspec": {
   "display_name": "Python 3 (ipykernel)",
   "language": "python",
   "name": "python3"
  },
  "language_info": {
   "codemirror_mode": {
    "name": "ipython",
    "version": 3
   },
   "file_extension": ".py",
   "mimetype": "text/x-python",
   "name": "python",
   "nbconvert_exporter": "python",
   "pygments_lexer": "ipython3",
   "version": "3.12.1"
  }
 },
 "nbformat": 4,
 "nbformat_minor": 5
}
